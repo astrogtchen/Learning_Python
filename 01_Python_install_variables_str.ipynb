{
 "cells": [
  {
   "cell_type": "markdown",
   "metadata": {
    "slideshow": {
     "slide_type": "slide"
    }
   },
   "source": [
    "# Introduction to Python\n",
    "                          \n",
    "\n",
    "###### 陳冠廷\n"
   ]
  },
  {
   "cell_type": "markdown",
   "metadata": {
    "slideshow": {
     "slide_type": "slide"
    }
   },
   "source": [
    "## Contents\n",
    "\n",
    "### part1 : 安裝、Jupyter-Notebook、變數與字串str、使用者輸入\n",
    "\n",
    "### part2 : list(串列)、流程控制、自訂函數、tuple(元組)、dict(字典)、set(集合)\n",
    "\n",
    "### part3 : Numpy\n",
    "\n",
    "### part4 : Matplotlib\n",
    "\n",
    "### part5 : Scipy\n",
    "\n",
    "### part6 : 文字編輯器與執行\n",
    "\n",
    "### part7 : VPython\n",
    "\n",
    "### part8 : Jupyter-Notebook\n",
    "\n",
    "### part9：Pandas\n",
    "\n",
    "### part10：Seaborn & Bokeh & Plotly\n",
    "\n",
    "### part11：Beautifulsoup & Requests & Selenium\n",
    "\n",
    "### part12：OpenCV\n",
    "\n"
   ]
  },
  {
   "cell_type": "markdown",
   "metadata": {
    "slideshow": {
     "slide_type": "slide"
    }
   },
   "source": [
    "# Introduction to Python\n",
    "\n",
    "### part 1 \n",
    "\n",
    "- 安裝Python\n",
    "- 使用Jupyter notebook執行\n",
    "- 寫第一個python程式\n",
    "- 變數與字串\n",
    "- 讀取使用者輸入\n",
    "\n",
    "#### 2021/5/14"
   ]
  },
  {
   "cell_type": "markdown",
   "metadata": {
    "slideshow": {
     "slide_type": "slide"
    }
   },
   "source": [
    "# Python\n",
    "- 直譯式語言，簡潔的語法\n",
    "- 跨平台 Windows，Mac，Linux\n",
    "- 可與其他程式語言連結，如Cython、rpy\n",
    "- 有很多函式庫＋有很多第三方函式庫與套件\n",
    "- 多用途，如Web frameworks (Django)、科學計算、機械學習、人工智慧"
   ]
  },
  {
   "cell_type": "markdown",
   "metadata": {
    "slideshow": {
     "slide_type": "slide"
    }
   },
   "source": [
    "## 套件舉例\n",
    "- Numpy: 數值分析與處理\n",
    "- SciPy: 積分、內插、積分、特殊函數\n",
    "- Matplotlib: 2D繪圖\n",
    "   + seaborn: 以matplotlib為基礎建構的統計繪圖套件\n",
    "   \n",
    "- pandas: Python Data Analysis Library 資料處理與數據分析\n",
    "- mayavi: 3D繪圖\n",
    "- vpython: 3D繪圖與動畫\n",
    "    \n",
    "- SciKit-Learn: 機械學習 Machine Learning\n",
    "- Keras： Python Deep Learning library\n",
    "- Bokeh: 圖形帶有一點互動（Interactive），像是滑鼠游標移上去會顯示資料點的數據或可以縮放圖形等基於 JavaScript 的效果\n",
    "- beautifulsoup: 能包括解析HTML、XML文件、修復含有未閉合標籤等錯誤的文件，從中取出使用者有興趣的資料\n",
    "- requests: 是一個Python HTTP庫，可取網頁中get及post的資料\n",
    "- openCV: Open Source Computer Vision 跨平台的電腦視覺庫，包含許多電腦視覺相關演算處理的Open Source Library，\n",
    "   可用於開發即時的圖像處理、電腦視覺以及圖型識別程式。"
   ]
  },
  {
   "cell_type": "markdown",
   "metadata": {
    "slideshow": {
     "slide_type": "slide"
    }
   },
   "source": [
    "## 下載Python\n",
    "### 整合包：\n",
    "- [Anaconda](https://anaconda.org/) ， https://anaconda.org/\n",
    "- [Enthought Canopy](https://www.enthought.com/product/canopy/)，https://www.enthought.com/product/canopy/\n",
    "\n",
    "### 單獨安裝python，然後自己包：\n",
    "- https://www.python.org/\n",
    "- 用pip install 指令安裝需要的套件\n",
    "\n",
    "\n",
    "\n"
   ]
  },
  {
   "cell_type": "markdown",
   "metadata": {
    "slideshow": {
     "slide_type": "slide"
    }
   },
   "source": [
    "## 安裝 Anaconda 3.X\n",
    "- 安裝時可強制讓它幫忙設定路徑變數，使python可被系統執行，如下圖中，上方打勾\n",
    "\n",
    "<img src=\"./images/install_01.png\" width=400, height=300>\n",
    "\n",
    "- 安裝完成\n",
    "![pack](./images/install_2.png)\n",
    "\n",
    "  - **Anaconda Navigator**     管理套件程式\n",
    "  - **Anaconda Prompt**        終端機界面\n",
    "  - **Jupyter Notebook**       使用瀏覽器的互動界面\n",
    "  - **Spyder**                 文字編輯器\n",
    "  \n",
    "- [Anaconda FAQ](https://docs.anaconda.com/anaconda/faq#) ， https://docs.anaconda.com/anaconda/faq#\n"
   ]
  },
  {
   "cell_type": "markdown",
   "metadata": {
    "slideshow": {
     "slide_type": "slide"
    }
   },
   "source": [
    "# 自行指定路徑\n",
    "\n",
    "- Windows 10的預設路徑:\n",
    "\n",
    "`C:\\Users\\<your-username>\\Anaconda3\\`\n",
    "\n",
    "\n",
    "- 開啟命令提示字元（左下角win圖示--> Windows 系統--> 命令提示字元）或開啟 Anaconda Prompt:\n",
    "\n",
    "輸入\n",
    "\n",
    "`SETX PATH \"%PATH%;`\n",
    "\n",
    "`C:\\Users\\<your-username>\\Anaconda3;`\n",
    "\n",
    "`C:\\Users\\<your-username>\\Anaconda3\\Scripts\"`\n",
    "\n",
    "會出現\n",
    "\n",
    "`成功: 已經儲存指定的值。`\n",
    "\n",
    "*** \n",
    "\n",
    "在環境變數中會看到，Anaconda的路徑已經設定完成\n",
    "（Windows設定--> 尋找\"環境\"--> 編輯系統環境變數--> 環境變數--> <username>的使用者變數中的\"PATH\"）\n",
    " \n",
    "`C:\\Users\\<your-username>\\Anaconda3`\n",
    "\n",
    "`C:\\Users\\<your-username>\\Anaconda3\\Library\\mingw-w64\\bin`\n",
    " \n",
    "`C:\\Users\\<your-username>\\Anaconda3\\Library\\usr\\bin`\n",
    " \n",
    "`C:\\Users\\<your-username>\\Anaconda3\\Library\\bin`\n",
    " \n",
    "`C:\\Users\\<your-username>\\Anaconda3\\Scripts`\n",
    "\n",
    "***\n",
    "\n",
    "# 輸入指令測試\n",
    "- `ipython`\n",
    "- `conda update conda`\n",
    "\n",
    "- `conda list`\n",
    "- `conda search xxx`\n",
    "- `conda install xxx`\n",
    "- `conda remove xxx`\n"
   ]
  },
  {
   "cell_type": "markdown",
   "metadata": {
    "slideshow": {
     "slide_type": "slide"
    }
   },
   "source": [
    "# 開啟管理套件程式\n",
    "![navi](./images/navigator.png)\n"
   ]
  },
  {
   "cell_type": "markdown",
   "metadata": {
    "slideshow": {
     "slide_type": "skip"
    }
   },
   "source": [
    "# Linux 下安裝Anaconda3\n",
    "\n",
    "`bash ~/Downloads/Anaconda3-4.0.0-Linux-x86_64.sh`\n",
    "\n",
    "請在一般使用者下安裝，不要使用sudo安裝，否則之後的更新也會需要權限，導致無法更新\n",
    "\n",
    "# 環境變數的路徑\n",
    "\n",
    "- Linux下的預設路徑:\n",
    "\n",
    "` /home/<your-username>/anaconda3`\n",
    "\n",
    "\n",
    "- 在 `.bashrc` 中加入\n",
    "\n",
    "\n",
    "`# add by Anaconda3 Installer`\n",
    "\n",
    "`export PATH=\"/home/<your-username>/anaconda3/bin:$PATH\" `\n",
    "    \n",
    "\n",
    "terminal >> `source .bashrc`\n",
    "\n",
    "\n",
    "\n"
   ]
  },
  {
   "cell_type": "markdown",
   "metadata": {
    "slideshow": {
     "slide_type": "skip"
    }
   },
   "source": [
    "# 安裝 anaconda-navigator\n",
    "\n",
    "`conda install anaconda-navigator`\n",
    "\n",
    "`anaconda-navigator`"
   ]
  },
  {
   "cell_type": "markdown",
   "metadata": {
    "slideshow": {
     "slide_type": "skip"
    }
   },
   "source": [
    "# Mac 下安裝Anaconda3\n",
    "\n",
    "下載安裝anaconda3的pkg檔\n",
    "\n",
    "# 環境變數的路徑\n",
    "\n",
    "- macOS下的預設路徑:\n",
    "\n",
    "` /Users/<your-username>/anaconda3`\n",
    "\n",
    "\n",
    "- 在 `.bash_profile` 中加入\n",
    "\n",
    "\n",
    "`# added by Anaconda3 5.0.1 installer`\n",
    "\n",
    "`export PATH=\"/Users/<your-username>/anaconda3/bin:$PATH\" `\n",
    "\n",
    "terminal >>`source .bash_profile`"
   ]
  },
  {
   "cell_type": "markdown",
   "metadata": {
    "slideshow": {
     "slide_type": "slide"
    }
   },
   "source": [
    "# 開始使用Python\n",
    "\n",
    "- 開啟\"命令提示字元\"，輸入ipython，進入互動界面 \n",
    "    \n",
    "    <img src=\"./images/ipython.png\" width=600, height=500>\n",
    "- 輸入`exit()` 離開\n"
   ]
  },
  {
   "cell_type": "markdown",
   "metadata": {
    "slideshow": {
     "slide_type": "slide"
    }
   },
   "source": [
    "## 目前使用的界面稱為Jupyter-notebook，利用瀏覽器操作\n",
    "\n",
    "- 開啟\"**Jupyter-notebook**\"\n",
    "  - 在應用程式Anaconda3(64-bit)裡，Jupyter Notebook\n",
    "\n",
    "  - 或開啟Anaconda Navigator，Home的界面就有\n",
    "  \n",
    "  - 在terminal中，輸入Jupyter-notebook\n"
   ]
  },
  {
   "cell_type": "markdown",
   "metadata": {
    "slideshow": {
     "slide_type": "slide"
    }
   },
   "source": [
    "# Jupyter Notebook \n",
    "#  == ipython Notebook\n",
    "\n",
    "- ipython == **interactive python**\n",
    "- ipython notebook == ipython in **browser**\n",
    "\n",
    "- Jupyter:\n",
    "    * **Ju** --- Julia\n",
    "    * **py** --- python\n",
    "    * te**r**--- R\n",
    "- 可以將程式碼寫在不同的 Cell (區塊) 之中，分段落執行，已執行過的程片段會存在記憶體中，所以對於調整參數或做測試來說，很方便\n",
    "- Jupyter Notebook會透過瀏覽器來啟動。啟動之後，到想要的目錄底下，點選右方的New新增一個notebook（選擇Python3）"
   ]
  },
  {
   "cell_type": "markdown",
   "metadata": {
    "slideshow": {
     "slide_type": "slide"
    }
   },
   "source": [
    "## 執行方式：\n",
    "每個cell 按  \n",
    "`ctrl + enter` 執行目前的cell，並輸出結果\n",
    "\n",
    "`shift + enter` 執行目前的cell，並選取下個cell\n",
    "\n",
    "## 指令補完 `tab` :\n",
    " `pri`　按 `tab` 會補成`print`"
   ]
  },
  {
   "cell_type": "markdown",
   "metadata": {
    "slideshow": {
     "slide_type": "slide"
    }
   },
   "source": [
    "# 開始寫第一個python的程式（腳本）\n",
    "\n",
    "- `print('str')` 用來印出引號內的str文字內容\n",
    "\n",
    "- `print(var)` 用來印出變數var對應的值"
   ]
  },
  {
   "cell_type": "code",
   "execution_count": 1,
   "metadata": {
    "slideshow": {
     "slide_type": "subslide"
    }
   },
   "outputs": [
    {
     "name": "stdout",
     "output_type": "stream",
     "text": [
      "Hello World\n",
      "Physics\n"
     ]
    }
   ],
   "source": [
    "print('Hello World')\n",
    "a = 'Physics'\n",
    "print(a)\n",
    "\n",
    "#說明：\n",
    "# print用來印出引號內的文字內容\n",
    "# 第2行，是將雙引號內Physics整個文字命名為變數 a\n",
    "# 第3行，印出變數a\n",
    "# 變數的使用不用事先宣告，執行時也不用經過編譯。"
   ]
  },
  {
   "cell_type": "markdown",
   "metadata": {
    "slideshow": {
     "slide_type": "slide"
    }
   },
   "source": [
    "# 好處：\n",
    "- 不需要宣告變數型態\n",
    "- 不需要編譯，可直接執行\n",
    "- 在ipython與Jupyter notebook界面操作時，可當計算機使用\n"
   ]
  },
  {
   "cell_type": "code",
   "execution_count": 2,
   "metadata": {
    "slideshow": {
     "slide_type": "slide"
    }
   },
   "outputs": [
    {
     "data": {
      "text/plain": [
       "13"
      ]
     },
     "execution_count": 2,
     "metadata": {},
     "output_type": "execute_result"
    }
   ],
   "source": [
    "1 + 3*4 "
   ]
  },
  {
   "cell_type": "code",
   "execution_count": 3,
   "metadata": {
    "slideshow": {
     "slide_type": "fragment"
    }
   },
   "outputs": [
    {
     "data": {
      "text/plain": [
       "125"
      ]
     },
     "execution_count": 3,
     "metadata": {},
     "output_type": "execute_result"
    }
   ],
   "source": [
    "5**3"
   ]
  },
  {
   "cell_type": "code",
   "execution_count": 4,
   "metadata": {
    "slideshow": {
     "slide_type": "fragment"
    }
   },
   "outputs": [
    {
     "data": {
      "text/plain": [
       "82720178862065618653112155716376379139423377227787109376"
      ]
     },
     "execution_count": 4,
     "metadata": {},
     "output_type": "execute_result"
    }
   ],
   "source": [
    "(1+(2+3)**8)**10"
   ]
  },
  {
   "cell_type": "markdown",
   "metadata": {
    "slideshow": {
     "slide_type": "slide"
    }
   },
   "source": [
    "# 註解\n",
    "註解可以用來紀錄程式的功能、注意事項、編寫日期、changelog等，有助於未來自己或他人容易了解這個程式。\n",
    "\n",
    "在Python中有兩種方式可以用來寫註解，程式執行時不會執行註解的部份\n",
    "- 單行註解： **#** 之後到該行結束為止的文字\n",
    "- 多行註解： 兩組 **3個單引號** 之間的文字"
   ]
  },
  {
   "cell_type": "markdown",
   "metadata": {
    "slideshow": {
     "slide_type": "slide"
    }
   },
   "source": [
    "## 利用宣告變數來達成較繁複的計算過程\n",
    "\n",
    "- 程式語言可以定義變數，並指定其值，指派的方式是用 **=** (一個等號)\n",
    "- 變數的命名:\n",
    "  **大、小寫字母 + 數字 + 底線( _ )**，但是名稱的第一個字不能是數字或是使用了Python的保留字\n",
    "  \n",
    "   - Python保留字\n",
    "   \n",
    "       Flase, class, finally, is, return, None, continue, for, lambda, try, True, def, from, nonlocal, while, and, del, global, not, with, as, elif, if, or, yield, assert, else, import, pass, break, except, in, raise\n",
    "       \n",
    "\n",
    "- 數字運算:\n",
    "\n",
    "| 運算子     | 說明              |  例       | 結果 |\n",
    "|:-------- :|:--------:        |:--------: |:----: |\n",
    "| +         | 加法              | 3+4       |  7    |\n",
    "| -         | 減法              | 8-3       |  5   |\n",
    "| *         | 乘法              | 2\\*6      |  12  |\n",
    "| /         | 浮點除法           | 7/2       |  3.5 |\n",
    "| //        | 整數除法（捨去）    | 7/2       |    3 |\n",
    "| %         | 模數（餘數）       | 7%3       |  1   |\n",
    "| **        | 乘冪              | 2\\**3     |  8  |\n",
    "\n",
    "- 優先順序: 先乘除後加減\n",
    "\n",
    "- 用 \\ 來延續多行，執行時如同一行"
   ]
  },
  {
   "cell_type": "code",
   "execution_count": 5,
   "metadata": {},
   "outputs": [
    {
     "name": "stdout",
     "output_type": "stream",
     "text": [
      "2\n"
     ]
    },
    {
     "data": {
      "text/plain": [
       "'\\n我是不會被執行的部份之第1行\\n我是不會被執行的部份之第2行\\n'"
      ]
     },
     "execution_count": 5,
     "metadata": {},
     "output_type": "execute_result"
    }
   ],
   "source": [
    "i = 1    #我是註解，只能一行\n",
    "i = i + 1\n",
    "print (i)  \n",
    "'''\n",
    "我是不會被執行的部份之第1行\n",
    "我是不會被執行的部份之第2行\n",
    "'''\n",
    "\n",
    "#說明:\n",
    "#第1行：將整數1指定為i\n",
    "#第2、3行：計算右邊的加法i+1，並將其結果指定為i。\n",
    "#所以印出的i為整數2。"
   ]
  },
  {
   "cell_type": "code",
   "execution_count": 6,
   "metadata": {
    "slideshow": {
     "slide_type": "fragment"
    }
   },
   "outputs": [
    {
     "name": "stdout",
     "output_type": "stream",
     "text": [
      "300000000.0 \n",
      " 0.6666666666666666 (1+8j) 1.3333333333333333\n",
      "2.0\n",
      "-5.0\n",
      "y =  25.0\n"
     ]
    }
   ],
   "source": [
    "# 表示註解\n",
    "\n",
    "a = 2        #整數\n",
    "b = 3.0      #浮點數\n",
    "c = 3e+8\n",
    "\n",
    "d, e = 13.0, 7.0\n",
    "\n",
    "z1 = 2 + 3j  #複數\n",
    "z2 = 1 - 5j\n",
    "\n",
    "y = a + b + \\\n",
    "    d + \\\n",
    "    e\n",
    "# y = a + b + d + e\n",
    "\n",
    "print(c, \"\\n\",   # \"\\n\" 表示輸出空一行\n",
    "      a/b, \n",
    "      z1-z2, \n",
    "      a**2/b)\n",
    "\n",
    "print(z1.real)\n",
    "print(z2.imag)\n",
    "\n",
    "print('y = ', y)"
   ]
  },
  {
   "cell_type": "markdown",
   "metadata": {
    "slideshow": {
     "slide_type": "slide"
    }
   },
   "source": [
    "## 字串\n",
    "\n",
    "- 字串要使用單引號或雙引號框住\n",
    "- 變數可以是字串，也可以是符號\n",
    "\n"
   ]
  },
  {
   "cell_type": "code",
   "execution_count": 7,
   "metadata": {
    "slideshow": {
     "slide_type": "fragment"
    }
   },
   "outputs": [
    {
     "name": "stdout",
     "output_type": "stream",
     "text": [
      "CGSH\n",
      "(*´∀`)~♥\n"
     ]
    }
   ],
   "source": [
    "#字串要使用單引號或雙引號框住\n",
    "name = 'CGSH'    \n",
    "face = \"(*´∀`)~♥\"\n",
    "\n",
    "print(name)\n",
    "print(face)"
   ]
  },
  {
   "cell_type": "markdown",
   "metadata": {},
   "source": [
    "- 用 + 結合兩變數\n",
    "- 用 * 複製\n",
    "- 用 [] 擷取字元\n",
    "- 用 \\ 轉義： \\n 代表開始新一行、\\t 代表tab、\\'或\\\"代表單雙引號 "
   ]
  },
  {
   "cell_type": "code",
   "execution_count": 8,
   "metadata": {
    "slideshow": {
     "slide_type": "fragment"
    }
   },
   "outputs": [
    {
     "data": {
      "text/plain": [
       "'CGSH(*´∀`)~♥(*´∀`)~♥(*´∀`)~♥(*´∀`)~♥(*´∀`)~♥'"
      ]
     },
     "execution_count": 8,
     "metadata": {},
     "output_type": "execute_result"
    }
   ],
   "source": [
    "name = 'CGSH'    \n",
    "face = \"(*´∀`)~♥\"\n",
    "\n",
    "name + face*5 #face複製5次、再用 + 結合"
   ]
  },
  {
   "cell_type": "code",
   "execution_count": 9,
   "metadata": {
    "slideshow": {
     "slide_type": "fragment"
    }
   },
   "outputs": [
    {
     "name": "stdout",
     "output_type": "stream",
     "text": [
      "Hi,\n",
      "CGSH(*´∀`)~♥(*´∀`)~♥(*´∀`)~♥###\n"
     ]
    }
   ],
   "source": [
    "print('Hi,\\n' + name + face*3 + '###')  #\\n 代表開始新一行"
   ]
  },
  {
   "cell_type": "code",
   "execution_count": 10,
   "metadata": {},
   "outputs": [
    {
     "name": "stdout",
     "output_type": "stream",
     "text": [
      "a\n",
      "d\n",
      "abcdefgh\n",
      "defgh\n",
      "abcdef\n",
      "def\n",
      "df\n",
      "adg\n",
      "beh\n",
      "aceg\n"
     ]
    }
   ],
   "source": [
    "# 用[]取值，index從0開始，左邊第一個的index為0\n",
    "letters = 'abcdefgh'\n",
    "\n",
    "print(letters[0]) #取出index=0的值，左邊算來第1個\n",
    "print(letters[3]) #取出index=3的值，左邊算來第4個\n",
    "\n",
    "\n",
    "\n",
    "print(letters[:])     #[:] 取出所有值\n",
    "print(letters[3:])    #[start:]取出從index=start後所有值\n",
    "print(letters[:6])    #[:end]取出index=(end-1)前所有值\n",
    "print(letters[3:6])   #[start:end] 取出index=start到index=(end-1)的值\n",
    "print(letters[3:6:2]) #[start:end:step] 取出index=start到index=(end-1)中，每次跳step數的值（如無輸入，預設step=1）\n",
    "print(letters[::3])   #[::step] 從開始到結束，取出每次跳step數的值\n",
    "print(letters[1::3])   #[start::step] 從index=start到結束，取出每次跳step數的值\n",
    "print(letters[:8:2])   #[:end:step] 取出index=(end-1)前，每次跳step數的值"
   ]
  },
  {
   "cell_type": "code",
   "execution_count": 11,
   "metadata": {},
   "outputs": [
    {
     "name": "stdout",
     "output_type": "stream",
     "text": [
      "xyz\n",
      "uvwx\n",
      "zyxwvutsrqponmlkjihgfedcba\n",
      "zyxwvutsrqponmlkjihgfedcba\n"
     ]
    }
   ],
   "source": [
    "# index為負號，表示從右邊算起，-1為右邊第一個\n",
    "# 取值時，如沒有指定end，則預設會是-1，表示取到最後一個\n",
    "\n",
    "letters = 'abcdefghijklmnopqrstuvwxyz'\n",
    "\n",
    "\n",
    "print(letters[-3:])   #[-number:]，取出最後number個的值\n",
    "print(letters[-6:-2]) #[-number1:-number2]，取出後面算來第number1個到後面算來第number2間的值\n",
    "print(letters[-1::-1])#[-number::-1] 取出後面算來第number個，每次間隔-1（由右向左跳）\n",
    "print(letters[::-1])  #[::-1] 取出全部值，每次間隔-1（由右向左跳）"
   ]
  },
  {
   "cell_type": "code",
   "execution_count": 12,
   "metadata": {},
   "outputs": [
    {
     "name": "stdout",
     "output_type": "stream",
     "text": [
      "26\n",
      "['abcdefgh', 'jklmnopqrstuvwxyz']\n",
      "bbcdefghijklmnopqrstuvwxyz\n",
      "1abcdefghijklmnopqrstuvwxyz2abcdefghijklmnopqrstuvwxyz3abcdefghijklmnopqrstuvwxyz4abcdefghijklmnopqrstuvwxyz5abcdefghijklmnopqrstuvwxyz6abcdefghijklmnopqrstuvwxyz7\n"
     ]
    }
   ],
   "source": [
    "\n",
    "letters = 'abcdefghijklmnopqrstuvwxyz'\n",
    "\n",
    "print(len(letters))       #用len()計算多少個元素\n",
    "\n",
    "print(letters.split('i')) #用split('str')，將字串內以'str'作分割\n",
    "                          #不指定'str'時，則以換行符號、空格、tab作分割\n",
    "    \n",
    "print(letters.replace('a','b',2)) #用replace('str1','str2',number)，將字串內的'str1'以'str2'替換number次\n",
    "\n",
    "\n",
    "letters_2 = '1234567'\n",
    "print(letters.join(letters_2)) #用str.join(list)，將list內元素依序插入str內\n",
    "                         "
   ]
  },
  {
   "cell_type": "code",
   "execution_count": 13,
   "metadata": {
    "scrolled": true
   },
   "outputs": [
    {
     "name": "stdout",
     "output_type": "stream",
     "text": [
      " \n",
      "89\n",
      "False\n",
      "True\n",
      "19\n",
      "74\n",
      "2\n"
     ]
    }
   ],
   "source": [
    "article = 'a piece of writing on a particular subject in a newspaper or magazine, or on the internet'\n",
    "\n",
    "print(article[10])  #取出第9個字元\n",
    "print(len(article)) #有幾個元素\n",
    "print(article.startswith('b'))   #開頭是否為'b'       \n",
    "print(article.endswith('the internet'))  #結尾是否為'the internet'\n",
    "print(article.find('on'))   #'on' 第1次出現的index\n",
    "print(article.rfind('on'))   #'on' 最後一次出現的index\n",
    "print(article.count('on'))   #'on' 出現的次數"
   ]
  },
  {
   "cell_type": "markdown",
   "metadata": {},
   "source": [
    "### 類型轉換，分成轉int（整數）、float(浮點數)、str(字串)"
   ]
  },
  {
   "cell_type": "code",
   "execution_count": 14,
   "metadata": {},
   "outputs": [
    {
     "name": "stdout",
     "output_type": "stream",
     "text": [
      "--------轉int--------\n",
      "int(True)= 1\n",
      "int(False)= 0\n",
      "int(15.6)= 15\n",
      "int('-5')= -5\n",
      "int(1.0e4)= 10000\n",
      "--------轉float--------\n",
      "float(True)= 1.0\n",
      "float(False)= 0.0\n",
      "float(2)= 2.0\n",
      "float('-1.5')= -1.5\n",
      "float('1.0e4')= 10000.0\n",
      "--------轉str--------\n",
      "str(6)= 6\n",
      "str(6.3)= 6.3\n",
      "str(1.0e4)= 10000.0\n"
     ]
    }
   ],
   "source": [
    "#轉int\n",
    "print('--------轉int--------')\n",
    "print('int(True)=',int(True))\n",
    "print('int(False)=',int(False))\n",
    "print('int(15.6)=',int(15.6))\n",
    "print('int(\\'-5\\')=',int('-5')) #字串轉int\n",
    "print('int(1.0e4)=',int(1.0e4))\n",
    "\n",
    "#轉float\n",
    "print('--------轉float--------')\n",
    "print('float(True)=', float(True))\n",
    "print('float(False)=',float(False))\n",
    "print('float(2)=',float(2))\n",
    "print('float(\\'-1.5\\')=',float('-1.5')) #字串轉float\n",
    "print('float(\\'1.0e4\\')=',float('1.0e4'))\n",
    "\n",
    "#轉str\n",
    "print('--------轉str--------')\n",
    "print('str(6)=',str(6))\n",
    "print('str(6.3)=',str(6.3))\n",
    "print('str(1.0e4)=',str(1.0e4))"
   ]
  },
  {
   "cell_type": "markdown",
   "metadata": {
    "slideshow": {
     "slide_type": "slide"
    }
   },
   "source": [
    "## 讀取使用者輸入\n",
    "如果程式中有需要讀取使用者所輸入的資料，可以使用 Python 內建的 input 函式：\n",
    "\n",
    "`x = input('Input Something:')`\n",
    "\n",
    "執行這段程式碼時，程式會要求你輸入一段字，且會儲存至 x 變數"
   ]
  },
  {
   "cell_type": "code",
   "execution_count": 15,
   "metadata": {
    "slideshow": {
     "slide_type": "fragment"
    }
   },
   "outputs": [
    {
     "name": "stdout",
     "output_type": "stream",
     "text": [
      "Input Something:7\n",
      "7\n",
      "<class 'str'>\n"
     ]
    }
   ],
   "source": [
    "x = input('Input Something:')\n",
    "print(x)\n",
    "print(type(x))    # 預設型態為 str"
   ]
  },
  {
   "cell_type": "markdown",
   "metadata": {
    "slideshow": {
     "slide_type": "slide"
    }
   },
   "source": [
    "#### 參考資料\n",
    "\n",
    "- [炎龍老師的教學研究網](http://yenlung.km.nccu.edu.tw/home/index.php?f=contentShow&id=424)\n",
    "- [手把手打開 Python 資料分析大門](http://foundation.datasci.tw/py3-data-analysis-171217/)\n",
    "- [The Python Tutorial](https://docs.python.org/3.6/tutorial/index.html)\n",
    "- [一小時Python入門-part 1](https://kopu.chat/2017/01/18/%E4%B8%80%E5%B0%8F%E6%99%82python%E5%85%A5%E9%96%80-part-1/)\n",
    "- [Python學習筆記](https://ithelp.ithome.com.tw/users/20107290/ironman/1275)\n",
    "- [使用Python進行資料分析](https://ithelp.ithome.com.tw/users/20107514/ironman/1399)\n",
    "- google大神"
   ]
  }
 ],
 "metadata": {
  "celltoolbar": "Slideshow",
  "kernel_info": {
   "name": "python3"
  },
  "kernelspec": {
   "display_name": "Python 3",
   "language": "python",
   "name": "python3"
  },
  "language_info": {
   "codemirror_mode": {
    "name": "ipython",
    "version": 3
   },
   "file_extension": ".py",
   "mimetype": "text/x-python",
   "name": "python",
   "nbconvert_exporter": "python",
   "pygments_lexer": "ipython3",
   "version": "3.8.8"
  },
  "livereveal": {
   "scroll": true,
   "start_slideshow_at": "selected",
   "theme": "sky",
   "transition": "zoom"
  },
  "nteract": {
   "version": "0.15.0"
  }
 },
 "nbformat": 4,
 "nbformat_minor": 2
}
