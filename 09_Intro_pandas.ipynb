{
 "cells": [
  {
   "cell_type": "markdown",
   "metadata": {},
   "source": [
    "#  Introduction to Python\n",
    "\n",
    "### part 9 : Pandas\n",
    "\n",
    "- Python Data Analysis Library 資料處理與數據分析\n",
    "\n",
    "陳冠廷"
   ]
  },
  {
   "cell_type": "markdown",
   "metadata": {
    "inputHidden": false,
    "outputHidden": false
   },
   "source": [
    "#### 參考資料\n",
    "\n",
    "- https://pandas.pydata.org/docs/user_guide/index.html\n",
    "\n",
    "- https://medium.com/datainpoint/%E5%BE%9E-pandas-%E9%96%8B%E5%A7%8B-python-%E8%88%87%E8%B3%87%E6%96%99%E7%A7%91%E5%AD%B8%E4%B9%8B%E6%97%85-8dee36796d4a\n",
    "\n",
    "- https://ithelp.ithome.com.tw/articles/10233655\n",
    "\n",
    "- https://www.finlab.tw/pandas-%E9%AD%94%E6%B3%95%E7%AD%86%E8%A8%981-%E5%B8%B8%E7%94%A8%E6%8B%9B%E5%BC%8F%E7%B8%BD%E8%A6%BD/\n",
    "\n",
    "- [手把手打開 Python 資料分析大門](http://foundation.datasci.tw/py3-data-analysis-171217/)\n",
    "\n",
    "- https://pandas.pydata.org/pandas-docs/stable/user_guide/visualization.html"
   ]
  },
  {
   "cell_type": "markdown",
   "metadata": {},
   "source": [
    "### 好處\n",
    "- 能夠快速地進行對資料的前處理，例如缺失值、異質，進行取代或刪除\n",
    "- pandas 自己就能處理載入、整理與視覺化等常見的資料應用\n",
    "\n",
    "### 引用套件並縮寫為 pd \n",
    "``import pandas as pd`` \n",
    "\n",
    "### Pandas處理的資料結構分成兩類：\n",
    "- Series(一維)\n",
    "- DataFrame(二維)\n",
    "\n",
    "如同Excel試算表一般\n",
    "\n",
    "\n"
   ]
  },
  {
   "cell_type": "markdown",
   "metadata": {},
   "source": [
    "## pandas資料結構\n",
    "Pandas的底層數值型態為Numpy，採用Array(陣列)的形式來操作資料矩陣\n",
    "\n",
    "(主要的差別在list中的資料型別不必相同，而array的中的型別必須全部相同)\n",
    "\n",
    "\n",
    "### series\n",
    "Pandas最基本的操作物件，為一維陣列，由values和index組成，index預設值是RangeIndex(start=0, stop=資料長度, step=1)來說。可視一個series為一欄資料序列，而多個series可形成一個table矩陣，有多欄資料，組成另一個重要操作物件：Dataframe。\n",
    "\n",
    "### dataframe(簡稱df)\n",
    "與Series差異在data的部分是多維資料，data參數可以填入dict形式或是陣列形式，通常都使用dict。\n",
    "\n",
    "取df特定欄位的語法為df[‘欄位名’]，dict的key剛好等於df的columns，dict的value剛好等於df的values。df物件的方法包括series的操作方法。\n",
    "\n",
    "index可以用tuple list來設定多重索引。\n",
    "\n",
    "![pandas_struc](./images/pandas.png)"
   ]
  },
  {
   "cell_type": "markdown",
   "metadata": {},
   "source": [
    "## Series 的建立、改index、取值、統計結果\n",
    "\n",
    "- 更改索引\n",
    "\n",
    "Pandas在創造Series時會預設好索引值，由0開始，但有時為了方便尋找資料，或想要有更有意義的索引值，可以自己定義索引值，特別注意，在定義時，數量要與資料一樣，且不能重複，不然會有error產生。\n",
    "\n",
    "- 查看資料\n",
    "\n",
    "想查看特定的筆數時，有兩種方法可以查看，第一種是利用預設的順序查看，由0開始，往下遞增，如果有自己定義索引，則可以用新的索引查看資料。"
   ]
  },
  {
   "cell_type": "code",
   "execution_count": 79,
   "metadata": {},
   "outputs": [
    {
     "name": "stdout",
     "output_type": "stream",
     "text": [
      "int64\n",
      "7\n",
      "RangeIndex(start=0, stop=7, step=1)\n",
      "<bound method NDFrame.head of 0    1\n",
      "1    2\n",
      "2    3\n",
      "3    4\n",
      "4    5\n",
      "5    6\n",
      "6    7\n",
      "dtype: int64>\n",
      "<bound method NDFrame.tail of 0    1\n",
      "1    2\n",
      "2    3\n",
      "3    4\n",
      "4    5\n",
      "5    6\n",
      "6    7\n",
      "dtype: int64>\n",
      "True\n",
      "1\n",
      "1\n"
     ]
    }
   ],
   "source": [
    "import pandas as pd\n",
    "\n",
    "data = pd.Series([1, 2, 3, 4, 5, 6, 7]) # 使用預設的索引\n",
    "data1 = pd.Series([1, 2, 3, 4, 5, 6, 7], index = [\"a\", \"b\", \"c\", \"d\", \"e\", \"f\", \"g\"]) # 自訂索引\n",
    "data2 = pd.Series([1, 2, 3, 4, 5, 6, 7], index =range(1, 8)) # 自訂索引\n",
    "\n",
    "print(data.dtype) #查看資料型態\n",
    "print(data.size)  #查看資料筆數\n",
    "print(data.index) #查看資料索引\n",
    "print(data.head)  #取前幾筆資料，預設值為5\n",
    "print(data.tail)  #取後幾筆資料，預設值為5\n",
    "print(data.is_unique) #檢查內容值是否不重複\n",
    "\n",
    "print(data[0])    #查看第一筆資料，按照順序\n",
    "print(data1[\"a\"]) #查看第一筆資料，按照索引"
   ]
  },
  {
   "cell_type": "code",
   "execution_count": 80,
   "metadata": {},
   "outputs": [
    {
     "name": "stdout",
     "output_type": "stream",
     "text": [
      "96\n",
      "19.2\n",
      "7.328028384224504\n",
      "53.7\n",
      "1853280\n",
      "27\n",
      "10\n",
      "c    27\n",
      "e    24\n",
      "dtype: int64\n",
      "a    10\n",
      "d    13\n",
      "dtype: int64\n",
      "count     5.000000\n",
      "mean     19.200000\n",
      "std       7.328028\n",
      "min      10.000000\n",
      "25%      13.000000\n",
      "50%      22.000000\n",
      "75%      24.000000\n",
      "max      27.000000\n",
      "dtype: float64\n"
     ]
    }
   ],
   "source": [
    "#數值統計分析\n",
    "import pandas as pd\n",
    "\n",
    "df = pd.Series([10, 22, 27, 13, 24], index = [\"a\", \"b\", \"c\", \"d\", \"e\"]) # 原始資料\n",
    "\n",
    "print(df.sum())  #所有資料的和\n",
    "print(df.mean()) #資料的中位數\n",
    "print(df.std())  #資料的標準差\n",
    "print(df.var())  #資料的變異數\n",
    "print(df.prod()) #所有資料的乘積\n",
    "print(df.max())  #資料的最大值\n",
    "print(df.min())  #資料的最小值\n",
    "print(df.nlargest(2))  #資料前兩大的值\n",
    "print(df.nsmallest(2)) #資料前兩小的值\n",
    "print(df.describe())   #資料的統計值"
   ]
  },
  {
   "cell_type": "markdown",
   "metadata": {},
   "source": [
    "#### 字串分析\n",
    "- 當原始資料的字母大小寫不一時，在分析上會變得很困難，可以利用lower()，upper()，將字串改成統一的大小寫。\n",
    "  或者，將資料中字串進行轉換，例如把所有的\"嗨\"，改成\"Hi\"\n",
    "\n",
    "- 所有字串的操作都定義在str(string)底下，因此在處理字串時，都要加上str"
   ]
  },
  {
   "cell_type": "code",
   "execution_count": 81,
   "metadata": {},
   "outputs": [
    {
     "name": "stdout",
     "output_type": "stream",
     "text": [
      "0     apple\n",
      "1    banana\n",
      "2    cherry\n",
      "dtype: object\n",
      "0     APPLE\n",
      "1    BANANA\n",
      "2    CHERRY\n",
      "dtype: object\n",
      "Apple,Banana,Cherry\n",
      "0    False\n",
      "1     True\n",
      "2    False\n",
      "dtype: bool\n",
      "0     Apple\n",
      "1    BAnAnA\n",
      "2    Cherry\n",
      "dtype: object\n",
      "0    5\n",
      "1    6\n",
      "2    6\n",
      "dtype: int64\n"
     ]
    }
   ],
   "source": [
    "dfs = pd.Series([\"Apple\", \"Banana\", \"Cherry\"])\n",
    "\n",
    "print(dfs.str.lower())        #將所有字串的字母變成小寫列印出來\n",
    "print(dfs.str.upper())        #將所有字串的字母變成大寫列印出來\n",
    "print(dfs.str.cat(sep = \",\")) #將所有字串串接，並用逗號隔開，列印出來\n",
    "print(dfs.str.contains(\"a\"))  #判斷各個字串是否包含\"A\"，列印初布林值\n",
    "print(dfs.str.replace(\"a\",\"A\")) #把各個字串中的\"a\"取代成\"A\"列印出來\n",
    "print(dfs.str.len())            #列印出每個字串的長度"
   ]
  },
  {
   "cell_type": "markdown",
   "metadata": {},
   "source": [
    "# 二維(DataFrame) 的建立、改index、取值、統計結果\n",
    "\n",
    "二維的資料，就像表格，DataFrame是由很多個Series組裝出來的，因此Series和DataFrame可互相轉換。因為是由Series組成，因此很多的寫法跟Series相似。\n",
    "\n",
    "- 建立DataFrame\n",
    "\n",
    "它的寫法可以對應到Python中的字典，每個key，都有相對應的value，且key不能重複。\n"
   ]
  },
  {
   "cell_type": "code",
   "execution_count": 82,
   "metadata": {},
   "outputs": [
    {
     "name": "stdout",
     "output_type": "stream",
     "text": [
      "     name gender  score\n",
      "0  Justin    boy     59\n",
      "1   Joyce   girl    100\n"
     ]
    }
   ],
   "source": [
    "import pandas as pd\n",
    "\n",
    "data = pd.DataFrame({\n",
    "    \"name\" : [\"Justin\", \"Joyce\"],\n",
    "    \"gender\" : [\"boy\", \"girl\"],\n",
    "    \"score\" : [59, 100]\n",
    "})\n",
    "\n",
    "print(data)"
   ]
  },
  {
   "cell_type": "markdown",
   "metadata": {},
   "source": [
    "- 利用numpy的函數新增"
   ]
  },
  {
   "cell_type": "code",
   "execution_count": 83,
   "metadata": {},
   "outputs": [
    {
     "data": {
      "text/html": [
       "<div>\n",
       "<style scoped>\n",
       "    .dataframe tbody tr th:only-of-type {\n",
       "        vertical-align: middle;\n",
       "    }\n",
       "\n",
       "    .dataframe tbody tr th {\n",
       "        vertical-align: top;\n",
       "    }\n",
       "\n",
       "    .dataframe thead th {\n",
       "        text-align: right;\n",
       "    }\n",
       "</style>\n",
       "<table border=\"1\" class=\"dataframe\">\n",
       "  <thead>\n",
       "    <tr style=\"text-align: right;\">\n",
       "      <th></th>\n",
       "      <th>A</th>\n",
       "      <th>B</th>\n",
       "      <th>C</th>\n",
       "    </tr>\n",
       "  </thead>\n",
       "  <tbody>\n",
       "    <tr>\n",
       "      <th>0</th>\n",
       "      <td>2</td>\n",
       "      <td>6</td>\n",
       "      <td>7</td>\n",
       "    </tr>\n",
       "    <tr>\n",
       "      <th>1</th>\n",
       "      <td>3</td>\n",
       "      <td>3</td>\n",
       "      <td>4</td>\n",
       "    </tr>\n",
       "    <tr>\n",
       "      <th>2</th>\n",
       "      <td>7</td>\n",
       "      <td>5</td>\n",
       "      <td>2</td>\n",
       "    </tr>\n",
       "    <tr>\n",
       "      <th>3</th>\n",
       "      <td>3</td>\n",
       "      <td>5</td>\n",
       "      <td>10</td>\n",
       "    </tr>\n",
       "    <tr>\n",
       "      <th>4</th>\n",
       "      <td>2</td>\n",
       "      <td>8</td>\n",
       "      <td>0</td>\n",
       "    </tr>\n",
       "  </tbody>\n",
       "</table>\n",
       "</div>"
      ],
      "text/plain": [
       "   A  B   C\n",
       "0  2  6   7\n",
       "1  3  3   4\n",
       "2  7  5   2\n",
       "3  3  5  10\n",
       "4  2  8   0"
      ]
     },
     "execution_count": 83,
     "metadata": {},
     "output_type": "execute_result"
    }
   ],
   "source": [
    "import pandas as pd\n",
    "import numpy as np\n",
    "\n",
    "data = np.random.randint(0, 11, (5, 3))\n",
    "df = pd.DataFrame(data, columns=list('ABC'))\n",
    "\n",
    "df"
   ]
  },
  {
   "cell_type": "markdown",
   "metadata": {},
   "source": [
    "- 查看資料\n",
    "\n",
    "因為DataFrame是二維的資料，因此在查看時，分為列(橫)查看及行(直)查看:\n",
    "    \n",
    "    *如果輸入key值查看資料的話，會是行(直)查看;\n",
    "    *若想要列(橫)查看的話，又分為兩種，一種是利用預設的索引，另一種是利用自定義的索引。\n",
    "\n",
    "而當資料量很多的時候，有時想查看前(後)幾筆，觀察資料就好，則可以使用head()、tail()。\n",
    "\n",
    "- 資料篩選\n",
    "\n",
    "loc與iloc為最常用的資料切片方法，前者以值來選取，後者以定位的數值來選取。\n",
    "\n",
    "兩者皆用list[]來操縱索引和欄位的切片。另外也有at和iat可使用，差別在at和iat是直接取value出來，而不是取series或dataframe格式。"
   ]
  },
  {
   "cell_type": "code",
   "execution_count": 84,
   "metadata": {},
   "outputs": [
    {
     "name": "stdout",
     "output_type": "stream",
     "text": [
      "    fruit  price\n",
      "a   apple     10\n",
      "b  banana      5\n",
      "c   peach     30\n",
      "a     apple\n",
      "b    banana\n",
      "c     peach\n",
      "Name: fruit, dtype: object\n",
      "a     apple\n",
      "b    banana\n",
      "c     peach\n",
      "Name: fruit, dtype: object\n",
      "fruit    apple\n",
      "price       10\n",
      "Name: a, dtype: object\n",
      "fruit    banana\n",
      "price         5\n",
      "Name: b, dtype: object\n"
     ]
    }
   ],
   "source": [
    "import pandas as pd\n",
    "\n",
    "data = pd.DataFrame({\n",
    "    \"fruit\" : [\"apple\", \"banana\", \"peach\"],\n",
    "    \"price\" : [10, 5, 30]\n",
    "}, index = [\"a\", \"b\", \"c\"])\n",
    "\n",
    "print(data)\n",
    "print(data.fruit)    #查看\"fruit\"的資料，一整行\n",
    "print(data[\"fruit\"]) #查看\"fruit\"的資料，一整行\n",
    "\n",
    "print(data.iloc[0])  #按照預設索引，查看第一列的資料\n",
    "print(data.loc[\"b\"]) #按照自定義索引，查看\"b\"一整列的資料"
   ]
  },
  {
   "cell_type": "code",
   "execution_count": 85,
   "metadata": {},
   "outputs": [
    {
     "name": "stdout",
     "output_type": "stream",
     "text": [
      "     fruit  price\n",
      "0    apple     10\n",
      "1   banana      5\n",
      "2    peach     30\n",
      "3   cherry     20\n",
      "4  coconut     50\n",
      "     fruit  price\n",
      "2    peach     30\n",
      "3   cherry     20\n",
      "4  coconut     50\n",
      "5    grape     25\n",
      "6    guava     15\n",
      "    fruit  price\n",
      "0   apple     10\n",
      "1  banana      5\n",
      "2   peach     30\n",
      "     fruit  price\n",
      "4  coconut     50\n",
      "5    grape     25\n",
      "6    guava     15\n",
      "['apple' 'banana' 'peach' 'cherry' 'coconut' 'grape' 'guava']\n"
     ]
    }
   ],
   "source": [
    "import pandas as pd\n",
    "\n",
    "data = pd.DataFrame({\n",
    "    \"fruit\" : [\"apple\", \"banana\", \"peach\", \"cherry\", \"coconut\", \"grape\", \"guava\"],\n",
    "    \"price\" : [10, 5, 30, 20, 50, 25, 15]\n",
    "})\n",
    "\n",
    "\n",
    "print(data.head()) # 如果沒有輸入數字，預設是5，查看前五筆資料\n",
    "print(data.tail()) # 如果沒有輸入數字，預設是5，查看最後五筆資料\n",
    "print(data.head(3)) # 查看前三筆資料\n",
    "print(data.tail(3)) # 查看後三筆資料\n",
    "\n",
    "data_ay = data.fruit.values\n",
    "\n",
    "print(data_ay) #資料轉成array"
   ]
  },
  {
   "cell_type": "markdown",
   "metadata": {},
   "source": [
    "- 查看資料屬性\n",
    "\n",
    "與Series一樣，在分析前先查看資料的屬性是很重要的一環，可利用size、shape等查看，或者**info()查看所有的資料的屬性。\n"
   ]
  },
  {
   "cell_type": "code",
   "execution_count": 86,
   "metadata": {},
   "outputs": [
    {
     "name": "stdout",
     "output_type": "stream",
     "text": [
      "14\n",
      "(7, 2)\n",
      "Index(['fruit', 'price'], dtype='object')\n",
      "RangeIndex(start=0, stop=7, step=1)\n",
      "<class 'pandas.core.frame.DataFrame'>\n",
      "RangeIndex: 7 entries, 0 to 6\n",
      "Data columns (total 2 columns):\n",
      "fruit    7 non-null object\n",
      "price    7 non-null int64\n",
      "dtypes: int64(1), object(1)\n",
      "memory usage: 240.0+ bytes\n",
      "None\n",
      "           price\n",
      "count   7.000000\n",
      "mean   22.142857\n",
      "std    14.960265\n",
      "min     5.000000\n",
      "25%    12.500000\n",
      "50%    20.000000\n",
      "75%    27.500000\n",
      "max    50.000000\n"
     ]
    }
   ],
   "source": [
    "import pandas as pd\n",
    "\n",
    "data = pd.DataFrame({\n",
    "    \"fruit\" : [\"apple\", \"banana\", \"peach\", \"cherry\", \"coconut\", \"grape\", \"guava\"],\n",
    "    \"price\" : [10, 5, 30, 20, 50, 25, 15]\n",
    "})\n",
    "\n",
    "print(data.size)    #查看資料的總資料數 \n",
    "print(data.shape)   #查看資料的大小(即幾乘幾)\n",
    "print(data.columns) #查看所有的標題(key)\n",
    "print(data.index)   #查看所有的列索引資訊(index)\n",
    "print(data.info())  #查看所有資料的屬性，以每個Series顯示\n",
    "print(data.describe()) #各數值變數的描述統計"
   ]
  },
  {
   "cell_type": "markdown",
   "metadata": {},
   "source": [
    "- 更改資料\n",
    "\n",
    "當DataFrame已經建立好後，若要修改標題(key)，或是資料的內容。\n",
    "\n"
   ]
  },
  {
   "cell_type": "code",
   "execution_count": 87,
   "metadata": {},
   "outputs": [
    {
     "name": "stdout",
     "output_type": "stream",
     "text": [
      "     name gender  score\n",
      "0  Justin    boy     59\n",
      "1   Joyce   girl    100\n",
      "     Name Gender  Score\n",
      "0  Justin    boy     59\n",
      "1   Joyce   girl    100\n",
      "    Name Gender  Score\n",
      "0  Alice   girl     90\n",
      "1  Joyce   girl    100\n"
     ]
    }
   ],
   "source": [
    "import pandas as pd\n",
    "\n",
    "# 原始資料\n",
    "data = pd.DataFrame({\n",
    "    \"name\" : [\"Justin\", \"Joyce\"],\n",
    "    \"gender\" : [\"boy\", \"girl\"],\n",
    "    \"score\" : [59, 100]\n",
    "}) \n",
    "\n",
    "print(data)\n",
    "data.columns = [\"Name\", \"Gender\", \"score\"]              #更改標題，用此方法需要重新輸入所有標題，即使只需修改一個\n",
    "data.rename(columns = {\"score\":\"Score\"},inplace = True) #更改標題，只需更改要改變的值\n",
    "print(data)\n",
    "\n",
    "data.loc[0, \"Score\"] = 30           #修改第一列，\"score\"的值\n",
    "data.loc[0] = [\"Alice\", \"girl\", 90] #修改第一列全部的值\n",
    "print(data)\n",
    "\n",
    "#inplace = True 不會創立新的物件，直接對原資料進行修改\n",
    "#inplace = Flase 更改後給新的物件，原資料不變\n",
    "#預設為Flase"
   ]
  },
  {
   "cell_type": "markdown",
   "metadata": {},
   "source": [
    "- 更改索引\n",
    "\n",
    "這裡也與Series一樣，如果沒有自定義索引的話，會使用預設索引，想要改變索引可在字典後加上index。\n"
   ]
  },
  {
   "cell_type": "code",
   "execution_count": 88,
   "metadata": {},
   "outputs": [
    {
     "name": "stdout",
     "output_type": "stream",
     "text": [
      "     name gender  score\n",
      "0  Justin    boy     59\n",
      "1   Joyce   girl    100\n",
      "     name gender  score\n",
      "a  Justin    boy     59\n",
      "b   Joyce   girl    100\n"
     ]
    }
   ],
   "source": [
    "import pandas as pd\n",
    "\n",
    "#使用預設索引\n",
    "data = pd.DataFrame({\n",
    "    \"name\" : [\"Justin\", \"Joyce\"],\n",
    "    \"gender\" : [\"boy\", \"girl\"],\n",
    "    \"score\" : [59, 100]\n",
    "}) \n",
    "\n",
    "print(data)\n",
    "\n",
    "\n",
    "#使用自定義索引\n",
    "data = pd.DataFrame({\n",
    "    \"name\" : [\"Justin\", \"Joyce\"],\n",
    "    \"gender\" : [\"boy\", \"girl\"],\n",
    "    \"score\" : [59, 100]\n",
    "}, index = [\"a\", \"b\"]) \n",
    "\n",
    "print(data)"
   ]
  },
  {
   "cell_type": "markdown",
   "metadata": {},
   "source": [
    "- 增加新欄位(行)\n",
    "\n",
    "在設定資料時，或分析資料時，有時會想要新增欄位，讓資料更完整，或更加方便判斷。\n",
    "\n",
    "因為DataFrame是由一個Series組成，因此想法上就像在增加一個Series，新加入的欄位會由最後面加上，如果要插在中間的話，需要使用insert這個函數。\n"
   ]
  },
  {
   "cell_type": "code",
   "execution_count": 89,
   "metadata": {},
   "outputs": [
    {
     "name": "stdout",
     "output_type": "stream",
     "text": [
      "    fruit  price\n",
      "0   apple     10\n",
      "1  banana      5\n",
      "2   peach     30\n",
      "    fruit  price  cp      from\n",
      "0   apple     10   3    Taipei\n",
      "1  banana      5   2  Taichung\n",
      "2   peach     30   5    Tainan\n",
      "    fruit  price  amount  cp      from\n",
      "0   apple     10     100   3    Taipei\n",
      "1  banana      5     300   2  Taichung\n",
      "2   peach     30     200   5    Tainan\n"
     ]
    }
   ],
   "source": [
    "import pandas as pd\n",
    "\n",
    "data = pd.DataFrame({\n",
    "    \"fruit\" : [\"apple\", \"banana\", \"peach\"],\n",
    "    \"price\" : [10, 5, 30]\n",
    "})\n",
    "\n",
    "print(data)\n",
    "\n",
    "data[\"cp\"] = [3, 2, 5]                                     #利用list的方式，增加新的欄位\n",
    "data[\"from\"] = pd.Series([\"Taipei\", \"Taichung\", \"Tainan\"]) #利用Series的方式，增加新的欄位\n",
    "print(data)\n",
    "\n",
    "\n",
    "data.insert(2, \"amount\", 0)       #將\"amount\"插入在第二行，將初始值令為0\n",
    "data[\"amount\"] = [100, 300, 200]  #更改\"amount\"的值\n",
    "print(data)"
   ]
  },
  {
   "cell_type": "markdown",
   "metadata": {},
   "source": [
    "- 增加新欄位(列)\n",
    "有時，會要加入新的資料，可以使用append的方式，在最後面加上資料。\n"
   ]
  },
  {
   "cell_type": "code",
   "execution_count": 90,
   "metadata": {},
   "outputs": [
    {
     "name": "stdout",
     "output_type": "stream",
     "text": [
      "    fruit  price\n",
      "0   apple     10\n",
      "1  banana      5\n",
      "2   peach     30\n",
      "    fruit  price\n",
      "0   apple     10\n",
      "1  banana      5\n",
      "2   peach     30\n",
      "3  cherry     20\n"
     ]
    }
   ],
   "source": [
    "import pandas as pd\n",
    "\n",
    "#原始資料\n",
    "data = pd.DataFrame({\n",
    "    \"fruit\" : [\"apple\", \"banana\", \"peach\"],\n",
    "    \"price\" : [10, 5, 30]\n",
    "}) \n",
    "print(data)\n",
    "\n",
    "#新的資料內容\n",
    "new_data = pd.DataFrame({\n",
    "    \"fruit\" : \"cherry\",\n",
    "    \"price\" : 20\n",
    "},index = [3]) \n",
    "\n",
    "data = data.append(new_data) # 加上新的資料\n",
    "print(data)"
   ]
  },
  {
   "cell_type": "markdown",
   "metadata": {},
   "source": [
    "- 刪除欄位(行及列)\n",
    "\n",
    "利用drop函數，把不需要或錯誤的資料刪除掉。\n",
    "\n",
    "可以刪除一行或一列\n",
    "\n",
    "建議原始的資料不要動到，如果要動到的話，可以先複製一份，更改複製的版本\n",
    "\n"
   ]
  },
  {
   "cell_type": "code",
   "execution_count": 91,
   "metadata": {},
   "outputs": [
    {
     "name": "stdout",
     "output_type": "stream",
     "text": [
      "     name gender  score\n",
      "0  Justin    boy     59\n",
      "1   Joyce   girl    100\n",
      "     name  score\n",
      "0  Justin     59\n",
      "1   Joyce    100\n",
      "    name  score\n",
      "1  Joyce    100\n"
     ]
    }
   ],
   "source": [
    "import pandas as pd\n",
    "\n",
    "# 原始資料\n",
    "data = pd.DataFrame({\n",
    "    \"name\" : [\"Justin\", \"Joyce\"],\n",
    "    \"gender\" : [\"boy\", \"girl\"],\n",
    "    \"score\" : [59, 100]\n",
    "}) \n",
    "print(data)\n",
    "\n",
    "data.drop([\"gender\"], axis=1, inplace=True) # 以行為軸，刪除\"gender\"這一行\n",
    "print(data)\n",
    "\n",
    "data.drop([0], inplace=True) # 以列為軸，利用預設的索引值，刪除第一筆資料\n",
    "print(data)"
   ]
  },
  {
   "cell_type": "markdown",
   "metadata": {},
   "source": [
    "\n",
    "- 讀取檔案\n",
    "\n",
    "在實際的操作上，我們會希望能從檔案中讀取資料進行分析，pandas支援多種文字、二進位檔案與資料庫的資料載入，常見的 txt、csv、excel 試算表、MySQL等。最常見的是csv檔。\n",
    "\n",
    "pandas提供多種格式可以輸出/輸入資料\n",
    "\n",
    "https://pandas.pydata.org/pandas-docs/stable/reference/io.html"
   ]
  },
  {
   "cell_type": "code",
   "execution_count": 92,
   "metadata": {},
   "outputs": [
    {
     "data": {
      "text/html": [
       "<div>\n",
       "<style scoped>\n",
       "    .dataframe tbody tr th:only-of-type {\n",
       "        vertical-align: middle;\n",
       "    }\n",
       "\n",
       "    .dataframe tbody tr th {\n",
       "        vertical-align: top;\n",
       "    }\n",
       "\n",
       "    .dataframe thead th {\n",
       "        text-align: right;\n",
       "    }\n",
       "</style>\n",
       "<table border=\"1\" class=\"dataframe\">\n",
       "  <thead>\n",
       "    <tr style=\"text-align: right;\">\n",
       "      <th></th>\n",
       "      <th>NAME</th>\n",
       "      <th>General Physics</th>\n",
       "      <th>Classical Mechanics</th>\n",
       "      <th>Calculus</th>\n",
       "      <th>Optics</th>\n",
       "      <th>Statistics</th>\n",
       "    </tr>\n",
       "  </thead>\n",
       "  <tbody>\n",
       "    <tr>\n",
       "      <th>0</th>\n",
       "      <td>S1</td>\n",
       "      <td>99</td>\n",
       "      <td>64</td>\n",
       "      <td>21</td>\n",
       "      <td>70</td>\n",
       "      <td>67</td>\n",
       "    </tr>\n",
       "    <tr>\n",
       "      <th>1</th>\n",
       "      <td>S2</td>\n",
       "      <td>41</td>\n",
       "      <td>82</td>\n",
       "      <td>31</td>\n",
       "      <td>68</td>\n",
       "      <td>58</td>\n",
       "    </tr>\n",
       "    <tr>\n",
       "      <th>2</th>\n",
       "      <td>S3</td>\n",
       "      <td>91</td>\n",
       "      <td>78</td>\n",
       "      <td>72</td>\n",
       "      <td>85</td>\n",
       "      <td>36</td>\n",
       "    </tr>\n",
       "    <tr>\n",
       "      <th>3</th>\n",
       "      <td>S4</td>\n",
       "      <td>52</td>\n",
       "      <td>67</td>\n",
       "      <td>33</td>\n",
       "      <td>65</td>\n",
       "      <td>46</td>\n",
       "    </tr>\n",
       "    <tr>\n",
       "      <th>4</th>\n",
       "      <td>S5</td>\n",
       "      <td>67</td>\n",
       "      <td>79</td>\n",
       "      <td>77</td>\n",
       "      <td>18</td>\n",
       "      <td>93</td>\n",
       "    </tr>\n",
       "    <tr>\n",
       "      <th>5</th>\n",
       "      <td>S6</td>\n",
       "      <td>71</td>\n",
       "      <td>55</td>\n",
       "      <td>56</td>\n",
       "      <td>18</td>\n",
       "      <td>90</td>\n",
       "    </tr>\n",
       "    <tr>\n",
       "      <th>6</th>\n",
       "      <td>S7</td>\n",
       "      <td>91</td>\n",
       "      <td>37</td>\n",
       "      <td>21</td>\n",
       "      <td>82</td>\n",
       "      <td>12</td>\n",
       "    </tr>\n",
       "    <tr>\n",
       "      <th>7</th>\n",
       "      <td>S8</td>\n",
       "      <td>70</td>\n",
       "      <td>70</td>\n",
       "      <td>51</td>\n",
       "      <td>61</td>\n",
       "      <td>69</td>\n",
       "    </tr>\n",
       "    <tr>\n",
       "      <th>8</th>\n",
       "      <td>S9</td>\n",
       "      <td>99</td>\n",
       "      <td>91</td>\n",
       "      <td>61</td>\n",
       "      <td>39</td>\n",
       "      <td>57</td>\n",
       "    </tr>\n",
       "    <tr>\n",
       "      <th>9</th>\n",
       "      <td>S10</td>\n",
       "      <td>70</td>\n",
       "      <td>79</td>\n",
       "      <td>47</td>\n",
       "      <td>34</td>\n",
       "      <td>60</td>\n",
       "    </tr>\n",
       "  </tbody>\n",
       "</table>\n",
       "</div>"
      ],
      "text/plain": [
       "  NAME  General Physics  Classical Mechanics  Calculus  Optics  Statistics\n",
       "0   S1               99                   64        21      70          67\n",
       "1   S2               41                   82        31      68          58\n",
       "2   S3               91                   78        72      85          36\n",
       "3   S4               52                   67        33      65          46\n",
       "4   S5               67                   79        77      18          93\n",
       "5   S6               71                   55        56      18          90\n",
       "6   S7               91                   37        21      82          12\n",
       "7   S8               70                   70        51      61          69\n",
       "8   S9               99                   91        61      39          57\n",
       "9  S10               70                   79        47      34          60"
      ]
     },
     "execution_count": 92,
     "metadata": {},
     "output_type": "execute_result"
    }
   ],
   "source": [
    "import pandas as pd\n",
    "\n",
    "#在讀取檔案時，須將檔案放在與執行檔的同一個資料夾，或是用相對(絕對)的路徑去讀取\n",
    "\n",
    "#讀取csv檔\n",
    "data_csv = pd.read_csv('filename_csv.csv')  \n",
    "\n",
    "#讀取excel檔\n",
    "#data_xls = pd.read_excel('filename.xlsx', 'sheetname')\n",
    "data_xls = pd.read_excel('filename.xlsx', '工作表1')\n",
    "\n",
    "# df_load = pd.read_csv('gen.csv', index_col=0)  \n",
    "# 因為在產生csv檔時，第一行為index\n",
    "# 所以讀檔時需將第一行視為index，否則也會被當成資料\n",
    "\n",
    "data_xls"
   ]
  },
  {
   "cell_type": "markdown",
   "metadata": {},
   "source": [
    "\n",
    "\n",
    "![圖示](./images/pandas_col_index.jpg)"
   ]
  },
  {
   "cell_type": "code",
   "execution_count": 93,
   "metadata": {},
   "outputs": [
    {
     "data": {
      "text/html": [
       "<div>\n",
       "<style scoped>\n",
       "    .dataframe tbody tr th:only-of-type {\n",
       "        vertical-align: middle;\n",
       "    }\n",
       "\n",
       "    .dataframe tbody tr th {\n",
       "        vertical-align: top;\n",
       "    }\n",
       "\n",
       "    .dataframe thead tr th {\n",
       "        text-align: left;\n",
       "    }\n",
       "</style>\n",
       "<table border=\"1\" class=\"dataframe\">\n",
       "  <thead>\n",
       "    <tr>\n",
       "      <th></th>\n",
       "      <th colspan=\"2\" halign=\"left\">幣別</th>\n",
       "      <th colspan=\"2\" halign=\"left\">現金匯率</th>\n",
       "      <th>Unnamed: 4_level_0</th>\n",
       "      <th colspan=\"2\" halign=\"left\">即期匯率</th>\n",
       "      <th>Unnamed: 7_level_0</th>\n",
       "      <th>遠期匯率</th>\n",
       "      <th colspan=\"2\" halign=\"left\">歷史匯率</th>\n",
       "      <th colspan=\"2\" halign=\"left\">現金匯率</th>\n",
       "      <th>Unnamed: 13_level_0</th>\n",
       "      <th colspan=\"2\" halign=\"left\">即期匯率</th>\n",
       "      <th>Unnamed: 16_level_0</th>\n",
       "    </tr>\n",
       "    <tr>\n",
       "      <th></th>\n",
       "      <th>幣別</th>\n",
       "      <th>Unnamed: 1_level_1</th>\n",
       "      <th>本行買入</th>\n",
       "      <th>本行賣出</th>\n",
       "      <th>本行買入</th>\n",
       "      <th>本行賣出</th>\n",
       "      <th>Unnamed: 6_level_1</th>\n",
       "      <th>本行買入</th>\n",
       "      <th>遠期匯率</th>\n",
       "      <th>歷史匯率</th>\n",
       "      <th>本行賣出</th>\n",
       "      <th>本行買入.1</th>\n",
       "      <th>本行賣出.1</th>\n",
       "      <th>Unnamed: 13_level_1</th>\n",
       "      <th>Unnamed: 14_level_1</th>\n",
       "      <th>Unnamed: 15_level_1</th>\n",
       "      <th>Unnamed: 16_level_1</th>\n",
       "    </tr>\n",
       "  </thead>\n",
       "  <tbody>\n",
       "    <tr>\n",
       "      <th>0</th>\n",
       "      <td>美金 (USD)  美金 (USD)</td>\n",
       "      <td>27.565</td>\n",
       "      <td>28.235</td>\n",
       "      <td>27.915</td>\n",
       "      <td>28.015</td>\n",
       "      <td>查詢</td>\n",
       "      <td>查詢</td>\n",
       "      <td>27.565</td>\n",
       "      <td>28.235</td>\n",
       "      <td>27.915</td>\n",
       "      <td>28.015</td>\n",
       "      <td>NaN</td>\n",
       "      <td>NaN</td>\n",
       "      <td>NaN</td>\n",
       "      <td>NaN</td>\n",
       "      <td>NaN</td>\n",
       "      <td>NaN</td>\n",
       "    </tr>\n",
       "    <tr>\n",
       "      <th>1</th>\n",
       "      <td>港幣 (HKD)  港幣 (HKD)</td>\n",
       "      <td>3.444</td>\n",
       "      <td>3.648</td>\n",
       "      <td>3.57</td>\n",
       "      <td>3.63</td>\n",
       "      <td>查詢</td>\n",
       "      <td>查詢</td>\n",
       "      <td>3.444</td>\n",
       "      <td>3.648</td>\n",
       "      <td>3.57</td>\n",
       "      <td>3.63</td>\n",
       "      <td>NaN</td>\n",
       "      <td>NaN</td>\n",
       "      <td>NaN</td>\n",
       "      <td>NaN</td>\n",
       "      <td>NaN</td>\n",
       "      <td>NaN</td>\n",
       "    </tr>\n",
       "    <tr>\n",
       "      <th>2</th>\n",
       "      <td>英鎊 (GBP)  英鎊 (GBP)</td>\n",
       "      <td>37.42</td>\n",
       "      <td>39.54</td>\n",
       "      <td>38.43</td>\n",
       "      <td>38.83</td>\n",
       "      <td>查詢</td>\n",
       "      <td>查詢</td>\n",
       "      <td>37.42</td>\n",
       "      <td>39.54</td>\n",
       "      <td>38.43</td>\n",
       "      <td>38.83</td>\n",
       "      <td>NaN</td>\n",
       "      <td>NaN</td>\n",
       "      <td>NaN</td>\n",
       "      <td>NaN</td>\n",
       "      <td>NaN</td>\n",
       "      <td>NaN</td>\n",
       "    </tr>\n",
       "    <tr>\n",
       "      <th>3</th>\n",
       "      <td>澳幣 (AUD)  澳幣 (AUD)</td>\n",
       "      <td>21.17</td>\n",
       "      <td>21.95</td>\n",
       "      <td>21.46</td>\n",
       "      <td>21.66</td>\n",
       "      <td>查詢</td>\n",
       "      <td>查詢</td>\n",
       "      <td>21.17</td>\n",
       "      <td>21.95</td>\n",
       "      <td>21.46</td>\n",
       "      <td>21.66</td>\n",
       "      <td>NaN</td>\n",
       "      <td>NaN</td>\n",
       "      <td>NaN</td>\n",
       "      <td>NaN</td>\n",
       "      <td>NaN</td>\n",
       "      <td>NaN</td>\n",
       "    </tr>\n",
       "    <tr>\n",
       "      <th>4</th>\n",
       "      <td>加拿大幣 (CAD)  加拿大幣 (CAD)</td>\n",
       "      <td>22.24</td>\n",
       "      <td>23.15</td>\n",
       "      <td>22.64</td>\n",
       "      <td>22.84</td>\n",
       "      <td>查詢</td>\n",
       "      <td>查詢</td>\n",
       "      <td>22.24</td>\n",
       "      <td>23.15</td>\n",
       "      <td>22.64</td>\n",
       "      <td>22.84</td>\n",
       "      <td>NaN</td>\n",
       "      <td>NaN</td>\n",
       "      <td>NaN</td>\n",
       "      <td>NaN</td>\n",
       "      <td>NaN</td>\n",
       "      <td>NaN</td>\n",
       "    </tr>\n",
       "    <tr>\n",
       "      <th>5</th>\n",
       "      <td>新加坡幣 (SGD)  新加坡幣 (SGD)</td>\n",
       "      <td>20.4</td>\n",
       "      <td>21.31</td>\n",
       "      <td>20.89</td>\n",
       "      <td>21.07</td>\n",
       "      <td>查詢</td>\n",
       "      <td>查詢</td>\n",
       "      <td>20.4</td>\n",
       "      <td>21.31</td>\n",
       "      <td>20.89</td>\n",
       "      <td>21.07</td>\n",
       "      <td>NaN</td>\n",
       "      <td>NaN</td>\n",
       "      <td>NaN</td>\n",
       "      <td>NaN</td>\n",
       "      <td>NaN</td>\n",
       "      <td>NaN</td>\n",
       "    </tr>\n",
       "    <tr>\n",
       "      <th>6</th>\n",
       "      <td>瑞士法郎 (CHF)  瑞士法郎 (CHF)</td>\n",
       "      <td>29.78</td>\n",
       "      <td>30.98</td>\n",
       "      <td>30.46</td>\n",
       "      <td>30.71</td>\n",
       "      <td>查詢</td>\n",
       "      <td>查詢</td>\n",
       "      <td>29.78</td>\n",
       "      <td>30.98</td>\n",
       "      <td>30.46</td>\n",
       "      <td>30.71</td>\n",
       "      <td>NaN</td>\n",
       "      <td>NaN</td>\n",
       "      <td>NaN</td>\n",
       "      <td>NaN</td>\n",
       "      <td>NaN</td>\n",
       "      <td>NaN</td>\n",
       "    </tr>\n",
       "    <tr>\n",
       "      <th>7</th>\n",
       "      <td>日圓 (JPY)  日圓 (JPY)</td>\n",
       "      <td>0.2458</td>\n",
       "      <td>0.2586</td>\n",
       "      <td>0.2531</td>\n",
       "      <td>0.2571</td>\n",
       "      <td>查詢</td>\n",
       "      <td>查詢</td>\n",
       "      <td>0.2458</td>\n",
       "      <td>0.2586</td>\n",
       "      <td>0.2531</td>\n",
       "      <td>0.2571</td>\n",
       "      <td>NaN</td>\n",
       "      <td>NaN</td>\n",
       "      <td>NaN</td>\n",
       "      <td>NaN</td>\n",
       "      <td>NaN</td>\n",
       "      <td>NaN</td>\n",
       "    </tr>\n",
       "    <tr>\n",
       "      <th>8</th>\n",
       "      <td>南非幣 (ZAR)  南非幣 (ZAR)</td>\n",
       "      <td>-</td>\n",
       "      <td>-</td>\n",
       "      <td>1.888</td>\n",
       "      <td>1.968</td>\n",
       "      <td>查詢</td>\n",
       "      <td>查詢</td>\n",
       "      <td>-</td>\n",
       "      <td>-</td>\n",
       "      <td>1.888</td>\n",
       "      <td>1.968</td>\n",
       "      <td>NaN</td>\n",
       "      <td>NaN</td>\n",
       "      <td>NaN</td>\n",
       "      <td>NaN</td>\n",
       "      <td>NaN</td>\n",
       "      <td>NaN</td>\n",
       "    </tr>\n",
       "    <tr>\n",
       "      <th>9</th>\n",
       "      <td>瑞典幣 (SEK)  瑞典幣 (SEK)</td>\n",
       "      <td>2.91</td>\n",
       "      <td>3.43</td>\n",
       "      <td>3.25</td>\n",
       "      <td>3.35</td>\n",
       "      <td>查詢</td>\n",
       "      <td>查詢</td>\n",
       "      <td>2.91</td>\n",
       "      <td>3.43</td>\n",
       "      <td>3.25</td>\n",
       "      <td>3.35</td>\n",
       "      <td>NaN</td>\n",
       "      <td>NaN</td>\n",
       "      <td>NaN</td>\n",
       "      <td>NaN</td>\n",
       "      <td>NaN</td>\n",
       "      <td>NaN</td>\n",
       "    </tr>\n",
       "    <tr>\n",
       "      <th>10</th>\n",
       "      <td>紐元 (NZD)  紐元 (NZD)</td>\n",
       "      <td>19.55</td>\n",
       "      <td>20.4</td>\n",
       "      <td>19.93</td>\n",
       "      <td>20.13</td>\n",
       "      <td>查詢</td>\n",
       "      <td>查詢</td>\n",
       "      <td>19.55</td>\n",
       "      <td>20.4</td>\n",
       "      <td>19.93</td>\n",
       "      <td>20.13</td>\n",
       "      <td>NaN</td>\n",
       "      <td>NaN</td>\n",
       "      <td>NaN</td>\n",
       "      <td>NaN</td>\n",
       "      <td>NaN</td>\n",
       "      <td>NaN</td>\n",
       "    </tr>\n",
       "    <tr>\n",
       "      <th>11</th>\n",
       "      <td>泰幣 (THB)  泰幣 (THB)</td>\n",
       "      <td>0.7683</td>\n",
       "      <td>0.9583</td>\n",
       "      <td>0.8807</td>\n",
       "      <td>0.9207</td>\n",
       "      <td>查詢</td>\n",
       "      <td>查詢</td>\n",
       "      <td>0.7683</td>\n",
       "      <td>0.9583</td>\n",
       "      <td>0.8807</td>\n",
       "      <td>0.9207</td>\n",
       "      <td>NaN</td>\n",
       "      <td>NaN</td>\n",
       "      <td>NaN</td>\n",
       "      <td>NaN</td>\n",
       "      <td>NaN</td>\n",
       "      <td>NaN</td>\n",
       "    </tr>\n",
       "    <tr>\n",
       "      <th>12</th>\n",
       "      <td>菲國比索 (PHP)  菲國比索 (PHP)</td>\n",
       "      <td>0.5078</td>\n",
       "      <td>0.6408</td>\n",
       "      <td>-</td>\n",
       "      <td>-</td>\n",
       "      <td>查詢</td>\n",
       "      <td>查詢</td>\n",
       "      <td>0.5078</td>\n",
       "      <td>0.6408</td>\n",
       "      <td>-</td>\n",
       "      <td>-</td>\n",
       "      <td>NaN</td>\n",
       "      <td>NaN</td>\n",
       "      <td>NaN</td>\n",
       "      <td>NaN</td>\n",
       "      <td>NaN</td>\n",
       "      <td>NaN</td>\n",
       "    </tr>\n",
       "    <tr>\n",
       "      <th>13</th>\n",
       "      <td>印尼幣 (IDR)  印尼幣 (IDR)</td>\n",
       "      <td>0.00158</td>\n",
       "      <td>0.00228</td>\n",
       "      <td>-</td>\n",
       "      <td>-</td>\n",
       "      <td>查詢</td>\n",
       "      <td>查詢</td>\n",
       "      <td>0.00158</td>\n",
       "      <td>0.00228</td>\n",
       "      <td>-</td>\n",
       "      <td>-</td>\n",
       "      <td>NaN</td>\n",
       "      <td>NaN</td>\n",
       "      <td>NaN</td>\n",
       "      <td>NaN</td>\n",
       "      <td>NaN</td>\n",
       "      <td>NaN</td>\n",
       "    </tr>\n",
       "    <tr>\n",
       "      <th>14</th>\n",
       "      <td>歐元 (EUR)  歐元 (EUR)</td>\n",
       "      <td>32.79</td>\n",
       "      <td>34.13</td>\n",
       "      <td>33.41</td>\n",
       "      <td>33.81</td>\n",
       "      <td>查詢</td>\n",
       "      <td>查詢</td>\n",
       "      <td>32.79</td>\n",
       "      <td>34.13</td>\n",
       "      <td>33.41</td>\n",
       "      <td>33.81</td>\n",
       "      <td>NaN</td>\n",
       "      <td>NaN</td>\n",
       "      <td>NaN</td>\n",
       "      <td>NaN</td>\n",
       "      <td>NaN</td>\n",
       "      <td>NaN</td>\n",
       "    </tr>\n",
       "    <tr>\n",
       "      <th>15</th>\n",
       "      <td>韓元 (KRW)  韓元 (KRW)</td>\n",
       "      <td>0.02321</td>\n",
       "      <td>0.02711</td>\n",
       "      <td>-</td>\n",
       "      <td>-</td>\n",
       "      <td>查詢</td>\n",
       "      <td>查詢</td>\n",
       "      <td>0.02321</td>\n",
       "      <td>0.02711</td>\n",
       "      <td>-</td>\n",
       "      <td>-</td>\n",
       "      <td>NaN</td>\n",
       "      <td>NaN</td>\n",
       "      <td>NaN</td>\n",
       "      <td>NaN</td>\n",
       "      <td>NaN</td>\n",
       "      <td>NaN</td>\n",
       "    </tr>\n",
       "    <tr>\n",
       "      <th>16</th>\n",
       "      <td>越南盾 (VND)  越南盾 (VND)</td>\n",
       "      <td>0.00084</td>\n",
       "      <td>0.00134</td>\n",
       "      <td>-</td>\n",
       "      <td>-</td>\n",
       "      <td>查詢</td>\n",
       "      <td>查詢</td>\n",
       "      <td>0.00084</td>\n",
       "      <td>0.00134</td>\n",
       "      <td>-</td>\n",
       "      <td>-</td>\n",
       "      <td>NaN</td>\n",
       "      <td>NaN</td>\n",
       "      <td>NaN</td>\n",
       "      <td>NaN</td>\n",
       "      <td>NaN</td>\n",
       "      <td>NaN</td>\n",
       "    </tr>\n",
       "    <tr>\n",
       "      <th>17</th>\n",
       "      <td>馬來幣 (MYR)  馬來幣 (MYR)</td>\n",
       "      <td>5.706</td>\n",
       "      <td>7.331</td>\n",
       "      <td>-</td>\n",
       "      <td>-</td>\n",
       "      <td>查詢</td>\n",
       "      <td>查詢</td>\n",
       "      <td>5.706</td>\n",
       "      <td>7.331</td>\n",
       "      <td>-</td>\n",
       "      <td>-</td>\n",
       "      <td>NaN</td>\n",
       "      <td>NaN</td>\n",
       "      <td>NaN</td>\n",
       "      <td>NaN</td>\n",
       "      <td>NaN</td>\n",
       "      <td>NaN</td>\n",
       "    </tr>\n",
       "    <tr>\n",
       "      <th>18</th>\n",
       "      <td>人民幣 (CNY)  人民幣 (CNY)</td>\n",
       "      <td>4.218</td>\n",
       "      <td>4.38</td>\n",
       "      <td>4.29</td>\n",
       "      <td>4.34</td>\n",
       "      <td>查詢</td>\n",
       "      <td>查詢</td>\n",
       "      <td>4.218</td>\n",
       "      <td>4.38</td>\n",
       "      <td>4.29</td>\n",
       "      <td>4.34</td>\n",
       "      <td>NaN</td>\n",
       "      <td>NaN</td>\n",
       "      <td>NaN</td>\n",
       "      <td>NaN</td>\n",
       "      <td>NaN</td>\n",
       "      <td>NaN</td>\n",
       "    </tr>\n",
       "  </tbody>\n",
       "</table>\n",
       "</div>"
      ],
      "text/plain": [
       "                        幣別                        現金匯率          \\\n",
       "                        幣別 Unnamed: 1_level_1     本行買入    本行賣出   \n",
       "0       美金 (USD)  美金 (USD)             27.565   28.235  27.915   \n",
       "1       港幣 (HKD)  港幣 (HKD)              3.444    3.648    3.57   \n",
       "2       英鎊 (GBP)  英鎊 (GBP)              37.42    39.54   38.43   \n",
       "3       澳幣 (AUD)  澳幣 (AUD)              21.17    21.95   21.46   \n",
       "4   加拿大幣 (CAD)  加拿大幣 (CAD)              22.24    23.15   22.64   \n",
       "5   新加坡幣 (SGD)  新加坡幣 (SGD)               20.4    21.31   20.89   \n",
       "6   瑞士法郎 (CHF)  瑞士法郎 (CHF)              29.78    30.98   30.46   \n",
       "7       日圓 (JPY)  日圓 (JPY)             0.2458   0.2586  0.2531   \n",
       "8     南非幣 (ZAR)  南非幣 (ZAR)                  -        -   1.888   \n",
       "9     瑞典幣 (SEK)  瑞典幣 (SEK)               2.91     3.43    3.25   \n",
       "10      紐元 (NZD)  紐元 (NZD)              19.55     20.4   19.93   \n",
       "11      泰幣 (THB)  泰幣 (THB)             0.7683   0.9583  0.8807   \n",
       "12  菲國比索 (PHP)  菲國比索 (PHP)             0.5078   0.6408       -   \n",
       "13    印尼幣 (IDR)  印尼幣 (IDR)            0.00158  0.00228       -   \n",
       "14      歐元 (EUR)  歐元 (EUR)              32.79    34.13   33.41   \n",
       "15      韓元 (KRW)  韓元 (KRW)            0.02321  0.02711       -   \n",
       "16    越南盾 (VND)  越南盾 (VND)            0.00084  0.00134       -   \n",
       "17    馬來幣 (MYR)  馬來幣 (MYR)              5.706    7.331       -   \n",
       "18    人民幣 (CNY)  人民幣 (CNY)              4.218     4.38    4.29   \n",
       "\n",
       "   Unnamed: 4_level_0 即期匯率                    Unnamed: 7_level_0     遠期匯率  \\\n",
       "                 本行買入 本行賣出 Unnamed: 6_level_1               本行買入     遠期匯率   \n",
       "0              28.015   查詢                 查詢             27.565   28.235   \n",
       "1                3.63   查詢                 查詢              3.444    3.648   \n",
       "2               38.83   查詢                 查詢              37.42    39.54   \n",
       "3               21.66   查詢                 查詢              21.17    21.95   \n",
       "4               22.84   查詢                 查詢              22.24    23.15   \n",
       "5               21.07   查詢                 查詢               20.4    21.31   \n",
       "6               30.71   查詢                 查詢              29.78    30.98   \n",
       "7              0.2571   查詢                 查詢             0.2458   0.2586   \n",
       "8               1.968   查詢                 查詢                  -        -   \n",
       "9                3.35   查詢                 查詢               2.91     3.43   \n",
       "10              20.13   查詢                 查詢              19.55     20.4   \n",
       "11             0.9207   查詢                 查詢             0.7683   0.9583   \n",
       "12                  -   查詢                 查詢             0.5078   0.6408   \n",
       "13                  -   查詢                 查詢            0.00158  0.00228   \n",
       "14              33.81   查詢                 查詢              32.79    34.13   \n",
       "15                  -   查詢                 查詢            0.02321  0.02711   \n",
       "16                  -   查詢                 查詢            0.00084  0.00134   \n",
       "17                  -   查詢                 查詢              5.706    7.331   \n",
       "18               4.34   查詢                 查詢              4.218     4.38   \n",
       "\n",
       "      歷史匯率           現金匯率        Unnamed: 13_level_0                即期匯率  \\\n",
       "      歷史匯率    本行賣出 本行買入.1 本行賣出.1 Unnamed: 13_level_1 Unnamed: 14_level_1   \n",
       "0   27.915  28.015    NaN    NaN                 NaN                 NaN   \n",
       "1     3.57    3.63    NaN    NaN                 NaN                 NaN   \n",
       "2    38.43   38.83    NaN    NaN                 NaN                 NaN   \n",
       "3    21.46   21.66    NaN    NaN                 NaN                 NaN   \n",
       "4    22.64   22.84    NaN    NaN                 NaN                 NaN   \n",
       "5    20.89   21.07    NaN    NaN                 NaN                 NaN   \n",
       "6    30.46   30.71    NaN    NaN                 NaN                 NaN   \n",
       "7   0.2531  0.2571    NaN    NaN                 NaN                 NaN   \n",
       "8    1.888   1.968    NaN    NaN                 NaN                 NaN   \n",
       "9     3.25    3.35    NaN    NaN                 NaN                 NaN   \n",
       "10   19.93   20.13    NaN    NaN                 NaN                 NaN   \n",
       "11  0.8807  0.9207    NaN    NaN                 NaN                 NaN   \n",
       "12       -       -    NaN    NaN                 NaN                 NaN   \n",
       "13       -       -    NaN    NaN                 NaN                 NaN   \n",
       "14   33.41   33.81    NaN    NaN                 NaN                 NaN   \n",
       "15       -       -    NaN    NaN                 NaN                 NaN   \n",
       "16       -       -    NaN    NaN                 NaN                 NaN   \n",
       "17       -       -    NaN    NaN                 NaN                 NaN   \n",
       "18    4.29    4.34    NaN    NaN                 NaN                 NaN   \n",
       "\n",
       "                       Unnamed: 16_level_0  \n",
       "   Unnamed: 15_level_1 Unnamed: 16_level_1  \n",
       "0                  NaN                 NaN  \n",
       "1                  NaN                 NaN  \n",
       "2                  NaN                 NaN  \n",
       "3                  NaN                 NaN  \n",
       "4                  NaN                 NaN  \n",
       "5                  NaN                 NaN  \n",
       "6                  NaN                 NaN  \n",
       "7                  NaN                 NaN  \n",
       "8                  NaN                 NaN  \n",
       "9                  NaN                 NaN  \n",
       "10                 NaN                 NaN  \n",
       "11                 NaN                 NaN  \n",
       "12                 NaN                 NaN  \n",
       "13                 NaN                 NaN  \n",
       "14                 NaN                 NaN  \n",
       "15                 NaN                 NaN  \n",
       "16                 NaN                 NaN  \n",
       "17                 NaN                 NaN  \n",
       "18                 NaN                 NaN  "
      ]
     },
     "execution_count": 93,
     "metadata": {},
     "output_type": "execute_result"
    }
   ],
   "source": [
    "# 讀取 HTML\n",
    "import pandas as pd\n",
    "dfs = pd.read_html('http://rate.bot.com.tw/xrt?Lang=zh-TW')  \n",
    "dfs[0]  "
   ]
  },
  {
   "cell_type": "markdown",
   "metadata": {},
   "source": [
    "- 檢查資料\n",
    "\n",
    "  有時資料會有空值、缺失值，需要進行資料的前處理，常見的方式有兩種，第一種是刪除，第二種是補齊\n",
    "\n",
    "    - 檢查na值或空值是否存在 `DataFrame.isna()` \n",
    "\n",
    "    - 刪除  `DataFrame.dropna(axis=0, how='any', thresh=None, subset=None, inplace=False)` \n",
    "\n",
    "    - 補齊 `DataFrame.fillna(value=None, method=None, axis=None, inplace=False, limit=None, downcast=None, **kwargs)`\n",
    "\n",
    "       method參數中的ffill和bifill，前者是拿na前的資料補，後者是拿na後的資料補。limit參數決定要補幾個na，預設是全補。\n"
   ]
  },
  {
   "cell_type": "code",
   "execution_count": 94,
   "metadata": {},
   "outputs": [
    {
     "name": "stdout",
     "output_type": "stream",
     "text": [
      "   age       born    name        toy\n",
      "0  5.0        NaT  Alfred       None\n",
      "1  6.0 1939-05-27  Batman  Batmobile\n",
      "2  NaN 1940-04-25              Joker\n",
      "     age   born   name    toy\n",
      "0  False   True  False   True\n",
      "1  False  False  False  False\n",
      "2   True  False  False  False\n",
      "     age   born  name    toy\n",
      "0   True  False  True  False\n",
      "1   True   True  True   True\n",
      "2  False   True  True   True\n"
     ]
    }
   ],
   "source": [
    "import pandas as pd\n",
    "import numpy as np\n",
    "\n",
    "df = pd.DataFrame(dict(age=[5, 6, np.NaN],\n",
    "                   born=[pd.NaT, pd.Timestamp('1939-05-27'),\n",
    "                         pd.Timestamp('1940-04-25')],\n",
    "                   name=['Alfred', 'Batman', ''],\n",
    "                   toy=[None, 'Batmobile', 'Joker']))\n",
    "print(df)\n",
    "print(df.isna()) #if the values are NA. NA values, such as None or numpy.NaN\n",
    "print(df.notna()) "
   ]
  },
  {
   "cell_type": "code",
   "execution_count": 95,
   "metadata": {},
   "outputs": [
    {
     "data": {
      "text/html": [
       "<div>\n",
       "<style scoped>\n",
       "    .dataframe tbody tr th:only-of-type {\n",
       "        vertical-align: middle;\n",
       "    }\n",
       "\n",
       "    .dataframe tbody tr th {\n",
       "        vertical-align: top;\n",
       "    }\n",
       "\n",
       "    .dataframe thead th {\n",
       "        text-align: right;\n",
       "    }\n",
       "</style>\n",
       "<table border=\"1\" class=\"dataframe\">\n",
       "  <thead>\n",
       "    <tr style=\"text-align: right;\">\n",
       "      <th></th>\n",
       "      <th>age</th>\n",
       "      <th>born</th>\n",
       "      <th>name</th>\n",
       "      <th>toy</th>\n",
       "    </tr>\n",
       "  </thead>\n",
       "  <tbody>\n",
       "    <tr>\n",
       "      <th>1</th>\n",
       "      <td>6.0</td>\n",
       "      <td>1939-05-27</td>\n",
       "      <td>Batman</td>\n",
       "      <td>Batmobile</td>\n",
       "    </tr>\n",
       "  </tbody>\n",
       "</table>\n",
       "</div>"
      ],
      "text/plain": [
       "   age       born    name        toy\n",
       "1  6.0 1939-05-27  Batman  Batmobile"
      ]
     },
     "execution_count": 95,
     "metadata": {},
     "output_type": "execute_result"
    }
   ],
   "source": [
    "import pandas as pd\n",
    "import numpy as np\n",
    "\n",
    "df = pd.DataFrame(dict(age=[5, 6, np.NaN],\n",
    "                   born=[pd.NaT, pd.Timestamp('1939-05-27'),\n",
    "                         pd.Timestamp('1940-04-25')],\n",
    "                   name=['Alfred', 'Batman', ''],\n",
    "                   toy=[None, 'Batmobile', 'Joker']))\n",
    "\n",
    "#如果有列存在缺失值整列刪除\n",
    "df.dropna(inplace = True) \n",
    "\n",
    "df"
   ]
  },
  {
   "cell_type": "code",
   "execution_count": 96,
   "metadata": {},
   "outputs": [
    {
     "data": {
      "text/html": [
       "<div>\n",
       "<style scoped>\n",
       "    .dataframe tbody tr th:only-of-type {\n",
       "        vertical-align: middle;\n",
       "    }\n",
       "\n",
       "    .dataframe tbody tr th {\n",
       "        vertical-align: top;\n",
       "    }\n",
       "\n",
       "    .dataframe thead th {\n",
       "        text-align: right;\n",
       "    }\n",
       "</style>\n",
       "<table border=\"1\" class=\"dataframe\">\n",
       "  <thead>\n",
       "    <tr style=\"text-align: right;\">\n",
       "      <th></th>\n",
       "      <th>name</th>\n",
       "    </tr>\n",
       "  </thead>\n",
       "  <tbody>\n",
       "    <tr>\n",
       "      <th>0</th>\n",
       "      <td>Alfred</td>\n",
       "    </tr>\n",
       "    <tr>\n",
       "      <th>1</th>\n",
       "      <td>Batman</td>\n",
       "    </tr>\n",
       "    <tr>\n",
       "      <th>2</th>\n",
       "      <td></td>\n",
       "    </tr>\n",
       "  </tbody>\n",
       "</table>\n",
       "</div>"
      ],
      "text/plain": [
       "     name\n",
       "0  Alfred\n",
       "1  Batman\n",
       "2        "
      ]
     },
     "execution_count": 96,
     "metadata": {},
     "output_type": "execute_result"
    }
   ],
   "source": [
    "import pandas as pd\n",
    "import numpy as np\n",
    "\n",
    "df = pd.DataFrame(dict(age=[5, 6, np.NaN],\n",
    "                   born=[pd.NaT, pd.Timestamp('1939-05-27'),\n",
    "                         pd.Timestamp('1940-04-25')],\n",
    "                   name=['Alfred', 'Batman', ''],\n",
    "                   toy=[None, 'Batmobile', 'Joker']))\n",
    "\n",
    "#如果有行存在缺失值整行刪除\n",
    "df.dropna(axis=1, inplace = True) \n",
    "df"
   ]
  },
  {
   "cell_type": "code",
   "execution_count": 97,
   "metadata": {},
   "outputs": [
    {
     "data": {
      "text/html": [
       "<div>\n",
       "<style scoped>\n",
       "    .dataframe tbody tr th:only-of-type {\n",
       "        vertical-align: middle;\n",
       "    }\n",
       "\n",
       "    .dataframe tbody tr th {\n",
       "        vertical-align: top;\n",
       "    }\n",
       "\n",
       "    .dataframe thead th {\n",
       "        text-align: right;\n",
       "    }\n",
       "</style>\n",
       "<table border=\"1\" class=\"dataframe\">\n",
       "  <thead>\n",
       "    <tr style=\"text-align: right;\">\n",
       "      <th></th>\n",
       "      <th>age</th>\n",
       "      <th>born</th>\n",
       "      <th>name</th>\n",
       "      <th>toy</th>\n",
       "    </tr>\n",
       "  </thead>\n",
       "  <tbody>\n",
       "    <tr>\n",
       "      <th>0</th>\n",
       "      <td>5</td>\n",
       "      <td>NULL</td>\n",
       "      <td>Alfred</td>\n",
       "      <td>NULL</td>\n",
       "    </tr>\n",
       "    <tr>\n",
       "      <th>1</th>\n",
       "      <td>6</td>\n",
       "      <td>1939-05-27 00:00:00</td>\n",
       "      <td>Batman</td>\n",
       "      <td>Batmobile</td>\n",
       "    </tr>\n",
       "    <tr>\n",
       "      <th>2</th>\n",
       "      <td>NULL</td>\n",
       "      <td>1940-04-25 00:00:00</td>\n",
       "      <td></td>\n",
       "      <td>Joker</td>\n",
       "    </tr>\n",
       "  </tbody>\n",
       "</table>\n",
       "</div>"
      ],
      "text/plain": [
       "    age                 born    name        toy\n",
       "0     5                 NULL  Alfred       NULL\n",
       "1     6  1939-05-27 00:00:00  Batman  Batmobile\n",
       "2  NULL  1940-04-25 00:00:00              Joker"
      ]
     },
     "execution_count": 97,
     "metadata": {},
     "output_type": "execute_result"
    }
   ],
   "source": [
    "import pandas as pd\n",
    "import numpy as np\n",
    "\n",
    "df = pd.DataFrame(dict(age=[5, 6, np.NaN],\n",
    "                   born=[pd.NaT, pd.Timestamp('1939-05-27'),\n",
    "                         pd.Timestamp('1940-04-25')],\n",
    "                   name=['Alfred', 'Batman', ''],\n",
    "                   toy=[None, 'Batmobile', 'Joker']))\n",
    "\n",
    "df.fillna(value = \"NULL\", inplace = True) # 如果有資料有缺失值則填入\"NULL\"\n",
    "\n",
    "df"
   ]
  },
  {
   "cell_type": "markdown",
   "metadata": {},
   "source": [
    "- 匯出檔案\n",
    "\n",
    "在處理完資料，獲得結果後，最後一步就是輸出結果了\n",
    "\n",
    "\n",
    "\n"
   ]
  },
  {
   "cell_type": "code",
   "execution_count": 98,
   "metadata": {},
   "outputs": [],
   "source": [
    "data.to_csv(\"output.csv\", index = False) # 將data輸出成csv檔，名稱叫\"output.csv\"\n",
    "#index = Flase 表示在輸出時，不要保留索引值，預設為True"
   ]
  },
  {
   "cell_type": "markdown",
   "metadata": {},
   "source": [
    "### 綜合練習"
   ]
  },
  {
   "cell_type": "code",
   "execution_count": 99,
   "metadata": {},
   "outputs": [
    {
     "name": "stdout",
     "output_type": "stream",
     "text": [
      "  NAME  General Physics  Classical Mechanics  Calculus  Optics  Statistics\n",
      "0   S1               99                   64        21      70          67\n",
      "1   S2               41                   82        31      68          58\n",
      "2   S3               91                   78        72      85          36\n",
      "3   S4               52                   67        33      65          46\n",
      "4   S5               67                   79        77      18          93\n",
      "5   S6               71                   55        56      18          90\n",
      "6   S7               91                   37        21      82          12\n",
      "7   S8               70                   70        51      61          69\n",
      "8   S9               99                   91        61      39          57\n",
      "9  S10               70                   79        47      34          60\n",
      "<class 'pandas.core.frame.DataFrame'>\n",
      "RangeIndex: 10 entries, 0 to 9\n",
      "Data columns (total 6 columns):\n",
      "NAME                   10 non-null object\n",
      "General Physics        10 non-null int64\n",
      "Classical Mechanics    10 non-null int64\n",
      "Calculus               10 non-null int64\n",
      "Optics                 10 non-null int64\n",
      "Statistics             10 non-null int64\n",
      "dtypes: int64(5), object(1)\n",
      "memory usage: 608.0+ bytes\n",
      "None\n",
      "General Physics        75.1\n",
      "Classical Mechanics    70.2\n",
      "Calculus               47.0\n",
      "Optics                 54.0\n",
      "Statistics             58.8\n",
      "dtype: float64\n",
      "General Physics        19.660734\n",
      "Classical Mechanics    15.526322\n",
      "Calculus               20.061018\n",
      "Optics                 24.908722\n",
      "Statistics             24.022212\n",
      "dtype: float64\n",
      "       General Physics  Classical Mechanics   Calculus     Optics  Statistics\n",
      "count        10.000000            10.000000  10.000000  10.000000   10.000000\n",
      "mean         75.100000            70.200000  47.000000  54.000000   58.800000\n",
      "std          19.660734            15.526322  20.061018  24.908722   24.022212\n",
      "min          41.000000            37.000000  21.000000  18.000000   12.000000\n",
      "25%          67.750000            64.750000  31.500000  35.250000   48.750000\n",
      "50%          70.500000            74.000000  49.000000  63.000000   59.000000\n",
      "75%          91.000000            79.000000  59.750000  69.500000   68.500000\n",
      "max          99.000000            91.000000  77.000000  85.000000   93.000000\n",
      "                     General Physics  Classical Mechanics  Calculus    Optics  \\\n",
      "General Physics             1.000000            -0.158772  0.074935  0.166988   \n",
      "Classical Mechanics        -0.158772             1.000000  0.532593 -0.263168   \n",
      "Calculus                    0.074935             0.532593  1.000000 -0.518762   \n",
      "Optics                      0.166988            -0.263168 -0.518762  1.000000   \n",
      "Statistics                 -0.257325             0.343900  0.449139 -0.801818   \n",
      "\n",
      "                     Statistics  \n",
      "General Physics       -0.257325  \n",
      "Classical Mechanics    0.343900  \n",
      "Calculus               0.449139  \n",
      "Optics                -0.801818  \n",
      "Statistics             1.000000  \n"
     ]
    }
   ],
   "source": [
    "import pandas as pd\n",
    "\n",
    "#讀取csv檔\n",
    "data_csv = pd.read_csv('filename_csv.csv')  \n",
    "\n",
    "#資料屬性與統計分析\n",
    "print(data_csv)\n",
    "print(data_csv.info())\n",
    "print(data_csv.mean())\n",
    "print(data_csv.std())\n",
    "print(data_csv.describe())\n",
    "print(data_csv.corr())"
   ]
  },
  {
   "cell_type": "code",
   "execution_count": 100,
   "metadata": {
    "scrolled": true
   },
   "outputs": [
    {
     "data": {
      "text/plain": [
       "0    21\n",
       "1    31\n",
       "2    72\n",
       "3    33\n",
       "4    77\n",
       "5    56\n",
       "6    21\n",
       "7    51\n",
       "8    61\n",
       "9    47\n",
       "Name: Calculus, dtype: int64"
      ]
     },
     "execution_count": 100,
     "metadata": {},
     "output_type": "execute_result"
    }
   ],
   "source": [
    "#輸出key為Calculus的資料\n",
    "data_csv[\"Calculus\"] "
   ]
  },
  {
   "cell_type": "code",
   "execution_count": 101,
   "metadata": {},
   "outputs": [
    {
     "data": {
      "text/plain": [
       "0     S1\n",
       "1     S2\n",
       "2     S3\n",
       "3     S4\n",
       "4     S5\n",
       "5     S6\n",
       "6     S7\n",
       "7     S8\n",
       "8     S9\n",
       "9    S10\n",
       "Name: NAME, dtype: object"
      ]
     },
     "execution_count": 101,
     "metadata": {},
     "output_type": "execute_result"
    }
   ],
   "source": [
    "#輸出key為NAME的資料\n",
    "data_csv[\"NAME\"]"
   ]
  },
  {
   "cell_type": "code",
   "execution_count": 102,
   "metadata": {},
   "outputs": [
    {
     "data": {
      "text/html": [
       "<div>\n",
       "<style scoped>\n",
       "    .dataframe tbody tr th:only-of-type {\n",
       "        vertical-align: middle;\n",
       "    }\n",
       "\n",
       "    .dataframe tbody tr th {\n",
       "        vertical-align: top;\n",
       "    }\n",
       "\n",
       "    .dataframe thead th {\n",
       "        text-align: right;\n",
       "    }\n",
       "</style>\n",
       "<table border=\"1\" class=\"dataframe\">\n",
       "  <thead>\n",
       "    <tr style=\"text-align: right;\">\n",
       "      <th></th>\n",
       "      <th>NAME</th>\n",
       "      <th>General Physics</th>\n",
       "      <th>Classical Mechanics</th>\n",
       "      <th>Calculus</th>\n",
       "      <th>Optics</th>\n",
       "      <th>Statistics</th>\n",
       "    </tr>\n",
       "  </thead>\n",
       "  <tbody>\n",
       "    <tr>\n",
       "      <th>1</th>\n",
       "      <td>S2</td>\n",
       "      <td>41</td>\n",
       "      <td>82</td>\n",
       "      <td>31</td>\n",
       "      <td>68</td>\n",
       "      <td>58</td>\n",
       "    </tr>\n",
       "    <tr>\n",
       "      <th>2</th>\n",
       "      <td>S3</td>\n",
       "      <td>91</td>\n",
       "      <td>78</td>\n",
       "      <td>72</td>\n",
       "      <td>85</td>\n",
       "      <td>36</td>\n",
       "    </tr>\n",
       "    <tr>\n",
       "      <th>3</th>\n",
       "      <td>S4</td>\n",
       "      <td>52</td>\n",
       "      <td>67</td>\n",
       "      <td>33</td>\n",
       "      <td>65</td>\n",
       "      <td>46</td>\n",
       "    </tr>\n",
       "  </tbody>\n",
       "</table>\n",
       "</div>"
      ],
      "text/plain": [
       "  NAME  General Physics  Classical Mechanics  Calculus  Optics  Statistics\n",
       "1   S2               41                   82        31      68          58\n",
       "2   S3               91                   78        72      85          36\n",
       "3   S4               52                   67        33      65          46"
      ]
     },
     "execution_count": 102,
     "metadata": {},
     "output_type": "execute_result"
    }
   ],
   "source": [
    "#輸出index 1~3\n",
    "data_csv[1:4]"
   ]
  },
  {
   "cell_type": "code",
   "execution_count": 103,
   "metadata": {},
   "outputs": [
    {
     "data": {
      "text/plain": [
       "NAME                   S6\n",
       "General Physics        71\n",
       "Classical Mechanics    55\n",
       "Calculus               56\n",
       "Optics                 18\n",
       "Statistics             90\n",
       "Name: 5, dtype: object"
      ]
     },
     "execution_count": 103,
     "metadata": {},
     "output_type": "execute_result"
    }
   ],
   "source": [
    "data_csv.loc[5] #輸出index=5列"
   ]
  },
  {
   "cell_type": "code",
   "execution_count": 104,
   "metadata": {},
   "outputs": [
    {
     "data": {
      "text/html": [
       "<div>\n",
       "<style scoped>\n",
       "    .dataframe tbody tr th:only-of-type {\n",
       "        vertical-align: middle;\n",
       "    }\n",
       "\n",
       "    .dataframe tbody tr th {\n",
       "        vertical-align: top;\n",
       "    }\n",
       "\n",
       "    .dataframe thead th {\n",
       "        text-align: right;\n",
       "    }\n",
       "</style>\n",
       "<table border=\"1\" class=\"dataframe\">\n",
       "  <thead>\n",
       "    <tr style=\"text-align: right;\">\n",
       "      <th></th>\n",
       "      <th>NAME</th>\n",
       "      <th>General Physics</th>\n",
       "      <th>Classical Mechanics</th>\n",
       "      <th>Calculus</th>\n",
       "      <th>Optics</th>\n",
       "      <th>Statistics</th>\n",
       "    </tr>\n",
       "  </thead>\n",
       "  <tbody>\n",
       "    <tr>\n",
       "      <th>4</th>\n",
       "      <td>S5</td>\n",
       "      <td>67</td>\n",
       "      <td>79</td>\n",
       "      <td>77</td>\n",
       "      <td>18</td>\n",
       "      <td>93</td>\n",
       "    </tr>\n",
       "  </tbody>\n",
       "</table>\n",
       "</div>"
      ],
      "text/plain": [
       "  NAME  General Physics  Classical Mechanics  Calculus  Optics  Statistics\n",
       "4   S5               67                   79        77      18          93"
      ]
     },
     "execution_count": 104,
     "metadata": {},
     "output_type": "execute_result"
    }
   ],
   "source": [
    "#輸出Calculus=77的資料\n",
    "data_csv[data_csv['Calculus'] == 77]"
   ]
  },
  {
   "cell_type": "code",
   "execution_count": 105,
   "metadata": {},
   "outputs": [
    {
     "data": {
      "text/html": [
       "<div>\n",
       "<style scoped>\n",
       "    .dataframe tbody tr th:only-of-type {\n",
       "        vertical-align: middle;\n",
       "    }\n",
       "\n",
       "    .dataframe tbody tr th {\n",
       "        vertical-align: top;\n",
       "    }\n",
       "\n",
       "    .dataframe thead th {\n",
       "        text-align: right;\n",
       "    }\n",
       "</style>\n",
       "<table border=\"1\" class=\"dataframe\">\n",
       "  <thead>\n",
       "    <tr style=\"text-align: right;\">\n",
       "      <th></th>\n",
       "      <th>NAME</th>\n",
       "      <th>General Physics</th>\n",
       "      <th>Classical Mechanics</th>\n",
       "      <th>Calculus</th>\n",
       "      <th>Optics</th>\n",
       "      <th>Statistics</th>\n",
       "    </tr>\n",
       "  </thead>\n",
       "  <tbody>\n",
       "    <tr>\n",
       "      <th>2</th>\n",
       "      <td>S3</td>\n",
       "      <td>91</td>\n",
       "      <td>78</td>\n",
       "      <td>72</td>\n",
       "      <td>85</td>\n",
       "      <td>36</td>\n",
       "    </tr>\n",
       "    <tr>\n",
       "      <th>7</th>\n",
       "      <td>S8</td>\n",
       "      <td>70</td>\n",
       "      <td>70</td>\n",
       "      <td>51</td>\n",
       "      <td>61</td>\n",
       "      <td>69</td>\n",
       "    </tr>\n",
       "  </tbody>\n",
       "</table>\n",
       "</div>"
      ],
      "text/plain": [
       "  NAME  General Physics  Classical Mechanics  Calculus  Optics  Statistics\n",
       "2   S3               91                   78        72      85          36\n",
       "7   S8               70                   70        51      61          69"
      ]
     },
     "execution_count": 105,
     "metadata": {},
     "output_type": "execute_result"
    }
   ],
   "source": [
    "#多條件：輸出Calculus>33且Optics>60的資料\n",
    "data_csv[(data_csv['Calculus'] >33) & (data_csv['Optics'] >60)]"
   ]
  },
  {
   "cell_type": "code",
   "execution_count": 106,
   "metadata": {},
   "outputs": [
    {
     "data": {
      "text/html": [
       "<div>\n",
       "<style scoped>\n",
       "    .dataframe tbody tr th:only-of-type {\n",
       "        vertical-align: middle;\n",
       "    }\n",
       "\n",
       "    .dataframe tbody tr th {\n",
       "        vertical-align: top;\n",
       "    }\n",
       "\n",
       "    .dataframe thead th {\n",
       "        text-align: right;\n",
       "    }\n",
       "</style>\n",
       "<table border=\"1\" class=\"dataframe\">\n",
       "  <thead>\n",
       "    <tr style=\"text-align: right;\">\n",
       "      <th></th>\n",
       "      <th>NAME</th>\n",
       "      <th>General Physics</th>\n",
       "      <th>Classical Mechanics</th>\n",
       "      <th>Calculus</th>\n",
       "      <th>Optics</th>\n",
       "      <th>Statistics</th>\n",
       "      <th>Total</th>\n",
       "    </tr>\n",
       "  </thead>\n",
       "  <tbody>\n",
       "    <tr>\n",
       "      <th>0</th>\n",
       "      <td>S1</td>\n",
       "      <td>99</td>\n",
       "      <td>64</td>\n",
       "      <td>21</td>\n",
       "      <td>70</td>\n",
       "      <td>67</td>\n",
       "      <td>321</td>\n",
       "    </tr>\n",
       "    <tr>\n",
       "      <th>1</th>\n",
       "      <td>S2</td>\n",
       "      <td>41</td>\n",
       "      <td>82</td>\n",
       "      <td>31</td>\n",
       "      <td>68</td>\n",
       "      <td>58</td>\n",
       "      <td>280</td>\n",
       "    </tr>\n",
       "    <tr>\n",
       "      <th>2</th>\n",
       "      <td>S3</td>\n",
       "      <td>91</td>\n",
       "      <td>78</td>\n",
       "      <td>72</td>\n",
       "      <td>85</td>\n",
       "      <td>36</td>\n",
       "      <td>362</td>\n",
       "    </tr>\n",
       "    <tr>\n",
       "      <th>3</th>\n",
       "      <td>S4</td>\n",
       "      <td>52</td>\n",
       "      <td>67</td>\n",
       "      <td>33</td>\n",
       "      <td>65</td>\n",
       "      <td>46</td>\n",
       "      <td>263</td>\n",
       "    </tr>\n",
       "    <tr>\n",
       "      <th>4</th>\n",
       "      <td>S5</td>\n",
       "      <td>67</td>\n",
       "      <td>79</td>\n",
       "      <td>77</td>\n",
       "      <td>18</td>\n",
       "      <td>93</td>\n",
       "      <td>334</td>\n",
       "    </tr>\n",
       "    <tr>\n",
       "      <th>5</th>\n",
       "      <td>S6</td>\n",
       "      <td>71</td>\n",
       "      <td>55</td>\n",
       "      <td>56</td>\n",
       "      <td>18</td>\n",
       "      <td>90</td>\n",
       "      <td>290</td>\n",
       "    </tr>\n",
       "    <tr>\n",
       "      <th>6</th>\n",
       "      <td>S7</td>\n",
       "      <td>91</td>\n",
       "      <td>37</td>\n",
       "      <td>21</td>\n",
       "      <td>82</td>\n",
       "      <td>12</td>\n",
       "      <td>243</td>\n",
       "    </tr>\n",
       "    <tr>\n",
       "      <th>7</th>\n",
       "      <td>S8</td>\n",
       "      <td>70</td>\n",
       "      <td>70</td>\n",
       "      <td>51</td>\n",
       "      <td>61</td>\n",
       "      <td>69</td>\n",
       "      <td>321</td>\n",
       "    </tr>\n",
       "    <tr>\n",
       "      <th>8</th>\n",
       "      <td>S9</td>\n",
       "      <td>99</td>\n",
       "      <td>91</td>\n",
       "      <td>61</td>\n",
       "      <td>39</td>\n",
       "      <td>57</td>\n",
       "      <td>347</td>\n",
       "    </tr>\n",
       "    <tr>\n",
       "      <th>9</th>\n",
       "      <td>S10</td>\n",
       "      <td>70</td>\n",
       "      <td>79</td>\n",
       "      <td>47</td>\n",
       "      <td>34</td>\n",
       "      <td>60</td>\n",
       "      <td>290</td>\n",
       "    </tr>\n",
       "  </tbody>\n",
       "</table>\n",
       "</div>"
      ],
      "text/plain": [
       "  NAME  General Physics  Classical Mechanics  Calculus  Optics  Statistics  \\\n",
       "0   S1               99                   64        21      70          67   \n",
       "1   S2               41                   82        31      68          58   \n",
       "2   S3               91                   78        72      85          36   \n",
       "3   S4               52                   67        33      65          46   \n",
       "4   S5               67                   79        77      18          93   \n",
       "5   S6               71                   55        56      18          90   \n",
       "6   S7               91                   37        21      82          12   \n",
       "7   S8               70                   70        51      61          69   \n",
       "8   S9               99                   91        61      39          57   \n",
       "9  S10               70                   79        47      34          60   \n",
       "\n",
       "   Total  \n",
       "0    321  \n",
       "1    280  \n",
       "2    362  \n",
       "3    263  \n",
       "4    334  \n",
       "5    290  \n",
       "6    243  \n",
       "7    321  \n",
       "8    347  \n",
       "9    290  "
      ]
     },
     "execution_count": 106,
     "metadata": {},
     "output_type": "execute_result"
    }
   ],
   "source": [
    "#多加一colums(行)為沿著axis=1的加總(算總分)並命名為Total\n",
    "data_csv[\"Total\"] = data_csv.sum(axis=1)\n",
    "data_csv"
   ]
  },
  {
   "cell_type": "code",
   "execution_count": 107,
   "metadata": {},
   "outputs": [
    {
     "data": {
      "text/html": [
       "<div>\n",
       "<style scoped>\n",
       "    .dataframe tbody tr th:only-of-type {\n",
       "        vertical-align: middle;\n",
       "    }\n",
       "\n",
       "    .dataframe tbody tr th {\n",
       "        vertical-align: top;\n",
       "    }\n",
       "\n",
       "    .dataframe thead th {\n",
       "        text-align: right;\n",
       "    }\n",
       "</style>\n",
       "<table border=\"1\" class=\"dataframe\">\n",
       "  <thead>\n",
       "    <tr style=\"text-align: right;\">\n",
       "      <th></th>\n",
       "      <th>NAME</th>\n",
       "      <th>General Physics</th>\n",
       "      <th>Classical Mechanics</th>\n",
       "      <th>Calculus</th>\n",
       "      <th>Optics</th>\n",
       "      <th>Statistics</th>\n",
       "      <th>Total</th>\n",
       "      <th>Weighted Total</th>\n",
       "    </tr>\n",
       "  </thead>\n",
       "  <tbody>\n",
       "    <tr>\n",
       "      <th>0</th>\n",
       "      <td>S1</td>\n",
       "      <td>99</td>\n",
       "      <td>64</td>\n",
       "      <td>21</td>\n",
       "      <td>70</td>\n",
       "      <td>67</td>\n",
       "      <td>321</td>\n",
       "      <td>391.5</td>\n",
       "    </tr>\n",
       "    <tr>\n",
       "      <th>1</th>\n",
       "      <td>S2</td>\n",
       "      <td>41</td>\n",
       "      <td>82</td>\n",
       "      <td>31</td>\n",
       "      <td>68</td>\n",
       "      <td>58</td>\n",
       "      <td>280</td>\n",
       "      <td>331.5</td>\n",
       "    </tr>\n",
       "    <tr>\n",
       "      <th>2</th>\n",
       "      <td>S3</td>\n",
       "      <td>91</td>\n",
       "      <td>78</td>\n",
       "      <td>72</td>\n",
       "      <td>85</td>\n",
       "      <td>36</td>\n",
       "      <td>362</td>\n",
       "      <td>479.5</td>\n",
       "    </tr>\n",
       "    <tr>\n",
       "      <th>3</th>\n",
       "      <td>S4</td>\n",
       "      <td>52</td>\n",
       "      <td>67</td>\n",
       "      <td>33</td>\n",
       "      <td>65</td>\n",
       "      <td>46</td>\n",
       "      <td>263</td>\n",
       "      <td>322.0</td>\n",
       "    </tr>\n",
       "    <tr>\n",
       "      <th>4</th>\n",
       "      <td>S5</td>\n",
       "      <td>67</td>\n",
       "      <td>79</td>\n",
       "      <td>77</td>\n",
       "      <td>18</td>\n",
       "      <td>93</td>\n",
       "      <td>334</td>\n",
       "      <td>444.5</td>\n",
       "    </tr>\n",
       "    <tr>\n",
       "      <th>5</th>\n",
       "      <td>S6</td>\n",
       "      <td>71</td>\n",
       "      <td>55</td>\n",
       "      <td>56</td>\n",
       "      <td>18</td>\n",
       "      <td>90</td>\n",
       "      <td>290</td>\n",
       "      <td>381.5</td>\n",
       "    </tr>\n",
       "    <tr>\n",
       "      <th>6</th>\n",
       "      <td>S7</td>\n",
       "      <td>91</td>\n",
       "      <td>37</td>\n",
       "      <td>21</td>\n",
       "      <td>82</td>\n",
       "      <td>12</td>\n",
       "      <td>243</td>\n",
       "      <td>309.5</td>\n",
       "    </tr>\n",
       "    <tr>\n",
       "      <th>7</th>\n",
       "      <td>S8</td>\n",
       "      <td>70</td>\n",
       "      <td>70</td>\n",
       "      <td>51</td>\n",
       "      <td>61</td>\n",
       "      <td>69</td>\n",
       "      <td>321</td>\n",
       "      <td>407.0</td>\n",
       "    </tr>\n",
       "    <tr>\n",
       "      <th>8</th>\n",
       "      <td>S9</td>\n",
       "      <td>99</td>\n",
       "      <td>91</td>\n",
       "      <td>61</td>\n",
       "      <td>39</td>\n",
       "      <td>57</td>\n",
       "      <td>347</td>\n",
       "      <td>457.5</td>\n",
       "    </tr>\n",
       "    <tr>\n",
       "      <th>9</th>\n",
       "      <td>S10</td>\n",
       "      <td>70</td>\n",
       "      <td>79</td>\n",
       "      <td>47</td>\n",
       "      <td>34</td>\n",
       "      <td>60</td>\n",
       "      <td>290</td>\n",
       "      <td>372.0</td>\n",
       "    </tr>\n",
       "  </tbody>\n",
       "</table>\n",
       "</div>"
      ],
      "text/plain": [
       "  NAME  General Physics  Classical Mechanics  Calculus  Optics  Statistics  \\\n",
       "0   S1               99                   64        21      70          67   \n",
       "1   S2               41                   82        31      68          58   \n",
       "2   S3               91                   78        72      85          36   \n",
       "3   S4               52                   67        33      65          46   \n",
       "4   S5               67                   79        77      18          93   \n",
       "5   S6               71                   55        56      18          90   \n",
       "6   S7               91                   37        21      82          12   \n",
       "7   S8               70                   70        51      61          69   \n",
       "8   S9               99                   91        61      39          57   \n",
       "9  S10               70                   79        47      34          60   \n",
       "\n",
       "   Total  Weighted Total  \n",
       "0    321           391.5  \n",
       "1    280           331.5  \n",
       "2    362           479.5  \n",
       "3    263           322.0  \n",
       "4    334           444.5  \n",
       "5    290           381.5  \n",
       "6    243           309.5  \n",
       "7    321           407.0  \n",
       "8    347           457.5  \n",
       "9    290           372.0  "
      ]
     },
     "execution_count": 107,
     "metadata": {},
     "output_type": "execute_result"
    }
   ],
   "source": [
    "### 多加一colums(行)為沿著axis=1的加權總分並命名為Wweighted Total\n",
    "data_csv[\"Weighted Total\"] = 1.5*data_csv[\"General Physics\"] + data_csv[\"Classical Mechanics\"] + 2.0*data_csv[\"Calculus\"] + data_csv[\"Optics\"] + data_csv[\"Statistics\"] \n",
    "data_csv"
   ]
  },
  {
   "cell_type": "code",
   "execution_count": 108,
   "metadata": {},
   "outputs": [
    {
     "data": {
      "text/html": [
       "<div>\n",
       "<style scoped>\n",
       "    .dataframe tbody tr th:only-of-type {\n",
       "        vertical-align: middle;\n",
       "    }\n",
       "\n",
       "    .dataframe tbody tr th {\n",
       "        vertical-align: top;\n",
       "    }\n",
       "\n",
       "    .dataframe thead th {\n",
       "        text-align: right;\n",
       "    }\n",
       "</style>\n",
       "<table border=\"1\" class=\"dataframe\">\n",
       "  <thead>\n",
       "    <tr style=\"text-align: right;\">\n",
       "      <th></th>\n",
       "      <th>NAME</th>\n",
       "      <th>General Physics</th>\n",
       "      <th>Classical Mechanics</th>\n",
       "      <th>Calculus</th>\n",
       "      <th>Optics</th>\n",
       "      <th>Statistics</th>\n",
       "      <th>Total</th>\n",
       "      <th>Weighted Total</th>\n",
       "    </tr>\n",
       "  </thead>\n",
       "  <tbody>\n",
       "    <tr>\n",
       "      <th>2</th>\n",
       "      <td>S3</td>\n",
       "      <td>91</td>\n",
       "      <td>78</td>\n",
       "      <td>72</td>\n",
       "      <td>85</td>\n",
       "      <td>36</td>\n",
       "      <td>362</td>\n",
       "      <td>479.5</td>\n",
       "    </tr>\n",
       "    <tr>\n",
       "      <th>8</th>\n",
       "      <td>S9</td>\n",
       "      <td>99</td>\n",
       "      <td>91</td>\n",
       "      <td>61</td>\n",
       "      <td>39</td>\n",
       "      <td>57</td>\n",
       "      <td>347</td>\n",
       "      <td>457.5</td>\n",
       "    </tr>\n",
       "    <tr>\n",
       "      <th>4</th>\n",
       "      <td>S5</td>\n",
       "      <td>67</td>\n",
       "      <td>79</td>\n",
       "      <td>77</td>\n",
       "      <td>18</td>\n",
       "      <td>93</td>\n",
       "      <td>334</td>\n",
       "      <td>444.5</td>\n",
       "    </tr>\n",
       "  </tbody>\n",
       "</table>\n",
       "</div>"
      ],
      "text/plain": [
       "  NAME  General Physics  Classical Mechanics  Calculus  Optics  Statistics  \\\n",
       "2   S3               91                   78        72      85          36   \n",
       "8   S9               99                   91        61      39          57   \n",
       "4   S5               67                   79        77      18          93   \n",
       "\n",
       "   Total  Weighted Total  \n",
       "2    362           479.5  \n",
       "8    347           457.5  \n",
       "4    334           444.5  "
      ]
     },
     "execution_count": 108,
     "metadata": {},
     "output_type": "execute_result"
    }
   ],
   "source": [
    "#以Total數字做排序，輸出前三名\n",
    "#by 選定axis中的哪個key或index排序\n",
    "#ascending=True，升序排序，=False，降序\n",
    "df2 = data_csv.sort_values(by=\"Total\", ascending=False).head(3)\n",
    "df2"
   ]
  },
  {
   "cell_type": "code",
   "execution_count": 109,
   "metadata": {},
   "outputs": [
    {
     "data": {
      "text/html": [
       "<div>\n",
       "<style scoped>\n",
       "    .dataframe tbody tr th:only-of-type {\n",
       "        vertical-align: middle;\n",
       "    }\n",
       "\n",
       "    .dataframe tbody tr th {\n",
       "        vertical-align: top;\n",
       "    }\n",
       "\n",
       "    .dataframe thead th {\n",
       "        text-align: right;\n",
       "    }\n",
       "</style>\n",
       "<table border=\"1\" class=\"dataframe\">\n",
       "  <thead>\n",
       "    <tr style=\"text-align: right;\">\n",
       "      <th></th>\n",
       "      <th>NAME</th>\n",
       "      <th>General Physics</th>\n",
       "      <th>Classical Mechanics</th>\n",
       "      <th>Calculus</th>\n",
       "      <th>Optics</th>\n",
       "      <th>Statistics</th>\n",
       "      <th>Total</th>\n",
       "      <th>Weighted Total</th>\n",
       "    </tr>\n",
       "  </thead>\n",
       "  <tbody>\n",
       "    <tr>\n",
       "      <th>2</th>\n",
       "      <td>S3</td>\n",
       "      <td>91</td>\n",
       "      <td>78</td>\n",
       "      <td>72</td>\n",
       "      <td>85</td>\n",
       "      <td>36</td>\n",
       "      <td>362</td>\n",
       "      <td>479.5</td>\n",
       "    </tr>\n",
       "    <tr>\n",
       "      <th>8</th>\n",
       "      <td>S9</td>\n",
       "      <td>99</td>\n",
       "      <td>91</td>\n",
       "      <td>61</td>\n",
       "      <td>39</td>\n",
       "      <td>57</td>\n",
       "      <td>347</td>\n",
       "      <td>457.5</td>\n",
       "    </tr>\n",
       "    <tr>\n",
       "      <th>4</th>\n",
       "      <td>S5</td>\n",
       "      <td>67</td>\n",
       "      <td>79</td>\n",
       "      <td>77</td>\n",
       "      <td>18</td>\n",
       "      <td>93</td>\n",
       "      <td>334</td>\n",
       "      <td>444.5</td>\n",
       "    </tr>\n",
       "  </tbody>\n",
       "</table>\n",
       "</div>"
      ],
      "text/plain": [
       "  NAME  General Physics  Classical Mechanics  Calculus  Optics  Statistics  \\\n",
       "2   S3               91                   78        72      85          36   \n",
       "8   S9               99                   91        61      39          57   \n",
       "4   S5               67                   79        77      18          93   \n",
       "\n",
       "   Total  Weighted Total  \n",
       "2    362           479.5  \n",
       "8    347           457.5  \n",
       "4    334           444.5  "
      ]
     },
     "execution_count": 109,
     "metadata": {},
     "output_type": "execute_result"
    }
   ],
   "source": [
    "#先對Total排序，同分再排Calcculus\n",
    "data_csv.sort_values(by=[\"Total\",\"Calculus\"], ascending=False).head(3)\n"
   ]
  },
  {
   "cell_type": "code",
   "execution_count": 110,
   "metadata": {},
   "outputs": [
    {
     "data": {
      "text/html": [
       "<div>\n",
       "<style scoped>\n",
       "    .dataframe tbody tr th:only-of-type {\n",
       "        vertical-align: middle;\n",
       "    }\n",
       "\n",
       "    .dataframe tbody tr th {\n",
       "        vertical-align: top;\n",
       "    }\n",
       "\n",
       "    .dataframe thead th {\n",
       "        text-align: right;\n",
       "    }\n",
       "</style>\n",
       "<table border=\"1\" class=\"dataframe\">\n",
       "  <thead>\n",
       "    <tr style=\"text-align: right;\">\n",
       "      <th></th>\n",
       "      <th>NAME</th>\n",
       "      <th>General Physics</th>\n",
       "      <th>Classical Mechanics</th>\n",
       "      <th>Calculus</th>\n",
       "      <th>Optics</th>\n",
       "      <th>Statistics</th>\n",
       "      <th>Total</th>\n",
       "      <th>Weighted Total</th>\n",
       "    </tr>\n",
       "  </thead>\n",
       "  <tbody>\n",
       "    <tr>\n",
       "      <th>1</th>\n",
       "      <td>S3</td>\n",
       "      <td>91</td>\n",
       "      <td>78</td>\n",
       "      <td>72</td>\n",
       "      <td>85</td>\n",
       "      <td>36</td>\n",
       "      <td>362</td>\n",
       "      <td>479.5</td>\n",
       "    </tr>\n",
       "    <tr>\n",
       "      <th>2</th>\n",
       "      <td>S9</td>\n",
       "      <td>99</td>\n",
       "      <td>91</td>\n",
       "      <td>61</td>\n",
       "      <td>39</td>\n",
       "      <td>57</td>\n",
       "      <td>347</td>\n",
       "      <td>457.5</td>\n",
       "    </tr>\n",
       "    <tr>\n",
       "      <th>3</th>\n",
       "      <td>S5</td>\n",
       "      <td>67</td>\n",
       "      <td>79</td>\n",
       "      <td>77</td>\n",
       "      <td>18</td>\n",
       "      <td>93</td>\n",
       "      <td>334</td>\n",
       "      <td>444.5</td>\n",
       "    </tr>\n",
       "    <tr>\n",
       "      <th>4</th>\n",
       "      <td>S8</td>\n",
       "      <td>70</td>\n",
       "      <td>70</td>\n",
       "      <td>51</td>\n",
       "      <td>61</td>\n",
       "      <td>69</td>\n",
       "      <td>321</td>\n",
       "      <td>407.0</td>\n",
       "    </tr>\n",
       "    <tr>\n",
       "      <th>5</th>\n",
       "      <td>S1</td>\n",
       "      <td>99</td>\n",
       "      <td>64</td>\n",
       "      <td>21</td>\n",
       "      <td>70</td>\n",
       "      <td>67</td>\n",
       "      <td>321</td>\n",
       "      <td>391.5</td>\n",
       "    </tr>\n",
       "    <tr>\n",
       "      <th>6</th>\n",
       "      <td>S6</td>\n",
       "      <td>71</td>\n",
       "      <td>55</td>\n",
       "      <td>56</td>\n",
       "      <td>18</td>\n",
       "      <td>90</td>\n",
       "      <td>290</td>\n",
       "      <td>381.5</td>\n",
       "    </tr>\n",
       "    <tr>\n",
       "      <th>7</th>\n",
       "      <td>S10</td>\n",
       "      <td>70</td>\n",
       "      <td>79</td>\n",
       "      <td>47</td>\n",
       "      <td>34</td>\n",
       "      <td>60</td>\n",
       "      <td>290</td>\n",
       "      <td>372.0</td>\n",
       "    </tr>\n",
       "    <tr>\n",
       "      <th>8</th>\n",
       "      <td>S2</td>\n",
       "      <td>41</td>\n",
       "      <td>82</td>\n",
       "      <td>31</td>\n",
       "      <td>68</td>\n",
       "      <td>58</td>\n",
       "      <td>280</td>\n",
       "      <td>331.5</td>\n",
       "    </tr>\n",
       "    <tr>\n",
       "      <th>9</th>\n",
       "      <td>S4</td>\n",
       "      <td>52</td>\n",
       "      <td>67</td>\n",
       "      <td>33</td>\n",
       "      <td>65</td>\n",
       "      <td>46</td>\n",
       "      <td>263</td>\n",
       "      <td>322.0</td>\n",
       "    </tr>\n",
       "    <tr>\n",
       "      <th>10</th>\n",
       "      <td>S7</td>\n",
       "      <td>91</td>\n",
       "      <td>37</td>\n",
       "      <td>21</td>\n",
       "      <td>82</td>\n",
       "      <td>12</td>\n",
       "      <td>243</td>\n",
       "      <td>309.5</td>\n",
       "    </tr>\n",
       "  </tbody>\n",
       "</table>\n",
       "</div>"
      ],
      "text/plain": [
       "   NAME  General Physics  Classical Mechanics  Calculus  Optics  Statistics  \\\n",
       "1    S3               91                   78        72      85          36   \n",
       "2    S9               99                   91        61      39          57   \n",
       "3    S5               67                   79        77      18          93   \n",
       "4    S8               70                   70        51      61          69   \n",
       "5    S1               99                   64        21      70          67   \n",
       "6    S6               71                   55        56      18          90   \n",
       "7   S10               70                   79        47      34          60   \n",
       "8    S2               41                   82        31      68          58   \n",
       "9    S4               52                   67        33      65          46   \n",
       "10   S7               91                   37        21      82          12   \n",
       "\n",
       "    Total  Weighted Total  \n",
       "1     362           479.5  \n",
       "2     347           457.5  \n",
       "3     334           444.5  \n",
       "4     321           407.0  \n",
       "5     321           391.5  \n",
       "6     290           381.5  \n",
       "7     290           372.0  \n",
       "8     280           331.5  \n",
       "9     263           322.0  \n",
       "10    243           309.5  "
      ]
     },
     "execution_count": 110,
     "metadata": {},
     "output_type": "execute_result"
    }
   ],
   "source": [
    "#重設index，使排序後index為名次\n",
    "df2 = data_csv.sort_values(by=[\"Total\",\"Calculus\"], ascending=False)\n",
    "#df2.reindex(range(100))\n",
    "#df2.reset_index()\n",
    "df2.index = range(1, 11)\n",
    "df2"
   ]
  },
  {
   "cell_type": "markdown",
   "metadata": {},
   "source": [
    "# 繪圖\n",
    "\n",
    "`%pylab inline`(在Jupyter-notebook須加入)\n",
    "\n",
    "pandas 套件將 matplotlib.pyplot 的基礎圖形包裝起來成為一個方法，\n",
    "只要呼叫 df.plot() 就能便利地繪圖，可以選擇的圖形種類只要指定 kind=：\n",
    "\n",
    "- ‘line’ : 線圖（預設）\n",
    "- ‘bar’ : 垂直長條圖\n",
    "- ‘barh’ : 水平長條圖\n",
    "- ‘hist’ : 直方圖\n",
    "- ‘box’ : 盒鬚圖\n",
    "- ‘scatter’ : 散佈圖\n",
    "- ‘hexbin’ : hexbin plot"
   ]
  },
  {
   "cell_type": "code",
   "execution_count": 111,
   "metadata": {},
   "outputs": [
    {
     "name": "stdout",
     "output_type": "stream",
     "text": [
      "Populating the interactive namespace from numpy and matplotlib\n"
     ]
    },
    {
     "data": {
      "text/plain": [
       "<matplotlib.axes._subplots.AxesSubplot at 0x2017076e588>"
      ]
     },
     "execution_count": 111,
     "metadata": {},
     "output_type": "execute_result"
    },
    {
     "data": {
      "image/png": "[encoded data removed]",
      "text/plain": [
       "<Figure size 432x288 with 1 Axes>"
      ]
     },
     "metadata": {
      "needs_background": "light"
     },
     "output_type": "display_data"
    }
   ],
   "source": [
    "%pylab inline\n",
    "\n",
    "import pandas as pd\n",
    "\n",
    "#讀取csv檔\n",
    "data_csv = pd.read_csv('filename_csv.csv')  \n",
    "\n",
    "#data_csv[\"Calculus\"].plot()\n",
    "data_csv.Calculus.plot()"
   ]
  },
  {
   "cell_type": "code",
   "execution_count": 112,
   "metadata": {
    "scrolled": false
   },
   "outputs": [
    {
     "name": "stdout",
     "output_type": "stream",
     "text": [
      "Populating the interactive namespace from numpy and matplotlib\n",
      "                   A         B         C         D\n",
      "2000-01-01  0.276040 -0.886733 -0.681489  1.721328\n",
      "2000-01-02 -1.402964  0.364581 -0.173749 -1.384289\n",
      "2000-01-03 -1.377819 -1.220094  0.245841 -0.674565\n",
      "2000-01-04  0.051794 -0.095940  0.198857 -1.531114\n",
      "2000-01-05  0.704325  1.192070  0.213065 -0.136070\n",
      "...              ...       ...       ...       ...\n",
      "2002-09-22  0.327088 -0.669000  1.451883 -2.053700\n",
      "2002-09-23 -1.617210  0.858925  0.025533  0.217185\n",
      "2002-09-24 -0.521940 -0.118914  1.860310  1.233114\n",
      "2002-09-25 -0.284001  0.177430 -1.624534 -0.762703\n",
      "2002-09-26 -0.058454 -0.291583  0.302798  1.392105\n",
      "\n",
      "[1000 rows x 4 columns]\n"
     ]
    },
    {
     "data": {
      "text/plain": [
       "<matplotlib.axes._subplots.AxesSubplot at 0x201707b9dd8>"
      ]
     },
     "execution_count": 112,
     "metadata": {},
     "output_type": "execute_result"
    },
    {
     "data": {
      "image/png": "[encoded data removed]",
      "text/plain": [
       "<Figure size 432x288 with 1 Axes>"
      ]
     },
     "metadata": {
      "needs_background": "light"
     },
     "output_type": "display_data"
    }
   ],
   "source": [
    "%pylab inline\n",
    "\n",
    "import pandas as pd\n",
    "import numpy as np\n",
    "\n",
    "da_index = pd.date_range(\"1/1/2000\", periods=1000)\n",
    "df = pd.DataFrame(np.random.randn(1000, 4), index=da_index, columns=list(\"ABCD\"))\n",
    "\n",
    "print(df)\n",
    "df = df.cumsum() #累計數值\n",
    "\n",
    "df.plot()"
   ]
  },
  {
   "cell_type": "code",
   "execution_count": 113,
   "metadata": {
    "scrolled": false
   },
   "outputs": [
    {
     "name": "stdout",
     "output_type": "stream",
     "text": [
      "Populating the interactive namespace from numpy and matplotlib\n"
     ]
    },
    {
     "data": {
      "text/plain": [
       "<matplotlib.axes._subplots.AxesSubplot at 0x201708b3748>"
      ]
     },
     "execution_count": 113,
     "metadata": {},
     "output_type": "execute_result"
    },
    {
     "data": {
      "image/png": "[encoded data removed]",
      "text/plain": [
       "<Figure size 432x288 with 1 Axes>"
      ]
     },
     "metadata": {
      "needs_background": "light"
     },
     "output_type": "display_data"
    }
   ],
   "source": [
    "%pylab inline\n",
    "\n",
    "import pandas as pd\n",
    "import numpy as np\n",
    "\n",
    "\n",
    "df3 = pd.DataFrame(np.random.randn(1000, 2), columns=[\"B\", \"C\"]).cumsum()\n",
    "\n",
    "df3[\"A\"] = pd.Series(list(range(len(df))))\n",
    "\n",
    "df3.plot(x=\"A\", y=\"B\")\n",
    "#By default, pandas will pick up index name as xlabel, while leaving it empty for ylabel."
   ]
  },
  {
   "cell_type": "markdown",
   "metadata": {},
   "source": [
    "### log-scale"
   ]
  },
  {
   "cell_type": "code",
   "execution_count": 114,
   "metadata": {},
   "outputs": [
    {
     "name": "stdout",
     "output_type": "stream",
     "text": [
      "Populating the interactive namespace from numpy and matplotlib\n"
     ]
    },
    {
     "data": {
      "text/plain": [
       "<matplotlib.axes._subplots.AxesSubplot at 0x20170918710>"
      ]
     },
     "execution_count": 114,
     "metadata": {},
     "output_type": "execute_result"
    },
    {
     "data": {
      "image/png": "[encoded data removed]",
      "text/plain": [
       "<Figure size 432x288 with 1 Axes>"
      ]
     },
     "metadata": {
      "needs_background": "light"
     },
     "output_type": "display_data"
    }
   ],
   "source": [
    "%pylab inline\n",
    "\n",
    "import pandas as pd\n",
    "import numpy as np\n",
    "\n",
    "ts = pd.Series(np.random.randn(1000), index=pd.date_range(\"1/1/2000\", periods=1000))\n",
    "\n",
    "ts = np.exp(ts.cumsum())\n",
    "\n",
    "ts.plot(logy=True)"
   ]
  },
  {
   "cell_type": "markdown",
   "metadata": {},
   "source": [
    "### secondary y-axis"
   ]
  },
  {
   "cell_type": "code",
   "execution_count": 115,
   "metadata": {},
   "outputs": [
    {
     "name": "stdout",
     "output_type": "stream",
     "text": [
      "Populating the interactive namespace from numpy and matplotlib\n"
     ]
    },
    {
     "data": {
      "text/plain": [
       "<matplotlib.axes._subplots.AxesSubplot at 0x20170a0a400>"
      ]
     },
     "execution_count": 115,
     "metadata": {},
     "output_type": "execute_result"
    },
    {
     "data": {
      "image/png": "[encoded data removed]",
      "text/plain": [
       "<Figure size 432x288 with 2 Axes>"
      ]
     },
     "metadata": {
      "needs_background": "light"
     },
     "output_type": "display_data"
    }
   ],
   "source": [
    "%pylab inline\n",
    "\n",
    "import pandas as pd\n",
    "import numpy as np\n",
    "\n",
    "\n",
    "da_index = pd.date_range(\"1/1/2000\", periods=1000)\n",
    "df = pd.DataFrame(np.random.randn(1000, 4), index=da_index, columns=list(\"ABCD\"))\n",
    "\n",
    "df[\"A\"].plot()\n",
    "\n",
    "df[\"B\"].plot(secondary_y=True, style=\"g\")"
   ]
  },
  {
   "cell_type": "markdown",
   "metadata": {},
   "source": [
    "### subplots"
   ]
  },
  {
   "cell_type": "code",
   "execution_count": 116,
   "metadata": {},
   "outputs": [
    {
     "name": "stdout",
     "output_type": "stream",
     "text": [
      "Populating the interactive namespace from numpy and matplotlib\n"
     ]
    },
    {
     "data": {
      "text/plain": [
       "array([<matplotlib.axes._subplots.AxesSubplot object at 0x0000020170B62CC0>,\n",
       "       <matplotlib.axes._subplots.AxesSubplot object at 0x0000020170B9C780>,\n",
       "       <matplotlib.axes._subplots.AxesSubplot object at 0x0000020170BC8BE0>,\n",
       "       <matplotlib.axes._subplots.AxesSubplot object at 0x0000020170C07080>],\n",
       "      dtype=object)"
      ]
     },
     "execution_count": 116,
     "metadata": {},
     "output_type": "execute_result"
    },
    {
     "data": {
      "image/png": "[encoded data removed]",
      "text/plain": [
       "<Figure size 432x432 with 4 Axes>"
      ]
     },
     "metadata": {
      "needs_background": "light"
     },
     "output_type": "display_data"
    }
   ],
   "source": [
    "%pylab inline\n",
    "\n",
    "import pandas as pd\n",
    "import numpy as np\n",
    "\n",
    "\n",
    "da_index = pd.date_range(\"1/1/2000\", periods=1000)\n",
    "df = pd.DataFrame(np.random.randn(1000, 4), index=da_index, columns=list(\"ABCD\"))\n",
    "\n",
    "df.plot(subplots=True, figsize=(6, 6))"
   ]
  },
  {
   "cell_type": "code",
   "execution_count": 117,
   "metadata": {},
   "outputs": [
    {
     "data": {
      "text/plain": [
       "array([[<matplotlib.axes._subplots.AxesSubplot object at 0x0000020170E285C0>,\n",
       "        <matplotlib.axes._subplots.AxesSubplot object at 0x0000020170E5AA58>,\n",
       "        <matplotlib.axes._subplots.AxesSubplot object at 0x0000020170E8EF60>],\n",
       "       [<matplotlib.axes._subplots.AxesSubplot object at 0x0000020170EC8550>,\n",
       "        <matplotlib.axes._subplots.AxesSubplot object at 0x0000020170EFBB00>,\n",
       "        <matplotlib.axes._subplots.AxesSubplot object at 0x0000020170F3A0F0>]],\n",
       "      dtype=object)"
      ]
     },
     "execution_count": 117,
     "metadata": {},
     "output_type": "execute_result"
    },
    {
     "data": {
      "image/png": "[encoded data removed]",
      "text/plain": [
       "<Figure size 432x432 with 6 Axes>"
      ]
     },
     "metadata": {
      "needs_background": "light"
     },
     "output_type": "display_data"
    }
   ],
   "source": [
    "df.plot(subplots=True, layout=(2, 3), figsize=(6, 6), sharex=False)"
   ]
  },
  {
   "cell_type": "markdown",
   "metadata": {},
   "source": [
    "## 長條圖"
   ]
  },
  {
   "cell_type": "code",
   "execution_count": 118,
   "metadata": {},
   "outputs": [
    {
     "name": "stdout",
     "output_type": "stream",
     "text": [
      "Populating the interactive namespace from numpy and matplotlib\n"
     ]
    },
    {
     "data": {
      "text/plain": [
       "<matplotlib.lines.Line2D at 0x201721410f0>"
      ]
     },
     "execution_count": 118,
     "metadata": {},
     "output_type": "execute_result"
    },
    {
     "data": {
      "image/png": "[encoded data removed]",
      "text/plain": [
       "<Figure size 432x288 with 1 Axes>"
      ]
     },
     "metadata": {
      "needs_background": "light"
     },
     "output_type": "display_data"
    }
   ],
   "source": [
    "%pylab inline\n",
    "import pandas as pd\n",
    "import numpy as np\n",
    "\n",
    "\n",
    "da_index = pd.date_range(\"1/1/2000\", periods=1000)\n",
    "df = pd.DataFrame(np.random.randn(1000, 4), index=da_index, columns=list(\"ABCD\"))\n",
    "\n",
    "df.iloc[5].plot(kind=\"bar\")\n",
    "plt.axhline(0, color=\"k\")"
   ]
  },
  {
   "cell_type": "code",
   "execution_count": 119,
   "metadata": {},
   "outputs": [
    {
     "name": "stdout",
     "output_type": "stream",
     "text": [
      "Populating the interactive namespace from numpy and matplotlib\n"
     ]
    },
    {
     "data": {
      "text/plain": [
       "<matplotlib.axes._subplots.AxesSubplot at 0x20170a8e0b8>"
      ]
     },
     "execution_count": 119,
     "metadata": {},
     "output_type": "execute_result"
    },
    {
     "data": {
      "image/png": "[encoded data removed]",
      "text/plain": [
       "<Figure size 432x288 with 1 Axes>"
      ]
     },
     "metadata": {
      "needs_background": "light"
     },
     "output_type": "display_data"
    }
   ],
   "source": [
    "%pylab inline\n",
    "import pandas as pd\n",
    "import numpy as np\n",
    "\n",
    "df2 = pd.DataFrame(np.random.rand(10, 4), columns=[\"a\", \"b\", \"c\", \"d\"])\n",
    "\n",
    "df2.plot.bar()"
   ]
  },
  {
   "cell_type": "code",
   "execution_count": 120,
   "metadata": {},
   "outputs": [
    {
     "data": {
      "text/plain": [
       "<matplotlib.axes._subplots.AxesSubplot at 0x20172223b38>"
      ]
     },
     "execution_count": 120,
     "metadata": {},
     "output_type": "execute_result"
    },
    {
     "data": {
      "image/png": "[encoded data removed]",
      "text/plain": [
       "<Figure size 432x288 with 1 Axes>"
      ]
     },
     "metadata": {
      "needs_background": "light"
     },
     "output_type": "display_data"
    }
   ],
   "source": [
    "df2.plot.bar(stacked=True) #推疊"
   ]
  },
  {
   "cell_type": "code",
   "execution_count": 121,
   "metadata": {},
   "outputs": [
    {
     "data": {
      "text/plain": [
       "<matplotlib.axes._subplots.AxesSubplot at 0x201723001d0>"
      ]
     },
     "execution_count": 121,
     "metadata": {},
     "output_type": "execute_result"
    },
    {
     "data": {
      "image/png": "[encoded data removed]",
      "text/plain": [
       "<Figure size 432x288 with 1 Axes>"
      ]
     },
     "metadata": {
      "needs_background": "light"
     },
     "output_type": "display_data"
    }
   ],
   "source": [
    "df2.plot.barh(stacked=True) #水平長條圖"
   ]
  },
  {
   "cell_type": "markdown",
   "metadata": {},
   "source": [
    "### Error bars"
   ]
  },
  {
   "cell_type": "code",
   "execution_count": 122,
   "metadata": {},
   "outputs": [
    {
     "name": "stdout",
     "output_type": "stream",
     "text": [
      "Populating the interactive namespace from numpy and matplotlib\n",
      "             data1  data2\n",
      "letter word              \n",
      "a      bar     3.5    6.0\n",
      "       foo     2.5    5.5\n",
      "b      bar     2.5    5.5\n",
      "       foo     3.0    4.5\n",
      "                data1     data2\n",
      "letter word                    \n",
      "a      bar   0.707107  1.414214\n",
      "       foo   0.707107  0.707107\n",
      "b      bar   0.707107  0.707107\n",
      "       foo   1.414214  0.707107\n"
     ]
    },
    {
     "data": {
      "text/plain": [
       "<matplotlib.axes._subplots.AxesSubplot at 0x201723fd8d0>"
      ]
     },
     "execution_count": 122,
     "metadata": {},
     "output_type": "execute_result"
    },
    {
     "data": {
      "image/png": "[encoded data removed]",
      "text/plain": [
       "<Figure size 432x288 with 1 Axes>"
      ]
     },
     "metadata": {
      "needs_background": "light"
     },
     "output_type": "display_data"
    }
   ],
   "source": [
    "%pylab inline\n",
    "import pandas as pd\n",
    "import numpy as np\n",
    "\n",
    "# Generate the data\n",
    "ix3 = pd.MultiIndex.from_arrays([\n",
    "[\"a\", \"a\", \"a\", \"a\", \"b\", \"b\", \"b\", \"b\"],\n",
    "[\"foo\", \"foo\", \"bar\", \"bar\", \"foo\", \"foo\", \"bar\", \"bar\"],\n",
    " ],\n",
    " names=[\"letter\", \"word\"],\n",
    ")\n",
    "\n",
    "\n",
    "df3 = pd.DataFrame(\n",
    "{\n",
    " \"data1\": [3, 2, 4, 3, 2, 4, 3, 2],\n",
    " \"data2\": [6, 5, 7, 5, 4, 5, 6, 5],\n",
    "},\n",
    " index=ix3,\n",
    ")\n",
    "\n",
    "\n",
    "# Group by index labels and take the means and standard deviations\n",
    "# for each group\n",
    "gp3 = df3.groupby(level=(\"letter\", \"word\"))\n",
    "\n",
    "means = gp3.mean()\n",
    "errors = gp3.std()\n",
    "\n",
    "print(means)\n",
    "print(errors)\n",
    "\n",
    "\n",
    "# Plot\n",
    "fig, ax = plt.subplots()\n",
    "\n",
    "means.plot.bar(yerr=errors, ax=ax, capsize=4, rot=0)"
   ]
  },
  {
   "cell_type": "markdown",
   "metadata": {},
   "source": [
    "## 直方圖"
   ]
  },
  {
   "cell_type": "code",
   "execution_count": 123,
   "metadata": {},
   "outputs": [
    {
     "name": "stdout",
     "output_type": "stream",
     "text": [
      "Populating the interactive namespace from numpy and matplotlib\n"
     ]
    },
    {
     "data": {
      "text/plain": [
       "<matplotlib.axes._subplots.AxesSubplot at 0x2017245e4e0>"
      ]
     },
     "execution_count": 123,
     "metadata": {},
     "output_type": "execute_result"
    },
    {
     "data": {
      "image/png": "[encoded data removed]",
      "text/plain": [
       "<Figure size 432x288 with 1 Axes>"
      ]
     },
     "metadata": {
      "needs_background": "light"
     },
     "output_type": "display_data"
    }
   ],
   "source": [
    "%pylab inline\n",
    "import pandas as pd\n",
    "import numpy as np\n",
    "\n",
    "data_csv = pd.read_csv('filename_csv.csv')  \n",
    "data_csv.Calculus.plot(kind='hist')"
   ]
  },
  {
   "cell_type": "code",
   "execution_count": 124,
   "metadata": {},
   "outputs": [
    {
     "name": "stdout",
     "output_type": "stream",
     "text": [
      "Populating the interactive namespace from numpy and matplotlib\n"
     ]
    },
    {
     "data": {
      "text/plain": [
       "<matplotlib.axes._subplots.AxesSubplot at 0x201724aeb38>"
      ]
     },
     "execution_count": 124,
     "metadata": {},
     "output_type": "execute_result"
    },
    {
     "data": {
      "image/png": "[encoded data removed]",
      "text/plain": [
       "<Figure size 432x288 with 1 Axes>"
      ]
     },
     "metadata": {
      "needs_background": "light"
     },
     "output_type": "display_data"
    }
   ],
   "source": [
    "%pylab inline\n",
    "import pandas as pd\n",
    "import numpy as np\n",
    "\n",
    "\n",
    "df4 = pd.DataFrame({\n",
    "          \"a\": np.random.randn(1000) + 1,\n",
    "          \"b\": np.random.randn(1000),\n",
    "          \"c\": np.random.randn(1000) - 1,\n",
    "                    },\n",
    "          columns=[\"a\", \"b\", \"c\"],\n",
    "                     )\n",
    " \n",
    "df4.plot.hist(alpha=0.5)"
   ]
  },
  {
   "cell_type": "code",
   "execution_count": 125,
   "metadata": {},
   "outputs": [
    {
     "data": {
      "text/plain": [
       "<matplotlib.axes._subplots.AxesSubplot at 0x201725ace10>"
      ]
     },
     "execution_count": 125,
     "metadata": {},
     "output_type": "execute_result"
    },
    {
     "data": {
      "image/png": "[encoded data removed]",
      "text/plain": [
       "<Figure size 432x288 with 1 Axes>"
      ]
     },
     "metadata": {
      "needs_background": "light"
     },
     "output_type": "display_data"
    }
   ],
   "source": [
    "df4.plot.hist(stacked=True, bins=20)   #推疊"
   ]
  },
  {
   "cell_type": "code",
   "execution_count": 126,
   "metadata": {},
   "outputs": [
    {
     "data": {
      "text/plain": [
       "array([[<matplotlib.axes._subplots.AxesSubplot object at 0x000002017259AC50>,\n",
       "        <matplotlib.axes._subplots.AxesSubplot object at 0x00000201726DDBA8>],\n",
       "       [<matplotlib.axes._subplots.AxesSubplot object at 0x000002017271D198>,\n",
       "        <matplotlib.axes._subplots.AxesSubplot object at 0x000002017274B748>]],\n",
       "      dtype=object)"
      ]
     },
     "execution_count": 126,
     "metadata": {},
     "output_type": "execute_result"
    },
    {
     "data": {
      "image/png": "[encoded data removed]",
      "text/plain": [
       "<Figure size 432x288 with 4 Axes>"
      ]
     },
     "metadata": {
      "needs_background": "light"
     },
     "output_type": "display_data"
    }
   ],
   "source": [
    "#plots the histograms of the columns on multiple subplots\n",
    "df4.diff().hist(color=\"k\", alpha=0.5, bins=50) "
   ]
  },
  {
   "cell_type": "markdown",
   "metadata": {},
   "source": [
    "## 盒鬚圖"
   ]
  },
  {
   "cell_type": "code",
   "execution_count": 127,
   "metadata": {},
   "outputs": [
    {
     "name": "stdout",
     "output_type": "stream",
     "text": [
      "Populating the interactive namespace from numpy and matplotlib\n"
     ]
    },
    {
     "data": {
      "text/plain": [
       "<matplotlib.axes._subplots.AxesSubplot at 0x20172995fd0>"
      ]
     },
     "execution_count": 127,
     "metadata": {},
     "output_type": "execute_result"
    },
    {
     "data": {
      "image/png": "[encoded data removed]",
      "text/plain": [
       "<Figure size 432x288 with 1 Axes>"
      ]
     },
     "metadata": {
      "needs_background": "light"
     },
     "output_type": "display_data"
    }
   ],
   "source": [
    "%pylab inline\n",
    "import pandas as pd\n",
    "import numpy as np\n",
    "\n",
    "\n",
    "df = pd.DataFrame(np.random.rand(10, 5), columns=[\"A\", \"B\", \"C\", \"D\", \"E\"])\n",
    "\n",
    "df.plot.box()"
   ]
  },
  {
   "cell_type": "code",
   "execution_count": 128,
   "metadata": {},
   "outputs": [
    {
     "data": {
      "image/png": "[encoded data removed]",
      "text/plain": [
       "<Figure size 432x288 with 1 Axes>"
      ]
     },
     "metadata": {
      "needs_background": "light"
     },
     "output_type": "display_data"
    }
   ],
   "source": [
    "#更改顏色\n",
    "\n",
    "color = {\n",
    "\"boxes\": \"DarkGreen\",\n",
    "\"whiskers\": \"DarkOrange\",\n",
    "\"medians\": \"DarkBlue\",\n",
    "\"caps\": \"Gray\",\n",
    "}\n",
    "\n",
    "df.plot.box(color=color, sym=\"r+\");"
   ]
  },
  {
   "cell_type": "code",
   "execution_count": 129,
   "metadata": {},
   "outputs": [
    {
     "data": {
      "text/plain": [
       "<matplotlib.axes._subplots.AxesSubplot at 0x20172ae7588>"
      ]
     },
     "execution_count": 129,
     "metadata": {},
     "output_type": "execute_result"
    },
    {
     "data": {
      "image/png": "[encoded data removed]",
      "text/plain": [
       "<Figure size 432x288 with 1 Axes>"
      ]
     },
     "metadata": {
      "needs_background": "light"
     },
     "output_type": "display_data"
    }
   ],
   "source": [
    "#水平繪製\n",
    "df.plot.box(vert=False, positions=[1, 4, 5, 6, 8])"
   ]
  },
  {
   "cell_type": "markdown",
   "metadata": {},
   "source": [
    "## Area plot"
   ]
  },
  {
   "cell_type": "code",
   "execution_count": 130,
   "metadata": {},
   "outputs": [
    {
     "name": "stdout",
     "output_type": "stream",
     "text": [
      "Populating the interactive namespace from numpy and matplotlib\n"
     ]
    },
    {
     "data": {
      "text/plain": [
       "<matplotlib.axes._subplots.AxesSubplot at 0x20172b8a390>"
      ]
     },
     "execution_count": 130,
     "metadata": {},
     "output_type": "execute_result"
    },
    {
     "data": {
      "image/png": "[encoded data removed]",
      "text/plain": [
       "<Figure size 432x288 with 1 Axes>"
      ]
     },
     "metadata": {
      "needs_background": "light"
     },
     "output_type": "display_data"
    }
   ],
   "source": [
    "%pylab inline\n",
    "import pandas as pd\n",
    "import numpy as np\n",
    "\n",
    "df = pd.DataFrame(np.random.rand(10, 4), columns=[\"a\", \"b\", \"c\", \"d\"])\n",
    "\n",
    "df.plot.area() #Area plots are stacked by default"
   ]
  },
  {
   "cell_type": "code",
   "execution_count": 131,
   "metadata": {},
   "outputs": [
    {
     "data": {
      "text/plain": [
       "<matplotlib.axes._subplots.AxesSubplot at 0x20172bf43c8>"
      ]
     },
     "execution_count": 131,
     "metadata": {},
     "output_type": "execute_result"
    },
    {
     "data": {
      "image/png": "[encoded data removed]",
      "text/plain": [
       "<Figure size 432x288 with 1 Axes>"
      ]
     },
     "metadata": {
      "needs_background": "light"
     },
     "output_type": "display_data"
    }
   ],
   "source": [
    "df.plot.area(stacked=False)"
   ]
  },
  {
   "cell_type": "markdown",
   "metadata": {},
   "source": [
    "## Scatter plot"
   ]
  },
  {
   "cell_type": "code",
   "execution_count": 132,
   "metadata": {},
   "outputs": [
    {
     "name": "stdout",
     "output_type": "stream",
     "text": [
      "Populating the interactive namespace from numpy and matplotlib\n"
     ]
    },
    {
     "data": {
      "text/plain": [
       "<matplotlib.axes._subplots.AxesSubplot at 0x20172cb20f0>"
      ]
     },
     "execution_count": 132,
     "metadata": {},
     "output_type": "execute_result"
    },
    {
     "data": {
      "image/png": "[encoded data removed]",
      "text/plain": [
       "<Figure size 432x288 with 1 Axes>"
      ]
     },
     "metadata": {
      "needs_background": "light"
     },
     "output_type": "display_data"
    }
   ],
   "source": [
    "%pylab inline\n",
    "import pandas as pd\n",
    "import numpy as np\n",
    "\n",
    "df = pd.DataFrame(np.random.rand(50, 4), columns=[\"a\", \"b\", \"c\", \"d\"])\n",
    "\n",
    "df.plot.scatter(x=\"a\", y=\"b\")"
   ]
  },
  {
   "cell_type": "code",
   "execution_count": 133,
   "metadata": {},
   "outputs": [
    {
     "data": {
      "text/plain": [
       "<matplotlib.axes._subplots.AxesSubplot at 0x20172d1f4e0>"
      ]
     },
     "execution_count": 133,
     "metadata": {},
     "output_type": "execute_result"
    },
    {
     "data": {
      "image/png": "[encoded data removed]",
      "text/plain": [
       "<Figure size 432x288 with 1 Axes>"
      ]
     },
     "metadata": {
      "needs_background": "light"
     },
     "output_type": "display_data"
    }
   ],
   "source": [
    "ax = df.plot.scatter(x=\"a\", y=\"b\", color=\"DarkBlue\", label=\"Group 1\")\n",
    "\n",
    "df.plot.scatter(x=\"c\", y=\"d\", color=\"DarkGreen\", label=\"Group 2\", ax=ax)"
   ]
  },
  {
   "cell_type": "code",
   "execution_count": 134,
   "metadata": {},
   "outputs": [
    {
     "data": {
      "text/plain": [
       "<matplotlib.axes._subplots.AxesSubplot at 0x20172d86d68>"
      ]
     },
     "execution_count": 134,
     "metadata": {},
     "output_type": "execute_result"
    },
    {
     "data": {
      "image/png": "[encoded data removed]",
      "text/plain": [
       "<Figure size 432x288 with 2 Axes>"
      ]
     },
     "metadata": {
      "needs_background": "light"
     },
     "output_type": "display_data"
    }
   ],
   "source": [
    "df.plot.scatter(x=\"a\", y=\"b\", c=\"c\", s=50)"
   ]
  },
  {
   "cell_type": "code",
   "execution_count": 135,
   "metadata": {},
   "outputs": [
    {
     "data": {
      "text/plain": [
       "<matplotlib.axes._subplots.AxesSubplot at 0x20172e2f128>"
      ]
     },
     "execution_count": 135,
     "metadata": {},
     "output_type": "execute_result"
    },
    {
     "data": {
      "image/png": "[encoded data removed]",
      "text/plain": [
       "<Figure size 432x288 with 1 Axes>"
      ]
     },
     "metadata": {
      "needs_background": "light"
     },
     "output_type": "display_data"
    }
   ],
   "source": [
    "df.plot.scatter(x=\"a\", y=\"b\", s=df[\"c\"] * 200)"
   ]
  },
  {
   "cell_type": "markdown",
   "metadata": {},
   "source": [
    "## Hexagonal bin plot"
   ]
  },
  {
   "cell_type": "code",
   "execution_count": 136,
   "metadata": {},
   "outputs": [
    {
     "name": "stdout",
     "output_type": "stream",
     "text": [
      "Populating the interactive namespace from numpy and matplotlib\n"
     ]
    },
    {
     "data": {
      "text/plain": [
       "<matplotlib.axes._subplots.AxesSubplot at 0x20172e08828>"
      ]
     },
     "execution_count": 136,
     "metadata": {},
     "output_type": "execute_result"
    },
    {
     "data": {
      "image/png": "[encoded data removed]",
      "text/plain": [
       "<Figure size 432x288 with 2 Axes>"
      ]
     },
     "metadata": {
      "needs_background": "light"
     },
     "output_type": "display_data"
    }
   ],
   "source": [
    "%pylab inline\n",
    "import pandas as pd\n",
    "import numpy as np\n",
    "\n",
    "df = pd.DataFrame(np.random.randn(1000, 2), columns=[\"a\", \"b\"])\n",
    "\n",
    "df[\"b\"] = df[\"b\"] + np.arange(1000)\n",
    "\n",
    "df.plot.hexbin(x=\"a\", y=\"b\", gridsize=25)"
   ]
  },
  {
   "cell_type": "code",
   "execution_count": 137,
   "metadata": {},
   "outputs": [
    {
     "name": "stdout",
     "output_type": "stream",
     "text": [
      "Populating the interactive namespace from numpy and matplotlib\n"
     ]
    },
    {
     "data": {
      "image/png": "[encoded data removed]",
      "text/plain": [
       "<Figure size 432x288 with 2 Axes>"
      ]
     },
     "metadata": {
      "needs_background": "light"
     },
     "output_type": "display_data"
    }
   ],
   "source": [
    "%pylab inline\n",
    "import pandas as pd\n",
    "import numpy as np\n",
    "\n",
    "df = pd.DataFrame(np.random.randn(1000, 2), columns=[\"a\", \"b\"])\n",
    "\n",
    "df[\"b\"] = df[\"b\"] = df[\"b\"] + np.arange(1000)\n",
    "\n",
    "df[\"z\"] = np.random.uniform(0, 3, 1000)\n",
    "\n",
    "df.plot.hexbin(x=\"a\", y=\"b\", C=\"z\", reduce_C_function=np.max, gridsize=25);"
   ]
  },
  {
   "cell_type": "markdown",
   "metadata": {},
   "source": [
    "## Pie plot"
   ]
  },
  {
   "cell_type": "code",
   "execution_count": 138,
   "metadata": {},
   "outputs": [
    {
     "name": "stdout",
     "output_type": "stream",
     "text": [
      "Populating the interactive namespace from numpy and matplotlib\n"
     ]
    },
    {
     "data": {
      "text/plain": [
       "<matplotlib.axes._subplots.AxesSubplot at 0x20172f53710>"
      ]
     },
     "execution_count": 138,
     "metadata": {},
     "output_type": "execute_result"
    },
    {
     "data": {
      "image/png": "[encoded data removed]",
      "text/plain": [
       "<Figure size 432x432 with 1 Axes>"
      ]
     },
     "metadata": {},
     "output_type": "display_data"
    }
   ],
   "source": [
    "%pylab inline\n",
    "import pandas as pd\n",
    "import numpy as np\n",
    "\n",
    "series = pd.Series(3 * np.random.rand(4), index=[\"a\", \"b\", \"c\", \"d\"], name=\"series\")\n",
    "\n",
    "series.plot.pie(figsize=(6, 6))"
   ]
  },
  {
   "cell_type": "code",
   "execution_count": 139,
   "metadata": {},
   "outputs": [
    {
     "data": {
      "image/png": "[encoded data removed]",
      "text/plain": [
       "<Figure size 576x288 with 2 Axes>"
      ]
     },
     "metadata": {},
     "output_type": "display_data"
    }
   ],
   "source": [
    "df = pd.DataFrame(\n",
    "                    3 * np.random.rand(4, 2), index=[\"a\", \"b\", \"c\", \"d\"], columns=[\"x\", \"y\"]\n",
    "                )\n",
    "\n",
    "\n",
    "df.plot.pie(subplots=True, figsize=(8, 4));"
   ]
  },
  {
   "cell_type": "code",
   "execution_count": 140,
   "metadata": {},
   "outputs": [
    {
     "data": {
      "text/plain": [
       "<matplotlib.axes._subplots.AxesSubplot at 0x20173ff25f8>"
      ]
     },
     "execution_count": 140,
     "metadata": {},
     "output_type": "execute_result"
    },
    {
     "data": {
      "image/png": "[encoded data removed]",
      "text/plain": [
       "<Figure size 432x432 with 1 Axes>"
      ]
     },
     "metadata": {},
     "output_type": "display_data"
    }
   ],
   "source": [
    "series.plot.pie(\n",
    "                labels=[\"AA\", \"BB\", \"CC\", \"DD\"],\n",
    "                colors=[\"r\", \"g\", \"b\", \"c\"],\n",
    "                autopct=\"%.2f\",\n",
    "                fontsize=20,\n",
    "                figsize=(6, 6),\n",
    "                 )"
   ]
  },
  {
   "cell_type": "markdown",
   "metadata": {},
   "source": [
    "## Density plot"
   ]
  },
  {
   "cell_type": "code",
   "execution_count": 141,
   "metadata": {},
   "outputs": [
    {
     "name": "stdout",
     "output_type": "stream",
     "text": [
      "Populating the interactive namespace from numpy and matplotlib\n"
     ]
    },
    {
     "data": {
      "text/plain": [
       "<matplotlib.axes._subplots.AxesSubplot at 0x20174042278>"
      ]
     },
     "execution_count": 141,
     "metadata": {},
     "output_type": "execute_result"
    },
    {
     "data": {
      "image/png": "[encoded data removed]",
      "text/plain": [
       "<Figure size 432x288 with 1 Axes>"
      ]
     },
     "metadata": {
      "needs_background": "light"
     },
     "output_type": "display_data"
    }
   ],
   "source": [
    "%pylab inline\n",
    "import pandas as pd\n",
    "import numpy as np\n",
    "\n",
    "ser = pd.Series(np.random.randn(1000))\n",
    "\n",
    "ser.plot.kde()"
   ]
  },
  {
   "cell_type": "code",
   "execution_count": null,
   "metadata": {},
   "outputs": [],
   "source": []
  }
 ],
 "metadata": {
  "kernel_info": {
   "name": "python3"
  },
  "kernelspec": {
   "display_name": "Python 3",
   "language": "python",
   "name": "python3"
  },
  "language_info": {
   "codemirror_mode": {
    "name": "ipython",
    "version": 3
   },
   "file_extension": ".py",
   "mimetype": "text/x-python",
   "name": "python",
   "nbconvert_exporter": "python",
   "pygments_lexer": "ipython3",
   "version": "3.6.9"
  },
  "nteract": {
   "version": "0.12.2"
  }
 },
 "nbformat": 4,
 "nbformat_minor": 2
}
