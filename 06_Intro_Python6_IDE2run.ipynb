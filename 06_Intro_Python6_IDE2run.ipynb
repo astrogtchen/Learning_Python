{
 "cells": [
  {
   "cell_type": "markdown",
   "metadata": {
    "slideshow": {
     "slide_type": "slide"
    }
   },
   "source": [
    "# Introduction to Python \n",
    "\n",
    "part 6\n",
    "\n",
    "## 文字編輯器與執行"
   ]
  },
  {
   "cell_type": "markdown",
   "metadata": {
    "slideshow": {
     "slide_type": "slide"
    }
   },
   "source": [
    "# 各種IDE設定\n",
    "- 動畫(animation，Vpython)與需要較大計算量的程式，建議用編輯器後在獨立執行"
   ]
  },
  {
   "cell_type": "markdown",
   "metadata": {
    "slideshow": {
     "slide_type": "slide"
    }
   },
   "source": [
    "# 編輯器\n",
    "- [Visual Studio Code](https://code.visualstudio.com/)，  https://code.visualstudio.com/\n",
    "- [Spyder](https://pythonhosted.org/spyder/) ，　(Anaconda內建)\n",
    "- [IDLE](https://docs.python.org/3/library/idle.html) ，   (Python GUI)\n",
    "- [Sublime Text 3](https://www.sublimetext.com/3)， https://www.sublimetext.com/3\n",
    "- [Notepad++](https://notepad-plus-plus.org/zh/)，  https://notepad-plus-plus.org/zh/\n",
    "- [Atom](https://atom.io/)，   https://atom.io/\n",
    "- [Vim](http://www.vim.org/)，  http://www.vim.org/\n",
    "- [PyCharm](https://www.jetbrains.com/pycharm/)，https://www.jetbrains.com/pycharm/"
   ]
  },
  {
   "cell_type": "markdown",
   "metadata": {
    "slideshow": {
     "slide_type": "slide"
    }
   },
   "source": [
    "## Visual Studio Code\n",
    "\n",
    "### 在工作資料夾下需要兩個檔案\n",
    "\n",
    "__task.json__\n",
    "\n",
    "{\n",
    "\n",
    "    // See https://go.microsoft.com/fwlink/?LinkId=733558    \n",
    "    // for the documentation about the tasks.json format\n",
    "    \"version\": \"0.1.0\",\n",
    "    \"command\": \"python\",\n",
    "    \"isShellCommand\": true,\n",
    "    \"args\": [\"${file}\"],\n",
    "    \"showOutput\": \"always\"\n",
    "}\n",
    "\n",
    "\n",
    "**settings.json**\n",
    "\n",
    "{\n",
    "\n",
    "    //\"python.pythonPath\": \"/Users/<user-name>/anaconda3/bin/python\"    for Mac\n",
    "    //\"python.pythonPath\": \"/home/<user-name>/anaconda3/bin/python\"    for Linux\n",
    "    \"python.pythonPath\": \"C:\\\\Users\\\\<user-name>\\\\Anaconda3\\\\python.exe\" for Wondows\n",
    "    \n",
    "}\n",
    "\n",
    "\n",
    "\n",
    "### 執行方式\n",
    "\n",
    "在上方工具列裡的「`工作`」，選擇「`執行建置工作`」\n",
    "\n",
    "ps:JSON = JaveScript Object Notation"
   ]
  },
  {
   "cell_type": "markdown",
   "metadata": {
    "slideshow": {
     "slide_type": "slide"
    }
   },
   "source": [
    "# 使用 Notepad++ ( Windows Only )\n",
    "\n",
    "### 執行\n",
    "開啟 Notepad++ → 在選單點選「執行(Run)」 → 「執行(Run)」\n",
    "\n",
    "在彈出的對話框中輸入  \n",
    "\n",
    "C:\\Users\\ `<your-username>` \\Anaconda3\\python.exe -i \"$(FULL_CURRENT_PATH)\" \n",
    "    \n",
    "然後可以選擇直接 「執行(Run)」 或 「儲存(Save)」。\n",
    "\n",
    "如果選擇儲存，可以設定快捷鍵，供以後快速重用。 假定名稱為`run_Python`，快捷鍵設定為`Ctrl + F5`。\n",
    "\n",
    "注意:\n",
    "1. script 的第一部份為 Python 直譯器的所在位置，需按直譯器的所在位置而作出修改。\n",
    "2. script 的最後部份為 程式碼檔案 的儲存位置。\n",
    "3. 以上的 script 會在執行完成後立即關閉，如想保留直譯器在執行完成的狀態，可以在 .exe 後加上選項 \" -i\"，直譯器就會保留在執行完成後的狀態。\n",
    "\n",
    "#### 編寫時要注意tab的空格數（因為預設與python的4個空白不同）\n",
    "\n",
    "解決方法：\n",
    "1. 自行用空白字元輸入縮排，不要使用tab\n",
    "2. 參考https://dotblogs.com.tw/city7/2013/06/17/105570\n",
    "   針對python文件，將tab設定為4個空白字元：\n",
    "   \n",
    "   「設定」、「使用者自訂」  \n",
    "  ![np1](./images/notepad_01.png)\n",
    "  \n",
    "  如下圖，最左方選擇「程式語言」，右方「跳格設定」選擇python，**取消**「使用預設值」，\n",
    "  跳格大小為4，勾選「以空格取代」\n",
    "  \n",
    "  ![np2](./images/notepad_02.png)\n",
    "  \n",
    "  最左方選擇「其他」，勾選「自動縮排」\n",
    "  \n",
    "  ![np3](./images/notepad_03.png)"
   ]
  },
  {
   "cell_type": "markdown",
   "metadata": {
    "slideshow": {
     "slide_type": "slide"
    }
   },
   "source": [
    "##  Spyder\n",
    "\n",
    "按下上方的綠色箭頭即可執行\n",
    "執行中，按下右下方紅色方格可停止\n",
    "\n",
    "<img src=\"./images/Spyder.png\" width=600, height=500>\n",
    "\n",
    "Spyder 目前仍無法執行vpython套件"
   ]
  },
  {
   "cell_type": "markdown",
   "metadata": {
    "slideshow": {
     "slide_type": "slide"
    }
   },
   "source": [
    "## IDLE\n",
    "\n",
    "WIN:在Anaconda Prompt 的命令列中輸入`idle`\n",
    "\n",
    "(Linux & Mac: 在終端機界面輸入`idle3`)\n",
    "\n",
    "即可開啟\n",
    "\n",
    "執行方式，如下圖所示\n",
    "\n",
    "![idle1](./images/idle1.png)\n",
    "![idle2](./images/idle2.png)\n",
    "![idle3](./images/idle3.png)\n",
    "![idle4](./images/idle4.png)\n"
   ]
  },
  {
   "cell_type": "markdown",
   "metadata": {
    "slideshow": {
     "slide_type": "slide"
    }
   },
   "source": [
    "# Sublime Text 3\n",
    "\n",
    "\n",
    "Sublime Text 是一套跨平台的文字編輯器，可透過套件（Package）擴充本身的功能。大多數的套件使用自由軟體授權釋出，並由社群建置維護。相較於其他編輯程式，Sublime Text累積了大量的輔助套件。         \n",
    "\n",
    "- 下載相對應版本後，直接安裝。\n",
    "- 安裝完後，要再安裝 Package control 套件， 選 「Tools」 下的 「Install Package Control」\n",
    "  在「Preferences」可以看到「Package Control」已經裝好了\n",
    "\n",
    "![sublime2](./images/sublime_02.png)\n",
    "\n",
    "- 點選「Package Control」，或是「工具Tools」->「指令面板Command Palette」，\n",
    "\n",
    "  接著輸入 `Package Control: install Package` 安裝其他套件。\n",
    "  \n",
    "![sublime3](./images/sublime_03.png)\n",
    "\n",
    "\n",
    "- 安裝 `ConvertToUTF8`:\n",
    "\n",
    "  設定 ConvertToUTF8， 點選「Preferences」->「Package Settings」 ->「ConvertToUTF8」->「Setting - Default」\n",
    "![sublime4](./images/sublime_04.png)\n",
    "  把BIG5放置到GBK前即可\n",
    "![sublime5](./images/sublime_05.png)\n",
    "\n",
    "- 安裝`ChineseLocalizations`:\n",
    "  \n",
    "  將介面轉為中文。安裝完後，由「說明」->「Language」->「Traditional Chinese正體中文」。\n",
    "![sublime9](./images/sublime_09.png)  \n",
    " \n",
    "\n",
    "- 安裝 `Anaconda`\n",
    "  \n",
    "  是個輔助python程式編寫的套件（不是python主程式），提供指令補完等功能。\n",
    "  \n",
    "  - 裝完套件後，指定路徑：\n",
    "  \n",
    "    「設定Preferences」->「Package Settings」-> 「Anaconda」->「Settings-Default」\n",
    "  \n",
    "     找到 \"python_interpreter\": \"python\"\n",
    "  \n",
    "     修改為 \"python_interpreter\": \"C:/Users/ (Your-name>) /Anaconda3/python.exe\"\n",
    "  \n",
    "     或是複製到「Settings-User」存檔\n",
    "\n",
    "  - 若語法不符合PEP8 格式，則會出現白色外框\n",
    "  \n",
    "    ![sublime10](./images/sublime_10.png)\n",
    "\n",
    "    解決方式，\n",
    "       - 到「設定Preferences」->「Package Settings」-> 「Anaconda」->「Settings-Default」\n",
    "     \n",
    "         找到\"anaconda_linting\": true\n",
    "       \n",
    "         改為\"anaconda_linting\": false\n",
    "     \n",
    "       - 或是再安裝`Python PEP8 Autoformat`套件，按下`ctrl+shift+r`會自動調整至符合PEP8格式 \n",
    "\n",
    "綜合以上，直接在Anaconda的Settings-User，貼入以下即可\n",
    "\n",
    "{\n",
    "\n",
    "    \"python_interpreter\": \"C:\\Users\\ (Your-name) \\Anaconda3\\python.exe\",\n",
    "    \n",
    "    \"anaconda_linting\": false,\n",
    "    \n",
    "    \"swallow_startup_errors\": true\n",
    "\n",
    "}\n",
    "\n",
    "\n",
    "- 執行python程式\n",
    "  點選「工具Tools」->「編譯系統Build System」->「Python」，設定編譯的程式為Python\n",
    "\n",
    "![sublime6](./images/sublime_06.png)\n",
    "點選 「工具Tools」 -> 「編譯Build」， 即可以在下方看到執行的結果\n",
    "![sublime7](./images/sublime_07.png)\n",
    "![sublime8](./images/sublime_08.png)"
   ]
  },
  {
   "cell_type": "markdown",
   "metadata": {},
   "source": [
    "### 其他參考資訊：\n",
    "\n",
    "#### 以下為基本需要安裝的套件：\n",
    "\n",
    "- ChineseLocalization: 選單中文介面，有日語、簡中、繁中三種語言。\n",
    "- ConvertToUTF8: 編輯或儲存GBK或BIG5編碼的文件，或是互轉編碼為UTF-8。\n",
    "- Codecs33: ConvertToUTF8需要的函式庫。Linux與Mac OS X才需要。\n",
    "\n",
    "#### 前端(Javascript/HTML)工程師會用到的幾個套件：\n",
    "\n",
    "- Emmet: 用簡碼的方式輸入HTML與CSS碼，以前叫Zen Coding。搭配小抄學習會比較快。\n",
    "- jQuery: 針對jQuery程式碼提供較佳的高亮度函式顯示與程式片段。\n",
    "- SublimeCodeIntel: 智慧型語法、函式自動完成的套件，支援多種語言如JavaScript, Python, HTML, Ruby, Python3, XML, HTML5, Perl, CSS,      Node.js, PHP等等。\n",
    "- JsFormat: 格式化Javascript/JSON程式碼的套件。\n",
    "- SublimeLinter: 檢查程式的基礎套件，主要用來檢查程式碼的語法問題，支援多種語言如Javascript, CSS等等。\n",
    "\n",
    "\n",
    "#### 其他推薦的套件：\n",
    "\n",
    "- SideBarEnhancements: 加強側邊列(檔案與資料夾)功能的套件。\n",
    "- BracketHighlighter: 把各種括號符號、標記特別高亮度顯示出來。\n",
    "\n",
    "      「設定Preferences」->「Package settings」->「Brackethighlighter」-> 「Bracket Settings」\n",
    "\n",
    "       找到\"bracket_styles\" 這行，把裡面的\"style\": \"underline\"\n",
    "   \n",
    "       改成\"style\": \"hightlight\"\n",
    "       \n",
    "       underline是底線、outline外框、hightlight高亮度\n",
    "       \n",
    "      （將Default的設定，複製到User設定再行修改）\n",
    "   \n",
    "   \n",
    "- Color Highlighter: 有顏色碼的地方用顏色標示出來。\n",
    "    \n",
    "    參考資料：\n",
    "    \n",
    "    http://killer0001.blogspot.tw/2017/01/python-sublime-text-3.html\n",
    "    \n",
    "    http://eddychang.me/blog/learning-lang/46-sublime-text-3-setup.html"
   ]
  },
  {
   "cell_type": "markdown",
   "metadata": {},
   "source": [
    "## Sublime Text 3 (Linux & Mac)\n",
    "\n",
    "- 這兩個系統中原本就有python，所以預設執行上會使用原本的版本。\n",
    "\n",
    "  `import sys`\n",
    "  \n",
    "  `print(sys.version)`\n",
    "\n",
    "  在ipython介面輸入以上兩行，可以知道目前執行的版本。\n",
    "\n",
    "\n",
    "- 若要改用python3，需要新增一個sublime-build檔案\n",
    "  「工具Tools」 -> 「編譯系統Build System」-> 「新增編譯系統 New Build System」\n",
    "  輸入以下內容，（path要設定完整）\n",
    "  \n",
    "  {\n",
    "    \"cmd\": [\"python3\", \"-u\", \"$file\"],\n",
    "    \n",
    "    \"file_regex\": \"^[ ] \\* File \\\"(...\\*?)\\\", line ([0-9]*)\",\n",
    "    \n",
    "    \"selector\": \"source.python3\",\n",
    "    \n",
    "    \"encoding\": \"utf8\",\n",
    "    \n",
    "    \"path\": \"/Users/ (user-name) /anaconda3/bin/\"      for Mac\n",
    "    \n",
    "             \"/home/(user-name)/anaconda3/bin/\"    for Linux\n",
    "   }\n",
    "\n",
    "  編輯完畢後，存檔，檔名為Python3.sublime-build（這個sublime-build檔，會放在Packages裡的User資料夾裡）\n",
    "\n",
    "  此時「編譯系統」中會出現剛剛建立的Python3。\n",
    "  \n",
    "  把編譯系統選為Python3後，就可以在sublime text中使用python3了。\n",
    "  \n",
    "  \n",
    "- 參考資料：\n",
    "  [在Sublime Text中使用不同的python版本](https://wslark.wordpress.com/2016/07/27/sublime-text-%E5%9C%A8sublime-text%E4%B8%AD%E4%BD%BF%E7%94%A8%E4%B8%8D%E5%90%8C%E7%9A%84python%E7%89%88%E6%9C%AC/)"
   ]
  }
 ],
 "metadata": {
  "celltoolbar": "Slideshow",
  "kernelspec": {
   "display_name": "Python 3",
   "language": "python",
   "name": "python3"
  },
  "language_info": {
   "codemirror_mode": {
    "name": "ipython",
    "version": 3
   },
   "file_extension": ".py",
   "mimetype": "text/x-python",
   "name": "python",
   "nbconvert_exporter": "python",
   "pygments_lexer": "ipython3",
   "version": "3.6.6"
  }
 },
 "nbformat": 4,
 "nbformat_minor": 2
}
