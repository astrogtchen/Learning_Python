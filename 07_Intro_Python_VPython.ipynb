{
 "cells": [
  {
   "cell_type": "markdown",
   "metadata": {
    "slideshow": {
     "slide_type": "slide"
    }
   },
   "source": [
    "# Introduction to Python \n",
    "\n",
    "part 7\n",
    "\n",
    "## Vpython"
   ]
  },
  {
   "cell_type": "markdown",
   "metadata": {
    "slideshow": {
     "slide_type": "slide"
    }
   },
   "source": [
    "# [VPython](http://vpython.org/)\n",
    "- VPython makes it easy to create navigable 3D displays and animations\n",
    "  產生3D動畫\n",
    "- Based on Python\n",
    "\n",
    "\n",
    "- version 7 support python 3  （version 6 only for python 2）"
   ]
  },
  {
   "cell_type": "markdown",
   "metadata": {
    "slideshow": {
     "slide_type": "slide"
    }
   },
   "source": [
    "This package enables one to run VPython in a browser, using the GlowScript VPython API, documented in the Help at http://glowscript.org. \n",
    "\n",
    "If the code is in a cell in a Jupyter notebook, the 3D scene appears in the Jupyter notebook. \n",
    "\n",
    "If the code is launched outside a notebook (e.g. from the command line), a browser window will open displaying the scene.\n",
    "\n",
    "VPython makes it unusually easy to create navigable real-time 3D animations. The one-line program \"sphere()\" produces a 3D sphere with appropriate lighting and with the camera positioned so that the scene fills the view. \n",
    "\n",
    "It also activates mouse interactions to zoom and rotate the camera view."
   ]
  },
  {
   "cell_type": "markdown",
   "metadata": {
    "slideshow": {
     "slide_type": "subslide"
    }
   },
   "source": [
    "## 安裝\n",
    "若先安裝了Anaconda後，開啟Anaconda Prompt終端機介面，輸入：\n",
    "\n",
    "`conda install -c vpython vpython`\n",
    " \n",
    "## 在Jupyter notebook執行\n",
    "Kernel: 可選用 Python3 或　VPython　\n",
    "\n",
    "但是重新執行時，要先將Kernel restart\n",
    "\n",
    "ps:\n",
    "vpython-jupyter\n",
    "https://github.com/BruceSherwood/vpython-jupyter\n",
    "\n",
    "Currently, to re-run a VPython program you need to click the circular arrow icon to \"restart the kernel\" and then click the red-highlighted button, then click in the first cell, then click the run icon. Alternatively, if you insert \"scene = canvas()\" at the start of your program, you can rerun the program without restarting the kernel."
   ]
  },
  {
   "cell_type": "markdown",
   "metadata": {
    "slideshow": {
     "slide_type": "skip"
    }
   },
   "source": [
    "## 更新為新版\n",
    "\n",
    "`conda update -c vpython vpython`"
   ]
  },
  {
   "cell_type": "markdown",
   "metadata": {
    "slideshow": {
     "slide_type": "skip"
    }
   },
   "source": [
    "## How GlowScript VPython and VPython 7 differ from Classic VPython 6\n",
    "\n",
    "- Vectors must be represented as `vector(x,y,z)` or `vec(x,y,z)`, not as (x,y,z).\n",
    "\n",
    "- The name display has been changed to `canvas` (for technical reasons).\n",
    "\n",
    "- The name gdisplay has been changed to `graph`.\n",
    "\n",
    "- curve objects and points objects have a new set of methods."
   ]
  },
  {
   "cell_type": "markdown",
   "metadata": {
    "slideshow": {
     "slide_type": "slide"
    }
   },
   "source": [
    "## A Simple example\n",
    "\n",
    "draw a box or  a sphere"
   ]
  },
  {
   "cell_type": "code",
   "execution_count": null,
   "metadata": {
    "slideshow": {
     "slide_type": "slide"
    }
   },
   "outputs": [],
   "source": [
    "# 引入vpython套件\n",
    "from vpython import *\n",
    "\n",
    "# 開啟瀏覽器用canvas繪圖\n",
    "scene = canvas()\n",
    "\n",
    "# 產生一個3D盒子，位置、大小、顏色都用預設值\n",
    "box()"
   ]
  },
  {
   "cell_type": "markdown",
   "metadata": {
    "slideshow": {
     "slide_type": "fragment"
    }
   },
   "source": [
    "## 產生了一個3D的盒子，用滑鼠可拉近與旋轉視線\n",
    "\n",
    "- 旋轉：\n",
    "  押著滑鼠右鍵拖拉 或 按住ctrl＋滑鼠左鍵即可\n",
    "\n",
    "- 拉近：\n",
    "  按著Alt＋滑鼠左鍵 或 滾動滑鼠滾輪 \n",
    "\n",
    "- Touch screen: pinch/extend to zoom, swipe or two-finger rotate."
   ]
  },
  {
   "cell_type": "markdown",
   "metadata": {
    "slideshow": {
     "slide_type": "slide"
    }
   },
   "source": [
    "# 編輯器 for VPython\n",
    "- [IDLE](https://docs.python.org/3/library/idle.html) ， (Python GUI)\n",
    "- [Visual Studio Code](https://code.visualstudio.com/)， https://code.visualstudio.com/ （錯誤訊息不會顯示）\n",
    "- [Sublime Text 3](https://www.sublimetext.com/3)， https://www.sublimetext.com/3      (在Linux無法開啟瀏覽器，無法執行，尚待解決)\n",
    "- [Notepad++](https://notepad-plus-plus.org/zh/)，  https://notepad-plus-plus.org/zh/  (windows only)"
   ]
  },
  {
   "cell_type": "markdown",
   "metadata": {
    "slideshow": {
     "slide_type": "slide"
    }
   },
   "source": [
    "# 目前有的教學網站\n",
    "\n",
    "- http://www.glowscript.org/docs/VPythonDocs/index.html\n",
    "- http://itrs.tw/wiki/Vpython_tutorial\n",
    "- 台大石明豐教授 http://vphysics.ntu.edu.tw/\n",
    "- 南港高中高慧君老師 http://drweb.nksh.tp.edu.tw/student/lessons/F/\n",
    "- 建國中學曾靖夫老師、賴奕帆老師 http://vphysics.ntu.edu.tw/cktp.php\n",
    "- 中和高中王一哲老師 https://sites.google.com/view/yizhe/%E8%AA%B2%E7%A8%8B/python%E7%89%A9%E7%90%86%E6%A8%A1%E6%93%AC"
   ]
  },
  {
   "cell_type": "markdown",
   "metadata": {
    "slideshow": {
     "slide_type": "slide"
    }
   },
   "source": [
    "# 等速移動的球\n",
    "- vpython中所有物體的位置表示都用3維位置坐標表示 `pos=vector(x,y,z)`  或 `pos=vec(x,y,z)`\n",
    "\n",
    "  對於球體pos用來表示球心的位置座標。\n",
    "\n",
    "![vpython_sphere](.\\images\\vpython_sphere.png)\n",
    "\n",
    "\n",
    "\n",
    "- 如何告訴vpython，球在移動：\n",
    "\n",
    "  由物體運動速度\n",
    "  $$ v = \\frac{\\Delta x}{\\Delta t}= \\lim_{\\Delta t \\rightarrow 0} \\frac{x_f-x_i}{\\Delta t} $$\n",
    "\n",
    "  若數值計算上的時間間隔夠短，則已知速度(未必要是定值)，給定初始位置座標，可推算出下個時間點的位置\n",
    "  $$  x_f = x_i + v \\Delta t $$\n",
    "  \n",
    "  將球的每個位置都畫出來，設定執行速率，就可以看到一個移動的球。"
   ]
  },
  {
   "cell_type": "code",
   "execution_count": null,
   "metadata": {
    "slideshow": {
     "slide_type": "fragment"
    }
   },
   "outputs": [],
   "source": [
    "# encoding: utf-8\n",
    "from vpython import *\n",
    "\n",
    "'''\n",
    "設定常數與球的初始狀態\n",
    "'''\n",
    "#初速\n",
    "v = 1.0\n",
    "#計算經過時間\n",
    "t = 0.0\n",
    "#時間間隔\n",
    "dt = 0.01 \n",
    "#設定初始位置\n",
    "x = 0\n",
    "\n",
    "'''\n",
    "繪圖、產生物體\n",
    "'''\n",
    "scene = canvas()\n",
    "\n",
    "#產生一個紅色的球，半徑設定為 1\n",
    "ball = sphere(radius=1.0, color=color.red)\n",
    "\n",
    "\n",
    "'''\n",
    "用while，rate讓物理運動\n",
    "'''\n",
    "while t < 10.0:  # 執行條件為：經過時間t<10\n",
    "    \n",
    "    rate(1/dt)  #每秒執行次數=1/0.01=100次\n",
    "    \n",
    "    # 末位置 = 原位置 + 速度 * 時間\n",
    "    x = x + v * dt \n",
    "    \n",
    "    # 將每次的末位置座標設定為球的球心位置\n",
    "    ball.pos = vector(x, 0, 0)\n",
    "    \n",
    "    t = t + dt"
   ]
  },
  {
   "cell_type": "markdown",
   "metadata": {
    "slideshow": {
     "slide_type": "slide"
    }
   },
   "source": [
    "# 3D圖的版面\n",
    "使用 **canvas** 設定3D的繪圖畫布。\n",
    "   \n",
    "`scene = canvas(title='Sphere', width=400, \n",
    "                  height=400, center=vector(0,0,0),\n",
    "                  background=vec(1,1,1)\n",
    "                  )`\n",
    "\n",
    "畫面中右方為 +x 軸方向，上方為 +y 軸方向，出螢幕方向為 +z 軸方向，將開啟的動畫視窗命名為 **scene**。\n",
    "\n",
    "以下是常調整的功能：\n",
    "   - title: 畫面的標題，顯示於畫面的左上角。\n",
    "   - width: 畫面寬度（水平方向）。\n",
    "   - height: 畫面高度（鉛直方向）。\n",
    "   - x、y: 畫面左上角於瀏覽器視窗中顯示的位置。\n",
    "   - center: 觀察者所在位置。\n",
    "   - background: 背景顏色，vector 括號中的數字依序為紅、綠、藍三色  的比例，範圍在 0 ~ 1 之間。也可以使用已經命名的常用顏色。"
   ]
  },
  {
   "cell_type": "markdown",
   "metadata": {
    "slideshow": {
     "slide_type": "slide"
    }
   },
   "source": [
    "# 顏色與透明度設定\n",
    "\n",
    "- Here are some examples of RGB colors, with names you can use in VPython:\n",
    "\n",
    "vec(1,0,0)= color.red\n",
    "\n",
    "vec(1,1,0)= color.yellow\t\n",
    "\n",
    "vec(0,0,0)= color.black\n",
    "   \n",
    "vec(0,1,0)= color.green\t\n",
    "   \n",
    "vec(1,0.6,0)= color.orange\t\n",
    "\n",
    "vec(1,1,1)= color.white\n",
    "    \n",
    "vec(0,0,1)= color.blue\t\n",
    "\n",
    "vec(0,1,1)= color.cyan\t \n",
    "    \n",
    "vec(0.4,0.2,0.6)= color.purple\t\n",
    "\n",
    "vec(1,0,1)= color.magenta\t\n",
    "\n",
    "vector(0.5, 0.5, 0.5) a rather dark gray; or you can say color=color.gray(0.5) to mean (0.5,0.5,0.5)\n",
    "\n",
    "vector(1,0.7,0.2) a coppery color\n",
    "\n",
    "- Opacity\n",
    "You can make most objects be transparent by specifying a value from 0-1 inclusive for the attribute \"opacity\". \n",
    "\n",
    "For example, box(color=color.red, opacity=0.8) is slightly transparent. \n",
    "\n",
    "An opacity value of 0 means totally transparent, and 1 means totally opaque.\n",
    "\n",
    "Currently curve and helix objects do not allow transparency."
   ]
  },
  {
   "cell_type": "markdown",
   "metadata": {
    "slideshow": {
     "slide_type": "slide"
    }
   },
   "source": [
    "## 引入vpython後可直接使用的math function\n",
    "\n",
    "`abs(x)`\n",
    "\n",
    "`sqrt(x)`\n",
    "\n",
    "`sin(x)`\n",
    "\n",
    "`cos(x)`\n",
    "\n",
    "`tan(x)`\n",
    "\n",
    "`asin(x)`    # arc sine\n",
    "\n",
    "`acos(x)`    # arc cosine\n",
    "\n",
    "`atan(x)`    # arc tangent\n",
    "\n",
    "`atan2(y,x)` # angle whose tangent is y/x\n",
    "\n",
    "`exp(x)`     # e to the x\n",
    "\n",
    "`log(x)`     # natural log, base e ，log(x)/log(10) gives log base 10\n",
    "\n",
    "`pow(x,y)`   # x to the power y\n",
    "\n",
    "`pi`         # 3.14159.... \n",
    "\n",
    "`ceil(x)`    # round up to nearest integer\n",
    "\n",
    "`floor(x)`   # round down to nearest integer\n",
    "\n",
    "`round(x)`   # round to nearest integer \n",
    "\n",
    "`max(x,y,z)` # the largest of x,y,z\n",
    "\n",
    "`min(x,y,z)` # the smallest of x,y,z\n",
    "\n",
    "`random()`   # pseudorandom number 0 to 1\n",
    "\n",
    "`factorial(x)`  # x! = x*(x-1)*(x-2)....(1)\n",
    "\n",
    "`combin(x,y)`   # x!/(y!*(x-y)!) \n",
    "\n",
    "`max(a,b,c,..)` # maximum of these\n",
    "\n",
    "`min(a,b,c,..)` # minimum of these"
   ]
  },
  {
   "cell_type": "markdown",
   "metadata": {
    "slideshow": {
     "slide_type": "fragment"
    }
   },
   "source": [
    "There are functions for converting between degrees and radians, where there are 2*pi radians in 360 degrees:\n",
    "\n",
    "`radians(360)`  # equal to 2*pi\n",
    "\n",
    "`degrees(2*pi)` # equal to 360"
   ]
  },
  {
   "cell_type": "markdown",
   "metadata": {
    "slideshow": {
     "slide_type": "slide"
    }
   },
   "source": [
    "# 用三個移動的球畫出x, y, z三個座標軸\n",
    "\n",
    "- vpython 的預設座標軸如圖\n",
    "![vpython_coordinate](.\\images\\vpython_coordinate.png)\n",
    "\n",
    "- 畫出軌跡：\n",
    "  在物體的參數內加入：\n",
    "\n",
    "  - `make_trail=True` 顯示軌跡\n",
    "\n",
    "  - `trail_type=\"points\"` 軌跡的型態為點。若不指定，預設為curve\n",
    "\n",
    "  - `interval=10` 每10個位置畫一個點\n",
    "\n",
    "  - `retain=50`   只顯示最近的50個點\n",
    "  \n",
    "  - `trail_color`  軌跡顏色，預設為物體顏色"
   ]
  },
  {
   "cell_type": "code",
   "execution_count": null,
   "metadata": {
    "slideshow": {
     "slide_type": "slide"
    }
   },
   "outputs": [],
   "source": [
    "# encoding: utf-8\n",
    "from vpython import *\n",
    "#import numpy as np\n",
    "\n",
    "'''\n",
    "常數與球的初始狀態\n",
    "'''\n",
    "t = 0.0\n",
    "dt = 0.01\n",
    "\n",
    "\n",
    "'''\n",
    "繪圖、產生物體\n",
    "'''\n",
    "scene = canvas()\n",
    "\n",
    "# make_trail=True 表示將球心移動過程畫出來\n",
    "ballx = sphere(radius=0.1, color=color.red, make_trail=True)\n",
    "bally = sphere(radius=0.1, color=color.green, make_trail=True)\n",
    "ballz = sphere(radius=0.1, color=color.blue, make_trail=True)\n",
    "\n",
    "# ball = sphere(radius=1, color=color.white, make_trail=True)\n",
    "\n",
    "\n",
    "'''\n",
    "用while，rate讓物理運動\n",
    "'''\n",
    "while t < 10.0:\n",
    "    rate(200)\n",
    "    \n",
    "    ballx.pos = vector(t, 0, 0) #x軸紅色\n",
    "    bally.pos = vector(0, t, 0) #y軸綠色\n",
    "    ballz.pos = vector(0, 0, t) #z軸藍色\n",
    "    \n",
    "    #ball.pos = vector(np.cos(t**2), np.sin(t), np.sqrt(t))\n",
    "    \n",
    "    t = t + dt\n",
    "    "
   ]
  },
  {
   "cell_type": "markdown",
   "metadata": {
    "slideshow": {
     "slide_type": "slide"
    }
   },
   "source": [
    "# 畫2D曲線圖\n",
    "\n",
    "VPython 本身提供了繪圖套件。\n",
    "\n",
    "說明文件：http://www.glowscript.org/docs/VPythonDocs/graph.html\n",
    "\n",
    "- 可繪製曲線圖`gcurve`、散佈圖 `gdots`、長條圖`gvbars` or `ghbars`。\n",
    "\n",
    "- vpython提供兩種繪圖套件，一種比較快（based on Flot），另一種較慢但提供較豐富的互動介面(based on Plotly)，兩者只在有大量資料時，在繪製速度才有差。\n",
    "\n",
    "  預設為較快的版本，若要使用另一種，則需在繪圖指令中加上`fast=False`。\n",
    "\n",
    "- 在曲線圖中使用`markers=True`，會產生數據點。再使用`marker_radius`，可修改點的大小（預設值略大於曲線）；`marker_color`，可修改點的顏色（預設值與曲線同色）\n",
    "\n",
    "- 曲線名稱可用`label=\"xxx\"`，圖例會出現在右上角。若要取消，則使用`legend=False`。"
   ]
  },
  {
   "cell_type": "code",
   "execution_count": null,
   "metadata": {
    "slideshow": {
     "slide_type": "subslide"
    }
   },
   "outputs": [],
   "source": [
    "from vpython import *\n",
    "\n",
    "# 畫曲線圖\n",
    "f1 = gcurve(color=color.cyan, label='Test-Curve')\n",
    "\n",
    "# 產生數據\n",
    "for x in arange(0, 8.05, 0.1):\n",
    "    \n",
    "    # 畫2D曲線圖，pos=(x軸變數，y軸變數)\n",
    "    f1.plot(pos=(x,5*cos(2*x)*exp(-0.2*x)))"
   ]
  },
  {
   "cell_type": "markdown",
   "metadata": {
    "slideshow": {
     "slide_type": "slide"
    }
   },
   "source": [
    "\n",
    "## 2D繪圖\n",
    "\n",
    "- 畫出曲線圖後，可再利用給定數據點繪圖（預設顏色為黑色）\n",
    "\n",
    "  `f1 = gcurve(data=[ [1,2],[5,-2],[8,4] ], color=color.green)`\n",
    "\n",
    "- 當已經畫了一張圖後，若要在同張圖上面加入新的數據，利用`data=（數據們）`加入（不是用`pos`）\n",
    "\n",
    "  `f1.plot(data=[100,-30]) # add a single point`\n",
    "\n",
    "  `f1.plot(data=[[100,-30], [20,50], [0,-10]]) # add a list`\n",
    "\n",
    "   若只是數值輸入，可以省略`data`這幾個字"
   ]
  },
  {
   "cell_type": "markdown",
   "metadata": {
    "slideshow": {
     "slide_type": "slide"
    }
   },
   "source": [
    "## 2D繪圖\n",
    "\n",
    "- 可以同時畫不同類型的圖在同一張圖上，例如以下的曲線圖跟長條圖：\n",
    "\n",
    "`\n",
    "f1 = gcurve(color=color.cyan) \n",
    "f2 = gvbars(delta=0.05, color=color.blue)  # 長條圖設定寬度為0.05（預設值為1）\n",
    "for x in arange(0., 8.05, 0.1): \n",
    "    f1.plot(pos=(x,5*cos(2*x)*exp(-0.2*x)))\t # gcurve\n",
    "    f2.plot(pos=(x,4*cos(0.5*x)*exp(-0.1*x)))    # vbars\n",
    "`\n",
    "    \n",
    "- 若要刪除所有數據圖，並畫上新的數據，則直接下以下指令\n",
    "\n",
    "`f1.data = [ [10,20], [30,40], [50,60] ]`"
   ]
  },
  {
   "cell_type": "markdown",
   "metadata": {
    "slideshow": {
     "slide_type": "slide"
    }
   },
   "source": [
    "## 2D繪圖\n",
    "\n",
    "- 同時畫出多張圖形：\n",
    " \n",
    "  vpython提供的方式是將畫出的圖先指定名稱，再將要畫的圖畫入指定名稱內，例如：\n",
    "\n",
    "  `g1 = graph()        # default properties\n",
    "  gcurve(...)          # will appear in the graph named \"g1\"\n",
    "  gdots(graph=g1, ...) # will also appear in \"g1\"`\n",
    "\n",
    "  `g2 = graph(width=200,height=100,title='A second graph') # 第二張圖，寬度200，高度100\n",
    "  gcurve(...)           # will appear in the graph named \"g2\"\n",
    "  gdots(graph=g2, ...)  # will also appear in \"g2\"\n",
    "  gvbars(graph=g1, ...) # will appear in \"g1\"`\n",
    "\n",
    "\n",
    "- You can also obtain the current graph with graph.get_selected(), and you can set the current graph to be the graph named gd by executing gd.select().\n",
    "\n",
    "\n",
    "- 半對數與對數座標（Log-log and semilog plots）：\n",
    "  x, y均為正值，畫圖時加上下面指令\n",
    "  \n",
    " `logx=True`  \n",
    " \n",
    " `logy=True`\n",
    " \n",
    "- 圖的各種設定\n",
    "\n",
    "`f1 = graph(width=600, height=150, \n",
    "      title='<b>Test</b>',\n",
    "      xtitle='<i>x</i>', ytitle='<i>x</i><sup>2</sup>', \n",
    "      foreground=color.black, background=color.white, \n",
    "      xmin=-20, xmax=50, ymin=-2e3, ymax=5e3)`\n",
    "      \n",
    "  寬600，高150，圖名為Test(粗體)，\n",
    "  \n",
    "  x軸名稱為 $x$(italic)，y軸名稱為 $x^2$（若為下標<sub></sub>）。title與軸名稱可用`\\n`換行。\n",
    "  \n",
    "  x值範圍-20~50，y值範圍$-2\\times 10^{-3}$~ $5\\times 10^{3}$，\n",
    "  \n",
    "  前景黑色（與預設同），背景白色(與預設同)。"
   ]
  },
  {
   "cell_type": "markdown",
   "metadata": {
    "slideshow": {
     "slide_type": "slide"
    }
   },
   "source": [
    "# 畫位置-時間關係圖\n",
    "\n",
    "先設定要畫的圖的參數與型態\n",
    "\n",
    "`f1 = graph(title='x vs t', xtitle='t', ytitle='x')`\n",
    "\n",
    "`xt = gcurve(graph=f1, color=color.orange)`\n",
    "\n",
    "在每次更新位置座標時，將新的座標位置畫出來\n",
    "`xt.plot(pos=(t, x))`\n",
    "\n",
    "http://www.glowscript.org/docs/VPythonDocs/graph.html"
   ]
  },
  {
   "cell_type": "code",
   "execution_count": null,
   "metadata": {
    "slideshow": {
     "slide_type": "slide"
    }
   },
   "outputs": [],
   "source": [
    "# encoding: utf-8\n",
    "from vpython import *\n",
    "\n",
    "'''\n",
    "設定常數與球的初始狀態\n",
    "'''\n",
    "#初速\n",
    "v = 1.0\n",
    "#計算經過時間\n",
    "t = 0.0\n",
    "#時間間隔\n",
    "dt = 0.01 \n",
    "#設定初始位置\n",
    "x = 0\n",
    "\n",
    "'''\n",
    "繪圖、產生物體\n",
    "'''\n",
    "scene = canvas()\n",
    "\n",
    "#產生一個紅色的球，半徑設定為 1\n",
    "ball = sphere(radius=1.0, color=color.red)\n",
    "\n",
    "'''\n",
    "畫x-t圖\n",
    "'''\n",
    "f1 = graph(x=600, y=0, title='x-t', xtitle='t', ytitle='x', \n",
    "            #ymax=1, xmax=2, \n",
    "           )\n",
    "xt = gcurve(graph=f1, color=color.orange)\n",
    "\n",
    "\n",
    "'''\n",
    "用while，rate讓物理運動\n",
    "'''\n",
    "while t < 10.0:  # 執行條件為：經過時間t<10\n",
    "    \n",
    "    rate(1/dt)  #每秒執行次數=1/0.01=100次\n",
    "    \n",
    "    # 末位置 = 原位置 + 速度 * 時間\n",
    "    x = x + v * dt \n",
    "    \n",
    "    # 將每次的末位置座標設定為球的球心位置\n",
    "    ball.pos = vector(x, 0, 0)\n",
    "    \n",
    "    t = t + dt\n",
    "    # 畫出x-t圖\n",
    "    xt.plot(pos(t, x))"
   ]
  },
  {
   "cell_type": "markdown",
   "metadata": {
    "slideshow": {
     "slide_type": "slide"
    }
   },
   "source": [
    "### 說明：\n",
    "1. `x = x + v * dt` 將速度乘一小段時間，加上原位置的座標數值，指定為新的位置座標數值也可寫為 `x += v*dt`\n",
    "   \n",
    "2. `ball.pos = vector(x, 0, 0)`將新的位置坐標數值放入為物體的位置，就更新了物體的位置。\n",
    "   上面的敘述也可寫為`ball.pos.x = x`\n",
    "   將**x**指定為**ball**這個物件的x軸座標位置\n",
    "\n",
    "3. 如本例，是直接設定一個常數為速度量值，再套入各方向位置的計算來處理。\n",
    "   另一個方式，是額外指定一個物體相關的參數來設定其速度，例如：\n",
    "\n",
    "   `ball.v = vector(v,0,0)  #ball 的速度在x軸為x，y軸為0，z軸為0`\n",
    "   \n",
    "    若有設定`ball.v=vector(v,0,0)`，則可直接使用`ball.v.x`表示球在x軸上的速度。"
   ]
  },
  {
   "cell_type": "markdown",
   "metadata": {
    "slideshow": {
     "slide_type": "slide"
    }
   },
   "source": [
    "# 3D盒子\n",
    "![vpython_box](.\\images\\vpython_box.png)\n",
    "\n",
    "- 指定位置`pos=(x,y,z)`，為此方體的幾何中心\n",
    "\n",
    "- 指定\n",
    "  長`length=L`，高`height=H`，寬`width=W`，\n",
    "\n",
    "  或用 `size=vector(length, height, width)`"
   ]
  },
  {
   "cell_type": "code",
   "execution_count": null,
   "metadata": {
    "slideshow": {
     "slide_type": "subslide"
    }
   },
   "outputs": [],
   "source": [
    "from vpython import *\n",
    "import numpy as np\n",
    "\n",
    "#設定位置\n",
    "x = 1\n",
    "y = 1\n",
    "z = 1\n",
    "\n",
    "L = 3\n",
    "H = 5\n",
    "W = 4\n",
    "\n",
    "box(pos=vec(x,y,z), length=L, height=H,width=W)\n",
    "#box(pos=vec(x,y,z), size=vector(L,H,W))"
   ]
  },
  {
   "cell_type": "markdown",
   "metadata": {
    "slideshow": {
     "slide_type": "slide"
    }
   },
   "source": [
    "# 重要提醒 !!\n",
    "\n",
    "## VPython doesn’t know any physics !\n",
    "\n",
    "## You have to tell it what to do.  ---from VPython tutorial document\n",
    "\n",
    "##  Python本身不懂物理原理！\n",
    "##  你必須告訴它如何符合物理原理般地運作。"
   ]
  },
  {
   "cell_type": "markdown",
   "metadata": {
    "collapsed": true,
    "slideshow": {
     "slide_type": "slide"
    }
   },
   "source": [
    "# 自由落體(初速為零)\n",
    "\n",
    "如何告訴vpython，球在受力的情況下移動呢？\n",
    "\n",
    "設球體質量為$m$，初位置$x_{i}$，初速$v_{i}$，受到向+x方向的外力$F$作用($F$＝定值)，由牛頓運動定律：\n",
    "$$\n",
    "F = m a = m \\lim_{\\Delta t \\rightarrow 0}\\frac{\\Delta v}{\\Delta t} \n",
    "$$\n",
    "\n",
    "$$\n",
    "a=\\frac{F}{m}= \\lim_{\\Delta t \\rightarrow 0}\\frac{\\Delta v}{\\Delta t} =\\lim_{\\Delta t \\rightarrow 0}\\frac{v_{f}-{v_{i}}}{\\Delta t} \n",
    "$$\n",
    "\n",
    "若數值計算上的時間間隔$\\Delta t$夠短，則已知加速度，給定初速，則可算出下個時間點的速度\n",
    "$$\n",
    "v_{f}=v_{i}+a \\times \\Delta t =v_{i}+\\frac{F}{m} \\times \\Delta t \n",
    "$$\n",
    "而下個時間點的位置，則為\n",
    "$$\n",
    "x_{f}=x_{i}+v_{f} \\times {\\Delta t} \n",
    "$$"
   ]
  },
  {
   "cell_type": "code",
   "execution_count": null,
   "metadata": {
    "slideshow": {
     "slide_type": "slide"
    }
   },
   "outputs": [],
   "source": [
    "# encoding: utf-8\n",
    "from vpython import *\n",
    "import numpy as np\n",
    "import scipy.constants as cont\n",
    "\n",
    "'''\n",
    "設定常數與球的初始狀態\n",
    "'''\n",
    "# 重力加速度\n",
    "g = cont.g\n",
    "#球的質量\n",
    "mass = 1.0\n",
    "#初始高度量值\n",
    "y = 10.0\n",
    "#初始速度量值\n",
    "v = 0.0\n",
    "\n",
    "\n",
    "t = 0.0\n",
    "dt = 0.05\n",
    "\n",
    "\n",
    "'''\n",
    "繪圖、產生物體\n",
    "'''\n",
    "# 繪出一個寬400像素、高400像素的圖，中心為座標(0,0,0)，背景顏色為白色(1,1,1)\n",
    "scene = canvas(width=400, height=400, center=vector(0,0,0), background=vec(1,1,1))\n",
    "\n",
    "# 水平面，用box畫\n",
    "floor = box(pos=vec(0,0,0), length=50, height=0.05, width=50, color=color.black)\n",
    "\n",
    "# 畫紅色球，半徑 1\n",
    "ball = sphere(radius=1.0, color=color.red)\n",
    "\n",
    "\n",
    "'''\n",
    "畫x-t、v-t圖\n",
    "'''\n",
    "f1 = graph(title='x-t', xtitle='t', ytitle='y')\n",
    "xt = gcurve(graph=f1, color=color.orange)\n",
    "\n",
    "f2 = graph(title='v-t', xtitle='t',ytitle='v')\n",
    "vt = gcurve(graph=f2, color=color.blue)\n",
    "\n",
    "\n",
    "'''\n",
    "用while，rate讓物理運動\n",
    "'''\n",
    "while t < 100.0:\n",
    "    rate(500)\n",
    "    \n",
    "    # 速度\n",
    "    v = v + g * dt\n",
    "    \n",
    "    # 位置\n",
    "    y = y - v * dt\n",
    "    \n",
    "    # 將算出來的高度位置座標，輸入球的座標位置\n",
    "    ball.pos = vector(0,y,0)\n",
    "    \n",
    "    t = t + dt\n",
    "    '''\n",
    "    畫出x-t、v-t圖\n",
    "    '''\n",
    "    xt.plot(pos=(t, y))\n",
    "    vt.plot(pos=(t, v))"
   ]
  },
  {
   "cell_type": "markdown",
   "metadata": {
    "slideshow": {
     "slide_type": "slide"
    }
   },
   "source": [
    "# 鉛直上拋"
   ]
  },
  {
   "cell_type": "code",
   "execution_count": null,
   "metadata": {
    "slideshow": {
     "slide_type": "subslide"
    }
   },
   "outputs": [],
   "source": [
    "# encoding: utf-8\n",
    "from vpython import *\n",
    "import numpy as np\n",
    "import scipy.constants as cont\n",
    "\n",
    "'''\n",
    "設定常數與球的初始狀態\n",
    "'''\n",
    "# 重力加速度\n",
    "g = 10\n",
    "# 質量\n",
    "mass = 1.0\n",
    "\n",
    "# 定 +y方向為正\n",
    "# 初高度量值\n",
    "y = 0.2\n",
    "# 初速度值\n",
    "v = 10.0\n",
    "\n",
    "t = 0\n",
    "dt = 0.01\n",
    "\n",
    "'''\n",
    "繪圖、產生物體\n",
    "'''\n",
    "scene = canvas(width=400, height=400, background=color.gray(0.5)) #灰色背景\n",
    "\n",
    "floor = box(pos=vec(0,0,0), length=30, height=0.05, width=30, color=color.blue)\n",
    "\n",
    "ball = sphere(radius=0.2, color=color.red)\n",
    "\n",
    "\n",
    "'''\n",
    "畫圖\n",
    "'''\n",
    "f1 = graph(title='y-t', xtitle='t',ytitle='y')\n",
    "xt = gcurve(graph=f1, color=color.red)\n",
    "\n",
    "f2 = graph(title='v-t', xtitle='t',ytitle='v')\n",
    "vt = gcurve(graph=f2, color=color.blue)\n",
    "\n",
    "\n",
    "'''\n",
    "用while，rate讓物理運動\n",
    "'''\n",
    "while y >= ball.radius:  # 執行條件：球的y座標位置>球的半徑\n",
    "    rate(200)\n",
    "     \n",
    "    v = v - g * dt  \n",
    "    y = y + v * dt\n",
    "\n",
    "    ball.pos = vector(0,y,0)\n",
    "      \n",
    "    t = t + dt\n",
    "    '''\n",
    "    畫出x-t、v-t圖\n",
    "    '''\n",
    "    xt.plot(t,y)\n",
    "    vt.plot(t,v)\n",
    "    "
   ]
  },
  {
   "cell_type": "markdown",
   "metadata": {
    "slideshow": {
     "slide_type": "slide"
    }
   },
   "source": [
    "# 落地反彈\n",
    "\n",
    "設定當球的座標到達某一位置時，速度的方向反過來"
   ]
  },
  {
   "cell_type": "code",
   "execution_count": null,
   "metadata": {
    "slideshow": {
     "slide_type": "slide"
    }
   },
   "outputs": [],
   "source": [
    "# encoding: utf-8\n",
    "from vpython import *\n",
    "import numpy as np\n",
    "import scipy.constants as cont\n",
    "\n",
    "'''\n",
    "設定常數與球的初始狀態\n",
    "'''\n",
    "# 重力加速度\n",
    "g = cont.g\n",
    "#質量\n",
    "mass = 1.0\n",
    "#定 +y方向為正\n",
    "#初高度量值\n",
    "H = 10.0\n",
    "#初速度量值\n",
    "v = 0.0\n",
    "#球的半徑\n",
    "R = 1.0 \n",
    "\n",
    "t = 0.0\n",
    "dt = 0.01\n",
    "\n",
    "\n",
    "'''\n",
    "繪圖、產生物體\n",
    "'''\n",
    "scene = canvas(width=400, height=400, center=vector(0,0.3,0))\n",
    "# 水平面\n",
    "ground = box(pos=vec(0, 0, 0), axis=vec(1,0,0), size=vec(10,0.005,5), c=color.white)\n",
    "ball = sphere(radius=R, color=color.red)\n",
    "# 球的初始位置（y座標）\n",
    "ball.pos.y = H  \n",
    "\n",
    "\n",
    "'''\n",
    "畫圖\n",
    "'''\n",
    "f1 = graph(title='y vs t', xtitle='t', ytitle='y', background=vec(0.4,0.4,0.4))\n",
    "xt = gcurve(graph=f1, color=color.orange)\n",
    "\n",
    "f2 = graph(title='v vs t', xtitle='t', ytitle='v', background=vec(0.4,0.4,0.4))\n",
    "vt = gcurve(graph=f2, color=color.red)\n",
    "\n",
    "'''\n",
    "物理運動\n",
    "'''\n",
    "while t < 100.0:\n",
    "    rate(200)\n",
    "    \n",
    "    v = v - g *dt\n",
    "    \n",
    "    ball.pos.y = ball.pos.y + v*dt\n",
    "    \n",
    "    #當球心位置與地面距離R以下，速度需反向\n",
    "    if ball.pos.y <= R and v < 0:\n",
    "        v = -v\n",
    "    \n",
    "    \n",
    "    t = t + dt\n",
    "    '''\n",
    "    畫出x-t、v-t圖\n",
    "    '''\n",
    "    xt.plot(t,ball.pos.y)\n",
    "    vt.plot(t,v)    "
   ]
  },
  {
   "cell_type": "markdown",
   "metadata": {
    "slideshow": {
     "slide_type": "slide"
    }
   },
   "source": [
    "### 加入恢復係數\n",
    "\n",
    "$$ e= \\frac{v_f}{v_i}$$"
   ]
  },
  {
   "cell_type": "code",
   "execution_count": null,
   "metadata": {
    "slideshow": {
     "slide_type": "subslide"
    }
   },
   "outputs": [],
   "source": [
    "# encoding: utf-8\n",
    "from vpython import *\n",
    "import numpy as np\n",
    "import scipy.constants as cont\n",
    "\n",
    "'''\n",
    "設定常數與球的初始狀態\n",
    "'''\n",
    "# 重力加速度\n",
    "g = cont.g\n",
    "#質量\n",
    "mass = 1.0\n",
    "#定 +y方向為正\n",
    "#初高度量值\n",
    "H = 10.0\n",
    "#初速度量值\n",
    "v = 0.0\n",
    "#球的半徑\n",
    "R = 1.0 \n",
    "#恢復係數\n",
    "e = 0.9\n",
    "\n",
    "t = 0.0\n",
    "dt = 0.01\n",
    "\n",
    "\n",
    "'''\n",
    "繪圖、產生物體\n",
    "'''\n",
    "scene = canvas(width=400, height=400, center=vector(0,0.3,0))\n",
    "# 水平面\n",
    "ground = box(pos=vec(0, 0, 0), axis=vec(1,0,0), size=vec(10,0.005,5), c=color.white)\n",
    "ball = sphere(radius=R, color=color.red)\n",
    "# 球的初始位置（y座標）\n",
    "ball.pos.y = H  \n",
    "\n",
    "\n",
    "'''\n",
    "畫圖\n",
    "'''\n",
    "f1 = graph(title='y vs t', xtitle='t', ytitle='y', background=vec(0.4,0.4,0.4))\n",
    "xt = gcurve(graph=f1, color=color.orange)\n",
    "\n",
    "f2 = graph(title='v vs t', xtitle='t', ytitle='v', background=vec(0.4,0.4,0.4))\n",
    "vt = gcurve(graph=f2, color=color.red)\n",
    "\n",
    "'''\n",
    "物理運動\n",
    "'''\n",
    "while t < 100.0:\n",
    "    rate(200)\n",
    "    \n",
    "    v = v - g *dt\n",
    "    \n",
    "    ball.pos.y = ball.pos.y + v*dt\n",
    "    \n",
    "    #當球心位置與地面距離R以下，速度需反向\n",
    "    if ball.pos.y <= R and v < 0:\n",
    "        v = -e*v\n",
    "    \n",
    "    \n",
    "    t = t + dt\n",
    "    '''\n",
    "    畫出x-t、v-t圖\n",
    "    '''\n",
    "    xt.plot(t,ball.pos.y)\n",
    "    vt.plot(t,v)    "
   ]
  },
  {
   "cell_type": "markdown",
   "metadata": {
    "slideshow": {
     "slide_type": "slide"
    }
   },
   "source": [
    "# 加箭號\n",
    "\n",
    "![vpython_arrow](.\\images\\vpython_arrow.png)\n",
    "`pointer = arrow(pos=vector(0,2,1),axis=vector(5,0,0), shaftwidth=1)`\n",
    "\n",
    "The arrow object has the following attributes and default values, like those for cylinders: pos (0,0,0), axis (1,0,0), length (1), color (1,1,1) which is color.white, red (1), green (1), blue (1), opacity (1), shininess (0.6), emissive (False), texture, and up (0,1,0). As with box, the up attribute is significant for arrow because the shaft and head have square cross sections, and setting the up attribute rotates the arrow about its axis. Additional arrow attributes:\n",
    "\n",
    "shaftwidth By default, shaftwidth = 0.1*(length of arrow)\n",
    "\n",
    "headwidth By default, headwidth = 2*shaftwidth\n",
    "\n",
    "headlength By default, headlength = 3*shaftwidth\n",
    "\n",
    "http://www.glowscript.org/docs/VPythonDocs/arrow.html"
   ]
  },
  {
   "cell_type": "markdown",
   "metadata": {
    "slideshow": {
     "slide_type": "slide"
    }
   },
   "source": [
    "# 1D 彈性碰撞\n",
    "\n",
    "$$v'_{1}=\\frac{m_{1}-m_{2}}{m_{1}+m_{2}}v_{1}+\\frac{2m_{2}}{m_{1}+m_{2}}v_{2}$$\n",
    "$$v'_{2}=\\frac{2m_{1}}{m_{1}+m_{2}}v_{1}+\\frac{m_{2}-m_{1}}{m_{1}+m_{2}}v_{2}$$"
   ]
  },
  {
   "cell_type": "code",
   "execution_count": null,
   "metadata": {
    "slideshow": {
     "slide_type": "slide"
    }
   },
   "outputs": [],
   "source": [
    "# encoding: utf-8\n",
    "from vpython import *\n",
    "import numpy as np\n",
    "import scipy.constants as cont\n",
    "\n",
    "'''\n",
    "設定常數與初始狀態\n",
    "'''\n",
    "# 設定兩球質量、半徑、初位置與初速\n",
    "mass_A = 4\n",
    "Ra = 0.05\n",
    "xa = -0.2\n",
    "v_A = 0.25\n",
    "\n",
    "mass_B = 0.2\n",
    "Rb = 0.03\n",
    "xb = 0.1\n",
    "v_B = 0\n",
    "\n",
    "\n",
    "dt = 0.001\n",
    "t = 0\n",
    "\n",
    "'''\n",
    "定義彈性碰撞函數\n",
    "'''\n",
    "# 彈性碰撞函數\n",
    "# 輸入兩物質量m1、m2，碰前速度v1、v2。傳回兩物碰後末速v1f、v2f\n",
    "def ElasticCollision(v1,v2,m1,m2):\n",
    "    v1f = v1*(m1-m2)/(m1+m2) + v2*2*m2/(m1+m2)\n",
    "    v2f = v1*2*m1/(m2+m1) + v2*(m2-m1)/(m2+m1)\n",
    "    return v1f, v2f\n",
    "\n",
    "'''\n",
    "繪圖、產生物體\n",
    "'''\n",
    "scene = canvas(width=600, height=400, y=0)\n",
    "\n",
    "# A 球\n",
    "ball_a = sphere(radius=Ra, pos=vec(xa,0,0), color=color.red)\n",
    "ball_a.m = mass_A    \n",
    "ball_a.v = v_A \n",
    "# B 球\n",
    "ball_b = sphere(radius=Rb, pos=vec(xb,0,0), color=color.orange)\n",
    "ball_b.m = mass_B  \n",
    "ball_b.v = v_B    \n",
    "\n",
    "\n",
    "# 用arrow畫出x,y方向\n",
    "arrow_x = arrow(pos=vec(-1,0,0), axis=vec(5,0,0), shaftwidth=0.005)\n",
    "arrow_y = arrow(pos=vec(0,0,0), axis=vec(0,0.3,0), shaftwidth=0.0005)\n",
    "\n",
    "\n",
    "# 用arrow表示兩球速度\n",
    "arrow_a = arrow(color=color.red, shaftwidth=0.005)\n",
    "arrow_b = arrow(color=color.orange, shaftwidth=0.005)\n",
    "\n",
    "'''\n",
    "畫圖\n",
    "'''\n",
    "# 畫兩球的v-t圖\n",
    "f1 = graph(title='v - t', xtitle='t', ytitle='v', background=vec(0.4,0.4,0.4))\n",
    "vt1 = gcurve(graph=f1, color=color.red)\n",
    "vt2 = gcurve(graph=f1, color=color.orange)\n",
    "\n",
    "'''\n",
    "物理運動\n",
    "'''\n",
    "while t < 5:\n",
    "    rate(200)\n",
    "   \n",
    "    ball_a.pos.x = ball_a.pos.x + ball_a.v * dt\n",
    "    \n",
    "    #將A球速度箭頭位置設為A球球心位置，方向為速度方向\n",
    "    arrow_a.pos = ball_a.pos\n",
    "    arrow_a.axis = vec(ball_a.v,0,0)\n",
    "    \n",
    "    \n",
    "    ball_b.pos.x = ball_b.pos.x + ball_b.v * dt\n",
    "    # 將B球速度箭頭位置設為B球球心位置，方向為速度方向\n",
    "    arrow_b.pos = ball_b.pos\n",
    "    arrow_b.axis = vec(ball_b.v,0,0)\n",
    "    \n",
    "    t = t + dt\n",
    "    vt1.plot(pos=(t, ball_a.v))\n",
    "    vt2.plot(pos=(t, ball_b.v))\n",
    "\n",
    "    # 若兩球間的距離小於兩球半徑和，則兩球速度需經由彈性碰撞給定\n",
    "    if mag(ball_a.pos-ball_b.pos) <= (ball_a.radius+ball_b.radius):\n",
    "        ball_a.v, ball_b.v = ElasticCollision(ball_a.v, ball_b.v, ball_a.m, ball_b.m)\n",
    "\n",
    "   "
   ]
  },
  {
   "cell_type": "markdown",
   "metadata": {
    "slideshow": {
     "slide_type": "slide"
    }
   },
   "source": [
    "## 兩球空中作彈性碰撞"
   ]
  },
  {
   "cell_type": "code",
   "execution_count": null,
   "metadata": {
    "slideshow": {
     "slide_type": "subslide"
    }
   },
   "outputs": [],
   "source": [
    "# encoding: utf-8\n",
    "# 2012 物奧初選\n",
    "# 質量相同兩質點，A自h靜止自由落下，B以初速(sqrt(2gh))/3鉛直上拋，所有碰撞為彈性碰撞，系統週期為sqrt(2h/g)\n",
    "from vpython import *\n",
    "import numpy as np\n",
    "import scipy.constants as cont\n",
    "\n",
    "\n",
    "'''\n",
    "設定常數與初始狀態\n",
    "'''\n",
    "g = cont.g\n",
    "t = 0\n",
    "dt = 0.001\n",
    "\n",
    "# 設定兩球質量、半徑、初位置與初速\n",
    "mass_A = 4\n",
    "Ra = 0.1\n",
    "v_A = 0.0\n",
    "ca = color.blue\n",
    "H = 10.0  # A球初始高度\n",
    "\n",
    "mass_B = 4\n",
    "Rb = 0.1\n",
    "v_B = (sqrt(2 * g * H)) / 3\n",
    "cb = color.red\n",
    "\n",
    "\n",
    "# 彈性碰撞函數\n",
    "def ElasticCollision(v1, v2, m1, m2):\n",
    "    v1f = v1 * (m1 - m2) / (m1 + m2) + v2 * 2 * m2 / (m1 + m2)\n",
    "    v2f = v1 * 2 * m1 / (m2 + m1) + v2 * (m2 - m1) / (m2 + m1)\n",
    "    return v1f, v2f\n",
    "\n",
    "\n",
    "'''\n",
    "繪圖、產生物體\n",
    "'''\n",
    "scene = canvas(center=vector(0, H / 2, 0),\n",
    "               background=vec(0, 0.6, 0.6), range=(0.6 * H))\n",
    "\n",
    "# 水平面\n",
    "ground = box(pos=vec(0, 0, 0), axis=vec(1, 0, 0),\n",
    "             size=vec(10, 0.005, 5), c=color.white)\n",
    "\n",
    "# A球\n",
    "ball_a = sphere(radius=Ra, pos=vec(0, H, 0), color=ca)\n",
    "ball_a.m = mass_A\n",
    "ball_a.v = v_A\n",
    "# B球\n",
    "ball_b = sphere(radius=Rb, pos=vec(0, Rb, 0), color=cb)\n",
    "ball_b.m = mass_B\n",
    "ball_b.v = v_B\n",
    "\n",
    "\n",
    "# 畫出x,y方向\n",
    "#arrow_x = arrow(pos=vec(-1,0,0), axis=vec(2,0,0), shaftwidth=0.0005)\n",
    "#arrow_y = arrow(pos=vec(0,0,0), axis=vec(0,0.3,0), shaftwidth=0.005)\n",
    "\n",
    "# 兩個箭號\n",
    "#arrow_a = arrow(color=color.red, shaftwidth=0.005)\n",
    "#arrow_b = arrow(color=color.orange, shaftwidth=0.005)\n",
    "\n",
    "'''\n",
    "畫圖\n",
    "'''\n",
    "# 畫兩球的x-t圖\n",
    "gd1 = graph(title='y-t', xtitle='t', ytitle='v')\n",
    "xt1 = gcurve(graph=gd1, color=ca)\n",
    "xt2 = gcurve(graph=gd1, color=cb)\n",
    "\n",
    "\n",
    "# 畫兩球的v-t圖\n",
    "gd2 = graph(title='v-t', xtitle='t', ytitle='v')\n",
    "vt1 = gcurve(graph=gd2, color=ca)\n",
    "vt2 = gcurve(graph=gd2, color=cb)\n",
    "\n",
    "\n",
    "while t < 10:\n",
    "    rate(200)\n",
    "\n",
    "    t = t + dt\n",
    "\n",
    "    ball_a.v = ball_a.v - g * dt\n",
    "    ball_a.pos.y = ball_a.pos.y + ball_a.v * dt\n",
    "    # a 球的速度箭號\n",
    "    #arrow_a.pos = ball_a.pos\n",
    "    #arrow_a.axis = vec(0 ,ball_a.v,0)\n",
    "\n",
    "    xt1.plot(pos=(t, ball_a.pos.y))\n",
    "    vt1.plot(pos=(t, ball_a.v))\n",
    "\n",
    "    ball_b.v = ball_b.v - g * dt\n",
    "    ball_b.pos.y = ball_b.pos.y + ball_b.v * dt\n",
    "    # b 球的速度箭號\n",
    "    #arrow_b.pos = ball_b.pos\n",
    "    #arrow_b.axis = vec(0 ,ball_b.v,0)\n",
    "\n",
    "    xt2.plot(pos=(t, ball_b.pos.y))\n",
    "    vt2.plot(pos=(t, ball_b.v))\n",
    "\n",
    "    if mag(ball_a.pos - ball_b.pos) <= (ball_a.radius + ball_b.radius):\n",
    "        ball_a.v, ball_b.v = ElasticCollision(\n",
    "            ball_a.v, ball_b.v, ball_a.m, ball_b.m)\n",
    "\n",
    "    if ball_b.pos.y <= Rb and ball_b.v < 0:\n",
    "        ball_b.v = -ball_b.v"
   ]
  },
  {
   "cell_type": "markdown",
   "metadata": {
    "slideshow": {
     "slide_type": "slide"
    }
   },
   "source": [
    "# 加文字\n",
    "\n",
    "## text\n",
    "With the text object you can display 3D text.\n",
    "T = text(text='My text is\\ngreen',\n",
    "     align='center', color=color.green)\n",
    "<img src=\"./images/vpython_text.png\" width=500, heigth=800>     \n",
    "\n",
    "http://www.glowscript.org/docs/VPythonDocs/text.html\n",
    "\n",
    "\n",
    "## label\n",
    "With the label object you can display text in a box, and the label always faces forward, even if you rotate the scene (for 3D text, see the text object). Here is a simple example:\n",
    "\n",
    "L = label(pos=obj.pos,\n",
    "    text='Early', xoffset=20,\n",
    "    yoffset=50, space=30,\n",
    "    height=16, border=4,\n",
    "    font='sans')\n",
    "  \n",
    " <img src=\"./images/vpython_label.png\" width=300, heigth=400>\n",
    " http://www.glowscript.org/docs/VPythonDocs/label.html"
   ]
  },
  {
   "cell_type": "markdown",
   "metadata": {
    "slideshow": {
     "slide_type": "slide"
    }
   },
   "source": [
    "# 有阻力的自由落體\n",
    "假設阻力$f=bv$，\n",
    "質量m之物體由高度H，初速為零自由落下，重力加速度為g，\n",
    "則：\n",
    "\n",
    "$$ v(t)=\\frac{mg}{b}\\left(1-e^{-\\frac{b}{m}t} \\right)  $$\n",
    "\n",
    "$$ y(t)=\\frac{mg}{b}t + \\frac{m^2 g}{b^2}e^{-bt} =\\frac{mg}{b} \\left(t+\\frac{m}{b}e^{-\\frac{b}{m}t} \\right)$$\n",
    "\n",
    "終端速度$v_{t}=\\frac{mg}{b}$\n"
   ]
  },
  {
   "cell_type": "code",
   "execution_count": null,
   "metadata": {
    "slideshow": {
     "slide_type": "slide"
    }
   },
   "outputs": [],
   "source": [
    "# encoding: utf-8\n",
    "from vpython import *\n",
    "import numpy as np\n",
    "import scipy.constants as cont\n",
    "\n",
    "'''\n",
    "設定常數與球的初始狀態\n",
    "'''\n",
    "# 重力加速度\n",
    "g = cont.g\n",
    "# 球的質量\n",
    "m = 1.0\n",
    "# 初始高度量值\n",
    "y = 10.0\n",
    "# 初始速度量值\n",
    "v = 0.0\n",
    "\n",
    "# 阻力係數\n",
    "b = 1\n",
    "\n",
    "t = 0.0\n",
    "dt = 0.05\n",
    "\n",
    "\n",
    "'''\n",
    "繪圖、產生物體\n",
    "'''\n",
    "scene = canvas(background=vec(1, 1, 1))\n",
    "\n",
    "# 水平面，用box畫\n",
    "# floor = box(pos=vec(0, 0, 0), length=50, height = 0.05, width = 50, color = color.black)\n",
    "\n",
    "# 畫紅色球，半徑 1\n",
    "ball=sphere(radius = 1.0, color = color.red)\n",
    "\n",
    "\n",
    "'''\n",
    "畫x-t、v-t圖\n",
    "'''\n",
    "f1=graph(title = 'x-t', xtitle = 't', ytitle = 'y')\n",
    "xt=gcurve(graph = f1, color = color.orange)\n",
    "\n",
    "f2=graph(title = 'v-t', xtitle = 't', ytitle = 'v')\n",
    "vt=gcurve(graph = f2, color = color.blue)\n",
    "\n",
    "\n",
    "'''\n",
    "用while，rate讓物理運動\n",
    "'''\n",
    "while t < 10.0:\n",
    "    rate(200)\n",
    "\n",
    "    # 阻力與速率成正比\n",
    "    f = b * v\n",
    "    # 合力（定向上為正）\n",
    "    F = - m * g - f\n",
    "    # 速度\n",
    "    v = v + (F / m) * dt\n",
    "    # 位置\n",
    "    y = y + v * dt\n",
    "\n",
    "    # 將算出來的高度位置座標，輸入球的座標位置\n",
    "    ball.pos = vector(0, y, 0)\n",
    "\n",
    "    t = t + dt\n",
    "    '''\n",
    "    畫出x-t、v-t圖\n",
    "    '''\n",
    "    xt.plot(pos = (t, y))\n",
    "    vt.plot(pos = (t, v))\n"
   ]
  },
  {
   "cell_type": "markdown",
   "metadata": {
    "slideshow": {
     "slide_type": "slide"
    }
   },
   "source": [
    "# 畫螺線 helix (用來當成彈簧)\n",
    "\n",
    "`spring = helix(pos=vector(0,2,1), \n",
    "            axis=vector(5,0,0), radius=0.5)`\n",
    "            \n",
    "default values: `pos=vector(0,0,0)`, `axis=vector(1,0,0)`, `length (1)`, `radius (1)`, `coils (5)`, `thickness (radius/20)`, `color=vector(1,1,1)` which is color.white, red (1), green (1), blue (1), and `up=vector(0,1,0)`.\n",
    "\n",
    "`pos` one end of the object\n",
    "\n",
    "`length` Length of axis; if not specified, axis determines the length, default = 1\n",
    "If length is specified, it overrides the length given by axis\n",
    "\n",
    "`radius` The radius of the helix, default = 1\n",
    "\n",
    "`thickness` is the diameter of the cross section of the curve used to draw the helix; default is radius/20.\n",
    "\n",
    "`size` Instead of specifying length and radius, you can set size=vector(length,height,width), which means that the cross section of the helix can be elliptical.\n",
    "\n",
    "ps: \n",
    "\n",
    "the pos attribute for cylinder, arrow, cone, pyramid, and helix corresponds to one end of the object, whereas for a box, sphere, or ring it corresponds to the center of the object."
   ]
  },
  {
   "cell_type": "markdown",
   "metadata": {
    "slideshow": {
     "slide_type": "slide"
    }
   },
   "source": [
    "# 水平SHM"
   ]
  },
  {
   "cell_type": "code",
   "execution_count": null,
   "metadata": {
    "slideshow": {
     "slide_type": "slide"
    }
   },
   "outputs": [],
   "source": [
    "# encoding: utf-8\n",
    "from vpython import *\n",
    "import numpy as np\n",
    "\n",
    "# Constants\n",
    "K = 2.0\n",
    "A = 1.0\n",
    "M = 1.0\n",
    "g = 9.8\n",
    "\n",
    "OMEGA = np.sqrt(K / M)\n",
    "SF = 0.8  # scalefactor\n",
    "FB = 0.0  # friction factor by velocity\n",
    "FF = 0.0  # constant friction force\n",
    "\n",
    "# 地面\n",
    "floor_L = 5.0\n",
    "floor_W = 1.0\n",
    "floor_H = 0.1\n",
    "\n",
    "# 牆\n",
    "wall_L = 0.1\n",
    "wall_W = floor_W\n",
    "wall_H = 1.0\n",
    "\n",
    "# 物體\n",
    "mass_L = floor_W\n",
    "mass_W = floor_W\n",
    "mass_H = floor_W\n",
    "\n",
    "# 彈簧\n",
    "spring_R = 0.5\n",
    "spring_coils = 10\n",
    "\n",
    "\n",
    "floor_Cvec = vector(0, 0, 0)\n",
    "wall_Cvec = vector(-floor_L / 2, (wall_H / 2 + floor_H / 2), 0)\n",
    "mass_Cvec = vector(0, (wall_H / 2 + floor_H / 2), 0)\n",
    "spring_startvec = wall_Cvec + vector(wall_L / 2, 0, 0)\n",
    "spring_Lvec = mass_Cvec - vector((mass_L / 2), 0, 0) - spring_startvec\n",
    "\n",
    "\n",
    "'''\n",
    "scene1 = canvas(\n",
    "    #title='SHM vs Circular Motion',\n",
    "    #caption = \"Hello\",\n",
    "    width=1024, \n",
    "    height=768,\n",
    "    #center=vector(5,0,0), \n",
    "    #background=color.cyan\n",
    "    )\n",
    "'''\n",
    "\n",
    "scene = canvas(title='Simple Harmonic Motion',\n",
    "               width=600,\n",
    "               background=vec(0, 0, 0))\n",
    "# scene.width=600\n",
    "# scene.heigt=600\n",
    "\n",
    "floor = box(pos=floor_Cvec, size=vec(\n",
    "    floor_L, floor_H, floor_W), color=color.orange)\n",
    "wall = box(pos=wall_Cvec, size=vec(\n",
    "    wall_L, wall_H, wall_W), color=vec(0, 0.5, 0.5))\n",
    "mass = box(pos=mass_Cvec, length=mass_L, width=mass_W,\n",
    "           height=mass_H, opacity=0.5, color=color.white)\n",
    "spring = helix(pos=spring_startvec, axis=spring_Lvec,\n",
    "               radius=spring_R, coils=spring_coils, color=color.yellow)\n",
    "\n",
    "\n",
    "# animation\n",
    "t = 0\n",
    "dt = 0.01\n",
    "\n",
    "# initial conditions: position, velocity\n",
    "m_v = vector(A * OMEGA, 0, 0)\n",
    "m_x = vector(0, 0, 0)\n",
    "'''\n",
    "m_v = vector(0,0,0)\n",
    "m_x = vector(A,0,0)   \n",
    "'''\n",
    "\n",
    "L0 = spring_Lvec\n",
    "\n",
    "'''\n",
    "#Force and velocity arrows\n",
    "Fs_arr = arrow(pos=mass.pos, axis=spring_Lvec, color=color.red)\n",
    "V_arr = arrow(pos=mass.pos+vector(0,A,0), axis=m_v, color=color.blue)\n",
    "'''\n",
    "# Force and velocity arrows\n",
    "Fs_arr = arrow(color=color.red)\n",
    "V_arr = arrow(color=color.blue)\n",
    "\n",
    "# label\n",
    "ampO = label(pos=vec(0, 0, 0), text='O', yoffset=-10,\n",
    "             height=25, box=False, font='monospace')\n",
    "amplabeln = label(pos=vec(-A, 0, 0), text='-R', yoffset=-\n",
    "                  10, height=25, box=False, font='sans')\n",
    "amplabelp = label(pos=vec(A, 0, 0), text='R', yoffset=-\n",
    "                  10, height=25, box=False, font='sans')\n",
    "\n",
    "\n",
    "# graph\n",
    "PTg = graph(xtitle='Time', ytitle='Position', title='Position Variation')\n",
    "VTg = graph(xtitle='Time', ytitle='Velocity', title='Velocity Variation')\n",
    "FTg = graph(xtitle='Time', ytitle='Force', title='Force Variation')\n",
    "PDg = graph(xtitle='Position', ytitle='Velocity', title='Phase Diagram')\n",
    "ETg = graph(xtitle='Time', ytitle='Energy', title='Energy Variation')\n",
    "\n",
    "f1 = gcurve(graph=PTg, color=color.gray(0.5))\n",
    "f2 = gcurve(graph=VTg, color=color.blue)\n",
    "f3 = gcurve(graph=FTg, color=color.red)\n",
    "f4 = gcurve(graph=PDg, color=color.orange)\n",
    "f5 = gcurve(graph=ETg, color=color.magenta)\n",
    "f6 = gcurve(graph=ETg, color=color.green)\n",
    "f7 = gcurve(graph=ETg, color=vec(0.8, 0.7, 0.5))\n",
    "\n",
    "\n",
    "while True:\n",
    "    rate(300)\n",
    "\n",
    "    L = spring.axis  # vector\n",
    "    s = L - L0\n",
    "    v_vel = m_v / mag(m_v)\n",
    "    Fs = -(K * s) - (v_vel * FB)\n",
    "\n",
    "    if m_v.x >= 0:\n",
    "        FC = FF\n",
    "    else:\n",
    "        FC = -FF\n",
    "\n",
    "    F = Fs - vector(FC, 0, 0)\n",
    "\n",
    "    m_v = m_v + (F / M) * dt\n",
    "    m_x = m_x + m_v * dt\n",
    "\n",
    "    mass.pos = mass_Cvec + m_x\n",
    "    spring.axis = L0 + m_x\n",
    "\n",
    "    Fs_arr.pos = mass.pos\n",
    "    Fs_arr.axis = Fs * SF\n",
    "\n",
    "    V_arr.pos = mass.pos + vec(0, A, 0)\n",
    "    V_arr.axis = m_v\n",
    "\n",
    "    k_energy = 0.5 * M * mag(m_v) * mag(m_v)\n",
    "    p_energy = 0.5 * K * mag(s) * mag(s)\n",
    "    tot_energy = k_energy + p_energy\n",
    "\n",
    "    t = t + dt\n",
    "\n",
    "    f1.plot(pos=(t, m_x.x))\n",
    "    f2.plot(pos=(t, m_v.x))\n",
    "    f3.plot(pos=(t, Fs.x))\n",
    "    f4.plot(pos=(m_x.x, m_v.x))\n",
    "\n",
    "    f5.plot(pos=(t, k_energy))\n",
    "    f6.plot(pos=(t, p_energy))\n",
    "    f7.plot(pos=(t, tot_energy))\n"
   ]
  },
  {
   "cell_type": "markdown",
   "metadata": {
    "slideshow": {
     "slide_type": "slide"
    }
   },
   "source": [
    "# 彈簧碰撞系統\n",
    "\n",
    "http://keejko.blogspot.tw/2018/04/blog-post_88.html"
   ]
  },
  {
   "cell_type": "code",
   "execution_count": null,
   "metadata": {
    "slideshow": {
     "slide_type": "slide"
    }
   },
   "outputs": [],
   "source": [
    "# encoding:utf-8\n",
    "# 彈力常數不得太小，初速太大會使彈力不足\n",
    "from vpython import *\n",
    "\n",
    "d1, m1, c1 = 0.2, 0.1, color.red   # 左木塊1的邊長 d1, 質量 m1 kg\n",
    "d2, m2, c2 = 0.2, 0.2, color.green # 右木塊2的邊長 d2, 質量 m2 kg\n",
    "\n",
    "v1x = 10   # 左木塊初速，向右\n",
    "v2x = 0    # 右木塊初速\n",
    "sf = 0.05   # scale factor fot velocity arrow\n",
    "\n",
    "hd1, hd2 = d1/2, d2/2 \n",
    "\n",
    "L0 = 1.0    # 彈簧原長L0\n",
    "k = 100.0   # 彈性係數 \n",
    "spring_R = 0.4 * hd1\n",
    "spring_thk = 0.1 * hd1\n",
    "spring_coils = 20\n",
    "\n",
    "xL, xR = -2.0, 2.0              # x 軸範圍\n",
    "floor_thk = 0.05\n",
    "hf_thk = floor_thk/2\n",
    "t = 0                 # 時間\n",
    "dt = 0.0001           # 時間間隔\n",
    "\n",
    "\n",
    "scene = canvas(center = vector(0, 0.4, 0), background = vector(0, 0.6, 0.6))\n",
    "\n",
    "floor = box(size=vec((xR - xL), floor_thk, 0.8), pos = vector(0, -hf_thk, 0), color = color.white)\n",
    "\n",
    "# 左側木塊 b1\n",
    "b1 = box(length = d1, width = d1, height = d1, color = c1, pos = vector(xL+hd1, hd1, 0))  \n",
    "# 右側木塊 b2\n",
    "b2 = box(length = d2, width = d2, height = d2, color = c2, pos = vector(hd2, hd2, 0))  \n",
    "\n",
    "b1.v = vector(v1x, 0, 0)    # 左側木塊 b1 的初速度\n",
    "b2.v = vector(v2x, 0, 0)    # 右側木塊 b2 的初速度\n",
    "\n",
    "arr_b1 = arrow(color = c1)\n",
    "arr_b2 = arrow(color = c2)\n",
    "\n",
    "# 彈簧, 起點為 spring_start=右邊木塊的左側, 終點為 spring_end\n",
    "#spring_start = b2.pos - vector(hd2, hd2, 0)\n",
    "#spring_end = spring_start -vec(L0, hd2, 0)\n",
    "spring = helix(radius = spring_R, thickness = spring_thk, coils = spring_coils, \n",
    "               #pos = spring_start, axis = spring_end - spring_start, \n",
    "               color = color.yellow)\n",
    "\n",
    "# 畫圖\n",
    "# 能量E-時間t\n",
    "gde = graph(title = 'E-t', xtitle = 't (s)')\n",
    "Kt1 = gcurve(graph = gde, color = c1, label = 'K1')\n",
    "Kt2 = gcurve(graph = gde, color = c2, label = 'K2')\n",
    "Ut = gcurve(graph = gde, color = color.orange, label = 'U' )\n",
    "Et = gcurve(graph = gde, color = color.cyan, label = 'Total Energy')\n",
    "\n",
    "# x-t\n",
    "gdx = graph(title = 'x-t')\n",
    "xt1 = gcurve(graph = gdx, color = c1, label = '1')\n",
    "xt2 = gcurve(graph = gdx, color = c2, label = '2')\n",
    "# v-t \n",
    "gdv = graph(title = 'v-t', xtitle = 't (s)')\n",
    "vt1 = gcurve(graph = gdv, color = c1, label = '1')\n",
    "vt2 = gcurve(graph = gdv, color = c2, label = '2')\n",
    "# a-t \n",
    "gda = graph(title = 'a - t', xtitle = 't (s)')\n",
    "at1 = gcurve(graph = gda, color = c1, label = '1')\n",
    "at2 = gcurve(graph = gda, color = c2, label = '2')\n",
    "\n",
    "\"\"\"\n",
    "當木塊抵達地板邊緣時停止\n",
    "\"\"\"\n",
    "while(b2.pos.x - hd2 <= xR and b1.pos.x - hd1 >= xL):\n",
    "    rate(200)\n",
    "\n",
    "    b1_R = b1.pos + vec(hd1, 0, 0) \n",
    "    b2_L = b2.pos - vec(hd2, 0, 0) # =spring_start\n",
    "    \n",
    "    spring.pos = b2_L\n",
    "    #spring_start = b2_L\n",
    "    #spring_end = b2_L - vec(L, 0, 0)\n",
    "    #spring.axis = spring_star - spring_end\n",
    "\n",
    "\n",
    "    # 彈簧長度 < 原長，由F=kx產生彈力，反之，彈力為零\n",
    "    if( mag( b2_L - b1_R ) < L0 ):\n",
    "\n",
    "        spring.axis = b1_R - b2_L  \n",
    "        L = spring.axis.mag\n",
    "        FS = - k * (L - L0) * spring.axis.norm()\n",
    "\n",
    "    else:\n",
    "        L = L0\n",
    "        spring.axis = vector(-L, 0, 0)\n",
    "        FS = vector(0, 0, 0)\n",
    "    \n",
    "    # 加速度、速度、位置\n",
    "    b1.a = FS / m1\n",
    "    b2.a = -FS / m2\n",
    "    \n",
    "    b1.v = b1.v + b1.a * dt\n",
    "    b2.v = b2.v + b2.a * dt\n",
    "    \n",
    "    b1.pos = b1.pos + b1.v * dt\n",
    "    b2.pos = b2.pos + b2.v * dt\n",
    "    \n",
    "    # 速度的箭頭位置、方向、長度\n",
    "    arr_b1.pos= b1.pos + vec(0,d1,0)\n",
    "    arr_b1.axis = sf * b1.v\n",
    "\n",
    "    arr_b2.pos = b2.pos + vec(0,d2,0)\n",
    "    arr_b2.axis = sf * b2.v\n",
    "    \n",
    "    # 動能、彈性位能、力學能\n",
    "    K1 = 0.5 * m1 * b1.v.mag2\n",
    "    K2 = 0.5 * m2 * b2.v.mag2\n",
    "    U = 0.5 * k * (L - L0)**2\n",
    "    E = K1 + K2 + U\n",
    "    \n",
    "    # 能量-t\n",
    "    Kt1.plot(pos = (t, K1))\n",
    "    Kt2.plot(pos = (t, K2))\n",
    "    Ut.plot(pos = (t, U))\n",
    "    Et.plot(pos = (t, E))\n",
    "\n",
    "    # x-t\n",
    "    xt1.plot(pos=(t, b1.pos.x))\n",
    "    xt2.plot(pos=(t, b2.pos.x))\n",
    "    #  v-t \n",
    "    vt1.plot(pos = (t, b1.v.x))\n",
    "    vt2.plot(pos = (t, b2.v.x))\n",
    "    #  a-t \n",
    "    at1.plot(pos = (t, b1.a.x))\n",
    "    at2.plot(pos = (t, b2.a.x))\n",
    "   \n",
    "    t = t + dt\n"
   ]
  },
  {
   "cell_type": "markdown",
   "metadata": {
    "slideshow": {
     "slide_type": "slide"
    }
   },
   "source": [
    "# 單擺\n",
    "http://keejko.blogspot.tw/2018/04/blog-post_99.html\n",
    "\n",
    "一質量m的小球用一輕繩子懸掛在天花板底下，設擺長為$L$（懸點到球心）。\n",
    "\n",
    "初始時，繩子與鉛垂線的夾角（擺角）為 $\\theta_{0}$，將小球由靜止釋放。\n",
    "\n",
    "當擺角為 $\\theta$ 時，小球受到重力及繩子張力的作用，則相對於懸點產生的力矩\n",
    "\n",
    "$$\\tau=mgL\\sin\\theta=I\\alpha=I\\dot{\\omega}=mL^{2}\\frac{d^{2}\\theta}{dt^2}$$\n",
    "\n",
    "$$\\Rightarrow \\frac{d^{2}\\theta}{dt^2}=\\frac{g}{L} \\sin\\theta = \\omega_{0}^{2} \\sin\\theta $$\n",
    "\n",
    "當$\\theta \\lesssim 5^{\\circ}$時，$\\sin \\theta \\approx \\tan \\theta \\approx \\theta$，故\n",
    "\n",
    "$$ \\frac{d^{2}\\theta}{dt^2}=\\omega_{0}^{2} \\theta  $$\n",
    "\n",
    "$$\\Rightarrow \\theta(t) = A \\sin (\\omega_{0} t ) + B \\cos (\\omega_{0} t) $$\n",
    "\n",
    "放入Initial conditions: $t=0$ 時，\n",
    "\n",
    "$$\\theta (t=0) = \\theta_{0}，\\dot{\\theta}(t=0)=\\omega=0   $$\n",
    "\n",
    "$$\\Rightarrow A=0， B=\\theta_{0}$$\n",
    "\n",
    "因此，角度、角速度、角加速度隨時間的關係為：\n",
    "\n",
    "$$\\theta(t) = \\theta_{0} \\cos (\\omega_{0} t)=  \\theta_{0} \\cos \\left( \\sqrt{\\frac{g}{L}} t \\right) $$\n",
    "\n",
    "$$\\omega(t)=\\dot{\\theta(t)} = - \\theta_{0}\\sqrt{\\frac{g}{L}}  \\sin \\left( \\sqrt{\\frac{g}{L}} t \\right) $$\n",
    "\n",
    "$$\\alpha=\\dot{\\omega(t)} = -\\theta_{0}\\frac{g}{L} \\cos \\left( \\sqrt{\\frac{g}{L}} t \\right)$$\n",
    "\n",
    "週期T $$T=\\frac{2\\pi}{\\omega_{0}}=2\\pi \\sqrt{\\frac{L}{g}}$$"
   ]
  },
  {
   "cell_type": "code",
   "execution_count": null,
   "metadata": {
    "slideshow": {
     "slide_type": "subslide"
    }
   },
   "outputs": [],
   "source": [
    "# encoding: utf-8\n",
    "from vpython import *\n",
    "\n",
    "#Constants\n",
    "g = 9.8              # 重力加速度\n",
    "b = 0.1              # 阻力係數 f = bv\n",
    "\n",
    "t = 0                \n",
    "dt = 0.001  \n",
    "\n",
    "m = 1                # 質量\n",
    "R = 0.2              # 半徑\n",
    "L = 5                # 擺長\n",
    "I = m*L*L            # 轉動慣量\n",
    "T = 2*pi*sqrt(L/g)   # 單擺週期理論值\n",
    "\n",
    "theta0 = radians(30) # 起始擺角, 用 radians 將單位換成 rad\n",
    "theta = theta0       # 擺角\n",
    "\n",
    "#球的座標位置\n",
    "ceiling_y = L + 0.05\n",
    "xp = L * sin(theta)\n",
    "yp = L * (1 - cos(theta))\n",
    "\n",
    "alpha = 0            # 角加速度\n",
    "omega = 0            # 角速度\n",
    "\n",
    "i = 0                # 經過週期計數\n",
    "         \n",
    "\n",
    "scene = canvas(background = vector(0, 0.6, 0.6))\n",
    "\n",
    "ceiling = box(pos = vector(0, ceiling_y, 0), size = vec(L, 0.1, L/2), color = color.blue)\n",
    "ball = sphere(pos = vector(xp, yp, 0), radius = R, color = color.red, \n",
    "              make_trail = True, retain = 100)\n",
    "#初速\n",
    "ball.v = vector(0, 0, 0)\n",
    "\n",
    "rope = cylinder(pos = vector(0, L, 0), axis = ball.pos - vector(0, L, 0), radius = 0.1*R, \n",
    "                color = color.white)\n",
    "# 速度箭頭\n",
    "arrow_v = arrow(pos = ball.pos, axis = vec(0,0,0), shaftwidth = 0.3*R, color = color.green)\n",
    "\n",
    "\n",
    "# 畫圖\n",
    "gd = graph(xtitle = \"t(s)\")\n",
    "theta_t = gcurve(graph = gd, color = color.blue)\n",
    "omega_t = gcurve(graph = gd, color = color.green)\n",
    "alpha_t = gcurve(graph = gd, color = color.red)\n",
    "\n",
    "\n",
    "omega_be = omega\n",
    "\n",
    "while(i < 10): # 執行10個週期\n",
    "    rate(200)\n",
    "    \n",
    "    # 力矩、角加速度、角速度、角位移\n",
    "    r = ball.pos - vector(0, L, 0)\n",
    "    F = vector(0, -m*g, 0) - (b * ball.v)\n",
    "    torque = cross(r, F)  # 外積(vector)  \n",
    "    alpha = torque.z / I\n",
    "\n",
    "    # 角加速度與角速度\n",
    "    omega = omega + alpha*dt\n",
    "    theta = theta + omega*dt\n",
    "\n",
    "    # 對應的位置與速度\n",
    "    xp = L * sin(theta)\n",
    "    yp = L * (1 - cos(theta))\n",
    "\n",
    "    ball.pos = vector(xp, yp, 0)\n",
    "    v = L * omega\n",
    "    vx = v * cos(theta)\n",
    "    vy = v * sin(theta)\n",
    "    ball.v = vec(vx, vy, 0)\n",
    "    rope.axis = r\n",
    "\n",
    "    # 畫速度箭頭\n",
    "    arrow_v.pos = ball.pos\n",
    "    arrow_v.axis = vector(vx, vy, 0)\n",
    "    \n",
    "    # theta-t, omega-t, alpha-t 圖\n",
    "    theta_t.plot(pos = (t, theta))\n",
    "    omega_t.plot(pos = (t, omega))\n",
    "    alpha_t.plot(pos = (t, alpha))\n",
    "    \n",
    "    # 週期計數，角速度換正負時，計數一次\n",
    "    omega_af = omega\n",
    "    if omega_be > 0 and omega_af < 0:\n",
    "        i = i + 1\n",
    "        print(i, t)\n",
    "    omega_be = omega_af\n",
    "    \n",
    "    t = t + dt"
   ]
  },
  {
   "cell_type": "markdown",
   "metadata": {
    "slideshow": {
     "slide_type": "slide"
    }
   },
   "source": [
    "# 滾動的球"
   ]
  },
  {
   "cell_type": "code",
   "execution_count": null,
   "metadata": {
    "slideshow": {
     "slide_type": "subslide"
    }
   },
   "outputs": [],
   "source": [
    "from vpython import *\n",
    "\n",
    "scene = canvas(width=800, height=800)\n",
    "               \n",
    "#半徑 \n",
    "R = 0.5\n",
    "#地板長\n",
    "L = 1.0\n",
    "#時間間隔\n",
    "dt = 0.001\n",
    "\n",
    "\n",
    "bottom = box(pos=vec(0,-R,0), length=2*L, height=0.001, width=2)\n",
    "wall = box(pos=vec(L,-R/2,0), length=0.01, height=R, width=2)\n",
    "\n",
    "ball = sphere(pos=vec(-L,0,0), radius=R, color=color.red)\n",
    "ball.v = 0.5\n",
    "\n",
    "while True:\n",
    "    rate(200)\n",
    "    \n",
    "    ball.pos.x = ball.pos.x + ball.v *dt\n",
    "    \n",
    "    ball.rotate(axis=vec(0,0,1), angle=-ball.v*dt/R)\n",
    "    "
   ]
  },
  {
   "cell_type": "markdown",
   "metadata": {
    "slideshow": {
     "slide_type": "slide"
    }
   },
   "source": [
    "# 一堆球一起滾"
   ]
  },
  {
   "cell_type": "code",
   "execution_count": null,
   "metadata": {
    "slideshow": {
     "slide_type": "subslide"
    }
   },
   "outputs": [],
   "source": [
    "from vpython import *\n",
    "\n",
    "scene = canvas(width=800, height=800)\n",
    "               \n",
    "#半徑 \n",
    "R = 0.05\n",
    "#地板長\n",
    "L = 1.0\n",
    "#時間間隔\n",
    "dt = 0.001\n",
    "\n",
    "bottom = box(pos=vec(0,-R,0), length=2*L, height=0.001, width=2)\n",
    "\n",
    "ball_a = sphere(pos=vec(-4*R,0,0), radius=R, color=color.red)\n",
    "ball_b = sphere(pos=vec(-2*R,0,0), radius=R, color=color.green)\n",
    "ball_c = sphere(pos=vec( 0,0,0), radius=R, color=color.blue)\n",
    "ball_d = sphere(pos=vec(2*R,0,0), radius=R, color=color.magenta)\n",
    "ball_e = sphere(pos=vec(4*R,0,0), radius=R, color=color.orange)\n",
    "\n",
    "Balls = [ball_a, ball_b, ball_c, ball_d, ball_e]\n",
    "\n",
    "Ballv = [0.5, 0.2, 0.4, 0.6, 0.1]\n",
    "#ballv =0.5\n",
    "\n",
    "while True:\n",
    "    rate(200)\n",
    "\n",
    "    i=0\n",
    "    for ball in Balls:\n",
    "        ball.rotate(axis=vec(0,0,1), angle=-Ballv[i]*dt/R)\n",
    "        ball.pos.z = ball.pos.z + Ballv[i] *dt\n",
    "\n",
    "        i = i + 1"
   ]
  },
  {
   "cell_type": "markdown",
   "metadata": {
    "slideshow": {
     "slide_type": "slide"
    }
   },
   "source": [
    "# 球在一個盒子裡作等速運動"
   ]
  },
  {
   "cell_type": "code",
   "execution_count": null,
   "metadata": {
    "slideshow": {
     "slide_type": "subslide"
    }
   },
   "outputs": [],
   "source": [
    "from vpython import *\n",
    "import numpy as np\n",
    "\n",
    "scene = canvas()\n",
    "\n",
    "Length = 1.0\n",
    "HL = 0.5 * Length\n",
    "R = 0.01  #半徑 \n",
    "\n",
    "Thk = R   # thickness\n",
    "H = Length\n",
    "W = Length\n",
    "\n",
    "\n",
    "wall_L = box(pos=vec(-HL,0,0), size=vec(Thk, H, W))  # size=vec(L,H,W)=vec(x,y,z)\n",
    "wall_R = box(pos=vec(HL,0,0), size=vec(Thk, H, W)) \n",
    "wall_T = box(pos=vec(0,HL,0), size=vec(H, Thk, W)) \n",
    "wall_D = box(pos=vec(0, -HL,0), size=vec(H, Thk, W)) \n",
    "wall_B = box(pos=vec(0,0,-HL), size=vec(W, H, Thk)) \n",
    "\n",
    "#時間間隔\n",
    "dt = 0.001\n",
    "\n",
    "vx, vy, vz = np.random.rand(3)\n",
    "\n",
    "ball = sphere(pos=vec(0,0,0), radius=R, color=color.red, make_trail=True, retain=200)\n",
    "ball.v = 5 *  vector(vx, vy, vz)  # [0,1) random numbers for given shape\n",
    "\n",
    "\n",
    "while True:\n",
    "    rate(200)\n",
    "    \n",
    "    ball.pos = ball.pos + ball.v *dt\n",
    "    \n",
    "    if np.abs(ball.pos.x) >= (HL-2*R):\n",
    "        ball.v.x = -ball.v.x\n",
    " \n",
    "    elif np.abs(ball.pos.y) >= (HL-2*R):\n",
    "        ball.v.y = -ball.v.y\n",
    "\n",
    "    elif np.abs(ball.pos.z) >= (HL-2*R):\n",
    "        ball.v.z = -ball.v.z\n",
    "    \n"
   ]
  },
  {
   "cell_type": "markdown",
   "metadata": {
    "slideshow": {
     "slide_type": "slide"
    }
   },
   "source": [
    "# 二維、三維彈性碰撞\n",
    "\n",
    "兩個等大的球，質量分別為$m_{1}、m_{2}$，初速為$v_{1}、v_{2}$，作斜向彈性碰撞。\n",
    "\n",
    "碰撞瞬間，兩球球心座標為$\\vec{r_{1}}、\\vec{r_{2}}$，則兩者末速為：\n",
    "\n",
    "$$ \\vec{v'_{1}} = \\vec{v_{1}} - \\frac{2m_{2}}{m_{1}+m_{2}} \\frac{ (\\vec{v_{1}} - \\vec{v_{2}}) \\cdot ( \\vec{r_{1}} - \\vec{r_{2}} )  }  { \\lvert r_{1}-r_{2} \\rvert ^{2}}  ( \\vec{r_{1}} - \\vec{r_{2}} ) $$\n",
    "\n",
    "$$ \\vec{v'_{2}} = \\vec{v_{2}} - \\frac{2m_{1}}{m_{1}+m_{2}} \\frac{ (\\vec{v_{2}} - \\vec{v_{1}}) \\cdot ( \\vec{r_{2}} - \\vec{r_{1}} )  }  { \\lvert r_{2}-r_{1} \\rvert ^{2}}  ( \\vec{r_{2}} - \\vec{r_{1}} ) $$"
   ]
  },
  {
   "cell_type": "code",
   "execution_count": null,
   "metadata": {
    "slideshow": {
     "slide_type": "subslide"
    }
   },
   "outputs": [],
   "source": [
    "# encoding: utf-8\n",
    "from vpython import *\n",
    "import numpy as np\n",
    "import scipy.constants as cont\n",
    "\n",
    "\n",
    "R = 1.0\n",
    "dt = 0.01\n",
    "\n",
    "def Collision(v1, v2, x1, x2):\n",
    "    r = mag(x1-x2)\n",
    "    v1f = dot((v1-v2), (x1-x2))/(r*2)\n",
    "    v1f = v1 - v1f * (x1-x2)\n",
    "\n",
    "    v2f = dot((v2-v1), (x2-x1))/(r*2)\n",
    "    v2f = v2 - v2f * (x2-x1)\n",
    "\n",
    "    return v1f, v2f\n",
    "\n",
    "b1 = sphere(pos=vec(0,0,0), radius=R, color=color.green)\n",
    "b1.v = vector(1,0,0)\n",
    "b2 = sphere(pos=vec(10, 1,0), radius=R, color=color.red)\n",
    "b2.v = vector(-2,0,0)\n",
    "\n",
    "while True: \n",
    "    rate(100)\n",
    "\n",
    "    if mag(b1.pos-b2.pos)<(2*R) and dot((b1.v - b2.v), (b1.pos-b2.pos))<=0:\n",
    "        b1.v, b2.v = Collision(b1.v, b2.v, b1.pos, b2.pos)\n",
    "\n",
    "    b1.pos = b1.pos + b1.v * dt\n",
    "    b2.pos = b2.pos + b2.v * dt\n"
   ]
  },
  {
   "cell_type": "markdown",
   "metadata": {
    "slideshow": {
     "slide_type": "slide"
    }
   },
   "source": [
    "# Maxwellian Distribution\n",
    "\n",
    "Assuming the system of interest contains a large number of particles, the fraction of the particles within an infinitesimal element of three-dimensional velocity space, $d^{3}v$\n",
    ", centered on a velocity vector of magnitude $v$, is $f(v)d^{3}v$, in which\n",
    "\n",
    "$$f(v)=\\left(\\frac{m}{2\\pi kT}\\right)^{\\frac{3}{2}}  e^{-\\frac{mv^{2}}{2kT}}$$\n",
    "\n",
    "where $m$ is the particle mass and $kT$ is the product of Boltzmann's constant and thermodynamic temperature.\n",
    "One can write the element of velocity space as $d^{3}v= dv_{x} dv_{y} dv_{z}$, for velocities in a standard Cartesian coordinate system. Here $f(v)$ is given as a probability distribution function, properly normalized so that $ \\int f(v)d^{3}v$ over all velocities equals one.\n",
    "\n",
    "\n",
    "Recognizing the symmetry of $f(v)$, one can integrate over solid angle and write a probability distribution of speeds as the function \n",
    "$$f(v,T)=\\left(\\frac{m}{2\\pi kT}\\right)^{\\frac{3}{2}} 4\\pi v^{2} e^{-\\frac{mv^{2}}{2kT}}$$\n",
    "\n",
    "This probability density function gives the probability, per unit speed, of finding the particle with a speed near $ v$.\n",
    "\n",
    "- The most probable speed\n",
    "  $$ \\frac{df(v)}{dv}=0 \\Rightarrow v_{p}=\\sqrt{ \\frac{2kT}{m} }$$\n",
    "\n",
    "- The mean speed is the expected value of the speed distribution\n",
    "  $$ \\langle v \\rangle = \\int_{0}^{\\infty} v f(v) dv = \\sqrt { \\frac{8kT}{\\pi m}}$$\n",
    "  \n",
    "- The \"root mean square speed\" $v_{rms}$ is the square root of the mean square speed, corresponding to the speed of a particle   \n",
    "  with median kinetic energy\n",
    "  \n",
    "  $$v_{rms}=\\sqrt{\\langle v^{2}\\rangle} =  \\left( \\int_{0}^{\\infty} v^{2} f(v) dv \\right)^{1/2} = \\sqrt{ \\frac{3kT}{m}} $$\n",
    "\n",
    "$$\\Rightarrow \\left(v_{p} \\approx 88.6\\%\\ \\langle v\\rangle \\right) <\\langle v\\rangle <  \\left( v_{rms} \\approx 108.5\\%\\ \\langle v\\rangle \\right)  $$\n",
    "\n",
    "\n",
    "- The root mean square speed is directly related to the speed of sound c in the gas, by\n",
    "\n",
    " $$ c = \\sqrt {\\frac {\\gamma }{3}}  v_{rms} = {\\sqrt {\\frac {f+2}{3f}}}\\ v_{rms} ={\\sqrt {\\frac {f+2}{2f}}}\\ v_{p}$$ \n",
    "\n",
    " where $\\gamma =1+\\frac {2}{f}$ is the adiabatic index,$ f$ is the number of degrees of freedom of the individual gas molecule.\n",
    " \n",
    " For the example, diatomic nitrogen (approximating air) at 300 K, $f=5$ and\n",
    "\n",
    "$$ c={\\sqrt {\\frac {7}{15}}}v_{rms}  \\approx 68\\%\\ v_{rms} \\approx 84\\%\\ v_{p}\\approx 353\\  (m/s) $$"
   ]
  },
  {
   "cell_type": "code",
   "execution_count": 1,
   "metadata": {
    "slideshow": {
     "slide_type": "slide"
    }
   },
   "outputs": [
    {
     "data": {
      "text/plain": [
       "<matplotlib.legend.Legend at 0x28e5e5939b0>"
      ]
     },
     "execution_count": 1,
     "metadata": {},
     "output_type": "execute_result"
    },
    {
     "data": {
      "image/png": "[encoded data removed]",
      "text/plain": [
       "<Figure size 432x288 with 1 Axes>"
      ]
     },
     "metadata": {},
     "output_type": "display_data"
    }
   ],
   "source": [
    "# plot Maxwellian distribution by matplotlib\n",
    "%matplotlib inline\n",
    "import numpy as np\n",
    "import matplotlib.pyplot as plt\n",
    "\n",
    "gas = [1.0, 4.0, 20, 28.0, 32.0]\n",
    "name = [r'$^{1}$H', r'$^{4}$He', r'$^{20}$Ne', r'$^{28}$N$_{2}$', r'$^{32}$O$_{2}$']\n",
    "\n",
    "# temperture\n",
    "T = 300 \n",
    "\n",
    "k = 1.38E-23\n",
    "Vmin = 1\n",
    "Vmax = 3000\n",
    "N = int(Vmax - Vmin) # number of velociteis\n",
    "\n",
    "def Max_dist(m, T, v):\n",
    "    #v = np.arange(3000)\n",
    "    a = (m/(2*np.pi*k*T))**1.5 \n",
    "    a = a * 4.0 * np.pi\n",
    "    a = a * v * v * np.exp(-m*v*v/(2.0*k*T))\n",
    "    return a\n",
    "\n",
    "v = np.arange(Vmin,Vmax)\n",
    "nv = np.zeros((len(gas),N))\n",
    "\n",
    "for i in range(len(gas)):\n",
    "    mass = gas[i] * 1.67E-27\n",
    "\n",
    "    for j in range(Vmin, Vmax-1):\n",
    "        nv[i,j] = Max_dist(mass, T, j)\n",
    "\n",
    "\n",
    "plt.figure()\n",
    "\n",
    "for ii in range(len(name)):\n",
    "    plt.plot(v, nv[ii,:], label=name[ii])\n",
    "\n",
    "plt.xlabel('speed(m/s)')\n",
    "plt.ylabel('Probability density(s/m)')\n",
    "plt.title('Maxwellian Distribution \\n T = 300 K', fontsize=18)\n",
    "\n",
    "plt.legend()"
   ]
  },
  {
   "cell_type": "code",
   "execution_count": 2,
   "metadata": {
    "slideshow": {
     "slide_type": "slide"
    }
   },
   "outputs": [
    {
     "data": {
      "application/javascript": [
       "require.undef(\"nbextensions/vpython_libraries/glow.min\");"
      ],
      "text/plain": [
       "<IPython.core.display.Javascript object>"
      ]
     },
     "metadata": {},
     "output_type": "display_data"
    },
    {
     "data": {
      "application/javascript": [
       "require.undef(\"nbextensions/vpython_libraries/glowcomm\");"
      ],
      "text/plain": [
       "<IPython.core.display.Javascript object>"
      ]
     },
     "metadata": {},
     "output_type": "display_data"
    },
    {
     "data": {
      "application/javascript": [
       "require.undef(\"nbextensions/vpython_libraries/jquery-ui.custom.min\");"
      ],
      "text/plain": [
       "<IPython.core.display.Javascript object>"
      ]
     },
     "metadata": {},
     "output_type": "display_data"
    },
    {
     "data": {
      "application/javascript": [
       "require([\"nbextensions/vpython_libraries/glow.min\"], function(){console.log(\"GLOW LOADED\");})"
      ],
      "text/plain": [
       "<IPython.core.display.Javascript object>"
      ]
     },
     "metadata": {},
     "output_type": "display_data"
    },
    {
     "data": {
      "application/javascript": [
       "require([\"nbextensions/vpython_libraries/glowcomm\"], function(){console.log(\"GLOWCOMM LOADED\");})"
      ],
      "text/plain": [
       "<IPython.core.display.Javascript object>"
      ]
     },
     "metadata": {},
     "output_type": "display_data"
    },
    {
     "data": {
      "application/javascript": [
       "require([\"nbextensions/vpython_libraries/jquery-ui.custom.min\"], function(){console.log(\"JQUERY LOADED\");})"
      ],
      "text/plain": [
       "<IPython.core.display.Javascript object>"
      ]
     },
     "metadata": {},
     "output_type": "display_data"
    },
    {
     "data": {
      "text/html": [
       "<div id=\"glowscript\" class=\"glowscript\"></div>"
      ],
      "text/plain": [
       "<IPython.core.display.HTML object>"
      ]
     },
     "metadata": {},
     "output_type": "display_data"
    },
    {
     "data": {
      "application/javascript": [
       "window.__context = { glowscript_container: $(\"#glowscript\").removeAttr(\"id\")}"
      ],
      "text/plain": [
       "<IPython.core.display.Javascript object>"
      ]
     },
     "metadata": {},
     "output_type": "display_data"
    },
    {
     "data": {
      "text/html": [
       "<div id=\"glowscript\" class=\"glowscript\"></div>"
      ],
      "text/plain": [
       "<IPython.core.display.HTML object>"
      ]
     },
     "metadata": {},
     "output_type": "display_data"
    },
    {
     "data": {
      "application/javascript": [
       "window.__context = { glowscript_container: $(\"#glowscript\").removeAttr(\"id\")}"
      ],
      "text/plain": [
       "<IPython.core.display.Javascript object>"
      ]
     },
     "metadata": {},
     "output_type": "display_data"
    }
   ],
   "source": [
    "# plot Maxwellian distribution by vpython with histogram diagram \n",
    "from vpython import *\n",
    "import numpy as np\n",
    "\n",
    "\n",
    "T1 = 300\n",
    "T2 = 2000\n",
    "T3 = 6000\n",
    "\n",
    "k = 1.38E-23\n",
    "m = 32 * 1.67E-27\n",
    "\n",
    "Vmin = 1\n",
    "Vmax = 3000\n",
    "N = Vmax - Vmin # number of velociteis\n",
    "dv = (Vmax-Vmin)/100\n",
    "\n",
    "def Max_dist(m, T, v):\n",
    "    a = (m/(2*np.pi*k*T))**1.5 \n",
    "    a = a * 4.0 * np.pi\n",
    "    a = a * v * v * np.exp(-m*v*v/(2.0*k*T))\n",
    "    return a \n",
    "\n",
    "\n",
    "scene = canvas()\n",
    "gd = graph(xtitle='speed(m/s)', ytitle='Probability density(s/m)', \n",
    "           title='Maxwellian Distribution in histogram diagram \\n Oxygen gas ')\n",
    "\n",
    "histo1 = gvbars(graph=gd, delta=dv, color=color.red, label='T=300K')  # 長條圖設定寬度為dv\n",
    "histo2 = gvbars(graph=gd, delta=dv, color=color.green, label='T=2000K')\n",
    "histo3 = gvbars(graph=gd, delta=dv, color=color.blue, label='T=6000K')\n",
    "\n",
    "for v in np.arange(Vmin, Vmax, dv):        # step = dv\n",
    "    histo1.plot(pos=(v, Max_dist(m,T1,v)))\n",
    "    histo2.plot(pos=(v, Max_dist(m,T2,v)))\n",
    "    histo3.plot(pos=(v, Max_dist(m,T3,v)))"
   ]
  },
  {
   "cell_type": "code",
   "execution_count": null,
   "metadata": {
    "slideshow": {
     "slide_type": "slide"
    }
   },
   "outputs": [],
   "source": [
    "#VPython範例\n",
    "from vpython import *\n",
    "\n",
    "# Hard-sphere gas.\n",
    "\n",
    "# Bruce Sherwood\n",
    "\n",
    "win = 500\n",
    "\n",
    "Natoms = 100  # change this to have more or fewer atoms\n",
    "\n",
    "# Typical values\n",
    "L = 1 # container is a cube L on a side\n",
    "gray = color.gray(0.7) # color of edges of container\n",
    "mass = 4E-3/6E23 # helium mass\n",
    "Ratom = 0.03 # wildly exaggerated size of helium atom\n",
    "k = 1.4E-23 # Boltzmann constant\n",
    "T = 300 # around room temperature\n",
    "dt = 1E-5\n",
    "\n",
    "animation = canvas( width=win, height=win, align='left')\n",
    "animation.range = L\n",
    "\n",
    "d = L/2+Ratom\n",
    "r = 0.005\n",
    "boxbottom = curve(color=gray, radius=r)\n",
    "boxbottom.append([vector(-d,-d,-d), vector(-d,-d,d), vector(d,-d,d), vector(d,-d,-d), vector(-d,-d,-d)])\n",
    "boxtop = curve(color=gray, radius=r)\n",
    "boxtop.append([vector(-d,d,-d), vector(-d,d,d), vector(d,d,d), vector(d,d,-d), vector(-d,d,-d)])\n",
    "vert1 = curve(color=gray, radius=r)\n",
    "vert2 = curve(color=gray, radius=r)\n",
    "vert3 = curve(color=gray, radius=r)\n",
    "vert4 = curve(color=gray, radius=r)\n",
    "vert1.append([vector(-d,-d,-d), vector(-d,d,-d)])\n",
    "vert2.append([vector(-d,-d,d), vector(-d,d,d)])\n",
    "vert3.append([vector(d,-d,d), vector(d,d,d)])\n",
    "vert4.append([vector(d,-d,-d), vector(d,d,-d)])\n",
    "\n",
    "Atoms = []\n",
    "apos = []\n",
    "p = []\n",
    "pavg = sqrt(2*mass*1.5*k*T) # average kinetic energy p**2/(2mass) = (3/2)kT\n",
    "r = 0.005*L\n",
    "    \n",
    "for i in range(Natoms):\n",
    "    x = L*random()-L/2\n",
    "    y = L*random()-L/2\n",
    "    z = L*random()-L/2\n",
    "    if i == 0:\n",
    "        Atoms.append(sphere(pos=vector(x,y,z), radius=Ratom, color=color.cyan, make_trail=True, retain=100))\n",
    "    else: Atoms.append(sphere(pos=vector(x,y,z), radius=Ratom, color=gray))\n",
    "    apos.append(vector(x,y,z))\n",
    "    theta = pi*random()\n",
    "    phi = 2*pi*random()\n",
    "    px = pavg*sin(theta)*cos(phi)\n",
    "    py = pavg*sin(theta)*sin(phi)\n",
    "    pz = pavg*cos(theta)\n",
    "    p.append(vector(px,py,pz))\n",
    "\n",
    "animation.title = 'A \"hard-sphere\" gas'\n",
    "s = \"\"\" Theoretical and averaged speed distributions (meters/sec).\n",
    " Initially all atoms have the same speed, but collisions\n",
    " change the speeds of the colliding atoms. One of the atoms is\n",
    " marked and leaves a trail so you can follow its path.\"\"\"\n",
    "animation.caption = s\n",
    "\n",
    "deltav = 100 # binning for v histogram\n",
    "\n",
    "def barx(v):\n",
    "    return int(v/deltav) # index into bars array\n",
    "\n",
    "nhisto = int(4000/deltav)\n",
    "histo = []\n",
    "for i in range(nhisto): histo.append(0.0)\n",
    "histo[barx(pavg/mass)] = Natoms\n",
    "\n",
    "graph( width=win, height=0.4*win, xmax=3000, ymax=Natoms*deltav/1000, align='right' )\n",
    "theory = gcurve( color=color.blue )\n",
    "dv = 10\n",
    "for v in range(0,3001+dv,dv):  # theoretical prediction\n",
    "    theory.plot( v, (deltav/dv)*Natoms*4*pi*((mass/(2*pi*k*T))**1.5) *exp(-0.5*mass*(v**2)/(k*T))*(v**2)*dv )\n",
    "\n",
    "accum = []\n",
    "for i in range(int(3000/deltav)): accum.append([deltav*(i+.5),0])\n",
    "vdist = gvbars(color=color.red, delta=deltav )\n",
    "\n",
    "def interchange(v1, v2):  # remove from v1 bar, add to v2 bar\n",
    "    barx1 = barx(v1)\n",
    "    barx2 = barx(v2)\n",
    "    if barx1 == barx2:  return \n",
    "    histo[barx1] -= 1\n",
    "    histo[barx2] += 1\n",
    "    \n",
    "def checkCollisions(apos):\n",
    "    hitlist = []\n",
    "    Natoms = len(apos)\n",
    "    r2 = 2*Ratom\n",
    "    r2 *= r2\n",
    "    for i in range(Natoms):\n",
    "        ai = apos[i]\n",
    "        for j in range(i+1, Natoms) :\n",
    "            aj = apos[j]\n",
    "            dr = ai - aj\n",
    "            if mag2(dr) < r2: hitlist.append([i,j])\n",
    "    return hitlist\n",
    "\n",
    "nhisto = 0 # number of histogram snapshots to average\n",
    "\n",
    "while True:\n",
    "    rate(150)\n",
    "    # Accumulate and average histogram snapshots\n",
    "    for i in range(len(accum)): accum[i][1] = (nhisto*accum[i][1] + histo[i])/(nhisto+1)\n",
    "    if nhisto % 10 == 0:\n",
    "        vdist.data = accum\n",
    "    nhisto += 1\n",
    "\n",
    "    # Update all positions\n",
    "    for i in range(Natoms): Atoms[i].pos = apos[i] = apos[i] + (p[i]/mass)*dt\n",
    "    \n",
    "    # Check for collisions\n",
    "    hitlist = checkCollisions(apos)\n",
    "\n",
    "    # If any collisions took place, update momenta of the two atoms\n",
    "    for ij in hitlist:\n",
    "        i = ij[0]\n",
    "        j = ij[1]\n",
    "        ptot = p[i]+p[j]\n",
    "        vi = p[i]/mass\n",
    "        vj = p[j]/mass\n",
    "        vrel = vj-vi\n",
    "        a = vrel.mag2\n",
    "        if a == 0: continue;  # exactly same velocities\n",
    "        rrel = apos[i]-apos[j]\n",
    "        b = 2*rrel.dot(vrel)\n",
    "        c = rrel.mag2-4*Ratom*Ratom\n",
    "        d = b*b-4*a*c\n",
    "        if d < 0: continue  # something wrong; ignore this rare case\n",
    "        deltat = (-b+sqrt(d))/(2*a) # t-deltat is when they made contact\n",
    "        apos[i] = apos[i]-vi*deltat # back up to contact configuration\n",
    "        apos[j] = apos[j]-vj*deltat\n",
    "        mtot = 2*mass\n",
    "        pcmi = p[i]-ptot*mass/mtot # transform momenta to cm frame\n",
    "        pcmj = p[j]-ptot*mass/mtot\n",
    "        rrel = norm(rrel)\n",
    "        pcmi = pcmi-2*pcmi.dot(rrel)*rrel # bounce in cm frame\n",
    "        pcmj = pcmj-2*pcmj.dot(rrel)*rrel\n",
    "        p[i] = pcmi+ptot*mass/mtot # transform momenta back to lab frame\n",
    "        p[j] = pcmj+ptot*mass/mtot\n",
    "        apos[i] = apos[i]+(p[i]/mass)*deltat # move forward deltat in time\n",
    "        apos[j] = apos[j]+(p[j]/mass)*deltat\n",
    "        interchange(vi.mag, p[i].mag/mass)\n",
    "        interchange(vj.mag, p[j].mag/mass)\n",
    "    \n",
    "    for i in range(Natoms):\n",
    "        loc = apos[i]\n",
    "        if abs(loc.x) > L/2:\n",
    "            if loc.x < 0: p[i].x =  abs(p[i].x)\n",
    "            else: p[i].x =  -abs(p[i].x)\n",
    "        \n",
    "        if abs(loc.y) > L/2:\n",
    "            if loc.y < 0: p[i].y = abs(p[i].y)\n",
    "            else: p[i].y =  -abs(p[i].y)\n",
    "        \n",
    "        if abs(loc.z) > L/2:\n",
    "            if loc.z < 0: p[i].z =  abs(p[i].z)\n",
    "            else: p[i].z =  -abs(p[i].z)\n"
   ]
  },
  {
   "cell_type": "code",
   "execution_count": null,
   "metadata": {},
   "outputs": [],
   "source": [
    "# 未完成"
   ]
  },
  {
   "cell_type": "markdown",
   "metadata": {
    "slideshow": {
     "slide_type": "slide"
    }
   },
   "source": [
    "# 圓柱形cylinder\n",
    "\n",
    "![vpython_coordinate](.\\images\\vpython_coordinate.png)\n",
    "\n",
    "`rod = cylinder(pos=vector(0,2,1), axis=vector(5,0,0), radius=1)`\n",
    "\n",
    "The center of one end of this cylinder is at x=0, y=2, and z=1. Its axis lies along the x axis, with length 5, so that the other end of the cylinder is at (5,2,1), as shown in the accompanying diagram.\n",
    "\n",
    "\n",
    "most of which also apply to other objects:\n",
    "\n",
    "- `pos` Position: the center of one end of the cylinder; default = vector(0,0,0)\n",
    " axis The axis points from pos to the other end of the cylinder, default = vector(1,0,0). Setting the axis makes length equal to the magnitude of the axis. An object's axis and up attributes are always perpendicular to each other. Changing the direction of axis also changes the direction of up so that the two directions always remain at right angles to each other.\n",
    "\n",
    "- `up` Which side of the cylinder is \"up\"; this has only a subtle effect on the 3D appearance of the cylinder unless a non-smooth texture is specified or the cross section is oval; the default is vector(0,1,0). An object's axis and up attributes are always perpendicular to each other. Changing the direction of up also changes the direction of axis so that the two directions always remain at right angles to each other.\n",
    "\n",
    "- `length` Length of axis and x component of size; default is 1. Setting the length makes the magnitude of the axis equal to the length.\n",
    "\n",
    "- `radius` The radius of the cylinder, default = 1\n",
    "\n",
    "- `size` Instead of specifying length and radius, you can set size=vector(length,height,width), which means that the cross section of the cylinder can be elliptical, which is not currently possible in classic VPython. Setting size makes the magnitude of axis be equal to the x component of the size (the length).\n",
    "\n",
    "- `color` Color of object, as a red-green-blue (RGB) triple: vector(1,0,0) is pure red, default = vector(1,1,1), which is color.white\n",
    "\n",
    "- `red, green, blue` (can set these color attributes individually), defaults are all 1\n",
    "\n",
    "- `opacity` Opacity of object, default = 1; 0 is completely transparent\n",
    "\n",
    "- `shininess` 0 to 1, default 0.6; governs the amount of specular reflections.\n",
    "\n",
    "- `emissive` If True, local and distant lights are ignored, and the brightness is governed by the object's own color. An example of its use is to put an emissive sphere at the location of a local_light, which looks like a glowing lamp. The default for emissive is False.\n"
   ]
  },
  {
   "cell_type": "markdown",
   "metadata": {
    "slideshow": {
     "slide_type": "slide"
    }
   },
   "source": [
    "# 材質貼圖 (圖片渲染)\n",
    "\n",
    "http://www.glowscript.org/docs/VPythonDocs/textures.html\n",
    "\n",
    "在物件中加入\n",
    "`texture=textures.xxx`\n",
    "\n",
    "**將請先將vpython版本更新到7.4.4以上**\n",
    "\n",
    "- vpython原本就有的圖，路徑為\n",
    "  `C:\\Users\\<Your-name>\\Anaconda3\\Lib\\site-packages\\vpython\\vpython_data\\`\n",
    "  ![vpython_texture](./images/vpython_texture.png)\n",
    "\n",
    "  `sphere(texture=textures.earth)` 將全球的圖貼上球表面，可產生一顆地球樣子的球\n",
    "\n",
    "  `box(texture=textures.metal)`  金屬材質的長方體\n",
    "\n",
    "  `box=(texture=textures.wood)`  木頭材質的長方體\n",
    "\n",
    "- 若要用自行新增的圖片：\n",
    " \n",
    "  - 將圖片放入`C:\\Users\\<Your-name>\\Anaconda3\\Lib\\site-packages\\vpython\\vpython_data\\` 內\n",
    "  \n",
    "    若檔名為T.jpg，那麼指令為`texture='T.jpg'` \n",
    "    \n",
    "    例如 `box(texture='T.jpg')`\n",
    "    \n",
    "     (ps:在Jupyter-notebook，需改為`texture='/nbextensions/vpython_data/T.jpg'`)\n",
    "     \n",
    "  - 或是將圖片與.py檔案放在同一資料夾\n",
    "  \n",
    "    用`texture={'file':'T.jpg'}`\n",
    "    \n",
    "    例如 `box(texture={'file':'T.jpg'})`"
   ]
  },
  {
   "cell_type": "markdown",
   "metadata": {
    "slideshow": {
     "slide_type": "slide"
    }
   },
   "source": [
    "## 設定圖片在物件上顯示的參數\n",
    "\n",
    "- 指定要顯示圖片的面: 可用的參數為 `left`, `right`, `sides` (除了左右面), `ends` (左右兩面), and     `all` (the default).\n",
    "\n",
    "- In the case of a cylinder, 'sides' specifies the curving surface.\n",
    "    \n",
    "  使用`'place' : ['left', 'sides']` will place the texture on the left end and the sides.\n",
    "  \n",
    "- 翻轉flipping與旋轉rotating：\n",
    "\n",
    "  `'flipx' : True` (reflect left <-> right)\n",
    "  \n",
    "  `'flipy' : True`(reflect up <-> down)\n",
    "  \n",
    "  `'turn' : N` (rotate counterclockwise N 90-degree angles; if N is negative, the turning is clockwise).\n",
    "  \n",
    "若要調整以上功能，引入圖片方式必須用自行新增圖片的方法，例如：\n",
    "- 木頭材質的長方體（除了左右兩面不填）\n",
    "\n",
    "`box(texture={'file':textures.wood, 'place':['sides']})`\n",
    "\n",
    "- 貼上T.jpg圖檔\n",
    "\n",
    "`box(texture={'file':'T.jpg', 'place':['left', 'sides']})`\n",
    "\n",
    "All the parameters for a texture are seen in the following example.\n",
    "`b = box( pos=vec(-1,2,0),\n",
    "      texture={'file':textures.stucco, \n",
    "               'bumpmap':bumpmaps.stucco,\n",
    "               'place':['right', 'sides'],\n",
    "               'flipx':True,\n",
    "               'flipy':True,\n",
    "               'turn':-3} )`"
   ]
  },
  {
   "cell_type": "code",
   "execution_count": null,
   "metadata": {
    "slideshow": {
     "slide_type": "slide"
    }
   },
   "outputs": [],
   "source": [
    "# encoding: utf-8\n",
    "from vpython import *\n",
    "import numpy as np\n",
    "import scipy.constants as cont\n",
    "\n",
    "\n",
    "box( texture={'file':'flower_texture.jpg', 'place':'right'} )\n",
    "\n",
    "# 若將python檔案跟圖片放在同一資料夾，可用下列方式：\n",
    "# box(texture='flower_texture.jpg')"
   ]
  },
  {
   "cell_type": "code",
   "execution_count": null,
   "metadata": {
    "slideshow": {
     "slide_type": "slide"
    }
   },
   "outputs": [],
   "source": [
    "# encoding: utf-8\n",
    "from vpython import *\n",
    "import numpy as np\n",
    "import scipy.constants as cont\n",
    "\n",
    "cylinder(axis=vec(0, 1, 0), size=vec(100, 10, 10),\n",
    "         texture={'file': '101.jpg',\n",
    "                  'turn': -45,\n",
    "                  }\n",
    "         )"
   ]
  },
  {
   "cell_type": "markdown",
   "metadata": {},
   "source": [
    "# 以下均未完成"
   ]
  },
  {
   "cell_type": "markdown",
   "metadata": {
    "slideshow": {
     "slide_type": "slide"
    }
   },
   "source": [
    "# Widgets: button,\n",
    "radio, checkbox,\n",
    "slider, menu, wtext\n",
    "http://www.glowscript.org/docs/VPythonDocs/controls.html"
   ]
  },
  {
   "cell_type": "code",
   "execution_count": null,
   "metadata": {
    "slideshow": {
     "slide_type": "subslide"
    }
   },
   "outputs": [],
   "source": []
  },
  {
   "cell_type": "markdown",
   "metadata": {
    "slideshow": {
     "slide_type": "slide"
    }
   },
   "source": [
    "# 滑鼠與鍵盤控制\n",
    "\n",
    "http://www.glowscript.org/docs/VPythonDocs/mouse.html"
   ]
  },
  {
   "cell_type": "code",
   "execution_count": null,
   "metadata": {},
   "outputs": [],
   "source": [
    "\n",
    "Click Example\n",
    "This program displays a box, then repeatedly waits for a mouse left click and displays a cyan sphere at the mouse location. A mouse click is defined as pressing and releasing the left mouse button with no motion of the mouse, so the sphere appears when you release the mouse button.\n",
    "\n",
    "scene.range = 4\n",
    "box() # display a box for context\n",
    "\n",
    "def showSphere(evt):\n",
    "    loc = evt.pos\n",
    "    sphere(pos=loc, radius=0.2, color=color.cyan)\n",
    "\n",
    "scene.bind('click', showSphere)\n",
    "\n",
    "Copy this program into an edit window and run the program. Click outside the box and a cyan sphere appears where you click. If you click inside the box, nothing seems to happen. This is because the mouse click is in the xy plane, and the sphere is buried inside the box. If you rotate the scene and then click, you'll see that the spheres go into the new plane parallel to the screen and passing through scene.center.\n",
    "\n",
    "If you want all of the spheres to go into the xy plane, perpendicular to the z axis, change the latter part of the program like this:\n",
    "\n",
    "    loc = evt.project(normal=vector(0,0,1))\n",
    "    # loc is None if no intersection with plane\n",
    "    if loc:\n",
    "        sphere(pos=loc,radius=0.2,color=color.cyan)"
   ]
  },
  {
   "cell_type": "code",
   "execution_count": null,
   "metadata": {},
   "outputs": [],
   "source": [
    "Drag Example\n",
    "Here is the sequence of mouse events involved in dragging something:\n",
    "\n",
    "1) Determine that the mouse button has been depressed (a mousedown event).\n",
    "\n",
    "2) Continually watch for the mouse to move, and use scene.mouse.pos to update positions. These are mousemove events.\n",
    "\n",
    "3) Conclude the drag when the mouse button has been released (a mouseup event).\n",
    "\n",
    "The way you detect these mouse events is by writing functions that are bound to the mouse events using scene.bind, and GlowScript will execute these functions when these mouse events occur.\n",
    "\n",
    "Here is a complete routine for repeatedly creating and dragging a sphere, so that you can arrange many spheres on the screen. While being dragged the sphere is red, but its color changes to cyan when the mouse button is released.\n",
    "\n",
    "scene.range = 5\n",
    "box()\n",
    "\n",
    "drag = False\n",
    "s = None # declare s to be used below\n",
    "\n",
    "def down():\n",
    "    nonlocal drag, s\n",
    "    s = sphere(pos=scene.mouse.pos,\n",
    "        color=color.red,\n",
    "        size=0.2*vec(1,1,1))\n",
    "    drag = True\n",
    "\n",
    "def move():\n",
    "    nonlocal drag, s \n",
    "    if drag: # mouse button is down\n",
    "        s.pos = scene.mouse.pos\n",
    "\n",
    "def up():\n",
    "    nonlocal drag, s\n",
    "    s.color = color.cyan\n",
    "    drag = False\n",
    "\n",
    "scene.bind(\"mousedown\", down)\n",
    "\n",
    "scene.bind(\"mousemove\", move)\n",
    "\n",
    "scene.bind(\"mouseup\", up)\n",
    "\n",
    "It is also possible to use \"anonymous\" (unnamed) functions, an extended feature of the RapydScript Python-to-JavaScript compiler, as shown here:\n",
    "\n",
    "scene.range = 5\n",
    "box()\n",
    "\n",
    "drag = False\n",
    "s = None # declare s to be used below\n",
    "\n",
    "scene.bind(\"mousedown\", def ():\n",
    "    nonlocal drag, s\n",
    "    s = sphere(pos=scene.mouse.pos,\n",
    "               color=color.red,\n",
    "               size=0.2*vec(1,1,1))\n",
    "    drag = True\n",
    ")\n",
    "\n",
    "scene.bind(\"mousemove\", def ():\n",
    "    nonlocal drag, s \n",
    "    if drag: # mouse button is down\n",
    "        s.pos = scene.mouse.pos\n",
    ")\n",
    "\n",
    "scene.bind(\"mouseup\", def ():\n",
    "    nonlocal drag, s\n",
    "    s.color = color.cyan\n",
    "    drag = False\n",
    ")\n",
    "\n",
    " \n",
    "\n",
    "Other mouse events: You can also watch for mouseenter (the mouse is moved from the outside of the canvas to the inside), mouseleave (the mouse leaves the canvas), and click.\n",
    "\n",
    "Multiple event types: You can bind a function to more than one type of event. Here is a function bound to both mousedown and mouseup events, either of which will cause a sphere to be created:\n",
    "\n",
    "scene.bind(\"mousedown mouseup\", def ():\n",
    "    sphere(pos=scene.mouse.pos)\n",
    ")\n",
    "\n",
    "Unbinding: After binding a function to a mouse event, you can unbind the function, in which case GlowScript will no longer send events to your function. In the program shown above, if you place scene.unbind(\"mousedown\") in the mouseup event, you will be able to drag just one sphere.\n",
    "\n",
    "Just one: If you use scene.one instead of scene.bind, the binding occurs for just one event and then is automatically unbound. In the program shown above, if you specify scene.one for the mousedown event, you will be able to drag just one sphere.\n",
    "\n",
    "Custom events: You can set up your own custom events using scene.trigger. In the following sample program, first you see a box, then the while loop halts waiting for the custom \"ball\" event to occur. When you click, the \"click\" function is executed, and in the click function a sphere is created and a new type of event, \"ball\", is triggered by scene.trigger, with optional argument newball = s. With this triggering of a \"ball\" event, the \"ball\" function receives the triggered arguments in ev and sets the sphere's color to blue. The triggering of the \"ball\" function also breaks through the scene.waitfor in the while loop that was waiting for a \"ball\" event. The scene.waitfor statement returns the entity that was sent to the \"ball\" function, and uses the sphere's position to reposition the box. The process in the loop then repeats.\n",
    "\n",
    "scene.bind(\"click\", def ():\n",
    "    s = sphere(pos=scene.mouse.pos)\n",
    "    scene.trigger(\"ball\", newball=s)\n",
    ")\n",
    "\n",
    "scene.bind(\"ball\", def (ev):\n",
    "    ev.newball.color = color.blue\n",
    ")\n",
    "\n",
    "b = box()\n",
    "\n",
    "while True:\n",
    "    ss = scene.waitfor(\"ball\")\n",
    "    b.pos = ss.newball.pos + vec(0,-1, 0)"
   ]
  },
  {
   "cell_type": "code",
   "execution_count": null,
   "metadata": {},
   "outputs": [],
   "source": []
  },
  {
   "cell_type": "code",
   "execution_count": null,
   "metadata": {},
   "outputs": [],
   "source": [
    "Keyboard Interactions\n",
    "As with mouse events, you can wait for various kinds of keyboard or mouse events:\n",
    "\n",
    "scene.waitfor('keydown') # wait for keyboard key press\n",
    "scene.waitfor('keyup')   # wait for keyboard key release\n",
    "scene.waitfor('click keydown') # click or keyboard \n",
    "scene.waitfor('click')     # wait for a click\n",
    "scene.waitfor('mousedown') # wait for mouse button press\n",
    "scene.waitfor('mouseup') # wait for mouse button release\n",
    "scene.waitfor('mousemove') # wait for mouse to be moved\n",
    "scene.waitfor('mousedown mousemove') # either event\n",
    "The event 'keydown' or 'keyup' occurs when you press or release a key on the keyboard (if you hold down a key, you may get multiple 'keydown' events due to repeats).\n",
    "\n",
    "Jupyter notebook limitation: Key events are swallowed by the Jupyter notebook as part of the user interface and are not available to a VPython program.\n",
    "\n",
    "You can obtain a package of information about the event that caused the end of the wait:\n",
    "\n",
    "box()\n",
    "ev = scene.waitfor('click keydown')\n",
    "if ev.event == 'click':\n",
    "    print('You clicked at', ev.pos)\n",
    "else:\n",
    "    print('You pressed key '+ev.key)\n",
    "\n",
    "Handling events with callbacks\n",
    "\n",
    "Here is a test routine using callbacks that lets you type text into a label.\n",
    "\n",
    "prose = label() # initially blank text\n",
    "\n",
    "def keyInput(evt):\n",
    "    s = evt.key\n",
    "    if len(s) == 1:\n",
    "        prose.text += s # append new character\n",
    "    elif s == 'delete' and len(prose.text) > 0:\n",
    "        prose.text = prose.text[:-1] # erase letter\n",
    "\n",
    "scene.bind('keydown', keyInput)\n",
    "\n",
    "We define a \"function\" named \"keyInput\". Then we \"bind\" this function to 'keydown' events occurring in the canvas named \"scene\". Whenever VPython detects that a 'keydown' event has occurred, VPython calls the bound function, which in this case adds the input to the text of the label object.\n",
    "\n",
    "Note that evt.ctrl, evt.alt, and evt.shift are True if the corresponding key is down at the time of the event (evt.shift is also True if Caps Lock is in effect).\n",
    "\n",
    "This operation is called a \"callback\" because with scene.bind you register with VPython that you want to be called back any time there is a 'keydown' event. Here are the built-in events that you can specify in a bind operation:\n",
    "\n",
    "Keyboard: keydown, keyup\n",
    "Mouse:    click, mousedown, mousemove, mouseup\n",
    "Other:    redraw, draw_complete\n",
    "\n",
    "The event 'keydown' or 'keyup' occurs when you press or release a key on the keyboard. The events 'click', 'mousedown', 'mousemove', and 'mouseup' are discussed in the mouse section. A 'redraw' event occurs just before the 3D scene is redrawn on the screen, and a 'draw_complete' event occurs just after the redrawing (these event have rather technical uses such as timing how often redrawings occur, or how much time they take).\n",
    "\n",
    "You can bind more than one event to a function. The following will cause the callback function to be executed whether you click with the mouse or press a key on the keyboard:\n",
    "\n",
    "scene.bind('click keydown', myFunction)\n",
    "\n",
    "With the following statement, click event will no longer be sent to myFunction:\n",
    "\n",
    "scene.unbind('click', myFunction)\n",
    "\n",
    "The example program eventHandlers.py illustrates the callback method for handling many kinds of events.\n",
    "\n",
    "Pausing for keyboard or mouse input\n",
    "\n",
    "Often you want to pause for either mouse or keyboard input which you can do by executing scene.waitfor('click keydown').\n",
    "\n"
   ]
  },
  {
   "cell_type": "code",
   "execution_count": null,
   "metadata": {},
   "outputs": [],
   "source": []
  }
 ],
 "metadata": {
  "celltoolbar": "Slideshow",
  "kernelspec": {
   "display_name": "Python 3",
   "language": "python",
   "name": "python3"
  },
  "language_info": {
   "codemirror_mode": {
    "name": "ipython",
    "version": 3
   },
   "file_extension": ".py",
   "mimetype": "text/x-python",
   "name": "python",
   "nbconvert_exporter": "python",
   "pygments_lexer": "ipython3",
   "version": "3.6.6"
  },
  "livereveal": {
   "scroll": true,
   "start_slideshow_at": "selected"
  }
 },
 "nbformat": 4,
 "nbformat_minor": 2
}
