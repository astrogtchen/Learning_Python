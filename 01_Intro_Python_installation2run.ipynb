{
  "cells": [
    {
      "cell_type": "markdown",
      "source": [
        "# Introduction to Python\n",
        "##                          \n",
        "\n",
        "###### 陳冠廷\n"
      ],
      "metadata": {
        "slideshow": {
          "slide_type": "slide"
        }
      }
    },
    {
      "cell_type": "markdown",
      "source": [
        "## Outlines\n",
        "\n",
        "### part1 : 安裝、jupyter notebook、變數與執行\n",
        "\n",
        "### part2 : list(串列)、流程控制、自訂函數\n",
        "\n",
        "### part3 : numpy\n",
        "\n",
        "### part4 : matplotlib + numpy\n",
        "\n",
        "### part5 : scipy\n",
        "\n",
        "### part6 : 文字編輯器與執行\n",
        "\n",
        "### part7 : 套件的使用：vpython\n",
        "\n",
        "### part8 : Jupyter-notebook\n"
      ],
      "metadata": {
        "slideshow": {
          "slide_type": "slide"
        }
      }
    },
    {
      "cell_type": "markdown",
      "source": [
        "# Introduction to Python\n",
        "\n",
        "### part 1 \n",
        "- 安裝\n",
        "- 使用Jupyter notebook執行\n",
        "- 寫第一個python程式"
      ],
      "metadata": {
        "slideshow": {
          "slide_type": "slide"
        }
      }
    },
    {
      "cell_type": "markdown",
      "source": [
        "# Python\n",
        "- 直譯式語言，簡潔的語法\n",
        "- 跨平台 Windows，Mac，Linux\n",
        "- 可與其他程式語言連結，如Cython、rpy\n",
        "- 有很多函式庫＋有很多第三方函式庫與套件\n",
        "- 多用途，如Web frameworks (Django)、科學計算、機械學習、人工智慧"
      ],
      "metadata": {
        "slideshow": {
          "slide_type": "slide"
        }
      }
    },
    {
      "cell_type": "markdown",
      "source": [
        "### 套件舉例\n",
        "- Numpy: 數值分析與處理\n",
        "- SciPy: 積分、內插、積分、特殊函數\n",
        "- Matplotlib: 2D繪圖\n",
        "   + seaborn: 以matplotlib為基礎建構的統計繪圖套件\n",
        "   \n",
        "- pandas: Python Data Analysis Library 資料處理與數據分析\n",
        "- mayavi: 3D繪圖\n",
        "- vpython: 3D繪圖與動畫\n",
        "    \n",
        "- SciKit-Learn: 機械學習 Machine Learning\n",
        "- Keras： Python Deep Learning library\n",
        "- Bokeh: 圖形帶有一點互動（Interactive），像是滑鼠游標移上去會顯示資料點的數據或可以縮放圖形等基於 JavaScript 的效果"
      ],
      "metadata": {
        "slideshow": {
          "slide_type": "slide"
        }
      }
    },
    {
      "cell_type": "markdown",
      "source": [
        "## 下載Python\n",
        "### 整合包：\n",
        "- [Anaconda](https://anaconda.org/) ， https://anaconda.org/\n",
        "- [Enthought Canopy](https://www.enthought.com/product/canopy/)，https://www.enthought.com/product/canopy/\n",
        "\n",
        "### 單獨安裝python，然後自己包：\n",
        "- https://www.python.org/\n",
        "- 用pip install 指令安裝需要的套件\n",
        "\n",
        "\n",
        "\n"
      ],
      "metadata": {
        "slideshow": {
          "slide_type": "slide"
        }
      }
    },
    {
      "cell_type": "markdown",
      "source": [
        "## 安裝 Anaconda 3.X\n",
        "- 安裝時可強制讓它幫忙設定路徑變數，使python可被系統執行\n",
        "\n",
        "<img src=\"./images/install.png\" width=400, height=300>\n",
        "\n",
        "- 安裝完成\n",
        "![pack](./images/install_2.png)\n",
        "\n",
        "  - **Anaconda Navigator**     管理套件程式\n",
        "  - **Anaconda Prompt**        終端機界面\n",
        "  - **Jupyter Notebook**       使用瀏覽器的互動界面\n",
        "  - **Spyder**                 文字編輯器\n",
        "  \n",
        "- [Anaconda FAQ](https://docs.anaconda.com/anaconda/faq#) ， https://docs.anaconda.com/anaconda/faq#\n"
      ],
      "metadata": {
        "slideshow": {
          "slide_type": "slide"
        }
      }
    },
    {
      "cell_type": "markdown",
      "source": [
        "# 自行指定路徑\n",
        "\n",
        "- Windows 10的預設路徑:\n",
        "\n",
        "`C:\\Users\\<your-username>\\Anaconda3\\`\n",
        "\n",
        "\n",
        "- 開啟命令提示字元（左下角win圖示--> Windows 系統--> 命令提示字元）或開啟 Anaconda Prompt:\n",
        "\n",
        "輸入\n",
        "\n",
        "`SETX PATH \"%PATH%;`\n",
        "\n",
        "`C:\\Users\\<your-username>\\Anaconda3;`\n",
        "\n",
        "`C:\\Users\\<your-username>\\Anaconda3\\Scripts\"`\n",
        "\n",
        "會出現\n",
        "\n",
        "`成功: 已經儲存指定的值。`\n",
        "\n",
        "*** \n",
        "\n",
        "在環境變數中會看到，Anaconda的路徑已經設定完成\n",
        "（Windows設定--> 尋找\"環境\"--> 編輯系統環境變數--> 環境變數--> <username>的使用者變數中的\"PATH\"）\n",
        " \n",
        "`C:\\Users\\<your-username>\\Anaconda3`\n",
        "\n",
        "`C:\\Users\\<your-username>\\Anaconda3\\Library\\mingw-w64\\bin`\n",
        " \n",
        "`C:\\Users\\<your-username>\\Anaconda3\\Library\\usr\\bin`\n",
        " \n",
        "`C:\\Users\\<your-username>\\Anaconda3\\Library\\bin`\n",
        " \n",
        "`C:\\Users\\<your-username>\\Anaconda3\\Scripts`\n",
        "\n",
        "***\n",
        "\n",
        "# 輸入指令測試\n",
        "- `ipython`\n",
        "- `conda update conda`\n",
        "\n",
        "- `conda list`\n",
        "- `conda search xxx`\n",
        "- `conda install xxx`\n",
        "- `conda remove xxx`\n"
      ],
      "metadata": {
        "slideshow": {
          "slide_type": "slide"
        }
      }
    },
    {
      "cell_type": "markdown",
      "source": [
        "# 開啟管理套件程式\n",
        "![navi](./images/navigator.png)\n"
      ],
      "metadata": {
        "slideshow": {
          "slide_type": "slide"
        }
      }
    },
    {
      "cell_type": "markdown",
      "source": [
        "# Linux 下安裝Anaconda3\n",
        "\n",
        "`bash ~/Downloads/Anaconda3-4.0.0-Linux-x86_64.sh`\n",
        "\n",
        "請在一般使用者下安裝，不要使用sudo安裝，否則之後的更新也會需要權限，導致無法更新\n",
        "\n",
        "# 環境變數的路徑\n",
        "\n",
        "- Linux下的預設路徑:\n",
        "\n",
        "` /home/<your-username>/anaconda3`\n",
        "\n",
        "\n",
        "- 在 `.bashrc` 中加入\n",
        "\n",
        "\n",
        "`# add by Anaconda3 Installer`\n",
        "\n",
        "`export PATH=\"/home/<your-username>/anaconda3/bin:$PATH\" `\n",
        "    \n",
        "\n",
        "terminal >> `source .bashrc`\n",
        "\n",
        "\n",
        "\n"
      ],
      "metadata": {
        "slideshow": {
          "slide_type": "skip"
        }
      }
    },
    {
      "cell_type": "markdown",
      "source": [
        "# 安裝 anaconda-navigator\n",
        "\n",
        "`conda install anaconda-navigator`\n",
        "\n",
        "`anaconda-navigator`"
      ],
      "metadata": {
        "slideshow": {
          "slide_type": "skip"
        }
      }
    },
    {
      "cell_type": "markdown",
      "source": [
        "# Mac 下安裝Anaconda3\n",
        "\n",
        "下載安裝anaconda3的pkg檔\n",
        "\n",
        "# 環境變數的路徑\n",
        "\n",
        "- macOS下的預設路徑:\n",
        "\n",
        "` /Users/<your-username>/anaconda3`\n",
        "\n",
        "\n",
        "- 在 `.bash_profile` 中加入\n",
        "\n",
        "\n",
        "`# added by Anaconda3 5.0.1 installer`\n",
        "\n",
        "`export PATH=\"/Users/<your-username>/anaconda3/bin:$PATH\" `\n",
        "\n",
        "terminal >>`source .bash_profile`"
      ],
      "metadata": {
        "slideshow": {
          "slide_type": "skip"
        }
      }
    },
    {
      "cell_type": "markdown",
      "source": [
        "# 開始使用Python\n",
        "\n",
        "- 開啟\"命令提示字元\"，輸入ipython，進入互動界面 \n",
        "    \n",
        "    <img src=\"./images/ipython.png\" width=600, height=500>\n",
        "- 輸入`exit()` 離開\n"
      ],
      "metadata": {
        "slideshow": {
          "slide_type": "slide"
        }
      }
    },
    {
      "cell_type": "markdown",
      "source": [
        "## 目前使用的界面稱為Jupyter-notebook，利用瀏覽器操作\n",
        "\n",
        "- 開啟\"**Jupyter-notebook**\"\n",
        "  - 在應用程式Anaconda3(64-bit)裡，Jupyter Notebook\n",
        "\n",
        "  - 或開啟Anaconda Navigator，Home的界面就有\n",
        "  \n",
        "  - 在terminal中，輸入Jupyter-notebook\n"
      ],
      "metadata": {
        "slideshow": {
          "slide_type": "slide"
        }
      }
    },
    {
      "cell_type": "markdown",
      "source": [
        "# Jupyter Notebook \n",
        "#  == ipython Notebook\n",
        "\n",
        "- ipython == **interactive python**\n",
        "- ipython notebook == ipython in **browser**\n",
        "\n",
        "- Jupyter:\n",
        "    * **Ju** --- Julia\n",
        "    * **py** --- python\n",
        "    * te**r**--- R\n",
        "- 可以將程式碼寫在不同的 Cell (區塊) 之中，分段落執行，已執行過的程片段會存在記憶體中，所以對於調整參數或做測試來說，很方便\n",
        "- Jupyter Notebook會透過瀏覽器來啟動。啟動之後，到想要的目錄底下，點選右方的New新增一個notebook（選擇Python3）"
      ],
      "metadata": {
        "slideshow": {
          "slide_type": "slide"
        }
      }
    },
    {
      "cell_type": "markdown",
      "source": [
        "## 執行方式：\n",
        "每個cell 按  \n",
        "`ctrl + enter` 執行目前的cell，並輸出結果\n",
        "\n",
        "`shift + enter` 執行目前的cell，並選取下個cell\n",
        "\n",
        "## 指令補完 `tab` :\n",
        " `pri`　按 `tab` 會補成`print`"
      ],
      "metadata": {
        "slideshow": {
          "slide_type": "slide"
        }
      }
    },
    {
      "cell_type": "markdown",
      "source": [
        "# 開始寫第一個python的程式（腳本）"
      ],
      "metadata": {
        "slideshow": {
          "slide_type": "slide"
        }
      }
    },
    {
      "cell_type": "code",
      "source": [
        "print('Hello World')\n",
        "\n",
        "a = 'Physics'\n",
        "print(a)"
      ],
      "outputs": [
        {
          "output_type": "stream",
          "name": "stdout",
          "text": [
            "Hello World\n",
            "Physics\n"
          ]
        }
      ],
      "execution_count": 1,
      "metadata": {
        "slideshow": {
          "slide_type": "subslide"
        }
      }
    },
    {
      "cell_type": "markdown",
      "source": [
        "# 好處：\n",
        "- 不需要宣告變數型態\n",
        "- 不需要編譯，可直接執行\n",
        "- 在ipython與Jupyter notebook界面操作時，可當計算機使用\n"
      ],
      "metadata": {
        "slideshow": {
          "slide_type": "slide"
        }
      }
    },
    {
      "cell_type": "code",
      "source": [
        "1 + 3*4 "
      ],
      "outputs": [
        {
          "output_type": "execute_result",
          "execution_count": 2,
          "data": {
            "text/plain": [
              "13"
            ]
          },
          "metadata": {}
        }
      ],
      "execution_count": 2,
      "metadata": {
        "slideshow": {
          "slide_type": "slide"
        }
      }
    },
    {
      "cell_type": "code",
      "source": [
        "5**3"
      ],
      "outputs": [
        {
          "output_type": "execute_result",
          "execution_count": 3,
          "data": {
            "text/plain": [
              "125"
            ]
          },
          "metadata": {}
        }
      ],
      "execution_count": 3,
      "metadata": {
        "slideshow": {
          "slide_type": "fragment"
        }
      }
    },
    {
      "cell_type": "code",
      "source": [
        "(1+(2+3)**8)**10"
      ],
      "outputs": [
        {
          "output_type": "execute_result",
          "execution_count": 4,
          "data": {
            "text/plain": [
              "82720178862065618653112155716376379139423377227787109376"
            ]
          },
          "metadata": {}
        }
      ],
      "execution_count": 4,
      "metadata": {
        "slideshow": {
          "slide_type": "fragment"
        }
      }
    },
    {
      "cell_type": "markdown",
      "source": [
        "# 註解\n",
        "註解可以用來紀錄程式的功能、注意事項、編寫日期、changelog等，有助於未來自己或他人容易了解這個程式。\n",
        "\n",
        "在Python中有兩種方式可以用來寫註解，程式執行時不會執行註解的部份\n",
        "- 單行註解： **#** 之後到該行結束為止的文字\n",
        "- 多行註解： 兩組 **3個單引號** 之間的文字"
      ],
      "metadata": {
        "slideshow": {
          "slide_type": "slide"
        }
      }
    },
    {
      "cell_type": "markdown",
      "source": [
        "## 利用宣告變數來達成較繁複的計算過程"
      ],
      "metadata": {
        "slideshow": {
          "slide_type": "slide"
        }
      }
    },
    {
      "cell_type": "code",
      "source": [
        "# 表示註解\n",
        "\n",
        "a = 2        #整數\n",
        "b = 3.0      #浮點數\n",
        "c = 3e+8\n",
        "\n",
        "d, e = 13.0, 7.0\n",
        "\n",
        "z1 = 2 + 3j  #複數\n",
        "z2 = 1 - 5j\n",
        "\n",
        "\n",
        "print(c, \"\\n\",   # \"\\n\" 表示輸出空一行\n",
        "      a/b, \n",
        "      z1-z2, \n",
        "      a**2/b)\n",
        "\n",
        "print(z1.real)\n",
        "print(z2.imag)"
      ],
      "outputs": [
        {
          "output_type": "stream",
          "name": "stdout",
          "text": [
            "300000000.0 \n",
            " 0.6666666666666666 (1+8j) 1.3333333333333333\n",
            "2.0\n",
            "-5.0\n"
          ]
        }
      ],
      "execution_count": 5,
      "metadata": {
        "slideshow": {
          "slide_type": "fragment"
        }
      }
    },
    {
      "cell_type": "markdown",
      "source": [
        "## 變數可以是字串，也可以是符號"
      ],
      "metadata": {
        "slideshow": {
          "slide_type": "slide"
        }
      }
    },
    {
      "cell_type": "code",
      "source": [
        "name = 'CGSH'\n",
        "face = \"(*´∀`)~♥\""
      ],
      "outputs": [],
      "execution_count": 6,
      "metadata": {
        "slideshow": {
          "slide_type": "fragment"
        }
      }
    },
    {
      "cell_type": "code",
      "source": [
        "name + face*5"
      ],
      "outputs": [
        {
          "output_type": "execute_result",
          "execution_count": 7,
          "data": {
            "text/plain": [
              "'CGSH(*´∀`)~♥(*´∀`)~♥(*´∀`)~♥(*´∀`)~♥(*´∀`)~♥'"
            ]
          },
          "metadata": {}
        }
      ],
      "execution_count": 7,
      "metadata": {
        "slideshow": {
          "slide_type": "fragment"
        }
      }
    },
    {
      "cell_type": "code",
      "source": [
        "print('Hi,\\n' + name + face*3 + '###')"
      ],
      "outputs": [
        {
          "output_type": "stream",
          "name": "stdout",
          "text": [
            "Hi,\n",
            "CGSH(*´∀`)~♥(*´∀`)~♥(*´∀`)~♥###\n"
          ]
        }
      ],
      "execution_count": 8,
      "metadata": {
        "slideshow": {
          "slide_type": "fragment"
        }
      }
    },
    {
      "cell_type": "markdown",
      "source": [
        "### 讀取使用者輸入\n",
        "如果程式中有需要讀取使用者所輸入的資料，可以使用 Python 內建的 input 函式：\n",
        "\n",
        "`x = input('Input Something:')`\n",
        "\n",
        "執行這段程式碼時，程式會要求你輸入一段字，且會儲存至 x 變數"
      ],
      "metadata": {
        "slideshow": {
          "slide_type": "slide"
        }
      }
    },
    {
      "cell_type": "code",
      "source": [
        "x = input('Input Something:')\n",
        "print(x)\n",
        "print(type(x))    # 預設型態為 str"
      ],
      "outputs": [
        {
          "output_type": "stream",
          "name": "stdout",
          "text": [
            "Input Something:1\n",
            "1\n",
            "<class 'str'>\n"
          ]
        }
      ],
      "execution_count": 9,
      "metadata": {
        "slideshow": {
          "slide_type": "fragment"
        }
      }
    },
    {
      "cell_type": "markdown",
      "source": [
        "#### 參考資料\n",
        "\n",
        "- [炎龍老師的教學研究網](http://yenlung.km.nccu.edu.tw/home/index.php?f=contentShow&id=424)\n",
        "- [手把手打開 Python 資料分析大門](http://foundation.datasci.tw/py3-data-analysis-171217/)\n",
        "- [The Python Tutorial](https://docs.python.org/3.6/tutorial/index.html)\n",
        "- [一小時Python入門-part 1](https://kopu.chat/2017/01/18/%E4%B8%80%E5%B0%8F%E6%99%82python%E5%85%A5%E9%96%80-part-1/)\n",
        "- [Python學習筆記](https://ithelp.ithome.com.tw/users/20107290/ironman/1275)\n",
        "- [使用Python進行資料分析](https://ithelp.ithome.com.tw/users/20107514/ironman/1399)\n",
        "- google大神"
      ],
      "metadata": {
        "slideshow": {
          "slide_type": "slide"
        }
      }
    }
  ],
  "metadata": {
    "celltoolbar": "Slideshow",
    "kernelspec": {
      "name": "python3",
      "language": "python",
      "display_name": "Python 3"
    },
    "language_info": {
      "name": "python",
      "version": "3.6.9",
      "mimetype": "text/x-python",
      "codemirror_mode": {
        "name": "ipython",
        "version": 3
      },
      "pygments_lexer": "ipython3",
      "nbconvert_exporter": "python",
      "file_extension": ".py"
    },
    "livereveal": {
      "scroll": true,
      "start_slideshow_at": "selected",
      "theme": "sky",
      "transition": "zoom"
    },
    "kernel_info": {
      "name": "python3"
    },
    "nteract": {
      "version": "0.15.0"
    }
  },
  "nbformat": 4,
  "nbformat_minor": 2
}