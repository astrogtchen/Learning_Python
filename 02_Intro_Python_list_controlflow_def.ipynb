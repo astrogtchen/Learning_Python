{
 "cells": [
  {
   "cell_type": "markdown",
   "metadata": {
    "slideshow": {
     "slide_type": "slide"
    }
   },
   "source": [
    "# Introduction to Python\n",
    "\n",
    "### part 2 \n",
    "- list\n",
    "- 流程控制(if...elif..else，while，for)\n",
    "- 自定函數(def)\n"
   ]
  },
  {
   "cell_type": "markdown",
   "metadata": {
    "slideshow": {
     "slide_type": "subslide"
    }
   },
   "source": [
    "#### 參考資料\n",
    "\n",
    "- [炎龍老師的教學研究網](http://yenlung.km.nccu.edu.tw/home/index.php?f=contentShow&id=424)\n",
    "- [手把手打開 Python 資料分析大門](http://foundation.datasci.tw/py3-data-analysis-171217/)\n",
    "- [The Python Tutorial](https://docs.python.org/3.6/tutorial/index.html)\n",
    "- [一小時Python入門-part 1](https://kopu.chat/2017/01/18/%E4%B8%80%E5%B0%8F%E6%99%82python%E5%85%A5%E9%96%80-part-1/)\n",
    "- [Python學習筆記](https://ithelp.ithome.com.tw/users/20107290/ironman/1275)\n",
    "- google大神"
   ]
  },
  {
   "cell_type": "markdown",
   "metadata": {
    "slideshow": {
     "slide_type": "slide"
    }
   },
   "source": [
    "# 資料型態 list (串列)\n",
    "\n",
    "- List 資料型態可以用來表示或處理排列在一起的資料，使用中括號  [ 及 ] 包起來表示\n",
    "- List 裡的資料可以是任何資料型態\n",
    "\n",
    "- https://docs.python.org.tw/3/tutorial/datastructures.html"
   ]
  },
  {
   "cell_type": "code",
   "execution_count": 1,
   "metadata": {
    "slideshow": {
     "slide_type": "slide"
    }
   },
   "outputs": [
    {
     "name": "stdout",
     "output_type": "stream",
     "text": [
      "7\n"
     ]
    }
   ],
   "source": [
    "a = [1, 3, 'abc', 7, \"xyz\"]\n",
    "print(a[3])\n",
    "\n",
    "# 產生了一個 List 資料，然後印出這個資料中索引3(index=3)的資料\n",
    "# List 資料的索引是從0開始，即a[0]==1"
   ]
  },
  {
   "cell_type": "code",
   "execution_count": 2,
   "metadata": {
    "slideshow": {
     "slide_type": "slide"
    }
   },
   "outputs": [],
   "source": [
    "C = [3, 7, -5, 9, 0]   #中括號\n",
    "G = [1, 2, 8, 8, 4]"
   ]
  },
  {
   "cell_type": "code",
   "execution_count": 3,
   "metadata": {
    "slideshow": {
     "slide_type": "fragment"
    }
   },
   "outputs": [
    {
     "data": {
      "text/plain": [
       "[3, 7, -5, 9, 0, 1, 2, 8, 8, 4]"
      ]
     },
     "execution_count": 3,
     "metadata": {},
     "output_type": "execute_result"
    }
   ],
   "source": [
    "C + G "
   ]
  },
  {
   "cell_type": "markdown",
   "metadata": {
    "slideshow": {
     "slide_type": "slide"
    }
   },
   "source": [
    "# list 的切割(slicing)、 附加(append)、插入(insert)"
   ]
  },
  {
   "cell_type": "markdown",
   "metadata": {
    "slideshow": {
     "slide_type": "fragment"
    }
   },
   "source": [
    "Index（索引值）的圖例\n",
    "<img src=\"./images/list.jpg\" width=400, height=300>\n"
   ]
  },
  {
   "cell_type": "code",
   "execution_count": 4,
   "metadata": {
    "slideshow": {
     "slide_type": "slide"
    }
   },
   "outputs": [
    {
     "data": {
      "text/plain": [
       "[7, -5]"
      ]
     },
     "execution_count": 4,
     "metadata": {},
     "output_type": "execute_result"
    }
   ],
   "source": [
    "# 切割\n",
    "C = [3, 7, -5, 9, 0] \n",
    "\n",
    "#索引值index由左至右為 0,1,2,3,4 或 -5,-4,-3,-2,-1\n",
    "\n",
    "C[1:3]  #取出索引值1~3但是不含index=3的值"
   ]
  },
  {
   "cell_type": "code",
   "execution_count": 5,
   "metadata": {
    "slideshow": {
     "slide_type": "fragment"
    }
   },
   "outputs": [
    {
     "data": {
      "text/plain": [
       "[-5, 9, 0]"
      ]
     },
     "execution_count": 5,
     "metadata": {},
     "output_type": "execute_result"
    }
   ],
   "source": [
    "C[2:] #取出索引值2~最後"
   ]
  },
  {
   "cell_type": "code",
   "execution_count": 6,
   "metadata": {
    "slideshow": {
     "slide_type": "fragment"
    }
   },
   "outputs": [
    {
     "data": {
      "text/plain": [
       "[3, 7, -5]"
      ]
     },
     "execution_count": 6,
     "metadata": {},
     "output_type": "execute_result"
    }
   ],
   "source": [
    "C[:3] #取出索引值開始 ~ 3之前（不含index=3）"
   ]
  },
  {
   "cell_type": "code",
   "execution_count": 7,
   "metadata": {
    "slideshow": {
     "slide_type": "fragment"
    }
   },
   "outputs": [
    {
     "data": {
      "text/plain": [
       "9"
      ]
     },
     "execution_count": 7,
     "metadata": {},
     "output_type": "execute_result"
    }
   ],
   "source": [
    "C[-2]  #取出倒數第2個"
   ]
  },
  {
   "cell_type": "code",
   "execution_count": 8,
   "metadata": {
    "slideshow": {
     "slide_type": "fragment"
    }
   },
   "outputs": [
    {
     "data": {
      "text/plain": [
       "[3, 7, -5, 9]"
      ]
     },
     "execution_count": 8,
     "metadata": {},
     "output_type": "execute_result"
    }
   ],
   "source": [
    "C[:-1]  #取出倒數第1個前，不含index=-1"
   ]
  },
  {
   "cell_type": "code",
   "execution_count": 9,
   "metadata": {
    "slideshow": {
     "slide_type": "fragment"
    }
   },
   "outputs": [
    {
     "data": {
      "text/plain": [
       "[3, 7, -5, 9, 0]"
      ]
     },
     "execution_count": 9,
     "metadata": {},
     "output_type": "execute_result"
    }
   ],
   "source": [
    "C[:]   # 輸出所有值"
   ]
  },
  {
   "cell_type": "code",
   "execution_count": 10,
   "metadata": {
    "slideshow": {
     "slide_type": "fragment"
    }
   },
   "outputs": [
    {
     "data": {
      "text/plain": [
       "[3, 7, 1, 9, 0]"
      ]
     },
     "execution_count": 10,
     "metadata": {},
     "output_type": "execute_result"
    }
   ],
   "source": [
    "# 置換(更改其中一個元素)\n",
    "C[2] = 1\n",
    "C[:]"
   ]
  },
  {
   "cell_type": "code",
   "execution_count": 11,
   "metadata": {
    "slideshow": {
     "slide_type": "fragment"
    }
   },
   "outputs": [
    {
     "name": "stdout",
     "output_type": "stream",
     "text": [
      "5\n",
      "9\n",
      "0\n"
     ]
    }
   ],
   "source": [
    "# 算 list內的個數  \n",
    "print(len(C))\n",
    "\n",
    "# 算 list內的最大值 \n",
    "print(max(C))\n",
    "\n",
    "# 算 list內的最小值 \n",
    "print(min(C))"
   ]
  },
  {
   "cell_type": "code",
   "execution_count": 12,
   "metadata": {
    "slideshow": {
     "slide_type": "slide"
    }
   },
   "outputs": [
    {
     "name": "stdout",
     "output_type": "stream",
     "text": [
      "W\n",
      "Hello,\n"
     ]
    }
   ],
   "source": [
    "## 字串的切法跟list一樣 \n",
    "\n",
    "x = 'Hello, World.'\n",
    "\n",
    "print(x[7])\n",
    "print(x[0:6])"
   ]
  },
  {
   "cell_type": "markdown",
   "metadata": {
    "slideshow": {
     "slide_type": "slide"
    }
   },
   "source": [
    "## 產生某種數學規律的 list \n",
    "（只能整數）"
   ]
  },
  {
   "cell_type": "code",
   "execution_count": 13,
   "metadata": {
    "slideshow": {
     "slide_type": "slide"
    }
   },
   "outputs": [
    {
     "data": {
      "text/plain": [
       "[0, 1, 2, 3, 4, 5, 6, 7, 8, 9]"
      ]
     },
     "execution_count": 13,
     "metadata": {},
     "output_type": "execute_result"
    }
   ],
   "source": [
    "list(range(10))   #從 0 開始的 10 個數字，range(10)本身並沒有產生list"
   ]
  },
  {
   "cell_type": "code",
   "execution_count": 14,
   "metadata": {
    "slideshow": {
     "slide_type": "fragment"
    }
   },
   "outputs": [
    {
     "data": {
      "text/plain": [
       "[1, 2, 3, 4, 5, 6, 7, 8, 9]"
      ]
     },
     "execution_count": 14,
     "metadata": {},
     "output_type": "execute_result"
    }
   ],
   "source": [
    "#從 1 開始，到10以前，間隔1的list\n",
    "list(range(1,10)) "
   ]
  },
  {
   "cell_type": "code",
   "execution_count": 15,
   "metadata": {
    "slideshow": {
     "slide_type": "fragment"
    }
   },
   "outputs": [
    {
     "data": {
      "text/plain": [
       "[1, 3, 5, 7, 9]"
      ]
     },
     "execution_count": 15,
     "metadata": {},
     "output_type": "execute_result"
    }
   ],
   "source": [
    "#從 1 開始，到10以前，間隔2的list\n",
    "list(range(1,10,2))"
   ]
  },
  {
   "cell_type": "markdown",
   "metadata": {
    "slideshow": {
     "slide_type": "fragment"
    }
   },
   "source": [
    "所以\n",
    "\n",
    "`range(a, b, c) `   \n",
    "\n",
    "表示取出所有可能的 `n`， 使$a \\leq n < b$，且間隔為$c$。\n",
    "\n",
    "可以只輸入終值，而起始值預設為0，差值預設為0，故只輸入終值時，會產生小於終值且包含零的所有整數。"
   ]
  },
  {
   "cell_type": "markdown",
   "metadata": {
    "slideshow": {
     "slide_type": "slide"
    }
   },
   "source": [
    "## 再玩玩list"
   ]
  },
  {
   "cell_type": "code",
   "execution_count": 16,
   "metadata": {
    "slideshow": {
     "slide_type": "fragment"
    }
   },
   "outputs": [
    {
     "data": {
      "text/plain": [
       "[2, 5, 8]"
      ]
     },
     "execution_count": 16,
     "metadata": {},
     "output_type": "execute_result"
    }
   ],
   "source": [
    "y1 = list(range(10))\n",
    "\n",
    "y1[2:9:3]"
   ]
  },
  {
   "cell_type": "code",
   "execution_count": 17,
   "metadata": {
    "slideshow": {
     "slide_type": "fragment"
    }
   },
   "outputs": [
    {
     "data": {
      "text/plain": [
       "[0, 1, 2, 3]"
      ]
     },
     "execution_count": 17,
     "metadata": {},
     "output_type": "execute_result"
    }
   ],
   "source": [
    "y1[:4]"
   ]
  },
  {
   "cell_type": "code",
   "execution_count": 18,
   "metadata": {
    "slideshow": {
     "slide_type": "fragment"
    }
   },
   "outputs": [
    {
     "data": {
      "text/plain": [
       "[1, 2]"
      ]
     },
     "execution_count": 18,
     "metadata": {},
     "output_type": "execute_result"
    }
   ],
   "source": [
    "y1[1:3]"
   ]
  },
  {
   "cell_type": "code",
   "execution_count": 19,
   "metadata": {
    "slideshow": {
     "slide_type": "fragment"
    }
   },
   "outputs": [
    {
     "data": {
      "text/plain": [
       "[3, 4, 5, 6, 7, 8, 9]"
      ]
     },
     "execution_count": 19,
     "metadata": {},
     "output_type": "execute_result"
    }
   ],
   "source": [
    "y1[3:]"
   ]
  },
  {
   "cell_type": "code",
   "execution_count": 20,
   "metadata": {
    "slideshow": {
     "slide_type": "fragment"
    }
   },
   "outputs": [
    {
     "data": {
      "text/plain": [
       "[0, 2, 4, 6, 8]"
      ]
     },
     "execution_count": 20,
     "metadata": {},
     "output_type": "execute_result"
    }
   ],
   "source": [
    "y1[::2]   #每間隔2取出"
   ]
  },
  {
   "cell_type": "code",
   "execution_count": 21,
   "metadata": {
    "slideshow": {
     "slide_type": "fragment"
    }
   },
   "outputs": [
    {
     "name": "stdout",
     "output_type": "stream",
     "text": [
      "[0, 1, 2]\n"
     ]
    },
    {
     "data": {
      "text/plain": [
       "[0, 1, 2, 3, 4, 5, 6, 7, 8, 9, 0, 1, 2]"
      ]
     },
     "execution_count": 21,
     "metadata": {},
     "output_type": "execute_result"
    }
   ],
   "source": [
    "# 接合\n",
    "y2 = list(range(3))\n",
    "print(y2)\n",
    "\n",
    "y1+y2"
   ]
  },
  {
   "cell_type": "markdown",
   "metadata": {
    "slideshow": {
     "slide_type": "slide"
    }
   },
   "source": [
    "## 附加 (append) 、extend、插入insert\n",
    "\n",
    "- list.append(x) 將一個新的項目加到 list 的尾端。等同於 a[len(a):] = [x] \n",
    "- list.extend(L) 將串列接上一個給定的 list。等同於 a[len(a):] = L \n",
    "- list.insert(i, x)將一個項目插入至 list 中給定的位置。第一個引數為插入處前元素的索引值，所以 a.insert(0, x) 會插入為 list 首位，而 a.insert(len(a), x) 則相當於 a.append(x)。"
   ]
  },
  {
   "cell_type": "code",
   "execution_count": 22,
   "metadata": {
    "slideshow": {
     "slide_type": "slide"
    }
   },
   "outputs": [
    {
     "name": "stdout",
     "output_type": "stream",
     "text": [
      "[0, 1, 2, 215, 125]\n"
     ]
    }
   ],
   "source": [
    "y2 = list(range(3))\n",
    "\n",
    "y2.append(215)\n",
    "y2.append(5**3)\n",
    "\n",
    "print(y2)"
   ]
  },
  {
   "cell_type": "code",
   "execution_count": 23,
   "metadata": {
    "slideshow": {
     "slide_type": "fragment"
    }
   },
   "outputs": [
    {
     "name": "stdout",
     "output_type": "stream",
     "text": [
      "[0, 1, 2, 215, 125, '多', '加', '的']\n"
     ]
    }
   ],
   "source": [
    "y3 = ['多', '加', '的']\n",
    "\n",
    "y2.extend(y3)\n",
    "print(y2)"
   ]
  },
  {
   "cell_type": "code",
   "execution_count": 24,
   "metadata": {
    "slideshow": {
     "slide_type": "fragment"
    }
   },
   "outputs": [
    {
     "name": "stdout",
     "output_type": "stream",
     "text": [
      "[0, 100, 1, 2, 215, 125, '多', '加', '的']\n"
     ]
    }
   ],
   "source": [
    "y2.insert(1, 100)   # 插入index=1的位置為100\n",
    "print(y2)"
   ]
  },
  {
   "cell_type": "markdown",
   "metadata": {
    "slideshow": {
     "slide_type": "slide"
    }
   },
   "source": [
    "## zip\n",
    "\n",
    "將兩組數對應的值，包成一組tuple。\n",
    "可以想成兩串或更多串資料，同編號放⼀起"
   ]
  },
  {
   "cell_type": "code",
   "execution_count": 25,
   "metadata": {
    "slideshow": {
     "slide_type": "fragment"
    }
   },
   "outputs": [
    {
     "data": {
      "text/plain": [
       "[(0.8, 2), (1.2, -5), (2.1, 3.2), (2.8, 5)]"
      ]
     },
     "execution_count": 25,
     "metadata": {},
     "output_type": "execute_result"
    }
   ],
   "source": [
    "X = [0.8, 1.2, 2.1, 2.8]\n",
    "Y = [2, -5, 3.2, 5]\n",
    "list(zip(X,Y))"
   ]
  },
  {
   "cell_type": "code",
   "execution_count": 26,
   "metadata": {
    "slideshow": {
     "slide_type": "subslide"
    }
   },
   "outputs": [],
   "source": [
    "points = [(0.8, 2), (1.2, -5), (2.1, 3.2), (2.8, 5)]\n",
    "\n",
    "X, Y = zip(*points) # 將 points內的點一個個取出"
   ]
  },
  {
   "cell_type": "markdown",
   "metadata": {
    "slideshow": {
     "slide_type": "slide"
    }
   },
   "source": [
    "## 排序與計算次數\n",
    "\n",
    "- list.sort(key=None, reverse=False)將 list 中的項目排序。\n",
    "- list.count(x) 回傳數值為 x 在 list 中所出現的次數。\n",
    "- list.reverse 將 list 中的項目前後順序反過來。\n",
    "\n",
    "- 使用collections.Counter 計數"
   ]
  },
  {
   "cell_type": "code",
   "execution_count": 27,
   "metadata": {
    "slideshow": {
     "slide_type": "slide"
    }
   },
   "outputs": [
    {
     "name": "stdout",
     "output_type": "stream",
     "text": [
      "[2, 2, 2, 5, 5, 80, 90, 100]\n",
      "3\n",
      "[2, 2, 2, 5, 5, 80, 90, 100]\n"
     ]
    }
   ],
   "source": [
    "y4 = [100, 2, 5, 90, 80, 2, 2, 5]\n",
    "\n",
    "y4.sort()\n",
    "print(y4)\n",
    "print(y4.count(2))\n",
    "\n",
    "y4.reverse\n",
    "print(y4)"
   ]
  },
  {
   "cell_type": "code",
   "execution_count": 28,
   "metadata": {
    "slideshow": {
     "slide_type": "fragment"
    }
   },
   "outputs": [
    {
     "name": "stdout",
     "output_type": "stream",
     "text": [
      "[0, 100, 215, 125, '多', '加', '的']\n",
      "[]\n"
     ]
    }
   ],
   "source": [
    "# 清空\n",
    "y2[2:4] = []  \n",
    "print(y2)\n",
    "\n",
    "y2[:] = []\n",
    "print(y2)"
   ]
  },
  {
   "cell_type": "code",
   "execution_count": 29,
   "metadata": {},
   "outputs": [
    {
     "data": {
      "text/plain": [
       "Counter({0: 7, 1: 4, 2: 1, 3: 2, 4: 1})"
      ]
     },
     "execution_count": 29,
     "metadata": {},
     "output_type": "execute_result"
    }
   ],
   "source": [
    "import collections, numpy\n",
    "\n",
    "y5 = numpy.array([0, 3, 0, 1, 0, 1, 2, 1, 0, 0, 0, 0, 1, 3, 4])\n",
    "\n",
    "collections.Counter(y5)"
   ]
  },
  {
   "cell_type": "markdown",
   "metadata": {
    "slideshow": {
     "slide_type": "slide"
    }
   },
   "source": [
    "### 其他例子"
   ]
  },
  {
   "cell_type": "markdown",
   "metadata": {
    "slideshow": {
     "slide_type": "slide"
    }
   },
   "source": [
    "# 在 list 中搜索\n",
    "listA.index(3)  # index 在 list 中查找一個值的首次出現並返回索引值\n",
    "\n",
    "listA.index('100')  # 如果在 list 中沒有找到值，Python 會引發異常\n",
    "\n",
    "print (5) in listA  # 要測試一個值是否在 list 內，使用 in。如果值存在，它輸出True，否則輸出 False 。\n",
    "\n",
    "\n",
    "# 從 list 中刪除元素\n",
    "\n",
    "listA.remove(3)  # remove 從 list 中 僅僅 刪除一個值的首次出現。如果在 list 中沒有找到值，Python 會引發異常\n",
    "\n",
    "print (listA.pop())  # pop 它會做兩件事：刪除 list 的最後一個元素，然後輸出刪除元素的值。\n",
    "\n",
    "del listA[0]  # 刪除列表中第一個元素\n",
    "\n",
    "del listA[0:2] # 刪除列表中第一和第二個元素"
   ]
  },
  {
   "cell_type": "markdown",
   "metadata": {
    "slideshow": {
     "slide_type": "slide"
    }
   },
   "source": [
    "# 流程控制：條件判斷式及迴圈\n",
    "- 依據某些條件(條件判斷式)或多次執行某個程式區塊(迴圈)，來控制程式的執行流程\n",
    "- Python使用`冒號`及`縮排`來辨別程式區塊\n",
    "- if...else if...else 條件判斷式\n",
    "- while, for"
   ]
  },
  {
   "cell_type": "markdown",
   "metadata": {
    "slideshow": {
     "slide_type": "slide"
    }
   },
   "source": [
    "## 條件判斷\n",
    "\n",
    "if (條件1):\n",
    "\n",
    "    (執行1)\n",
    "   \n",
    "elif (條件2):\n",
    "\n",
    "    (執行2)\n",
    "    \n",
    "else:\n",
    "\n",
    "    (執行3)\n",
    "    \n",
    "    \n",
    "若滿足條件1，執行1；滿足條件2，執行2；其他的情況，執行3    \n",
    "    \n",
    "**縮排**：使用 `tab` 或 使用 **4** 個空白字元 "
   ]
  },
  {
   "cell_type": "code",
   "execution_count": 30,
   "metadata": {
    "slideshow": {
     "slide_type": "subslide"
    }
   },
   "outputs": [
    {
     "name": "stdout",
     "output_type": "stream",
     "text": [
      "Input a integer number:  1\n",
      "<class 'str'>\n",
      "<class 'int'>\n",
      "A positive number\n"
     ]
    }
   ],
   "source": [
    "x0 = input('Input a integer number:  ')  \n",
    "\n",
    "print(type(x0))    # 預設為 str\n",
    "\n",
    "x = int(x0)  # 轉 type\n",
    "\n",
    "print(type(x))\n",
    "\n",
    "if x > 0: # 冒號\n",
    "    print ('A positive number')   # 使用 tab 或 建議使用 **4** 個空白字元 \n",
    "\n",
    "elif x == 0:\n",
    "    print ('ZERO')\n",
    "    \n",
    "else:\n",
    "    print ('A negative number')"
   ]
  },
  {
   "cell_type": "markdown",
   "metadata": {
    "slideshow": {
     "slide_type": "slide"
    }
   },
   "source": [
    "## While (條件)：\n",
    "只要條件符合，就一直執行"
   ]
  },
  {
   "cell_type": "code",
   "execution_count": 31,
   "metadata": {
    "slideshow": {
     "slide_type": "subslide"
    }
   },
   "outputs": [
    {
     "name": "stdout",
     "output_type": "stream",
     "text": [
      "1\n",
      "2\n",
      "3\n",
      "4\n",
      "5\n",
      "6\n",
      "7\n",
      "8\n",
      "9\n",
      "10\n"
     ]
    }
   ],
   "source": [
    "t = 0\n",
    "\n",
    "while t < 10:\n",
    "    \n",
    "    t += 1\n",
    "    # t = t + 1\n",
    "    print(t)"
   ]
  },
  {
   "cell_type": "markdown",
   "metadata": {
    "slideshow": {
     "slide_type": "slide"
    }
   },
   "source": [
    "## `for` 迴圈\n",
    "\n",
    "`for` 迴圈就是把一個 `list` 中所有元素，一個一個拿出處理"
   ]
  },
  {
   "cell_type": "code",
   "execution_count": 32,
   "metadata": {
    "slideshow": {
     "slide_type": "slide"
    }
   },
   "outputs": [
    {
     "name": "stdout",
     "output_type": "stream",
     "text": [
      "1\n",
      "2\n",
      "3\n",
      "4\n",
      "5\n",
      "6\n",
      "7\n",
      "8\n",
      "9\n",
      "10\n"
     ]
    }
   ],
   "source": [
    "A = range(1,11)\n",
    "\n",
    "for i in A:\n",
    "    print(i)"
   ]
  },
  {
   "cell_type": "markdown",
   "metadata": {
    "slideshow": {
     "slide_type": "subslide"
    }
   },
   "source": [
    "或直接在 `for` 指令中設範圍"
   ]
  },
  {
   "cell_type": "code",
   "execution_count": 33,
   "metadata": {
    "slideshow": {
     "slide_type": "fragment"
    }
   },
   "outputs": [
    {
     "name": "stdout",
     "output_type": "stream",
     "text": [
      "+\n",
      "++\n",
      "+++\n",
      "++++\n",
      "+++++\n",
      "++++++\n",
      "+++++++\n",
      "++++++++\n",
      "+++++++++\n",
      "++++++++++\n"
     ]
    }
   ],
   "source": [
    "for i in range(1,11):\n",
    "    print(\"+\"*i)"
   ]
  },
  {
   "cell_type": "markdown",
   "metadata": {
    "slideshow": {
     "slide_type": "subslide"
    }
   },
   "source": [
    "用在 for 迴圈的 list 不一定要數字"
   ]
  },
  {
   "cell_type": "code",
   "execution_count": 34,
   "metadata": {
    "slideshow": {
     "slide_type": "fragment"
    }
   },
   "outputs": [],
   "source": [
    "names = [\"成\", \"功\", \"高\", \"中\"]"
   ]
  },
  {
   "cell_type": "code",
   "execution_count": 35,
   "metadata": {
    "slideshow": {
     "slide_type": "fragment"
    }
   },
   "outputs": [
    {
     "name": "stdout",
     "output_type": "stream",
     "text": [
      "成\n",
      "功\n",
      "高\n",
      "中\n"
     ]
    }
   ],
   "source": [
    "n = ''\n",
    "for n in names:\n",
    "    print(n)"
   ]
  },
  {
   "cell_type": "markdown",
   "metadata": {
    "slideshow": {
     "slide_type": "slide"
    }
   },
   "source": [
    "# 自訂函數\n",
    "- 縮排一致\n",
    "- 可回傳list\n",
    "#### 函數名稱可以用中文"
   ]
  },
  {
   "cell_type": "code",
   "execution_count": 36,
   "metadata": {
    "slideshow": {
     "slide_type": "subslide"
    }
   },
   "outputs": [],
   "source": [
    "def f(x):\n",
    "    return x**2"
   ]
  },
  {
   "cell_type": "code",
   "execution_count": 37,
   "metadata": {
    "slideshow": {
     "slide_type": "fragment"
    }
   },
   "outputs": [],
   "source": [
    "def 平方立方(x):\n",
    "    return x**2, x**3   #回傳為tuple"
   ]
  },
  {
   "cell_type": "code",
   "execution_count": 38,
   "metadata": {
    "slideshow": {
     "slide_type": "fragment"
    }
   },
   "outputs": [
    {
     "name": "stdout",
     "output_type": "stream",
     "text": [
      "9 9 27 \n",
      "\n",
      "(25, 125)\n"
     ]
    }
   ],
   "source": [
    "a = f(3)\n",
    "b2, b3 = 平方立方(3)\n",
    "\n",
    "print(a, b2, b3,'\\n')\n",
    "print(平方立方(5))"
   ]
  },
  {
   "cell_type": "markdown",
   "metadata": {
    "slideshow": {
     "slide_type": "slide"
    }
   },
   "source": [
    "# End"
   ]
  },
  {
   "cell_type": "markdown",
   "metadata": {
    "slideshow": {
     "slide_type": "slide"
    }
   },
   "source": [
    "## 補充\n",
    "- tuple\n",
    "- dict\n",
    "- set\n"
   ]
  },
  {
   "cell_type": "markdown",
   "metadata": {
    "slideshow": {
     "slide_type": "slide"
    }
   },
   "source": [
    "## 元組 tuple\n",
    "- 元組可以視為不可改變的串列\n",
    "- 用小括号（）表示\n",
    "- 不能重新賦值替换"
   ]
  },
  {
   "cell_type": "code",
   "execution_count": 39,
   "metadata": {
    "slideshow": {
     "slide_type": "slide"
    }
   },
   "outputs": [],
   "source": [
    "t = (3.14, 'China', 'Jason')"
   ]
  },
  {
   "cell_type": "code",
   "execution_count": 40,
   "metadata": {
    "slideshow": {
     "slide_type": "fragment"
    }
   },
   "outputs": [
    {
     "ename": "SyntaxError",
     "evalue": "invalid character in identifier (<ipython-input-40-17bbedb5ded9>, line 1)",
     "output_type": "error",
     "traceback": [
      "\u001b[1;36m  File \u001b[1;32m\"<ipython-input-40-17bbedb5ded9>\"\u001b[1;36m, line \u001b[1;32m1\u001b[0m\n\u001b[1;33m    用處：\u001b[0m\n\u001b[1;37m      ^\u001b[0m\n\u001b[1;31mSyntaxError\u001b[0m\u001b[1;31m:\u001b[0m invalid character in identifier\n"
     ]
    }
   ],
   "source": [
    "用處：\n",
    "函數若要回傳多個值，用一個tuple即可"
   ]
  },
  {
   "cell_type": "code",
   "execution_count": null,
   "metadata": {
    "slideshow": {
     "slide_type": "fragment"
    }
   },
   "outputs": [],
   "source": [
    "#也可以讓tuple內可變\n",
    "\n",
    "t = (3.14, 'China', 'Jason', ['A', 'B'])\n",
    "print (t)\n",
    "\n",
    "L = t[3]\n",
    "L[0] = 122\n",
    "L[1] = 233\n",
    "print (t)\n",
    "#因為tuple是指向位置不可變，但例子中第四個元素是list，而list本身可變\n"
   ]
  },
  {
   "cell_type": "markdown",
   "metadata": {
    "slideshow": {
     "slide_type": "slide"
    }
   },
   "source": [
    "元組比起串列好處：\n",
    "\n",
    "- 佔用空間較少\n",
    "- 可以當做字典的 key（因不可變）\n",
    "- 具名 tuple 可當做物件替代\n",
    "- 當做函式引數"
   ]
  },
  {
   "cell_type": "markdown",
   "metadata": {
    "slideshow": {
     "slide_type": "slide"
    }
   },
   "source": [
    "## 字典Dict\n",
    "- 是Key-Value的鍵值對，可以用大括号{ 及 } \n",
    "\n",
    "- 使用類似C語言的struct定義"
   ]
  },
  {
   "cell_type": "code",
   "execution_count": null,
   "metadata": {
    "slideshow": {
     "slide_type": "slide"
    }
   },
   "outputs": [],
   "source": [
    "d = {\n",
    "    'Adam': 95,\n",
    "    'Lisa': 85,\n",
    "    'Bart': 59,\n",
    "    'Paul': 75\n",
    "}"
   ]
  },
  {
   "cell_type": "code",
   "execution_count": null,
   "metadata": {
    "slideshow": {
     "slide_type": "subslide"
    }
   },
   "outputs": [],
   "source": [
    "# Dict用Key存取來取得對應的value： (字串、整數、浮點和tuple都可以是dict的key)\n",
    "\n",
    "print d['Adam']\n",
    "\n",
    "# get\n",
    "print d.get('Adam')\n",
    "print d.get('Jason')"
   ]
  },
  {
   "cell_type": "markdown",
   "metadata": {
    "slideshow": {
     "slide_type": "slide"
    }
   },
   "source": [
    "Dict具有一些特點：\n",
    "\n",
    "- 查找速度快，無論10個還是10萬個，速度都是一樣，但是代價是使用的内存大。\n",
    "  List相反，占用内存小，但是查找速度慢。\n",
    "- Dict是無順序的，而List是有序的集合，所以不能用Dict來儲存有序集合\n",
    "\n",
    "- Key不可變，Value可變。一旦一個鍵值對加入dict後，它對應的key就不能再變了，但是Value是可以變的。\n",
    "  所以List不可以當做Dict的Key，但是可以做Value"
   ]
  },
  {
   "cell_type": "code",
   "execution_count": null,
   "metadata": {
    "slideshow": {
     "slide_type": "slide"
    }
   },
   "outputs": [],
   "source": [
    "languages = {\n",
    "    'name': 'python',\n",
    "    'version': '3.5'\n",
    "}\n",
    "\n",
    "\n",
    "# 新增和取值\n",
    "\n",
    "languages = {}\n",
    "\n",
    "languages['name'] = 'python'\n",
    "\n",
    "print(languages['name']) \n",
    "\n",
    "#合併\n",
    "\n",
    "languages = {\n",
    "    'name': 'python',\n",
    "    'version': '3.5'\n",
    "}\n",
    "\n",
    "languages2 = {\n",
    "    'name': 'js',\n",
    "    'version': '6'\n",
    "}\n",
    "\n",
    "languages.update(languages2)\n",
    "#keys() 取得所有鍵、values() 取得所有值、items() 取得所有鍵值對\n",
    "\n",
    "languages = {\n",
    "    'name': 'python',\n",
    "    'version': '3.5'\n",
    "}\n",
    "\n",
    "languages.keys() # ['name', 'version']\n",
    "languages.values() # ['python', '3.5']\n",
    "languages.items() # [('name', 'python'), ('version', '3.5')]\n",
    "\n",
    "\n",
    "#使用 in 判斷 key 是否存在 dict\n",
    "\n",
    "languages = {\n",
    "    'name': 'python',\n",
    "    'version': '3.5'\n",
    "}\n",
    "\n",
    "'name' in languages # True\n"
   ]
  },
  {
   "cell_type": "markdown",
   "metadata": {
    "slideshow": {
     "slide_type": "slide"
    }
   },
   "source": [
    "set\n",
    "類似小學時候學習的數學集合，可以想成就是留下鍵值的 dict。\n",
    "由於 set 存不重複值。\n",
    "當你只想知道值是否存在就是使用 set 的時機，例如使用 in 來判斷值是否存在。"
   ]
  },
  {
   "cell_type": "code",
   "execution_count": null,
   "metadata": {
    "slideshow": {
     "slide_type": "slide"
    }
   },
   "outputs": [],
   "source": [
    "languages = set()\n",
    "\n",
    "languages = {'python', 'js', 'python', 'go'}\n",
    "# {'python', 'js', 'go'}\n",
    "\n",
    "\n",
    "#轉換成 set\n",
    "\n",
    "set('python') # {'p', 'y', 't', 'h', 'o', 'n'}\n",
    "set(['python', 'js']) # {'python', 'js'}\n",
    "set(('python', 'js')) # {'python', 'js'}\n",
    "\n",
    "\n",
    "# 使用 intersection 取交集，union 取聯集，difference 取差集\n",
    "\n",
    "languages1 = {'js', 'python', 'go'}\n",
    "languages2 = {'python', 'go', 'java'}\n",
    "languages1.intersection(languages2) # {'python', 'go'}\n",
    "languages1.union(languages2) # {'js', 'python', 'java', 'go'}\n",
    "languages1.difference(languages2) # {'js'}\n"
   ]
  },
  {
   "cell_type": "markdown",
   "metadata": {
    "slideshow": {
     "slide_type": "slide"
    }
   },
   "source": [
    "## 整合在一起\n",
    "- 用 [] 建立 list 串列\n",
    "\n",
    "- 用 () 來創立 tuple 元組\n",
    "\n",
    "- 用 {} 來建立字典。\n",
    "\n",
    "\n",
    "雖然建立方式不盡相同，但相同的是都可以透過中括號來存取內容值：\n",
    "\n"
   ]
  },
  {
   "cell_type": "code",
   "execution_count": null,
   "metadata": {
    "slideshow": {
     "slide_type": "fragment"
    }
   },
   "outputs": [],
   "source": [
    "languages0 = ['python', 'js'] # languages0[0]\n",
    "languages1 = ('python', 'js') # languages1[0]\n",
    "languages2 = {\n",
    "    'name': 'python',\n",
    "    'version': '3.5'\n",
    "} # languages2['name']"
   ]
  }
 ],
 "metadata": {
  "celltoolbar": "Slideshow",
  "kernelspec": {
   "display_name": "Python 3",
   "language": "python",
   "name": "python3"
  },
  "language_info": {
   "codemirror_mode": {
    "name": "ipython",
    "version": 3
   },
   "file_extension": ".py",
   "mimetype": "text/x-python",
   "name": "python",
   "nbconvert_exporter": "python",
   "pygments_lexer": "ipython3",
   "version": "3.6.6"
  },
  "livereveal": {
   "scroll": true,
   "start_slideshow_at": "selected",
   "theme": "sky",
   "transition": "zoom"
  }
 },
 "nbformat": 4,
 "nbformat_minor": 2
}
