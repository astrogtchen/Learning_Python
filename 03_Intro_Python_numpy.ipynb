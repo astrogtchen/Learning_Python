{
 "cells": [
  {
   "cell_type": "markdown",
   "metadata": {
    "slideshow": {
     "slide_type": "slide"
    }
   },
   "source": [
    "# Introduction to Python\n",
    "\n",
    "part 3 \n",
    "\n",
    "- 引入套件numpy、scipy、matplotlib\n",
    "\n",
    "- numpy\n",
    "  - 數學函式庫\n",
    "  - 1D 陣列的取值與運算\n",
    "  - 2D 陣列\n",
    "  - 亂數\n",
    "  - (數值)檔案的存取"
   ]
  },
  {
   "cell_type": "markdown",
   "metadata": {
    "slideshow": {
     "slide_type": "subslide"
    }
   },
   "source": [
    "#### 參考資料\n",
    "\n",
    "- [炎龍老師的教學研究網](http://yenlung.km.nccu.edu.tw/home/index.php?f=contentShow&id=424)\n",
    "- [手把手打開 Python 資料分析大門](http://foundation.datasci.tw/py3-data-analysis-171217/)\n",
    "- [The Python Tutorial](https://docs.python.org/3.6/tutorial/index.html)\n",
    "- [Numpy](http://www.numpy.org/)\n",
    "- [Scipy Lecture Notes](http://www.scipy-lectures.org/index.html)\n",
    "- [TutorialsPoint NumPy 教程](https://legacy.gitbook.com/book/wizardforcel/ts-numpy-tut/details)\n",
    "- [SciPy Cookbook](http://scipy-cookbook.readthedocs.io/index.html)"
   ]
  },
  {
   "cell_type": "markdown",
   "metadata": {
    "slideshow": {
     "slide_type": "slide"
    }
   },
   "source": [
    "## 套件讀入方式 1\n",
    "\n",
    "\n",
    "`from 套件 import 指定函數`\n",
    "\n",
    "\n",
    "以後就可以直接用引入的函數，比如說:\n",
    "\n",
    "\n",
    "`from numpy import sin`\n",
    "\n",
    "\n",
    "以後可直接用 sin 函數。\n",
    "\n",
    "有些時候用:\n",
    "\n",
    "\n",
    "`from 套件 import *`\n",
    "\n",
    "\n",
    "就是套件內所有函數都進來。 『**不建議**』"
   ]
  },
  {
   "cell_type": "markdown",
   "metadata": {
    "slideshow": {
     "slide_type": "slide"
    }
   },
   "source": [
    "## 套件讀入方式 2\n",
    "\n",
    "第二個方式是多數人使用的方式:\n",
    "\n",
    "`import numpy`\n",
    "\n",
    "這樣可以不用先計畫好到底要哪些函數，全都可以用而且也不會亂掉。\n",
    "\n",
    "因為比如要算 sin(3)，要輸入\n",
    "\n",
    "`numpy.sin(3)`\n",
    "\n",
    "\n",
    "- Python 有提供縮寫，可以喜歡怎麼叫就怎麼叫\n",
    "\n",
    "寫成 `import numpy as np`\n",
    "\n",
    "之後就可以用\n",
    "\n",
    "`np.sin(3)`\n",
    "\n",
    "或者將指定函數改名\n",
    "\n",
    "`from numpy import sin as SIN`\n",
    "\n",
    "`SIN(3)`"
   ]
  },
  {
   "cell_type": "markdown",
   "metadata": {
    "slideshow": {
     "slide_type": "slide"
    }
   },
   "source": [
    "## 起手式\n",
    "` # encoding : UTF-8`\n",
    "\n",
    "`% matplotlib inline` \n",
    "\n",
    "`import numpy as np`\n",
    "\n",
    "`import scipy as sp`\n",
    "\n",
    "`import matplotlib.pyplot as plt`"
   ]
  },
  {
   "cell_type": "code",
   "execution_count": 1,
   "metadata": {
    "scrolled": true,
    "slideshow": {
     "slide_type": "slide"
    }
   },
   "outputs": [],
   "source": [
    "# encoding : UTF-8\n",
    "\n",
    "%matplotlib inline\n",
    "\n",
    "import numpy as np\n",
    "import scipy as sp\n",
    "import matplotlib.pyplot as plt"
   ]
  },
  {
   "cell_type": "markdown",
   "metadata": {
    "slideshow": {
     "slide_type": "slide"
    }
   },
   "source": [
    "# NumPy arrays\n",
    "\n",
    "### Python objects\n",
    "- high-level number objects: integers, ﬂoating point\n",
    "- containers: lists (costless insertion and append), dictionaries (fast lookup)\n",
    "\n",
    "### NumPy provides\n",
    "\n",
    "- extension package to Python for multi-dimensional arrays\n",
    "- closer to hardware (efﬁciency)\n",
    "- designed for scientiﬁc computation (convenience)\n",
    "- Also known as array oriented computing"
   ]
  },
  {
   "cell_type": "markdown",
   "metadata": {
    "slideshow": {
     "slide_type": "slide"
    }
   },
   "source": [
    "# Numpy\n",
    "\n",
    "- Python 內建的list資料結構不適合數值運算\n",
    "    - list 可以動態增加減少元素\n",
    "    - numpy 產生的是固定大小的array，運算上會比python內建的list快很多\n",
    "\n",
    "\n",
    "- Python 內建的range()函數無法以浮點數來設定序列間距"
   ]
  },
  {
   "cell_type": "markdown",
   "metadata": {
    "slideshow": {
     "slide_type": "slide"
    }
   },
   "source": [
    "## 常用的 Numpy 數學函數庫\n",
    "\n",
    "\n",
    "`sin(x)`\n",
    "`cos(x)`\n",
    "`tan(x)`\n",
    "`arcsin(x)`\n",
    "`arccos(x)`\n",
    "`arctan(x)`\n",
    "\n",
    "`hypot(x1, x2)`:return its hypotenuse = sqrt(x1*x1 + x2*x2) \n",
    "\n",
    "`arctan2(x1, x2)`:Element-wise arc tangent of x1/x2 choosing the quadrant correctly.\n",
    "\n",
    "`exp(x)`:Calculate the exponential of all elements in the input array.\n",
    "\n",
    "`expm1(x)`:Calculate exp(x) - 1 for all elements in the array.\n",
    "\n",
    "`exp2(x)`:Calculate 2\\*\\*p for all p in the input array.\n",
    "\n",
    "`log(x)`:Natural logarithm, element-wise.\n",
    "\n",
    "`log10(x)`:Return the base 10 logarithm of the input array, element-wise.\n",
    "\n",
    "`log2(x)`:Base-2 logarithm of x.\n",
    "\n",
    "`i0(x)`:Modified Bessel function of the first kind, order 0.\n",
    "\n",
    "`sinc(x)`:Return the sinc function.\n",
    "\n",
    "`sqrt(x)`:Return the positive square-root of an array, element-wise.\n",
    "\n",
    "`cbrt(x)`:Return the cube-root of an array, element-wise.\n",
    "\n",
    "`square(x)`:Return the element-wise square of the input.\n",
    "\n",
    "`absolute(x)`:Calculate the absolute value element-wise.\n",
    "\n",
    "`fabs(x)`:Compute the absolute values element-wise.\n",
    "\n",
    "\n",
    "[https://docs.scipy.org/doc/numpy-1.14.0/reference/routines.math.html ](https://docs.scipy.org/doc/numpy-1.14.0/reference/routines.math.html)"
   ]
  },
  {
   "cell_type": "code",
   "execution_count": 2,
   "metadata": {
    "slideshow": {
     "slide_type": "slide"
    }
   },
   "outputs": [
    {
     "ename": "TypeError",
     "evalue": "'float' object cannot be interpreted as an integer",
     "output_type": "error",
     "traceback": [
      "\u001b[1;31m---------------------------------------------------------------------------\u001b[0m",
      "\u001b[1;31mTypeError\u001b[0m                                 Traceback (most recent call last)",
      "\u001b[1;32m<ipython-input-2-8781cfc40729>\u001b[0m in \u001b[0;36m<module>\u001b[1;34m\u001b[0m\n\u001b[1;32m----> 1\u001b[1;33m \u001b[0mA\u001b[0m \u001b[1;33m=\u001b[0m \u001b[0mlist\u001b[0m\u001b[1;33m(\u001b[0m\u001b[0mrange\u001b[0m\u001b[1;33m(\u001b[0m\u001b[1;36m1\u001b[0m\u001b[1;33m,\u001b[0m\u001b[1;36m10\u001b[0m\u001b[1;33m,\u001b[0m \u001b[1;36m0.1\u001b[0m\u001b[1;33m)\u001b[0m\u001b[1;33m)\u001b[0m\u001b[1;33m\u001b[0m\u001b[1;33m\u001b[0m\u001b[0m\n\u001b[0m\u001b[0;32m      2\u001b[0m \u001b[0mprint\u001b[0m\u001b[1;33m(\u001b[0m\u001b[0mA\u001b[0m\u001b[1;33m)\u001b[0m\u001b[1;33m\u001b[0m\u001b[1;33m\u001b[0m\u001b[0m\n\u001b[0;32m      3\u001b[0m \u001b[1;31m# range 不支援浮點數\u001b[0m\u001b[1;33m\u001b[0m\u001b[1;33m\u001b[0m\u001b[1;33m\u001b[0m\u001b[0m\n",
      "\u001b[1;31mTypeError\u001b[0m: 'float' object cannot be interpreted as an integer"
     ]
    }
   ],
   "source": [
    "A = list(range(1,10, 0.1))\n",
    "print(A)   \n",
    "# range 不支援浮點數"
   ]
  },
  {
   "cell_type": "code",
   "execution_count": 3,
   "metadata": {
    "scrolled": false,
    "slideshow": {
     "slide_type": "slide"
    }
   },
   "outputs": [
    {
     "name": "stdout",
     "output_type": "stream",
     "text": [
      "[1.  1.1 1.2 1.3 1.4 1.5 1.6 1.7 1.8 1.9]\n",
      "[ 0.   2.5  5.   7.5 10. ]\n",
      "[1.00000000e-02 1.77827941e-01 3.16227766e+00 5.62341325e+01\n",
      " 1.00000000e+03]\n",
      "[0. 0. 0. 0. 0. 0. 0. 0. 0. 0.]\n",
      "[1. 1. 1. 1. 1. 1. 1. 1. 1. 1.]\n",
      "[-2.   -0.75  0.5   1.75  3.  ]\n",
      "[3.14159265 3.14159265 3.14159265 3.14159265 3.14159265]\n",
      "[  0.  30.  60.  90. 120. 150. 180. 210. 240. 270. 300. 330. 360.]\n",
      "[0.         0.52359878 1.04719755 1.57079633 2.0943951  2.61799388\n",
      " 3.14159265 3.66519143 4.1887902  4.71238898 5.23598776 5.75958653\n",
      " 6.28318531]\n"
     ]
    }
   ],
   "source": [
    "import numpy as np\n",
    "\n",
    "A = np.arange(1, 2, 0.1)      # 從 1 開始，到 2以前(不包含末數)，間隔 0.1\n",
    "\n",
    "B = np.linspace(0, 10, 5)     # 有含末數  \n",
    "                              # 從 0 開始，到 10，等距分出 5個數字 \n",
    "                              # 省略 5則會回到預設的 100\n",
    "        \n",
    "#B2 = np.linspace(1, 10, 1, endpoint=False)  #不含末數\n",
    "\n",
    "        \n",
    "C = np.logspace(-2, 3, 5)    # 從 10^-2 開始，到 10^3，等距(指數)分出 5個數字\n",
    "                              # 省略 5則會回到預設的 50\n",
    "\n",
    "#C2 = np.logspace(-2, 3, 5, base=2)   #以2為底\n",
    "\n",
    "init_A = np.zeros(10)         # 產生 10 個零\n",
    "init_B = np.ones(10)          # 產生 10 個 1\n",
    "init_C = np.empty(5)          # 產生 5 個數（沒指定數值）\n",
    "init_D = np.full(5,np.pi)     # 產生 5 個 pi\n",
    "\n",
    "Deg = np.arange(13.) * 30     #產生(0~12)*30 個角度\n",
    "Rad = np.radians(Deg)         #將角度轉弧度\n",
    "\n",
    "print(A)\n",
    "print(B)\n",
    "print(C)\n",
    "print(init_A)\n",
    "print(init_B)\n",
    "print(init_C)\n",
    "print(init_D)\n",
    "\n",
    "print(Deg)\n",
    "print(Rad)\n"
   ]
  },
  {
   "cell_type": "markdown",
   "metadata": {
    "slideshow": {
     "slide_type": "slide"
    }
   },
   "source": [
    "## time\n",
    "計時工具\n",
    "\n",
    "- 用 `%%time` 顯示目前cell執行所花的時間 \n",
    "\n",
    "- 用 `%%timeit` 預設執行10萬次，回傳統計結果\n",
    "\n",
    " -在編輯器執行只須`%timeit`或 `from timeit import default_timer` 使用 timer() 輸出時間"
   ]
  },
  {
   "cell_type": "code",
   "execution_count": 4,
   "metadata": {
    "slideshow": {
     "slide_type": "slide"
    }
   },
   "outputs": [
    {
     "name": "stdout",
     "output_type": "stream",
     "text": [
      "Wall time: 49.9 ms\n"
     ]
    }
   ],
   "source": [
    "%%time\n",
    "a = [x**2 for x in range(100000)]"
   ]
  },
  {
   "cell_type": "code",
   "execution_count": 5,
   "metadata": {
    "slideshow": {
     "slide_type": "slide"
    }
   },
   "outputs": [
    {
     "name": "stdout",
     "output_type": "stream",
     "text": [
      "37.9 ms ± 2.49 ms per loop (mean ± std. dev. of 7 runs, 10 loops each)\n"
     ]
    }
   ],
   "source": [
    "%%timeit \n",
    "b = [x**2 for x in range(100000)]"
   ]
  },
  {
   "cell_type": "code",
   "execution_count": 6,
   "metadata": {
    "slideshow": {
     "slide_type": "slide"
    }
   },
   "outputs": [
    {
     "name": "stdout",
     "output_type": "stream",
     "text": [
      "3.79 ms ± 206 µs per loop (mean ± std. dev. of 7 runs, 100 loops each)\n"
     ]
    }
   ],
   "source": [
    "%%timeit\n",
    "#使用list\n",
    "L = range(10000)\n",
    "a2 = [i**2 for i in L]   "
   ]
  },
  {
   "cell_type": "code",
   "execution_count": 7,
   "metadata": {
    "slideshow": {
     "slide_type": "fragment"
    }
   },
   "outputs": [
    {
     "name": "stdout",
     "output_type": "stream",
     "text": [
      "16.4 µs ± 1.4 µs per loop (mean ± std. dev. of 7 runs, 100000 loops each)\n"
     ]
    }
   ],
   "source": [
    "%%timeit\n",
    "# 使用 numpy\n",
    "import numpy as np\n",
    "L2 = np.arange(10000)\n",
    "a3 = L2**2"
   ]
  },
  {
   "cell_type": "markdown",
   "metadata": {
    "slideshow": {
     "slide_type": "slide"
    }
   },
   "source": [
    "# 陣列的運算"
   ]
  },
  {
   "cell_type": "code",
   "execution_count": 8,
   "metadata": {
    "slideshow": {
     "slide_type": "slide"
    }
   },
   "outputs": [
    {
     "name": "stdout",
     "output_type": "stream",
     "text": [
      "[1 2 3]\n",
      "[4 5 6]\n"
     ]
    }
   ],
   "source": [
    "import numpy as np\n",
    "\n",
    "a = np.array([1,2,3])\n",
    "\n",
    "b = np.array([4,5,6])\n",
    "\n",
    "print(a)\n",
    "print(b)"
   ]
  },
  {
   "cell_type": "code",
   "execution_count": 9,
   "metadata": {
    "slideshow": {
     "slide_type": "fragment"
    }
   },
   "outputs": [
    {
     "data": {
      "text/plain": [
       "1"
      ]
     },
     "execution_count": 9,
     "metadata": {},
     "output_type": "execute_result"
    }
   ],
   "source": [
    "a.ndim #維度"
   ]
  },
  {
   "cell_type": "code",
   "execution_count": 10,
   "metadata": {
    "slideshow": {
     "slide_type": "fragment"
    }
   },
   "outputs": [
    {
     "data": {
      "text/plain": [
       "(3,)"
      ]
     },
     "execution_count": 10,
     "metadata": {},
     "output_type": "execute_result"
    }
   ],
   "source": [
    "a.shape "
   ]
  },
  {
   "cell_type": "code",
   "execution_count": 11,
   "metadata": {
    "slideshow": {
     "slide_type": "fragment"
    }
   },
   "outputs": [
    {
     "data": {
      "text/plain": [
       "3"
      ]
     },
     "execution_count": 11,
     "metadata": {},
     "output_type": "execute_result"
    }
   ],
   "source": [
    "len(a)   #長度"
   ]
  },
  {
   "cell_type": "code",
   "execution_count": 12,
   "metadata": {
    "slideshow": {
     "slide_type": "subslide"
    }
   },
   "outputs": [
    {
     "data": {
      "text/plain": [
       "array([6, 7, 8])"
      ]
     },
     "execution_count": 12,
     "metadata": {},
     "output_type": "execute_result"
    }
   ],
   "source": [
    "a+5  "
   ]
  },
  {
   "cell_type": "code",
   "execution_count": 13,
   "metadata": {
    "slideshow": {
     "slide_type": "subslide"
    }
   },
   "outputs": [
    {
     "data": {
      "text/plain": [
       "array([12, 15, 18])"
      ]
     },
     "execution_count": 13,
     "metadata": {},
     "output_type": "execute_result"
    }
   ],
   "source": [
    "b*3"
   ]
  },
  {
   "cell_type": "code",
   "execution_count": 14,
   "metadata": {
    "slideshow": {
     "slide_type": "subslide"
    }
   },
   "outputs": [
    {
     "data": {
      "text/plain": [
       "array([2, 4, 8], dtype=int32)"
      ]
     },
     "execution_count": 14,
     "metadata": {},
     "output_type": "execute_result"
    }
   ],
   "source": [
    "2**a"
   ]
  },
  {
   "cell_type": "code",
   "execution_count": 15,
   "metadata": {
    "slideshow": {
     "slide_type": "slide"
    }
   },
   "outputs": [
    {
     "name": "stdout",
     "output_type": "stream",
     "text": [
      "[5 7 9]\n",
      "[-3 -3 -3]\n",
      "[ 4 10 18]\n",
      "[0.25 0.4  0.5 ]\n",
      "[-1 -2 -3]\n",
      "[  1  32 729]\n"
     ]
    }
   ],
   "source": [
    "# 以下運算非矩陣運算\n",
    "\n",
    "A = np.add(a, b)      #相加\n",
    "B = np.subtract(a, b) #相減\n",
    "C = np.multiply(a, b) #相乘\n",
    "D = np.divide(a, b)   #相除\n",
    "E = np.negative(a)    #取負號\n",
    "F = np.power(a, b)    #指數 a的 b次方\n",
    "                \n",
    "#print(A ,end=',')      #end=',' 表示不換行，分隔符號為 ,\n",
    "#print(B)\n",
    "\n",
    "print(A, B, C, D, E, F, sep='\\n')  # sep 為分隔符號 \\n表示換行"
   ]
  },
  {
   "cell_type": "code",
   "execution_count": 16,
   "metadata": {
    "slideshow": {
     "slide_type": "slide"
    }
   },
   "outputs": [
    {
     "data": {
      "text/plain": [
       "32"
      ]
     },
     "execution_count": 16,
     "metadata": {},
     "output_type": "execute_result"
    }
   ],
   "source": [
    "weight = a * b\n",
    "weight.sum()"
   ]
  },
  {
   "cell_type": "code",
   "execution_count": 17,
   "metadata": {
    "slideshow": {
     "slide_type": "fragment"
    }
   },
   "outputs": [
    {
     "data": {
      "text/plain": [
       "32"
      ]
     },
     "execution_count": 17,
     "metadata": {},
     "output_type": "execute_result"
    }
   ],
   "source": [
    "np.dot(a,b) #內積"
   ]
  },
  {
   "cell_type": "code",
   "execution_count": 18,
   "metadata": {
    "slideshow": {
     "slide_type": "slide"
    }
   },
   "outputs": [],
   "source": [
    "# 陣列內的運算\n",
    "\n",
    "import numpy as np\n",
    "\n",
    "x = np.array([1,2,7,5])"
   ]
  },
  {
   "cell_type": "code",
   "execution_count": 19,
   "metadata": {
    "slideshow": {
     "slide_type": "fragment"
    }
   },
   "outputs": [
    {
     "name": "stdout",
     "output_type": "stream",
     "text": [
      "3.75\n",
      "3.5\n",
      "2.384848003542364\n",
      "1\n",
      "7\n",
      "0\n",
      "2\n"
     ]
    }
   ],
   "source": [
    "print(x.mean())     #平均值\n",
    "\n",
    "print(np.median(x)) #中位數\n",
    "\n",
    "print(x.std())  #標準差\n",
    "\n",
    "print(x.min())  #最小值\n",
    "print(x.max())  #最大值\n",
    "\n",
    "print(x.argmin()) #最小值的index\n",
    "print(x.argmax()) #最大值的iindex"
   ]
  },
  {
   "cell_type": "code",
   "execution_count": 20,
   "metadata": {
    "slideshow": {
     "slide_type": "slide"
    }
   },
   "outputs": [
    {
     "name": "stdout",
     "output_type": "stream",
     "text": [
      "[ 0.          0.84147098  0.90929743  0.14112001 -0.7568025 ]\n",
      "[      -inf 0.         0.69314718 1.09861229 1.38629436]\n",
      "[      -inf 0.         0.30103    0.47712125 0.60205999]\n",
      "[ 1.          2.71828183  7.3890561  20.08553692 54.59815003]\n"
     ]
    },
    {
     "name": "stderr",
     "output_type": "stream",
     "text": [
      "C:\\Users\\user\\Anaconda3\\lib\\site-packages\\ipykernel_launcher.py:8: RuntimeWarning: divide by zero encountered in log\n",
      "  \n",
      "C:\\Users\\user\\Anaconda3\\lib\\site-packages\\ipykernel_launcher.py:9: RuntimeWarning: divide by zero encountered in log10\n",
      "  if __name__ == '__main__':\n"
     ]
    }
   ],
   "source": [
    "# 將陣列值輸入函數，輸出陣列函數值\n",
    "\n",
    "import numpy as np\n",
    "\n",
    "a = np.arange(5)\n",
    "\n",
    "print(np.sin(a))\n",
    "print(np.log(a))    # Natural logarithm\n",
    "print(np.log10(a))  # the base 10 logarithm \n",
    "print(np.exp(a))"
   ]
  },
  {
   "cell_type": "markdown",
   "metadata": {
    "slideshow": {
     "slide_type": "slide"
    }
   },
   "source": [
    "##  array 的取值"
   ]
  },
  {
   "cell_type": "code",
   "execution_count": 21,
   "metadata": {
    "slideshow": {
     "slide_type": "fragment"
    }
   },
   "outputs": [
    {
     "name": "stdout",
     "output_type": "stream",
     "text": [
      "[0 1 2 3 4 5 6 7 8 9]\n"
     ]
    }
   ],
   "source": [
    "import numpy as np\n",
    "\n",
    "c = np.arange(10)\n",
    "\n",
    "print(c)"
   ]
  },
  {
   "cell_type": "code",
   "execution_count": 22,
   "metadata": {
    "slideshow": {
     "slide_type": "fragment"
    }
   },
   "outputs": [
    {
     "data": {
      "text/plain": [
       "array([2, 3, 4, 5, 6, 7, 8])"
      ]
     },
     "execution_count": 22,
     "metadata": {},
     "output_type": "execute_result"
    }
   ],
   "source": [
    "c [2:9:1]  # index2~9 每隔 3 個取值"
   ]
  },
  {
   "cell_type": "code",
   "execution_count": 23,
   "metadata": {
    "slideshow": {
     "slide_type": "fragment"
    }
   },
   "outputs": [
    {
     "data": {
      "text/plain": [
       "array([3, 4, 5, 6, 7, 8, 9])"
      ]
     },
     "execution_count": 23,
     "metadata": {},
     "output_type": "execute_result"
    }
   ],
   "source": [
    "c [3:]    #取出index＝3之後"
   ]
  },
  {
   "cell_type": "code",
   "execution_count": 24,
   "metadata": {
    "slideshow": {
     "slide_type": "fragment"
    }
   },
   "outputs": [
    {
     "data": {
      "text/plain": [
       "array([0, 1, 2, 3])"
      ]
     },
     "execution_count": 24,
     "metadata": {},
     "output_type": "execute_result"
    }
   ],
   "source": [
    "c [:4]    #取出index＝4之前"
   ]
  },
  {
   "cell_type": "code",
   "execution_count": 25,
   "metadata": {
    "slideshow": {
     "slide_type": "fragment"
    }
   },
   "outputs": [
    {
     "data": {
      "text/plain": [
       "array([0, 2, 4, 6, 8])"
      ]
     },
     "execution_count": 25,
     "metadata": {},
     "output_type": "execute_result"
    }
   ],
   "source": [
    "c [::2]  # 每隔2個index取值"
   ]
  },
  {
   "cell_type": "code",
   "execution_count": 26,
   "metadata": {
    "slideshow": {
     "slide_type": "fragment"
    }
   },
   "outputs": [
    {
     "name": "stdout",
     "output_type": "stream",
     "text": [
      "[ 3  1  5  3  7  5  9  7 11  9]\n"
     ]
    }
   ],
   "source": [
    "c[::2]+=3 # 每間隔2個index 都加 3\n",
    "print(c)"
   ]
  },
  {
   "cell_type": "code",
   "execution_count": 27,
   "metadata": {
    "slideshow": {
     "slide_type": "fragment"
    }
   },
   "outputs": [
    {
     "data": {
      "text/plain": [
       "array([ 5,  5,  1, 11])"
      ]
     },
     "execution_count": 27,
     "metadata": {},
     "output_type": "execute_result"
    }
   ],
   "source": [
    "# 輸入位置的 array取值\n",
    "\n",
    "c[[2,5,1,8]]\n",
    "\n",
    "# 等同於 c[np.array([2,5,1,8])]"
   ]
  },
  {
   "cell_type": "code",
   "execution_count": 28,
   "metadata": {
    "slideshow": {
     "slide_type": "fragment"
    }
   },
   "outputs": [
    {
     "data": {
      "text/plain": [
       "array([5, 3, 5, 7, 5])"
      ]
     },
     "execution_count": 28,
     "metadata": {},
     "output_type": "execute_result"
    }
   ],
   "source": [
    "c[[2,3,2,4,2]]  # 可重複取值"
   ]
  },
  {
   "cell_type": "code",
   "execution_count": 29,
   "metadata": {
    "slideshow": {
     "slide_type": "fragment"
    }
   },
   "outputs": [
    {
     "name": "stdout",
     "output_type": "stream",
     "text": [
      "[  3   1   5   3   7   5   9 -10  11 -10]\n"
     ]
    }
   ],
   "source": [
    "c[[9,7]]=-10 # 指定index 9,7 的值為-10\n",
    "print(c)"
   ]
  },
  {
   "cell_type": "code",
   "execution_count": 30,
   "metadata": {
    "slideshow": {
     "slide_type": "fragment"
    }
   },
   "outputs": [
    {
     "name": "stdout",
     "output_type": "stream",
     "text": [
      "[  3   1   6   4   8   5   9 -10  11 -10]\n"
     ]
    }
   ],
   "source": [
    "c[[2,3,2,4,2]]+=1 #index 2,3,2,4,2 各加 1\n",
    "print(c)"
   ]
  },
  {
   "cell_type": "markdown",
   "metadata": {
    "slideshow": {
     "slide_type": "slide"
    }
   },
   "source": [
    "# 2 維陣列\n",
    "\n",
    "2 維陣列：先列、後⾏\n",
    "\n",
    "## np.array ( [row 列]  , [column行] )"
   ]
  },
  {
   "cell_type": "code",
   "execution_count": 31,
   "metadata": {
    "slideshow": {
     "slide_type": "fragment"
    }
   },
   "outputs": [
    {
     "name": "stdout",
     "output_type": "stream",
     "text": [
      "[[1 2 3]\n",
      " [4 5 6]]\n"
     ]
    }
   ],
   "source": [
    "import numpy as np\n",
    "\n",
    "a2 = np.array([[1,2,3],[4,5,6]])\n",
    "print(a2)"
   ]
  },
  {
   "cell_type": "code",
   "execution_count": 32,
   "metadata": {
    "slideshow": {
     "slide_type": "subslide"
    }
   },
   "outputs": [
    {
     "data": {
      "text/plain": [
       "2"
      ]
     },
     "execution_count": 32,
     "metadata": {},
     "output_type": "execute_result"
    }
   ],
   "source": [
    "a2.ndim "
   ]
  },
  {
   "cell_type": "code",
   "execution_count": 33,
   "metadata": {
    "slideshow": {
     "slide_type": "fragment"
    }
   },
   "outputs": [
    {
     "data": {
      "text/plain": [
       "(2, 3)"
      ]
     },
     "execution_count": 33,
     "metadata": {},
     "output_type": "execute_result"
    }
   ],
   "source": [
    "a2.shape # (列，行)"
   ]
  },
  {
   "cell_type": "code",
   "execution_count": 34,
   "metadata": {
    "slideshow": {
     "slide_type": "fragment"
    }
   },
   "outputs": [
    {
     "data": {
      "text/plain": [
       "2"
      ]
     },
     "execution_count": 34,
     "metadata": {},
     "output_type": "execute_result"
    }
   ],
   "source": [
    "len(a2) # returns the size of the first dimension"
   ]
  },
  {
   "cell_type": "code",
   "execution_count": 35,
   "metadata": {
    "slideshow": {
     "slide_type": "fragment"
    }
   },
   "outputs": [
    {
     "data": {
      "text/plain": [
       "array([[1, 2],\n",
       "       [3, 4],\n",
       "       [5, 6]])"
      ]
     },
     "execution_count": 35,
     "metadata": {},
     "output_type": "execute_result"
    }
   ],
   "source": [
    "a2.reshape(3,2) #改變行列數"
   ]
  },
  {
   "cell_type": "code",
   "execution_count": 36,
   "metadata": {
    "slideshow": {
     "slide_type": "fragment"
    }
   },
   "outputs": [
    {
     "data": {
      "text/plain": [
       "array([1, 2, 3, 4, 5, 6])"
      ]
     },
     "execution_count": 36,
     "metadata": {},
     "output_type": "execute_result"
    }
   ],
   "source": [
    "a2.ravel()   #拉平"
   ]
  },
  {
   "cell_type": "code",
   "execution_count": 37,
   "metadata": {
    "slideshow": {
     "slide_type": "fragment"
    }
   },
   "outputs": [
    {
     "data": {
      "text/plain": [
       "array([[1, 4],\n",
       "       [2, 5],\n",
       "       [3, 6]])"
      ]
     },
     "execution_count": 37,
     "metadata": {},
     "output_type": "execute_result"
    }
   ],
   "source": [
    "a2.T  # 轉置"
   ]
  },
  {
   "cell_type": "code",
   "execution_count": 38,
   "metadata": {
    "slideshow": {
     "slide_type": "fragment"
    }
   },
   "outputs": [
    {
     "data": {
      "text/plain": [
       "array([1, 4, 2, 5, 3, 6])"
      ]
     },
     "execution_count": 38,
     "metadata": {},
     "output_type": "execute_result"
    }
   ],
   "source": [
    "a2.T.ravel()   # Higher dimensions: last dimensions ravel out “ﬁrst”."
   ]
  },
  {
   "cell_type": "code",
   "execution_count": 39,
   "metadata": {
    "slideshow": {
     "slide_type": "slide"
    }
   },
   "outputs": [
    {
     "name": "stdout",
     "output_type": "stream",
     "text": [
      "[0 1 2 3 4 5 6 7 8 9]\n"
     ]
    }
   ],
   "source": [
    "# 可用 numpy 的功能先創造一串數字，再變成陣列 \n",
    "import numpy as np\n",
    "\n",
    "a3 = np.arange(10)\n",
    "print(a3)"
   ]
  },
  {
   "cell_type": "code",
   "execution_count": 40,
   "metadata": {
    "slideshow": {
     "slide_type": "fragment"
    }
   },
   "outputs": [
    {
     "data": {
      "text/plain": [
       "(10,)"
      ]
     },
     "execution_count": 40,
     "metadata": {},
     "output_type": "execute_result"
    }
   ],
   "source": [
    "a3.shape"
   ]
  },
  {
   "cell_type": "code",
   "execution_count": 41,
   "metadata": {
    "slideshow": {
     "slide_type": "fragment"
    }
   },
   "outputs": [
    {
     "data": {
      "text/plain": [
       "array([[0, 1, 2, 3, 4],\n",
       "       [5, 6, 7, 8, 9]])"
      ]
     },
     "execution_count": 41,
     "metadata": {},
     "output_type": "execute_result"
    }
   ],
   "source": [
    "a3.reshape(2,5)"
   ]
  },
  {
   "cell_type": "code",
   "execution_count": 42,
   "metadata": {
    "slideshow": {
     "slide_type": "slide"
    }
   },
   "outputs": [
    {
     "name": "stdout",
     "output_type": "stream",
     "text": [
      "[[0. 0. 0.]\n",
      " [0. 0. 0.]\n",
      " [0. 0. 0.]]\n",
      "[[1. 1. 1. 1.]\n",
      " [1. 1. 1. 1.]\n",
      " [1. 1. 1. 1.]\n",
      " [1. 1. 1. 1.]]\n",
      "[[1. 0. 0.]\n",
      " [0. 1. 0.]\n",
      " [0. 0. 1.]]\n",
      "[[0.  0.  0.  0.  0. ]\n",
      " [0.  0.5 0.  0.  0. ]\n",
      " [0.  0.  1.  0.  0. ]\n",
      " [0.  0.  0.  1.5 0. ]\n",
      " [0.  0.  0.  0.  2. ]]\n",
      "[0.  0.5 1.  1.5 2. ]\n"
     ]
    }
   ],
   "source": [
    "import numpy as np\n",
    "\n",
    "a4 = np.zeros((3,3))  #產生3*3都是零的陣列 ps:(3,3)是 tuple\n",
    "a5 = np.ones((4,4))   #產生4*4都是1的陣列\n",
    "\n",
    "a6 =  np.eye(3)       #產生3*3，對角都是1的陣列\n",
    "                      #與 np.idenity 相同\n",
    "\n",
    "a7 = np.diag(np.linspace(0, 2, 5)) #產生4*4只有對角有值的陣列，對角值為0~2間的5個值\n",
    "a8 = np.diag(a7) # 取出對角值\n",
    "\n",
    "print(a4, a5, a6, a7, a8, sep='\\n')"
   ]
  },
  {
   "cell_type": "markdown",
   "metadata": {
    "slideshow": {
     "slide_type": "slide"
    }
   },
   "source": [
    "# 2D array 的取用\n",
    "\n",
    "<img src=\"./images/np_slicing.png\" width=500, height=1000>\n"
   ]
  },
  {
   "cell_type": "markdown",
   "metadata": {
    "slideshow": {
     "slide_type": "slide"
    }
   },
   "source": [
    "# 2D array運算 \n",
    "axis  指運算的⽅向\n",
    "\n",
    "在⼆維陣列有兩個⽅向: \n",
    "\n",
    "沿列  (axis=0)  \n",
    "沿⾏  (axis=1) "
   ]
  },
  {
   "cell_type": "markdown",
   "metadata": {
    "slideshow": {
     "slide_type": "subslide"
    }
   },
   "source": [
    "<img src=\"./images/axis1.png\" width=300, height=600>\n",
    "\n",
    "![axis01](./images/axis01.png)\n",
    "![axis02](./images/axis02.png)"
   ]
  },
  {
   "cell_type": "code",
   "execution_count": 43,
   "metadata": {
    "slideshow": {
     "slide_type": "slide"
    }
   },
   "outputs": [
    {
     "name": "stdout",
     "output_type": "stream",
     "text": [
      "[[0 1 2 3 4]\n",
      " [5 6 7 8 9]]\n"
     ]
    }
   ],
   "source": [
    "import numpy as np\n",
    "\n",
    "A = np.arange(10).reshape(2,5) #產生0~9共10個數字，並將其指定為2*5 陣列\n",
    "print(A) "
   ]
  },
  {
   "cell_type": "code",
   "execution_count": 44,
   "metadata": {},
   "outputs": [
    {
     "name": "stdout",
     "output_type": "stream",
     "text": [
      "[0 5]\n",
      "[2 7]\n"
     ]
    }
   ],
   "source": [
    "C0 = A[:,0] #取出index(行)=0\n",
    "C1 = A[:,2] #取出index(行)=2\n",
    "\n",
    "print(C0)\n",
    "print(C1)"
   ]
  },
  {
   "cell_type": "code",
   "execution_count": 45,
   "metadata": {
    "slideshow": {
     "slide_type": "fragment"
    }
   },
   "outputs": [
    {
     "name": "stdout",
     "output_type": "stream",
     "text": [
      "45\n",
      "[ 5  7  9 11 13]\n",
      "[10 35]\n",
      "5\n",
      "11\n"
     ]
    }
   ],
   "source": [
    "As = A.sum()      # 全部的元素加起來\n",
    "\n",
    "A0 = A.sum(axis=0)  # 將 axis=0（行）加總\n",
    "A1 = A.sum(axis=1)  # 將 axis=1 (列) 加總\n",
    "\n",
    "a0 = A[:,0].sum()  #將index(行)=0的加總\n",
    "a1 = A[:,3].sum()  #將index(行)=3的加總\n",
    "\n",
    "print(As)\n",
    "print(A0)\n",
    "print(A1)\n",
    "print(a0, a1, sep='\\n')"
   ]
  },
  {
   "cell_type": "code",
   "execution_count": 46,
   "metadata": {
    "slideshow": {
     "slide_type": "slide"
    }
   },
   "outputs": [
    {
     "name": "stdout",
     "output_type": "stream",
     "text": [
      "[[1 2 3]\n",
      " [5 6 1]]\n",
      "[2. 5.]\n",
      "[0 0 1]\n",
      "[1 1 0]\n"
     ]
    }
   ],
   "source": [
    "import numpy as np\n",
    "\n",
    "B = np.array([[1,2,3], [5,6,1]])\n",
    "print(B)\n",
    "\n",
    "\n",
    "print(np.median(B, axis=-1)) # last axis的中位數\n",
    "\n",
    "print(np.argmin(B,axis=0)) # Returns the indices of the minimum values along an axis.\n",
    "print(np.argmax(B,axis=0)) # Returns the indices of the max values along an axis.\n"
   ]
  },
  {
   "cell_type": "code",
   "execution_count": 47,
   "metadata": {
    "slideshow": {
     "slide_type": "slide"
    }
   },
   "outputs": [
    {
     "name": "stdout",
     "output_type": "stream",
     "text": [
      "[[1. 1. 1.]\n",
      " [1. 1. 1.]\n",
      " [1. 1. 1.]]\n",
      "[[3. 3. 3.]\n",
      " [3. 3. 3.]\n",
      " [3. 3. 3.]]\n"
     ]
    }
   ],
   "source": [
    "B2 = np.ones((3,3))\n",
    "\n",
    "print(B2*B2)\n",
    "print(np.dot(B2,B2))"
   ]
  },
  {
   "cell_type": "markdown",
   "metadata": {
    "slideshow": {
     "slide_type": "slide"
    }
   },
   "source": [
    "# 增加axis"
   ]
  },
  {
   "cell_type": "code",
   "execution_count": 48,
   "metadata": {
    "slideshow": {
     "slide_type": "subslide"
    }
   },
   "outputs": [
    {
     "name": "stdout",
     "output_type": "stream",
     "text": [
      "[1 2 3]\n"
     ]
    }
   ],
   "source": [
    "import numpy as np\n",
    "C = np.array([1,2,3])\n",
    "print(C)"
   ]
  },
  {
   "cell_type": "code",
   "execution_count": 49,
   "metadata": {
    "slideshow": {
     "slide_type": "fragment"
    }
   },
   "outputs": [
    {
     "data": {
      "text/plain": [
       "(3,)"
      ]
     },
     "execution_count": 49,
     "metadata": {},
     "output_type": "execute_result"
    }
   ],
   "source": [
    "C.shape"
   ]
  },
  {
   "cell_type": "code",
   "execution_count": 50,
   "metadata": {
    "slideshow": {
     "slide_type": "fragment"
    }
   },
   "outputs": [],
   "source": [
    "C2 = C[:, np.newaxis] #增加一個axis，變為2D array"
   ]
  },
  {
   "cell_type": "code",
   "execution_count": 51,
   "metadata": {
    "slideshow": {
     "slide_type": "fragment"
    }
   },
   "outputs": [
    {
     "data": {
      "text/plain": [
       "(3, 1)"
      ]
     },
     "execution_count": 51,
     "metadata": {},
     "output_type": "execute_result"
    }
   ],
   "source": [
    "C2.shape"
   ]
  },
  {
   "cell_type": "code",
   "execution_count": 52,
   "metadata": {
    "slideshow": {
     "slide_type": "fragment"
    }
   },
   "outputs": [
    {
     "name": "stdout",
     "output_type": "stream",
     "text": [
      "[[1 2 3]]\n",
      "(1, 3)\n"
     ]
    }
   ],
   "source": [
    "C3 = C[np.newaxis,:]\n",
    "print(C3)\n",
    "print(C3.shape)"
   ]
  },
  {
   "cell_type": "markdown",
   "metadata": {
    "slideshow": {
     "slide_type": "slide"
    }
   },
   "source": [
    "# Fancy Indexing"
   ]
  },
  {
   "cell_type": "code",
   "execution_count": 53,
   "metadata": {
    "slideshow": {
     "slide_type": "slide"
    }
   },
   "outputs": [
    {
     "name": "stdout",
     "output_type": "stream",
     "text": [
      "[0 1 2 3 4 5 6 7 8 9]\n",
      "[[3 4]\n",
      " [9 7]]\n"
     ]
    }
   ],
   "source": [
    "# 給定index陣列取值\n",
    "import numpy as np\n",
    "D = np.arange(10)\n",
    "idx = np.array([[3,4],[9,7]])\n",
    "\n",
    "print(D)\n",
    "print(D[idx])"
   ]
  },
  {
   "cell_type": "code",
   "execution_count": 54,
   "metadata": {
    "slideshow": {
     "slide_type": "slide"
    }
   },
   "outputs": [
    {
     "name": "stdout",
     "output_type": "stream",
     "text": [
      "[[ 0  1  2  3]\n",
      " [ 4  5  6  7]\n",
      " [ 8  9 10 11]]\n",
      "[ 2  5  7 11]\n"
     ]
    }
   ],
   "source": [
    "E = np.arange(12).reshape(3,4)\n",
    "\n",
    "i = np.array([0,1,1,2])\n",
    "j = np.array([2,1,3,3])\n",
    "\n",
    "print(E)\n",
    "print(E[i,j])  #取出(0,2)、(1,1)、(1,3)、(2,3)的值"
   ]
  },
  {
   "cell_type": "code",
   "execution_count": 55,
   "metadata": {
    "slideshow": {
     "slide_type": "slide"
    }
   },
   "outputs": [
    {
     "name": "stdout",
     "output_type": "stream",
     "text": [
      "[[ 0  1  2  3]\n",
      " [ 4  5  6  7]\n",
      " [ 8  9 10 11]]\n",
      "[[0 1]\n",
      " [1 2]]\n",
      "[[2 1]\n",
      " [3 3]]\n",
      "[[ 2  5]\n",
      " [ 7 11]]\n",
      "[[ 2  6]\n",
      " [ 6 10]]\n"
     ]
    }
   ],
   "source": [
    "F = np.arange(12).reshape(3,4)\n",
    "\n",
    "i = np.array([[0,1],[1,2]])\n",
    "j = np.array([[2,1],[3,3]])\n",
    "\n",
    "print(F)\n",
    "print(i)\n",
    "print(j)\n",
    "print(F[i,j])  #取出(0,2)、(1,1)、(1,3)、(2,3)的值\n",
    "print(F[i,2])  #取出(0,2)、(1,2)、(1,2)、(2,2)的值"
   ]
  },
  {
   "cell_type": "markdown",
   "metadata": {
    "slideshow": {
     "slide_type": "slide"
    }
   },
   "source": [
    "## Fancy indexing 圖例說明\n",
    "<img src='.\\images\\fancyindexing.png' width=600, height=500>"
   ]
  },
  {
   "cell_type": "code",
   "execution_count": 56,
   "metadata": {
    "slideshow": {
     "slide_type": "slide"
    }
   },
   "outputs": [
    {
     "name": "stdout",
     "output_type": "stream",
     "text": [
      "[ 3 -2 -1  5  7 -3]\n",
      "[ True False False  True  True False]\n",
      "[3 5 7]\n"
     ]
    }
   ],
   "source": [
    "# array  過濾器\n",
    "# 輸入位置的 array取值\n",
    "# fancy indexing\n",
    "\n",
    "import numpy as np\n",
    "L = np.array([3, -2, -1, 5, 7, -3])\n",
    "\n",
    "print(L)\n",
    "print(L>0)\n",
    "print(L[L>0])"
   ]
  },
  {
   "cell_type": "code",
   "execution_count": 57,
   "metadata": {
    "slideshow": {
     "slide_type": "slide"
    }
   },
   "outputs": [
    {
     "name": "stdout",
     "output_type": "stream",
     "text": [
      "[[4 3 5]\n",
      " [1 2 1]]\n",
      "[[3 4 5]\n",
      " [1 1 2]]\n"
     ]
    }
   ],
   "source": [
    "# sort\n",
    "G = np.array([[4, 3, 5], [1, 2, 1]])\n",
    "H = np.sort(G, axis=1)  #對 axis=1 排序\n",
    " \n",
    "print(G)\n",
    "print(H)"
   ]
  },
  {
   "cell_type": "code",
   "execution_count": 58,
   "metadata": {
    "slideshow": {
     "slide_type": "subslide"
    }
   },
   "outputs": [
    {
     "name": "stdout",
     "output_type": "stream",
     "text": [
      "[4 3 1 2]\n",
      "[2 3 1 0]\n",
      "[1 2 3 4]\n"
     ]
    }
   ],
   "source": [
    "#利用fancy indexing 排序\n",
    "\n",
    "I = np.array([4, 3, 1, 2])\n",
    "J = np.argsort(I)  # 傳回各index的序號\n",
    "\n",
    "print(I)\n",
    "print(J)\n",
    "print(I[J])"
   ]
  },
  {
   "cell_type": "markdown",
   "metadata": {
    "slideshow": {
     "slide_type": "slide"
    }
   },
   "source": [
    "# Broadcasting\n",
    "\n",
    "generate arrays with the same sizes\n",
    "\n",
    "- Basic operations on numpy arrays (addition, etc.) are elementwise\n",
    "- This works on arrays of the same size.\n",
    " Nevertheless, It’s also possible to do operations on arrays of different\n",
    " sizes if NumPy can transform these arrays so that they all have\n",
    " the same size: this conversion is called broadcasting.\n",
    "\n",
    "The image below gives an example of broadcasting:    \n",
    "<img src=\".\\images\\broadcasting.png\" width=600, height=600 >"
   ]
  },
  {
   "cell_type": "code",
   "execution_count": 59,
   "metadata": {
    "slideshow": {
     "slide_type": "slide"
    }
   },
   "outputs": [
    {
     "name": "stdout",
     "output_type": "stream",
     "text": [
      "[ 0 10 20 30]\n",
      "(4,)\n"
     ]
    }
   ],
   "source": [
    "import numpy as np\n",
    "\n",
    "A = np.arange(0,40,10)\n",
    "print(A)\n",
    "print(A.shape)"
   ]
  },
  {
   "cell_type": "code",
   "execution_count": 60,
   "metadata": {
    "slideshow": {
     "slide_type": "fragment"
    }
   },
   "outputs": [
    {
     "name": "stdout",
     "output_type": "stream",
     "text": [
      "[[ 0]\n",
      " [10]\n",
      " [20]\n",
      " [30]]\n",
      "(4, 1)\n"
     ]
    }
   ],
   "source": [
    "A = A[:, np.newaxis]\n",
    "\n",
    "print(A)\n",
    "print(A.shape)"
   ]
  },
  {
   "cell_type": "code",
   "execution_count": 61,
   "metadata": {
    "slideshow": {
     "slide_type": "fragment"
    }
   },
   "outputs": [
    {
     "name": "stdout",
     "output_type": "stream",
     "text": [
      "[[ 0  1  2]\n",
      " [10 11 12]\n",
      " [20 21 22]\n",
      " [30 31 32]]\n"
     ]
    }
   ],
   "source": [
    "B = np.array([0,1,2])\n",
    "\n",
    "print(A+B)"
   ]
  },
  {
   "cell_type": "code",
   "execution_count": 62,
   "metadata": {
    "slideshow": {
     "slide_type": "fragment"
    }
   },
   "outputs": [
    {
     "name": "stdout",
     "output_type": "stream",
     "text": [
      "[0 1 2 3 4 5]\n",
      "[ 0 10 20 30 40 50]\n",
      "[[ 0  1  2  3  4  5]\n",
      " [10 11 12 13 14 15]\n",
      " [20 21 22 23 24 25]\n",
      " [30 31 32 33 34 35]\n",
      " [40 41 42 43 44 45]\n",
      " [50 51 52 53 54 55]]\n"
     ]
    }
   ],
   "source": [
    "# 可以合併在一行內\n",
    "\n",
    "import numpy as np\n",
    "\n",
    "C = np.arange(6)\n",
    "D = np.arange(0,51,10)\n",
    "\n",
    "print(C)\n",
    "print(D)\n",
    "\n",
    "CD = C + D[:,np.newaxis]\n",
    "print(CD)"
   ]
  },
  {
   "cell_type": "markdown",
   "metadata": {
    "slideshow": {
     "slide_type": "slide"
    }
   },
   "source": [
    "# meshgrid \n",
    "\n",
    "- 將原生數值變成格點\n",
    "\n",
    "- 讓`等高線圖(contour)`、`向量箭頭圖(quiver)`、`流線圖(streamplot)`、`3D 圖(mplot3d)` 可吃的格式"
   ]
  },
  {
   "cell_type": "code",
   "execution_count": 63,
   "metadata": {
    "slideshow": {
     "slide_type": "slide"
    }
   },
   "outputs": [
    {
     "name": "stdout",
     "output_type": "stream",
     "text": [
      "[1 2 3 4]\n",
      "[5 6 7 8]\n",
      "[[1 2 3 4]\n",
      " [1 2 3 4]\n",
      " [1 2 3 4]\n",
      " [1 2 3 4]]\n",
      "[[5 5 5 5]\n",
      " [6 6 6 6]\n",
      " [7 7 7 7]\n",
      " [8 8 8 8]]\n"
     ]
    }
   ],
   "source": [
    "import numpy as np\n",
    "\n",
    "x = np.array([1,2,3,4])\n",
    "y = np.array([5,6,7,8])\n",
    "\n",
    "X, Y = np.meshgrid(x, y)\n",
    "\n",
    "distance = np.sqrt(X**2 + Y**2)\n",
    "\n",
    "print(x)\n",
    "print(y)\n",
    "\n",
    "print(X)\n",
    "print(Y)"
   ]
  },
  {
   "cell_type": "markdown",
   "metadata": {
    "slideshow": {
     "slide_type": "slide"
    }
   },
   "source": [
    "## ogrid and mgrid\n",
    "\n",
    "mgrid 與meshgrid類似，但mgrid不是函數，meshgrid要以一維數組為對象，而mgrid直接用[]產生\n",
    "\n",
    "ogrid 與mgrid類似，但傳回的是稀疏的陣列"
   ]
  },
  {
   "cell_type": "code",
   "execution_count": 64,
   "metadata": {
    "slideshow": {
     "slide_type": "slide"
    }
   },
   "outputs": [
    {
     "name": "stdout",
     "output_type": "stream",
     "text": [
      "[[0 0 0 0 0]\n",
      " [1 1 1 1 1]\n",
      " [2 2 2 2 2]\n",
      " [3 3 3 3 3]\n",
      " [4 4 4 4 4]]\n",
      "[[0 1 2 3 4]\n",
      " [0 1 2 3 4]\n",
      " [0 1 2 3 4]\n",
      " [0 1 2 3 4]\n",
      " [0 1 2 3 4]]\n",
      "[[0.         1.         2.         3.         4.        ]\n",
      " [1.         1.41421356 2.23606798 3.16227766 4.12310563]\n",
      " [2.         2.23606798 2.82842712 3.60555128 4.47213595]\n",
      " [3.         3.16227766 3.60555128 4.24264069 5.        ]\n",
      " [4.         4.12310563 4.47213595 5.         5.65685425]]\n",
      "[-1.  -0.5  0.   0.5  1. ]\n"
     ]
    }
   ],
   "source": [
    "import numpy as np\n",
    "\n",
    "xm, ym = np.mgrid[0:5,0:5]\n",
    "\n",
    "print(xm)\n",
    "print(ym)\n",
    "\n",
    "print(np.sqrt(xm**2+ym**2))\n",
    "\n",
    "zm = np.mgrid[-1:1:5j]\n",
    "\n",
    "print(zm)"
   ]
  },
  {
   "cell_type": "code",
   "execution_count": 65,
   "metadata": {
    "slideshow": {
     "slide_type": "slide"
    }
   },
   "outputs": [
    {
     "name": "stdout",
     "output_type": "stream",
     "text": [
      "[[0]\n",
      " [1]\n",
      " [2]\n",
      " [3]\n",
      " [4]]\n",
      "[[0 1 2 3 4]]\n",
      "[[0.         1.         2.         3.         4.        ]\n",
      " [1.         1.41421356 2.23606798 3.16227766 4.12310563]\n",
      " [2.         2.23606798 2.82842712 3.60555128 4.47213595]\n",
      " [3.         3.16227766 3.60555128 4.24264069 5.        ]\n",
      " [4.         4.12310563 4.47213595 5.         5.65685425]]\n"
     ]
    },
    {
     "data": {
      "text/plain": [
       "array([-1. , -0.5,  0. ,  0.5,  1. ])"
      ]
     },
     "execution_count": 65,
     "metadata": {},
     "output_type": "execute_result"
    }
   ],
   "source": [
    "import numpy as np\n",
    "\n",
    "xo, yo = np.ogrid[0:5,0:5]\n",
    "\n",
    "print(xo)\n",
    "print(yo)\n",
    "\n",
    "distance1 = np.sqrt(xo**2 + yo**2)\n",
    "\n",
    "print(distance1)\n",
    "np.ogrid[-1:1:5j] # step length is a complex number"
   ]
  },
  {
   "cell_type": "markdown",
   "metadata": {
    "slideshow": {
     "slide_type": "slide"
    }
   },
   "source": [
    "# 亂數\n",
    "\n",
    "## import numpy.random.xxx as yyy\n",
    "\n",
    "- `rand(d0, d1, ..., dn)`\tRandom values in a given shape.\n",
    "- `randn(d0, d1, ..., dn)`\tReturn a sample (or samples) from the “standard normal” distribution.\n",
    "- `randint(low[, high, size, dtype])`\tReturn random integers from low (inclusive) to high (exclusive)\n",
    "- `random_integers(low[, high, size])`\tRandom integers of type np.int between low and high, inclusive\n",
    "- `random_sample([size])`\tReturn random floats in the half-open interval [0.0, 1.0)\n",
    "- `random([size])`\tReturn random floats in the half-open interval [0.0, 1.0)\n",
    "- `ranf([size])`\tReturn random floats in the half-open interval [0.0, 1.0)\n",
    "- `sample([size])`\tReturn random floats in the half-open interval [0.0, 1.0)\n",
    "- `choice(a[, size, replace, p])`\tGenerates a random sample from a given 1-D array\n",
    "\n",
    "https://docs.scipy.org/doc/numpy/reference/routines.random.html"
   ]
  },
  {
   "cell_type": "code",
   "execution_count": 66,
   "metadata": {
    "slideshow": {
     "slide_type": "slide"
    }
   },
   "outputs": [
    {
     "name": "stdout",
     "output_type": "stream",
     "text": [
      "[0.42650304 0.59875585 0.13088785 0.70503317 0.04782052]\n",
      "[[0.39032389 0.48126486]\n",
      " [0.75016791 0.59406353]\n",
      " [0.91285425 0.64226443]]\n",
      "[0 0 1 0 1 2 2 1 0 2 0 1 2 2 0 2 0 2 2 2 2 1 0 0 0 2 2 2 2 2 1 0 2 0 1 2 1\n",
      " 2 1 2 2 0 1 2 1 1 0 2 0 1]\n",
      "[[0 2 1 2]\n",
      " [2 3 2 4]]\n",
      "[-0.4990894  -0.18014838  0.66514833 -0.22883387 -0.04620667 -0.75055012\n",
      " -0.16392584 -2.56877826  0.43958687  1.18877922]\n",
      "[-1.25300241  1.26581465  0.40239014 -0.030429    0.44136698 -0.45124617\n",
      " -1.73194056  0.31658986  0.05181305  0.38303404]\n",
      "[0.11896762 0.59755543 0.00687148 0.26867754 0.79665645 0.38094568\n",
      " 0.55099956 0.78439586 0.95465106 0.66307463]\n"
     ]
    }
   ],
   "source": [
    "import numpy.random as npr\n",
    "\n",
    "print(npr.rand(5))  # 0~1(不包含1)間，隨機 5個數字\n",
    "print(npr.rand(3,2)) # 產生3*2陣列，數字由0~1(不包含1)間隨機組成\n",
    "  \n",
    "\n",
    "print(npr.randint(0, 3, 50))  # 在 0~3 (不包含3) 隨機 50 個整數亂數\n",
    "print(np.random.randint(5, size=(2, 4))) # 0~5間取亂數，組成2*4陣列\n",
    "    \n",
    "print(npr.randn(10))  # 高斯分佈(mean=0，variance=1)，隨機取10個值\n",
    "\n",
    "print(np.random.normal(loc=0, scale=1, size=10)) #常態分佈 loc：mean，scale：std，size:shape\n",
    "\n",
    "print(np.random.uniform(low=0.0, high=1.0, size=10))\n",
    "# Samples are uniformly distributed over the half-open interval [low~high)"
   ]
  },
  {
   "cell_type": "markdown",
   "metadata": {
    "slideshow": {
     "slide_type": "slide"
    }
   },
   "source": [
    "# 資料存取 loading data files (text files)\n",
    "\n",
    "\n",
    " `np.savetxt('<path>', <data_array>)` 存檔\n",
    "\n",
    " `np.loadtxt('<path>')` 讀檔 ，有 # 的列不會讀取\n"
   ]
  },
  {
   "cell_type": "code",
   "execution_count": 67,
   "metadata": {
    "slideshow": {
     "slide_type": "slide"
    }
   },
   "outputs": [
    {
     "name": "stdout",
     "output_type": "stream",
     "text": [
      "[0 1 2 3 4 5]\n",
      "[0. 1. 2. 3. 4. 5.]\n"
     ]
    }
   ],
   "source": [
    "import numpy as np\n",
    "\n",
    "raw = np.array(np.arange(6))\n",
    "\n",
    "print(raw)\n",
    "\n",
    "np.savetxt('.\\savetxt.txt', raw)\n",
    "\n",
    "data0 = np.loadtxt('.\\savetxt.txt')\n",
    "                        \n",
    "print(data0)"
   ]
  },
  {
   "cell_type": "code",
   "execution_count": 68,
   "metadata": {
    "slideshow": {
     "slide_type": "slide"
    }
   },
   "outputs": [
    {
     "name": "stdout",
     "output_type": "stream",
     "text": [
      "[[ 0  1]\n",
      " [ 2  3]\n",
      " [ 4  5]\n",
      " [ 0  1]\n",
      " [ 4  9]\n",
      " [16 25]]\n",
      "[ 0.  2.  4.  0.  4. 16.]\n",
      "[ 1.  3.  5.  1.  9. 25.]\n"
     ]
    }
   ],
   "source": [
    "# 一般常用的數據檔會有多行，則讀檔時需要用多個變數承接\n",
    "\n",
    "raw = np.array([[np.arange(6)], [np.arange(6)**2]]).reshape(6,2)\n",
    "\n",
    "print(raw)\n",
    "\n",
    "np.savetxt('.\\savetxt.txt', raw)\n",
    "\n",
    "\n",
    "data0, data1 = np.loadtxt('.\\savetxt.txt', unpack=True)\n",
    "\n",
    "# unpack : bool, optional\n",
    "#If True, the returned array is transposed, so that arguments may be unpacked using x, y, z = loadtxt(...). \n",
    "#When used with a structured data-type, arrays are returned for each field. Default is False.\n",
    "                        \n",
    "print(data0)\n",
    "print(data1)"
   ]
  }
 ],
 "metadata": {
  "celltoolbar": "Slideshow",
  "kernelspec": {
   "display_name": "Python 3",
   "language": "python",
   "name": "python3"
  },
  "language_info": {
   "codemirror_mode": {
    "name": "ipython",
    "version": 3
   },
   "file_extension": ".py",
   "mimetype": "text/x-python",
   "name": "python",
   "nbconvert_exporter": "python",
   "pygments_lexer": "ipython3",
   "version": "3.6.9"
  },
  "livereveal": {
   "scroll": true,
   "start_slideshow_at": "selected",
   "theme": "sky",
   "transition": "zoom"
  }
 },
 "nbformat": 4,
 "nbformat_minor": 2
}
