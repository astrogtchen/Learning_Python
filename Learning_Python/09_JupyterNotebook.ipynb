{
 "cells": [
  {
   "cell_type": "markdown",
   "metadata": {
    "slideshow": {
     "slide_type": "slide"
    }
   },
   "source": [
    "# Introduction to Python\n",
    "\n",
    "### part 9   Jupyter-Notebook\n",
    "\n",
    "- 瀏覽器內的區塊執行Python並輸出\n",
    "- 區塊可用Markdown格式做筆記\n",
    "\n",
    "#### 2021/6/2"
   ]
  },
  {
   "cell_type": "markdown",
   "metadata": {
    "slideshow": {
     "slide_type": "slide"
    }
   },
   "source": [
    "## 參考資料：\n",
    "- http://jupyter-notebook.readthedocs.io/en/stable/notebook.html\n",
    "- [27 tips](http://liuchengxu.org/pelican-blog/jupyter-notebook-tips.html)\n",
    "- [guide](http://xuanchao1980.com/2016/06/05/jupyterNotebookGuide/)\n",
    "- https://markdown.tw/"
   ]
  },
  {
   "cell_type": "markdown",
   "metadata": {
    "slideshow": {
     "slide_type": "slide"
    }
   },
   "source": [
    "# 怎麼開啟\n",
    "\n",
    "- 開啟\"**Jupyter-notebook**\"\n",
    "  - 在應用程式Anaconda3(64-bit)裡，Jupyter Notebook\n",
    "\n",
    "  - 或開啟Anaconda Navigator，Home的界面就有\n",
    "  \n",
    "  - 在terminal中，輸入Jupyter-notebook"
   ]
  },
  {
   "cell_type": "markdown",
   "metadata": {
    "slideshow": {
     "slide_type": "slide"
    }
   },
   "source": [
    "# Jupyter Notebook \n",
    "#  == ipython Notebook\n",
    "\n",
    "- ipython == **interactive python**\n",
    "- ipython notebook == ipython in **browser**\n",
    "\n",
    "- Jupyter:\n",
    "    * **Ju** --- Julia\n",
    "    * **py** --- python\n",
    "    * te**r**--- R\n",
    "- 可以將程式碼寫在不同的 Cell (區塊) 之中，分段落執行，已執行過的程片段會存在記憶體中，所以對於調整參數或做測試來說，很方便\n",
    "- 可以容易的逐行執行並且做到資料視覺化\n",
    "- 可輸出成 Html5嵌入到任何網頁或是Blog上，或是用notebook的形式分享。\n",
    "- Jupyter Notebook會透過瀏覽器來啟動。啟動之後，到想要的目錄底下，點選右方的New新增一個notebook（選擇Python3）"
   ]
  },
  {
   "cell_type": "markdown",
   "metadata": {
    "slideshow": {
     "slide_type": "subslide"
    }
   },
   "source": [
    "簡單來說就是\n",
    "\n",
    "- 可以當計算機\n",
    "- 馬上看到結果\n",
    "- 可以輸出成文件檔，當成筆記用\n",
    "\n",
    "著名例子：\n",
    "**重力波的分析**"
   ]
  },
  {
   "cell_type": "markdown",
   "metadata": {
    "slideshow": {
     "slide_type": "slide"
    }
   },
   "source": [
    "## BINARY BLACK HOLE SIGNALS IN LIGO OPEN DATA\n",
    "\n",
    "\n",
    "<a href=\"https://losc.ligo.org/tutorials/\" target=\"_blank\">LIGO Open Science Center Tutorials</a> \n",
    "\n",
    "<a href=\"https://losc.ligo.org/s/events/GW170104/LOSC_Event_tutorial_GW170104.html\">\n",
    "GW170104 </a>\n"
   ]
  },
  {
   "cell_type": "markdown",
   "metadata": {
    "slideshow": {
     "slide_type": "slide"
    }
   },
   "source": [
    "## 更改啟動的資料夾\n",
    "\n",
    "1. 找到Jupyter Notebook執行檔\n",
    "\n",
    "2. 按右鍵，選「內容」\n",
    "\n",
    "3. 在「目標」中，將要指定的資料夾放在 %USERPROFILE%前（要有空格）\n",
    "\n",
    "   例如：要指定D槽根目錄為啟動時的資料夾\n",
    "   \n",
    "C:\\Users\\user\\Anaconda3\\python.exe C:\\Users\\user\\Anaconda3\\cwp.py C:\\Users\\user\\Anaconda3 C:\\Users\\user\\Anaconda3\\python.exe C:\\Users\\user\\Anaconda3\\Scripts\\jupyter-notebook-script.py `D:\\\\` %USERPROFILE%\n"
   ]
  },
  {
   "cell_type": "markdown",
   "metadata": {
    "slideshow": {
     "slide_type": "slide"
    }
   },
   "source": [
    "# Jupyter-Notebook在線上的一些作品與範例\n",
    "\n",
    "到NBviewer上觀看，裡面有更多Jupyter Notebook的進階用法以及視覺化的範例\n",
    "\n",
    "https://nbviewer.jupyter.org/"
   ]
  },
  {
   "cell_type": "markdown",
   "metadata": {
    "slideshow": {
     "slide_type": "slide"
    }
   },
   "source": [
    "## 執行方式：\n",
    "每個cell 按  \n",
    "`ctrl + enter` 執行目前的cell，並輸出結果\n",
    "\n",
    "`shift + enter` 執行目前的cell，並選取下個cell\n",
    "\n",
    "## 指令補完 `tab` :\n",
    " `pri`　按 `tab` 會補成`print`\n",
    " \n",
    "## 物件操作提示：\n",
    "例如將資料 [1,2,3] 在cell裡設定為 a，即`a=[1,2,3]`\n",
    "\n",
    "在另一個cell輸入 `a.` 並按Tab鍵，會出現該物件的各種操作\n",
    "\n",
    "若打輸入`a`，再按 `Shift+Tab`鍵，會顯示該變數的資訊\n",
    "\n",
    "## 其他快速鍵：\n",
    "`Esc+a` ：esc是從Edit Mode跳回Command Mode，邊框由綠色變為藍色，a是above，即在現有的cell上方新增一個cell\n",
    "\n",
    "           編輯模式(Edit Mode)：邊框為綠色，可在某一cell中輸入code或文字編輯\n",
    "           命令模式(Command Mode)：邊框為藍色，可對cell執行命令，例如複製、刪除等\n",
    "\n",
    "`Esc+b` ：b是below，即在現有的cell下方新增一個cell\n",
    "\n",
    "`Esc + d,d`：刪除目前的cell\n",
    "\n",
    "`Esc+h` ：h是help，能列出所有的快捷鍵"
   ]
  },
  {
   "cell_type": "markdown",
   "metadata": {
    "slideshow": {
     "slide_type": "slide"
    }
   },
   "source": [
    "# 功能說明：\n",
    "\n",
    "1. File裡的New Notebook是用來開啟一個新的Notebook分頁\n",
    "\n",
    "2. File裡的Downdload as-> 將檔案下載到本機並儲存成.py檔案、html檔、pdf檔（需要安裝tex），notebook預設為.ipynb\n",
    "\n",
    "3. Edit可用來copy、cut、delete Cell \n",
    "\n",
    "4. Kernal 當在執行程式的時候，可以中斷、重啟和重新連結\n",
    "\n",
    "5. Help包含各式各樣的library 像是 (Python, iPython…)\n",
    "\n",
    "6. help() 的語法為 \"help(object)\"，這時help(object)會打開list操作方法\n",
    "\n",
    "7. 當選擇\"Markdown\"，打字在cell裡時，將不會執行該文字檔的程式碼。\n",
    "   Markdown 是純文字編寫的文件語法，可轉換為html\n",
    "   \n",
    "8. 重新命名：左上方的 Jupyter 圖示的右側，即可重新命名。\n",
    "\n",
    "9. 存檔：快速鍵Ctrl + S ，或工具列左起第一個存檔圖示。\n",
    "\n",
    "10. 關閉：不建議直接關閉分頁。建議用File -> Close and Halt 來關閉檔案。"
   ]
  },
  {
   "cell_type": "markdown",
   "metadata": {
    "slideshow": {
     "slide_type": "slide"
    }
   },
   "source": [
    "# 註解\n",
    "註解可以用來紀錄程式的功能、注意事項、編寫日期、changelog等，有助於未來自己或他人容易了解這個程式。\n",
    "\n",
    "在Python中有兩種方式可以用來寫註解，程式執行時不會執行註解的部份\n",
    "- 單行註解： **#** 之後到該行結束為止的文字\n",
    "- 多行註解： 兩組 **3個單引號** 之間的文字"
   ]
  },
  {
   "cell_type": "markdown",
   "metadata": {
    "slideshow": {
     "slide_type": "slide"
    }
   },
   "source": [
    "## 魔術指令\n",
    "\n",
    "以百分符號開頭，分兩種：\n",
    "\n",
    "以一個百分符號開頭，作用於單行。\n",
    "\n",
    "以兩個百分符號開頭，作用於整個cell。\n",
    "\n",
    "- 執行 xxx.py\n",
    "\n",
    "%run xxx.py \n",
    "\n",
    "- 用matplotlib畫的圖，顯示在網頁的頁面\n",
    "\n",
    "%matplotlib inline"
   ]
  },
  {
   "cell_type": "markdown",
   "metadata": {
    "slideshow": {
     "slide_type": "subslide"
    }
   },
   "source": [
    "time\n",
    "計時工具。 `%%time` 顯示這個cell執行的耗時\n",
    "\n",
    "- `%%time`\n",
    "\n",
    "  `a = [x for x in range(10000000)]`\n",
    "\n",
    "\n",
    "\n",
    "- `%%timeit` 會執行十萬次，並傳回結果 \n",
    "\n",
    "  `%timeit a = [x for x in range(100)]`\n",
    "\n"
   ]
  },
  {
   "cell_type": "code",
   "execution_count": 1,
   "metadata": {
    "slideshow": {
     "slide_type": "slide"
    }
   },
   "outputs": [],
   "source": [
    "# 起手式\n",
    "\n",
    "%matplotlib inline\n",
    "import numpy as np\n",
    "import matplotlib.pyplot as plt"
   ]
  },
  {
   "cell_type": "markdown",
   "metadata": {
    "collapsed": true,
    "slideshow": {
     "slide_type": "slide"
    }
   },
   "source": [
    "# Markdown 格式的區塊\n",
    "\n",
    "- 文字格式，方便筆記\n",
    "- 支援latex語法輸入\n",
    "- markdown語法簡單易用\n",
    "\n",
    "# Markdown說明文件\n",
    "\n",
    "https://markdown.tw/\n"
   ]
  },
  {
   "cell_type": "markdown",
   "metadata": {
    "slideshow": {
     "slide_type": "slide"
    }
   },
   "source": [
    "### 段落和換行\n",
    "一個以上的空行則會切分出不同的段落\n",
    "只要顯示上看起來像是空行，便會被視為空行。比方說，若某一行只包含空白和tab，則該行也會被視為空行\n",
    "一般的段落不需要用空白或斷行縮排。\n",
    "\n",
    "\n",
    "\n",
    "如果真的想要插入<br />標籤的話，在行尾加上兩個以上的空白，然後按enter。\n"
   ]
  },
  {
   "cell_type": "markdown",
   "metadata": {
    "slideshow": {
     "slide_type": "slide"
    }
   },
   "source": [
    "### 分隔線\n",
    "在一行中用三個或以上的星號、減號、底線來建立一個分隔線，行內不能有其他東西。也可以在星號中間插入空白。\n",
    "下面每種寫法都可以建立分隔線：\n",
    "\n",
    "\\* \\* \\*\n",
    "\n",
    "\\*\\*\\*\n",
    "\n",
    "\\*\\*\\*\\*\\*\n",
    "\n",
    "\\- \\- \\-\n",
    "\n",
    "\\--------------"
   ]
  },
  {
   "cell_type": "markdown",
   "metadata": {
    "slideshow": {
     "slide_type": "slide"
    }
   },
   "source": [
    "### 清單\n",
    "Markdown支援有序清單和無序清單。\n",
    "\n",
    "無序清單使用星號、加號或是減號作為清單標記：\n",
    "\n",
    "\\*   Red \n",
    "\n",
    "\\*   Green\n",
    "\n",
    "\\*   Blue\n",
    "\n",
    "等同於：\n",
    "\n",
    "\\+   Red\n",
    "\n",
    "\\+   Green\n",
    "\n",
    "\\+   Blue\n",
    "\n",
    "也等同於：\n",
    "\n",
    "\\-   Red\n",
    "\n",
    "\\-   Green\n",
    "\n",
    "\\-   Blue\n",
    "\n",
    "有序清單則使用數字接著一個英文句點：\n",
    "\n",
    "1.  Bird\n",
    "2.  McHale\n",
    "3.  Parish\n",
    "\n",
    "在清單標記上使用的數字並不會影響輸出的HTML結果"
   ]
  },
  {
   "cell_type": "markdown",
   "metadata": {
    "slideshow": {
     "slide_type": "slide"
    }
   },
   "source": [
    "# 標題\n",
    "\n",
    "Markdown支援兩種標題的語法，Setext和atx形式。\n",
    "\n",
    "- Setext形式是用底線的形式，利用=（最高階標題）和-（第二階標題），例如：\n",
    "\n",
    " This is an H1\n",
    "\n",
    " =============\n",
    "\n",
    " This is an H2\n",
    "\n",
    " \\-------------\n",
    " \n",
    " 任何數量的=和-都可以有效果。\n",
    "\n",
    "- Atx形式則是在行首插入1到6個 # ，各對應到標題1到6階，例如：\n",
    "\n",
    "# \\# This is an H1\n",
    "\n",
    "## \\## This is an H2\n",
    "\n",
    "###### \\###### This is an H6\n",
    "\n",
    "可以選擇性地「關閉」atx樣式的標題，這純粹只是美觀用的，若是覺得這樣看起來比較舒適，你就可以在行尾加上#，而行尾的#數量也不用和開頭一樣（行首的井字數量決定標題的階數）：\n",
    "\n",
    "# \\# This is an H1 #\n",
    "\n",
    "## \\## This is an H2 ##\n",
    "\n",
    "### \\### This is an H3 ######"
   ]
  },
  {
   "cell_type": "markdown",
   "metadata": {
    "slideshow": {
     "slide_type": "slide"
    }
   },
   "source": [
    "# 強調\n",
    "Markdown使用星號（*）和底線（_）作為標記強調字詞的符號，被*或_包圍的字詞會被轉成用<em>標籤包圍，用兩個*或_包起來的話，則會被轉成<strong>，例如：\n",
    "\n",
    "    *single asterisks*\n",
    "\n",
    "    _single underscores_\n",
    "\n",
    "    **double asterisks**\n",
    "\n",
    "    __double underscores__\n",
    "    \n",
    "會轉成：\n",
    "\n",
    "    <em>single asterisks</em>\n",
    "\n",
    "    <em>single underscores</em>\n",
    "\n",
    "    <strong>double asterisks</strong>\n",
    "\n",
    "    <strong>double underscores</strong>"
   ]
  },
  {
   "cell_type": "markdown",
   "metadata": {
    "slideshow": {
     "slide_type": "slide"
    }
   },
   "source": [
    "## 使用Latex語法\n",
    "\n",
    "http://mohu.org/info/symbols/symbols.htm\n",
    "\n",
    "使用\\$ 進入編輯latex符號\n",
    "\n",
    "- inline mode: 用左右各一個$\n",
    "\n",
    "$\\exp^{i\\times \\pi}$\n",
    "\n",
    "- display mode: 左右各2個$\n",
    "\n",
    "$$ \\int_{0}^{\\infty} \\cos^{2}(\\theta) d\\phi  $$\n",
    "$$ \\sum_{i=0}^{n} \\sqrt{(1+x^{i})} $$"
   ]
  },
  {
   "cell_type": "markdown",
   "metadata": {
    "slideshow": {
     "slide_type": "slide"
    }
   },
   "source": [
    "# 插入圖片\n",
    "\n",
    "要在純文字應用中，插入圖片是有一定難度。Markdown使用一種和連結很相似的語法來標記圖片。\n",
    "\n",
    "語法：\n",
    "\n",
    "\\! \\[圖片提示\\](圖片完整路徑檔名)\n",
    "\n",
    "詳細敘述如下：\n",
    "\n",
    "一個驚嘆號!後，一個中括號，裡面輸入圖片的替代文字。\n",
    "接著一個小括號，裡面輸入圖片的網址\n",
    "\n",
    "\n",
    "到目前為止， Markdown還沒有辦法指定圖片的寬高，如果需要，可以使用普通的< img>標籤。\n",
    "\n",
    "< img src=\"./(image path)\" width=400, height=300>"
   ]
  },
  {
   "cell_type": "markdown",
   "metadata": {
    "slideshow": {
     "slide_type": "slide"
    }
   },
   "source": [
    "# 插入超連結\n",
    "\n",
    "語法：\n",
    "\n",
    "\\[成功高中](http://saturn.cksh.tp.edu.tw/index.php)\n",
    "\n",
    "先中括號，裡面輸入超連結的替代文字。\n",
    "接著一個小括號，裡面輸入連結的網址"
   ]
  },
  {
   "cell_type": "markdown",
   "metadata": {
    "slideshow": {
     "slide_type": "slide"
    }
   },
   "source": [
    "# 插入Youtube影片"
   ]
  },
  {
   "cell_type": "code",
   "execution_count": 2,
   "metadata": {
    "slideshow": {
     "slide_type": "fragment"
    }
   },
   "outputs": [
    {
     "data": {
      "image/jpeg": "[encoded data removed]",
      "text/html": [
       "\n",
       "        <iframe\n",
       "            width=\"400\"\n",
       "            height=\"300\"\n",
       "            src=\"https://www.youtube.com/embed/Rc4JQWowG5I\"\n",
       "            frameborder=\"0\"\n",
       "            allowfullscreen\n",
       "        ></iframe>\n",
       "        "
      ],
      "text/plain": [
       "<IPython.lib.display.YouTubeVideo at 0x27edc072190>"
      ]
     },
     "execution_count": 2,
     "metadata": {},
     "output_type": "execute_result"
    }
   ],
   "source": [
    "# 插入Youtube影片\n",
    "from IPython.display import YouTubeVideo\n",
    "from IPython.display import HTML\n",
    "\n",
    "YouTubeVideo(\"Rc4JQWowG5I\")\n",
    "\n",
    "#HTML('<iframe width=\"560\" height=\"315\" src=\"https://www.youtube.com/embed/Rc4JQWowG5I\" frameborder=\"0\" allow=\"autoplay; encrypted-media\" allowfullscreen></iframe>')\n",
    "\n",
    "#HTML('<iframe width=\"560\" height=\"315\" src=\"https://www.youtube.com/embed/Hr4yh1_4GlQ\" frameborder=\"0\" allow=\"autoplay; encrypted-media\" allowfullscreen></iframe>')"
   ]
  },
  {
   "cell_type": "markdown",
   "metadata": {
    "slideshow": {
     "slide_type": "slide"
    }
   },
   "source": [
    "## Convert to other format\n",
    "\n",
    "由File Download as 可選多種格式\n",
    "\n",
    "- html：jupyter nbconvert --to html xxxx.ipynb\n",
    "   \n",
    "   或由預設  jupyter nbconvert xxxx.ipynb   （圖檔需注意路徑）\n",
    "   \n",
    "   \n",
    "- pdf: jupyter nbconvert --to pdf xxxx.ipynb （需要tex編譯軟體）\n",
    "\n",
    "\n",
    "- latex : jupyter nbconvert --to latex xxxx.ipynb"
   ]
  },
  {
   "cell_type": "markdown",
   "metadata": {
    "slideshow": {
     "slide_type": "slide"
    }
   },
   "source": [
    "## Convert to Slideshow by reveal.js\n",
    "\n",
    "- 輸出簡報檔需要額外的套件reveal.js\n",
    "\n",
    "  https://github.com/hakimel/reveal.js/\n",
    "\n",
    "  將資料夾解壓縮至xxx.ipynb 所在的資料夾\n",
    "  \n",
    "\n",
    "- 轉檔方式：\n",
    "\n",
    "  開啟Anaconda Prompt console 輸入\n",
    "\n",
    "  `jupyter nbconvert (test1.ipynb) --to slides --reveal-prefix=reveal.js (folder name)`\n",
    "  \n",
    "\n",
    "- 將cell轉為slide的方式：\n",
    "\n",
    "  工具列View --> Cell Toolbar --> Slideshow \n",
    "  \n",
    "  每個cell右上方會出現Slide Type，接著選Slide"
   ]
  },
  {
   "cell_type": "markdown",
   "metadata": {
    "slideshow": {
     "slide_type": "slide"
    }
   },
   "source": [
    "# RISE \n",
    "\n",
    "https://damianavila.github.io/RISE/\n",
    "\n",
    "即時簡報模式，可將每個cell即時用簡報方式顯示\n",
    "\n",
    "- Reveal.js \n",
    "\n",
    " Jupyter/IPython Slideshow Extension, also known as live_reveal. Quickly turn your Jupyter Notebooks into a live presentation.\n",
    " \n",
    "\n",
    "- 安裝：\n",
    "\n",
    " 開啟Anaconda Prompt console 輸入\n",
    " `conda install -c conda-forge rise`\n",
    "\n",
    " In the notebook toolbar, a new button (“Enter/Exit Live Reveal Slideshow”) will be available."
   ]
  },
  {
   "cell_type": "markdown",
   "metadata": {
    "slideshow": {
     "slide_type": "slide"
    }
   },
   "source": [
    "## 修改簡報的各種組態\n",
    "\n",
    "https://damianavila.github.io/RISE/customize.html\n",
    "\n",
    "### 修改簡報分頁轉換的模式\n",
    "\n",
    "You can also put reveal.js configuration in your notebook metadata (Edit->Edit Notebook Metadata) like this:\n",
    "    \n",
    "    { \n",
    "    ...\n",
    "    },\n",
    "    \"livereveal\": { \n",
    "       \"theme\": \"serif\", \n",
    "       \"transition\": \"zoom\",\n",
    "       ...\n",
    "    },    \n",
    "    ...\n",
    "    }"
   ]
  },
  {
   "cell_type": "markdown",
   "metadata": {
    "slideshow": {
     "slide_type": "subslide"
    }
   },
   "source": [
    "### Choosing a theme\n",
    "You can configure the theme of your presentation (which controls the general look and feel of the presentation) with:\n",
    "\n",
    "\n",
    "{  \n",
    "   ...  \n",
    "   \"livereveal\": {\"theme\": \"sky\"}  \n",
    "}"
   ]
  },
  {
   "cell_type": "markdown",
   "metadata": {
    "slideshow": {
     "slide_type": "subslide"
    }
   },
   "source": [
    "### Choosing a transition\n",
    "The transition configuration defines what happens in between slides.:\n",
    "\n",
    "{  \n",
    " ...  \n",
    " \"livereveal\": {\"transition\": \"zoom\"}  \n",
    "}"
   ]
  },
  {
   "cell_type": "markdown",
   "metadata": {
    "slideshow": {
     "slide_type": "subslide"
    }
   },
   "source": [
    "### Choosing where the slideshow begins\n",
    "The following configure changes where the slides begin. By default, RISE will start at the first slide of the presentation. To use the current selected slide use the following configuration:\n",
    "\n",
    "{...  \n",
    " \"livereveal\": {\"start_slideshow_at\": \"selected\"}  \n",
    "}"
   ]
  },
  {
   "cell_type": "markdown",
   "metadata": {
    "slideshow": {
     "slide_type": "subslide"
    }
   },
   "source": [
    "### Change the width and height of slides\n",
    "To control the width and height of your slides, use the following configuration:\n",
    "\n",
    "{  \n",
    " ...  \n",
    " \"livereveal\": {\"width\": 1024,  \n",
    "                \"height\": 768}  \n",
    "}  \n",
    "Note that you may want to increase the slide height to ensure that cell outputs fit within a single slide."
   ]
  },
  {
   "cell_type": "markdown",
   "metadata": {
    "slideshow": {
     "slide_type": "subslide"
    }
   },
   "source": [
    "### Enable a right scroll bar\n",
    "To enable a right scroll bar for your content exceeding the slide vertical height, use the following configuratoin:\n",
    "\n",
    "{  \n",
    " ...  \n",
    " \"livereveal\": {\"scroll\": true}  \n",
    "}"
   ]
  },
  {
   "cell_type": "markdown",
   "metadata": {
    "slideshow": {
     "slide_type": "subslide"
    }
   },
   "source": [
    "### Usage with Leap Motion\n",
    "Reveal.js supports the Leap Motion controller. To control RISE slides with the Leap, put the reveal leap plugin options in your config with the following parameters:\n",
    "\n",
    "{  \n",
    " ...  \n",
    " \"livereveal\": {\"leap_motion\": {  \n",
    "                   \"naturalSwipe\"  : true,     # Invert swipe gestures  \n",
    "                   \"pointerOpacity\": 0.5,      # Set pointer opacity to 0.5  \n",
    "                   \"pointerColor\"  : \"#d80000\"}# Red pointer\"nat.png\"  \n",
    "}  \n",
    "To disable it:  \n",
    "  \n",
    "{  \n",
    " ...  \n",
    " \"livereveal\": {\"leap_motion\": \"none\"}  \n",
    "}"
   ]
  },
  {
   "cell_type": "markdown",
   "metadata": {},
   "source": [
    "# 互動模式\n",
    "\n",
    "`from ipywidgets import interact`\n",
    "\n",
    "如果沒出現，在終端機輸入\n",
    "`jupyter nbextension enable --py widgetsnbextension`"
   ]
  },
  {
   "cell_type": "code",
   "execution_count": 3,
   "metadata": {},
   "outputs": [
    {
     "data": {
      "application/vnd.jupyter.widget-view+json": {
       "model_id": "700016a768314d5098fd8df80e22e2b8",
       "version_major": 2,
       "version_minor": 0
      },
      "text/plain": [
       "interactive(children=(IntSlider(value=3, description='x', max=9, min=-3), Output()), _dom_classes=('widget-int…"
      ]
     },
     "metadata": {},
     "output_type": "display_data"
    },
    {
     "data": {
      "text/plain": [
       "<function __main__.f(x)>"
      ]
     },
     "execution_count": 3,
     "metadata": {},
     "output_type": "execute_result"
    }
   ],
   "source": [
    "from ipywidgets import interact\n",
    "def f(x):\n",
    "    print(x)\n",
    "    \n",
    "interact(f, x=3)            #浮點數的數值滑桿\n",
    "#interact(f, x=list(\"ABC\")) #下拉式選單\n"
   ]
  },
  {
   "cell_type": "code",
   "execution_count": 4,
   "metadata": {},
   "outputs": [
    {
     "data": {
      "application/vnd.jupyter.widget-view+json": {
       "model_id": "427523ee469043a7985843f9a2c80050",
       "version_major": 2,
       "version_minor": 0
      },
      "text/plain": [
       "interactive(children=(IntSlider(value=1, description='n', max=50, min=1), Output()), _dom_classes=('widget-int…"
      ]
     },
     "metadata": {},
     "output_type": "display_data"
    },
    {
     "data": {
      "text/plain": [
       "<function __main__.move(n=1)>"
      ]
     },
     "execution_count": 4,
     "metadata": {},
     "output_type": "execute_result"
    }
   ],
   "source": [
    "from ipywidgets import interact\n",
    "\n",
    "def move(n=1): #給定初始值\n",
    "    print(\" \"*n + \"oooo\")\n",
    "    \n",
    "interact(move, n=(1,50))\n",
    " "
   ]
  },
  {
   "cell_type": "code",
   "execution_count": 5,
   "metadata": {},
   "outputs": [
    {
     "data": {
      "application/vnd.jupyter.widget-view+json": {
       "model_id": "a68956fc37bd44ef95e22f37c561da89",
       "version_major": 2,
       "version_minor": 0
      },
      "text/plain": [
       "interactive(children=(FloatSlider(value=1.0, description='n', max=10.0, min=1.0), Output()), _dom_classes=('wi…"
      ]
     },
     "metadata": {},
     "output_type": "display_data"
    },
    {
     "data": {
      "text/plain": [
       "<function __main__.draw(n=1)>"
      ]
     },
     "execution_count": 5,
     "metadata": {},
     "output_type": "execute_result"
    }
   ],
   "source": [
    "from ipywidgets import interact\n",
    "import numpy as np\n",
    "import matplotlib.pyplot as plt\n",
    "\n",
    "x = np.linspace(-5, 5, 1000)\n",
    "def draw(n=1):\n",
    "    y = np.sinc(n*x)\n",
    "    plt.plot(x,y, lw=3)\n",
    "    \n",
    "interact(draw, n=(1.,10.))"
   ]
  }
 ],
 "metadata": {
  "celltoolbar": "Slideshow",
  "kernel_info": {
   "name": "python3"
  },
  "kernelspec": {
   "display_name": "Python 3",
   "language": "python",
   "name": "python3"
  },
  "language_info": {
   "codemirror_mode": {
    "name": "ipython",
    "version": 3
   },
   "file_extension": ".py",
   "mimetype": "text/x-python",
   "name": "python",
   "nbconvert_exporter": "python",
   "pygments_lexer": "ipython3",
   "version": "3.8.10"
  },
  "livereveal": {
   "start_slideshow_at": "selected",
   "theme": "serif",
   "transition": "zoom"
  },
  "nteract": {
   "version": "0.15.0"
  }
 },
 "nbformat": 4,
 "nbformat_minor": 2
}
