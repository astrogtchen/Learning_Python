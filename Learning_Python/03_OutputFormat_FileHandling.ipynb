{
 "cells": [
  {
   "cell_type": "markdown",
   "id": "99311746",
   "metadata": {},
   "source": [
    "# Introduction to Python\n",
    "\n",
    "### part 3  輸出格式、File Handling\n",
    "\n",
    "\n",
    "#### Output Format\n",
    "\n",
    "- 使用 % \n",
    "- 使用 {} 與 format\n",
    "\n",
    "#### 檔案處理\n",
    "\n",
    "- 讀寫txt文字檔\n",
    "- 讀寫csv檔案\n",
    "- 讀寫json 檔案\n",
    "\n",
    "#### 檢查檔案、資料夾、路徑是否存在\n",
    "\n",
    "- 檢查檔案是否存在 os.path.isfile\n",
    "- 檢查資料夾是否存在 os.path.isdir\n",
    "- 檢查路徑是否存在 exists\n",
    "- 取得檔案大小 getsize\n",
    "- 取出檔案名稱 basename\n",
    "- 取出目錄的路徑 dirname\n",
    "\n",
    "#### 2021/6/11"
   ]
  },
  {
   "cell_type": "markdown",
   "id": "fe1b21d2",
   "metadata": {},
   "source": [
    "#### 參考資料\n",
    "\n",
    "- https://shengyu7697.github.io/python-tutorial/\n",
    "\n",
    "- https://www.w3schools.com/python/python_file_handling.asp"
   ]
  },
  {
   "cell_type": "markdown",
   "id": "5e1a5318",
   "metadata": {},
   "source": [
    "# 指定輸出格式\n",
    "\n",
    "以各種格式將資料值插入字串中\n",
    "\n",
    "1. 用 `%`\n",
    "  - 類型指定放在%之後\n",
    "  \n",
    "  \n",
    "| 指定類型形式|轉換類型|\n",
    "|:--:|:--:|\n",
    "|%s  |字串 |\n",
    "|%d  |十進位整數|\n",
    "|%x  |十六進位整數|\n",
    "|%o  |八進位整數|\n",
    "|%f  |十進位浮點數|\n",
    "|%e  |指數浮點數|\n",
    "|%g  |十進位或指數浮點數|\n",
    "|%%  |字面%|\n",
    "\n",
    "   - 插入字串時，%的數量必須與%之後的數量相符。\n",
    "   - 若是多個資料項目，必須放入tuple(加上括號，以逗號分格)。\n",
    "   \n",
    "   \n",
    "2. 用`{}`與`format`  (需python2.7以上）\n",
    " - 類型指定放在 : 之後\n",
    " - 填充字元： 用空格之外的東西填充輸出形式。 放在:之後，對齊（>、<、^）或寬度指定符之前"
   ]
  },
  {
   "cell_type": "code",
   "execution_count": 1,
   "id": "3bf256df",
   "metadata": {},
   "outputs": [
    {
     "name": "stdout",
     "output_type": "stream",
     "text": [
      "7.030000\n",
      "7.030000e+00\n",
      "7.03\n"
     ]
    }
   ],
   "source": [
    "print('%f' % 7.03)\n",
    "print('%e' % 7.03)\n",
    "print('%g' % 7.03)"
   ]
  },
  {
   "cell_type": "code",
   "execution_count": 2,
   "id": "041d26a5",
   "metadata": {},
   "outputs": [
    {
     "name": "stdout",
     "output_type": "stream",
     "text": [
      "The probability is lower than 30.0%\n"
     ]
    }
   ],
   "source": [
    "p = 30\n",
    "\n",
    "print('The probability is lower than %.1f%%' %p)"
   ]
  },
  {
   "cell_type": "code",
   "execution_count": 3,
   "id": "b1513883",
   "metadata": {},
   "outputs": [
    {
     "name": "stdout",
     "output_type": "stream",
     "text": [
      "Breakfast: toast, Lunch: noodles, Dinner: 30\n"
     ]
    }
   ],
   "source": [
    "# 即使變數是整數，插入指定格式為字串時，會轉換為字串\n",
    "breakfast = 'toast'\n",
    "lunch = 'noodles'\n",
    "dinner = 30\n",
    "\n",
    "print(\"Breakfast: %s, Lunch: %s, Dinner: %s\" % (breakfast, lunch, dinner))"
   ]
  },
  {
   "cell_type": "code",
   "execution_count": 4,
   "id": "0041d62b",
   "metadata": {},
   "outputs": [
    {
     "name": "stdout",
     "output_type": "stream",
     "text": [
      "使用預設寬度: 42 7.030000 string cheese\n",
      "最小欄位寬度設為10個字元:         42   7.030000 string cheese\n",
      "相同欄位寬，靠左對齊: 42         7.030000   string cheese\n",
      "相同欄位寬，最大字元4，靠右對齊，浮點數小數點後4位:       0042     7.0300       stri\n"
     ]
    }
   ],
   "source": [
    "n = 42\n",
    "f = 7.03\n",
    "s = 'string cheese'\n",
    "\n",
    "print('使用預設寬度: %d %f %s' % (n, f, s)) #使用預設寬度\n",
    "print('最小欄位寬度設為10個字元: %10d %10f %10s' % (n, f, s)) #最小欄位寬度設為10個字元\n",
    "print('相同欄位寬，靠左對齊: %-10d %-10f %-10s' % (n, f, s)) #相同欄位寬，靠左對齊\n",
    "\n",
    "#相同欄位寬，最大字元4，浮點數小數點後4位，靠右對齊\n",
    "print('相同欄位寬，最大字元4，靠右對齊，浮點數小數點後4位: %10.4d %10.4f %10.4s' % (n, f, s)) \n"
   ]
  },
  {
   "cell_type": "code",
   "execution_count": 5,
   "id": "c079977b",
   "metadata": {},
   "outputs": [
    {
     "name": "stdout",
     "output_type": "stream",
     "text": [
      "42 7.03 string cheese\n",
      "42 7.03 string cheese\n"
     ]
    }
   ],
   "source": [
    "#用{}與format\n",
    "n = 42\n",
    "f = 7.03\n",
    "s = 'string cheese'\n",
    "\n",
    "print('{} {} {}' .format(n, f, s) )\n",
    "\n",
    "print('{N} {F} {S}' .format(N = 42, F = 7.03, S = 'string cheese') )  #使用具名引數"
   ]
  },
  {
   "cell_type": "code",
   "execution_count": 6,
   "id": "6c6d1a13",
   "metadata": {},
   "outputs": [
    {
     "name": "stdout",
     "output_type": "stream",
     "text": [
      "42 7.03 string cheese\n"
     ]
    }
   ],
   "source": [
    "#使用位置引數來指定順序\n",
    "n = 42\n",
    "f = 7.03\n",
    "s = 'string cheese'\n",
    "\n",
    "\n",
    "print('{2} {0} {1}' .format(f, s, n) )  #0:f、1:s、2:n，"
   ]
  },
  {
   "cell_type": "code",
   "execution_count": 7,
   "id": "af77eaa4",
   "metadata": {},
   "outputs": [
    {
     "name": "stdout",
     "output_type": "stream",
     "text": [
      "42 7.03 string cheese other\n"
     ]
    }
   ],
   "source": [
    "# 結合dict，[0]表示整個字典\n",
    "\n",
    "d = {\n",
    "    'n': 42,\n",
    "    'f': 7.03,\n",
    "    's': 'string cheese'\n",
    "}\n",
    "\n",
    "print('{0[n]} {0[f]} {0[s]} {1}' .format(d, 'other'))"
   ]
  },
  {
   "cell_type": "code",
   "execution_count": 8,
   "id": "7a16c07e",
   "metadata": {},
   "outputs": [
    {
     "name": "stdout",
     "output_type": "stream",
     "text": [
      "42 7.030000 string cheese\n",
      "42 7.030000 string cheese\n"
     ]
    }
   ],
   "source": [
    "#類型指定放在:之後\n",
    "\n",
    "print('{0:d} {1:f} {2:s}' .format(n, f, s))\n",
    "print('{N:d} {F:f} {S:s}' .format(N = 42, F = 7.03, S = 'string cheese') ) "
   ]
  },
  {
   "cell_type": "code",
   "execution_count": 9,
   "id": "bdaabc7d",
   "metadata": {},
   "outputs": [
    {
     "name": "stdout",
     "output_type": "stream",
     "text": [
      "使用預設寬度: 42 7.030000 string cheese\n",
      "最小欄位寬度設為10個字元:         42   7.030000 string cheese\n",
      "最小欄位寬度設為10個字元、靠右對齊:         42   7.030000 string cheese\n",
      "相同欄位寬，靠左對齊: 42         7.030000   string cheese\n",
      "相同欄位寬，置中:     42      7.030000  string cheese\n",
      "相同欄位寬，最大字元4，浮點數小數點後4位，置中:     42       7.0300      stri   \n"
     ]
    }
   ],
   "source": [
    "n = 42\n",
    "f = 7.03\n",
    "s = 'string cheese'\n",
    "\n",
    "print('使用預設寬度: {0:d} {1:f} {2:s}' .format(n, f, s)) #使用預設寬度\n",
    "print('最小欄位寬度設為10個字元: {0:10d} {1:10f} {2:10s}' .format(n, f, s)) #最小欄位寬度設為10個字元\n",
    "print('最小欄位寬度設為10個字元、靠右對齊: {0:>10d} {1:>10f} {2:>10s}' .format(n, f, s)) #最小欄位寬度設為10個字元，靠右對齊\n",
    "print('相同欄位寬，靠左對齊: {0:<10d} {1:<10f} {2:<10s}' .format(n, f, s)) #相同欄位寬，靠左對齊\n",
    "print('相同欄位寬，置中: {0:^10d} {1:^10f} {2:^10s}' .format(n, f, s)) #相同欄位寬，置中\n",
    "\n",
    "#相同欄位寬，最大字元4，浮點數小數點後4位，置中\n",
    "print('相同欄位寬，最大字元4，浮點數小數點後4位，置中: {0:^10d} {1:^10.4f} {2:^10.4s}' .format(n, f, s)) \n",
    "\n"
   ]
  },
  {
   "cell_type": "code",
   "execution_count": 10,
   "id": "a59c1bcc",
   "metadata": {},
   "outputs": [
    {
     "name": "stdout",
     "output_type": "stream",
     "text": [
      "!!!!!!BIG SALE!!!!!!\n"
     ]
    }
   ],
   "source": [
    "#填充字元 : 用空格之外的東西填充輸出形式。\n",
    "#放在:之後，對齊（>、<、^）或寬度指定符之前\n",
    "\n",
    "print('{0:!^20s}' .format('BIG SALE')) #共20個字元，型態為字串，置中"
   ]
  },
  {
   "cell_type": "markdown",
   "id": "d398bbf4",
   "metadata": {},
   "source": [
    "# 檔案處理\n",
    "\n",
    "## 讀寫TXT文字檔\n",
    "\n",
    "- open 開啟檔案的幾種模式\n",
    "- 一次讀取一行文字，逐步讀取 \n",
    "- 一次讀取全部的文字\n",
    "- 使用 try…except…finally 語法處理例外 exception\n",
    "- 使用 with open() as\n",
    "- 讀取文字後用 split 切割欄位"
   ]
  },
  {
   "cell_type": "markdown",
   "id": "c165a10e",
   "metadata": {},
   "source": [
    "### 開啟檔案\n",
    "`open('filename', 'mode')`\n",
    "\n",
    "mode : 開檔模式，若不寫的話會以 `r` 為預設值\n",
    "- `r`：開啟檔案讀取，檔案必須存在否則之後讀取會失敗(預設)\n",
    "- `w`：開啟檔案寫入，檔案不存在會新建檔案，檔案存在會覆蓋檔案\n",
    "- `x`：寫入，唯有在檔案不存在時\n",
    "- `a`：開啟檔案添加，在檔案尾巴開始附加寫入資料\n",
    "- `x`：\n",
    "- `r+`：可讀可寫\n",
    "- `w+`：可讀可寫\n",
    "- `a+`：可讀可寫\n",
    "- `t` ：文字模式（預設，可不填）\n",
    "- `b`：二進位模式\n",
    "\n",
    "### 讀取內容\n",
    "- 一次讀一行`readlines()`\n",
    "\n",
    "會需要搭配迴圈來一起使用，接著把文字資料讀取進來後就可以對這些文字來進行處理，\n",
    "或者是先 append 到 list 之後再處理，\n",
    "\n",
    "- 一次讀全部`read()`\n",
    "\n",
    "###  關閉檔案\n",
    "\n",
    "最後要關檔`close()`\n"
   ]
  },
  {
   "cell_type": "code",
   "execution_count": 11,
   "id": "9f6e9566",
   "metadata": {},
   "outputs": [
    {
     "name": "stdout",
     "output_type": "stream",
     "text": [
      "Test text file\n",
      "\n",
      "Read  file\n",
      "\n",
      "Close fille\n"
     ]
    },
    {
     "data": {
      "text/plain": [
       "<function TextIOWrapper.close()>"
      ]
     },
     "execution_count": 11,
     "metadata": {},
     "output_type": "execute_result"
    }
   ],
   "source": [
    "# 用迴圈，使用 readlines() 讀取一行文字\n",
    "\n",
    "f = open('./files/text.txt')\n",
    "\n",
    "for line in f.readlines():\n",
    "    print(line)\n",
    "    \n",
    "f.close"
   ]
  },
  {
   "cell_type": "code",
   "execution_count": 12,
   "id": "315a89a7",
   "metadata": {},
   "outputs": [
    {
     "name": "stdout",
     "output_type": "stream",
     "text": [
      "['Test text file\\n', 'Read  file\\n', 'Close fille']\n"
     ]
    },
    {
     "data": {
      "text/plain": [
       "<function TextIOWrapper.close()>"
      ]
     },
     "execution_count": 12,
     "metadata": {},
     "output_type": "execute_result"
    }
   ],
   "source": [
    "# 先將讀取到的內容，放到text的list裡，用append加入list內\n",
    "\n",
    "f = open('./files/text.txt')\n",
    "\n",
    "text = []\n",
    "for line in f:\n",
    "    text.append(line)\n",
    "print(text)\n",
    "\n",
    "f.close"
   ]
  },
  {
   "cell_type": "code",
   "execution_count": 13,
   "id": "e07977f0",
   "metadata": {},
   "outputs": [
    {
     "name": "stdout",
     "output_type": "stream",
     "text": [
      "Test text file\n",
      "Read  file\n",
      "Close fille\n"
     ]
    },
    {
     "data": {
      "text/plain": [
       "<function TextIOWrapper.close()>"
      ]
     },
     "execution_count": 13,
     "metadata": {},
     "output_type": "execute_result"
    }
   ],
   "source": [
    "#使用 read() 把所有文字讀進變數裡，接著再將變數印出來。\n",
    "\n",
    "f = open('./files/text.txt')\n",
    "text = f.read()\n",
    "print(text)\n",
    "\n",
    "f.close"
   ]
  },
  {
   "cell_type": "markdown",
   "id": "04ef2e55",
   "metadata": {},
   "source": [
    "### 使用 try…except…finally 語法處理例外 exception\n",
    "\n",
    "- 如果開啟的檔案不存在，open 函式會傳回 IOError 錯誤。\n",
    "\n",
    "  由於檔案讀寫時都有可能產生 IOError，一旦出錯，後面的 f.close() 就執行不到了，\n",
    "\n",
    "  為了保證不論有無出錯都能正確地關閉檔案，可用 try… finally 來達成\n",
    "  \n",
    "\n",
    "- 用try 包住主程式，再用except 處理錯誤。如沒錯誤，則except會略過"
   ]
  },
  {
   "cell_type": "code",
   "execution_count": 14,
   "id": "91f0119a",
   "metadata": {},
   "outputs": [
    {
     "name": "stdout",
     "output_type": "stream",
     "text": [
      "Test text file\n",
      "\n",
      "Read  file\n",
      "\n",
      "Close fille\n"
     ]
    }
   ],
   "source": [
    "path = './files/text.txt'\n",
    "\n",
    "f = None\n",
    "try:\n",
    "    f = open(path, 'r')\n",
    "    for line in f.readlines():\n",
    "        print(line)\n",
    "except IOError:\n",
    "    print('ERROR: can not found ' + path)\n",
    "    if f:\n",
    "        f.close()\n",
    "finally:\n",
    "    if f:\n",
    "        f.close()"
   ]
  },
  {
   "cell_type": "markdown",
   "id": "eb3a2a97",
   "metadata": {},
   "source": [
    "### 使用 with open() as\n",
    "\n",
    "- 使用 open() 開啟檔案後，最後要用 close() 來關閉檔案，當Python不再參考它時，就會將它關閉。  \n",
    "  如果是在函式內開啟檔案，但是沒有自己關閉它，則在函式結束時，會自動關閉。\n",
    "\n",
    "\n",
    "- 那有沒有比較聰明的方式讓我們不會忘記做呢？    Python有可以清除已開啟檔案的環境管理員。\n",
    "\n",
    "  使用 `with…as` 語法:  \n",
    "  使用 with 語句來自動幫我們呼叫 close() 方法，  \n",
    "  這效果和上述的 try... finally 是一樣的，但是程式碼更簡潔，並且不必呼叫 close()，  \n",
    "  所以實際上寫起來會是 `with open() as` "
   ]
  },
  {
   "cell_type": "code",
   "execution_count": 15,
   "id": "243218af",
   "metadata": {},
   "outputs": [
    {
     "name": "stdout",
     "output_type": "stream",
     "text": [
      "Test text file\n",
      "\n",
      "Read  file\n",
      "\n",
      "Close fille\n"
     ]
    }
   ],
   "source": [
    "path = './files/text.txt'\n",
    "\n",
    "with open(path) as f:\n",
    "    for line in f.readlines():\n",
    "        print(line)"
   ]
  },
  {
   "cell_type": "code",
   "execution_count": 16,
   "id": "c52c26c4",
   "metadata": {},
   "outputs": [
    {
     "name": "stdout",
     "output_type": "stream",
     "text": [
      "Test text file\n",
      "\n",
      "Read  file\n",
      "\n",
      "Close fille\n"
     ]
    }
   ],
   "source": [
    "#先用 readlines 一次讀出來到變數 lines 裡，再用迴圈從 lines 讀取每一行的資料\n",
    "\n",
    "path = './files/text.txt'\n",
    "\n",
    "with open(path) as f:\n",
    "    lines = f.readlines()\n",
    "    for line in lines:\n",
    "        print(line)\n"
   ]
  },
  {
   "cell_type": "markdown",
   "id": "d07f285d",
   "metadata": {},
   "source": [
    "### 用 split 切割欄位\n",
    "\n",
    "將讀出來的每一行資料用 split 來切割欄位，並將欄位轉換成適當的變數類型"
   ]
  },
  {
   "cell_type": "code",
   "execution_count": 17,
   "id": "be5f638b",
   "metadata": {},
   "outputs": [
    {
     "name": "stdout",
     "output_type": "stream",
     "text": [
      "[1, 2, 3, 4]\n",
      "['Tom', 'Mary', 'Mark', 'Jason']\n",
      "[87.3, 76.4, 65.5, 54.6]\n"
     ]
    }
   ],
   "source": [
    "#已知檔案以tab作分隔，那麼在 split 的參數指定要以tab字元作切割，最後再將其轉為對應的變數類型\n",
    "#例如轉整數用 int()、轉浮點數用 float()，放入對應的串列裡，以便後續處理，\n",
    "\n",
    "\n",
    "id = []\n",
    "name = []\n",
    "score = []\n",
    "\n",
    "path = './files/text2.txt'\n",
    "\n",
    "with open(path) as f:\n",
    "    for line in f.readlines():\n",
    "        \n",
    "        s = line.split('\\t')   #以tab作分隔\n",
    "        #s = line.split(' ')  #以空白字元作分隔\n",
    "        \n",
    "        id.append(int(s[0]))\n",
    "        name.append(s[1])\n",
    "        score.append(float(s[2]))\n",
    "\n",
    "print(id)\n",
    "print(name)\n",
    "print(score)\n"
   ]
  },
  {
   "cell_type": "markdown",
   "id": "d1a65bc1",
   "metadata": {},
   "source": [
    "### 寫入檔案\n",
    "\n",
    "- 用 `write()` 、 `writelines()` 寫入，不會加入空格與換行\n",
    "- 用 `print()` 寫入檔案:\n",
    "    print會在每個引號後面加上一個**空格**，行尾加上**換行符號**。\n",
    "    若要跟write()一樣，需加入 \n",
    "    - `sep` (分隔符，預設是空格:`' '`)\n",
    "    - `end` (結束字串，預設是換行:`'\\n'`)\n",
    "\n",
    "- 使用 `with open() as`\n",
    "- 添加模式附加資料在原本檔案的尾巴"
   ]
  },
  {
   "cell_type": "code",
   "execution_count": 18,
   "id": "14608bed",
   "metadata": {},
   "outputs": [],
   "source": [
    "# 用 write()寫入\n",
    "\n",
    "path = './files/output.txt'\n",
    "\n",
    "f = open(path, 'w')   # 開檔模式為 w\n",
    "\n",
    "f.write('Hello World\\n')  #用\\n換行\n",
    "f.write('123\\n')\n",
    "f.write('123.45\\n')\n",
    "\n",
    "f.close()\n"
   ]
  },
  {
   "cell_type": "code",
   "execution_count": 19,
   "id": "761d3076",
   "metadata": {},
   "outputs": [],
   "source": [
    "# writelines() 可以接受 list 作為參數\n",
    "# 使用 writelines() 函式並不會換行寫入，要在寫入的字串後面加 \\n 才會換行\n",
    "\n",
    "path = './files/output.txt'\n",
    "\n",
    "f = open(path, 'w')\n",
    "\n",
    "lines = ['Hello World\\n', '123\\n', '456\\n', '789\\n']\n",
    "f.writelines(lines)\n",
    "\n",
    "f.close()"
   ]
  },
  {
   "cell_type": "code",
   "execution_count": 20,
   "id": "e99e1f2c",
   "metadata": {},
   "outputs": [],
   "source": [
    "# 用 print() 寫入檔案\n",
    "# print 函式預設是將資料輸出到標準螢幕輸出\n",
    "# print也可以指定將資料輸出到檔案，只要在 print() 增加 file 的參數就可以了\n",
    "\n",
    "\n",
    "path = './files/output.txt'\n",
    "\n",
    "f = open(path, 'w')\n",
    "\n",
    "print('Hello World', file=f, sep='',end=' ') #結尾用空格\n",
    "print('123', file=f)\n",
    "print('456', file=f)\n",
    "print('789', file=f)\n",
    "\n",
    "f.close()\n"
   ]
  },
  {
   "cell_type": "code",
   "execution_count": 21,
   "id": "64341c6c",
   "metadata": {},
   "outputs": [],
   "source": [
    "# 使用 with open() as\n",
    "# 使用 with 關鍵字來開檔的優點是不必在程式裡寫關檔 close()\n",
    "# 因為 with 會在結束這個程式碼區塊時自動將它關閉\n",
    "\n",
    "path = './files/output.txt'\n",
    "\n",
    "with open(path, 'w') as f:\n",
    "    f.write('apple\\n')\n",
    "    f.write('banana\\n')\n",
    "    f.write('lemon\\n')\n",
    "    f.write('tomato\\n')\n"
   ]
  },
  {
   "cell_type": "code",
   "execution_count": 22,
   "id": "e4e905fa",
   "metadata": {},
   "outputs": [],
   "source": [
    "#附加資料在原本檔案的尾巴\n",
    "#在 open() 使用添加模式主要是可以將寫入的資料附加在原本檔案的尾巴\n",
    "\n",
    "\n",
    "path = './files/output.txt'\n",
    "\n",
    "with open(path, 'a') as f:\n",
    "    f.write('apple\\n')\n",
    "    f.write('banana\\n')\n",
    "    f.write('tomato\\n')\n"
   ]
  },
  {
   "cell_type": "markdown",
   "id": "ad2a55e1",
   "metadata": {},
   "source": [
    "## 讀取 csv 檔案的方法\n",
    "\n",
    "- import csv 模組\n",
    "- 使用 with open(…) as … 讀檔\n",
    "- 取出第一欄欄位名稱 （headers）\n",
    "- 將讀取的欄位轉換變數類型存到串列 list 裡\n",
    "- 將讀取的 csv 內容轉成 NumPy array\n",
    "- 使用 NumPy 的 genfromtxt 來讀取 csv\n",
    "\n",
    "假設 data.csv 檔內容如下：\n",
    "\n",
    "1,Tom,0.2,  \n",
    "2,Mary,0.5,  \n",
    "3,Mark,0.8,  \n",
    "4,Jason,1.1,\n",
    "\n",
    "\n",
    " 行尾有一個逗號會被當成空資料"
   ]
  },
  {
   "cell_type": "code",
   "execution_count": 23,
   "id": "4f0b4a5a",
   "metadata": {},
   "outputs": [
    {
     "name": "stdout",
     "output_type": "stream",
     "text": [
      "['1', 'Tom', '0.2', '']\n",
      "['2', 'Mary', '0.5', '']\n",
      "['3', 'Mark', '0.8', '']\n",
      "['4', 'Jason', '1.1', '']\n"
     ]
    }
   ],
   "source": [
    "import csv\n",
    "\n",
    "path = './files/data.csv'\n",
    "try:\n",
    "    f = open(path, 'r')\n",
    "    rows = csv.reader(f, delimiter=',')  #csv檔分隔符為,\n",
    "    for row in rows:\n",
    "        print(row)\n",
    "except:\n",
    "    print('ERROR: can not found ' + path)\n",
    "    exit(1)\n",
    "    "
   ]
  },
  {
   "cell_type": "code",
   "execution_count": 24,
   "id": "cbea7ca0",
   "metadata": {},
   "outputs": [
    {
     "name": "stdout",
     "output_type": "stream",
     "text": [
      "['1', 'Tom', '0.2', '']\n",
      "['2', 'Mary', '0.5', '']\n",
      "['3', 'Mark', '0.8', '']\n",
      "['4', 'Jason', '1.1', '']\n"
     ]
    }
   ],
   "source": [
    "#使用 with 語法\n",
    "#先 open 再 csv.reader\n",
    "\n",
    "import csv\n",
    "\n",
    "path = './files/data.csv'\n",
    "with open(path, newline='') as csvfile:\n",
    "    \n",
    "    rows = csv.reader(csvfile, delimiter=',')\n",
    "    for row in rows:\n",
    "        print(row)"
   ]
  },
  {
   "cell_type": "markdown",
   "id": "c1791110",
   "metadata": {},
   "source": [
    "### 取出第一欄欄位名稱 headers\n",
    "\n",
    "data2.csv檔內容：\n",
    "\n",
    "No,Name,Score  \n",
    "1,Tom,87.3  \n",
    "2,Mary,76.4  \n",
    "3,Mark,65.5  \n",
    "4,Jason,54.6\n",
    "\n",
    " 行尾沒有逗號就沒有空資料"
   ]
  },
  {
   "cell_type": "code",
   "execution_count": 25,
   "id": "30f947e7",
   "metadata": {},
   "outputs": [
    {
     "name": "stdout",
     "output_type": "stream",
     "text": [
      "headers: ['No', 'Name', 'Score']\n",
      "['1', 'Tom', '87.3']\n",
      "['2', 'Mary', '76.4']\n",
      "['3', 'Mark', '65.5']\n",
      "['4', 'Jason', '54.6']\n"
     ]
    }
   ],
   "source": [
    "#取出第一欄欄位名稱 headers\n",
    "\n",
    "import csv\n",
    "\n",
    "path = './files/data2.csv'\n",
    "\n",
    "with open(path, newline='') as csvfile:\n",
    "    \n",
    "    rows = csv.reader(csvfile, delimiter=',')\n",
    "    headers = next(rows)\n",
    "    \n",
    "    print('headers: %s' % headers)\n",
    "    \n",
    "    for row in rows:\n",
    "        print(row)"
   ]
  },
  {
   "cell_type": "code",
   "execution_count": 26,
   "id": "94cd71e6",
   "metadata": {},
   "outputs": [
    {
     "name": "stdout",
     "output_type": "stream",
     "text": [
      "[1, 2, 3, 4]\n",
      "['Tom', 'Mary', 'Mark', 'Jason']\n",
      "[87.3, 76.4, 65.5, 54.6]\n"
     ]
    }
   ],
   "source": [
    "#將讀取的欄位轉換變數類型存到串列 list 裡\n",
    "#將讀出來的每個欄位轉換成適當的變數類型，最後 append 到串列 list 裡\n",
    "\n",
    "import csv\n",
    "\n",
    "id = []\n",
    "name = []\n",
    "score = []\n",
    "\n",
    "path = './files/data2.csv'\n",
    "with open(path, newline='') as csvfile:\n",
    "    rows = csv.reader(csvfile, delimiter=',')\n",
    "    headers = next(rows)\n",
    "    \n",
    "    for row in rows:\n",
    "        id.append(int(row[0]))\n",
    "        name.append(row[1])\n",
    "        score.append(float(row[2]))\n",
    "\n",
    "print(id)\n",
    "print(name)\n",
    "print(score)"
   ]
  },
  {
   "cell_type": "code",
   "execution_count": 27,
   "id": "8b3597c2",
   "metadata": {},
   "outputs": [
    {
     "name": "stdout",
     "output_type": "stream",
     "text": [
      "[['1' 'Tom' '0.2' '']\n",
      " ['2' 'Mary' '0.5' '']\n",
      " ['3' 'Mark' '0.8' '']\n",
      " ['4' 'Jason' '1.1' '']]\n"
     ]
    }
   ],
   "source": [
    "#讀取到 csv 內容轉成 NumPy array\n",
    "\n",
    "import csv\n",
    "import numpy as np\n",
    "\n",
    "path = './files/data.csv'\n",
    "\n",
    "with open(path, newline='') as csvfile:\n",
    "    rows = csv.reader(csvfile, delimiter=',')\n",
    "    data = np.asarray(list(rows))\n",
    "    print(data)"
   ]
  },
  {
   "cell_type": "code",
   "execution_count": 28,
   "id": "0d1c1f3d",
   "metadata": {},
   "outputs": [
    {
     "name": "stdout",
     "output_type": "stream",
     "text": [
      "[(1, 'Tom', 87.3) (2, 'Mary', 76.4) (3, 'Mark', 65.5) (4, 'Jason', 54.6)]\n",
      "(1, 'Tom', 87.3)\n",
      "(2, 'Mary', 76.4)\n",
      "[1 2 3 4]\n",
      "['Tom' 'Mary' 'Mark' 'Jason']\n",
      "[87.3 76.4 65.5 54.6]\n"
     ]
    }
   ],
   "source": [
    "#使用 NumPy 的 genfromtxt 來讀取 csv\n",
    "\n",
    "import csv\n",
    "import numpy as np\n",
    "\n",
    "path = './files/data2.csv'\n",
    "\n",
    "#資料以 ',' 分隔, 略過第1列，將三個欄位的資料分別命名為('numbers', 'names', 'values')\n",
    "data = np.genfromtxt(path, delimiter=',', dtype=None,\n",
    "                     names=('numbers', 'names', 'values'), skip_header=1, encoding='UTF-8')\n",
    "\n",
    "#將三個欄位的資料分別指定給變數 Num , NAME, val \n",
    "Num , NAME, Val =  data['numbers'],  data['names'], data['values']\n",
    "\n",
    "print(data)\n",
    "print(data[0])\n",
    "print(data[1])\n",
    "print(Num)\n",
    "print(NAME)\n",
    "print(Val)"
   ]
  },
  {
   "cell_type": "markdown",
   "id": "fa9f50aa",
   "metadata": {},
   "source": [
    "# 用 csv.writer 來寫入 csv 檔案\n",
    "\n",
    "### 使用 with open(…) as …\n",
    "先使用 with open 開檔，之後用 csv.writer 取得 writer，可以呼叫 writerow 將每行的數值寫入。  \n",
    "記得要設定 newline 的值，否則 Python 寫入輸出的 csv 檔會多個空行  "
   ]
  },
  {
   "cell_type": "code",
   "execution_count": 29,
   "id": "dd8ff335",
   "metadata": {},
   "outputs": [],
   "source": [
    "import csv\n",
    "\n",
    "path = './files/output_data.csv'\n",
    "\n",
    "with open(path, 'w', newline='') as csvfile:\n",
    "    writer = csv.writer(csvfile)\n",
    "    writer.writerow(['No', 'Name', 'Score'])\n",
    "    writer.writerow([1, 'Tom', 87.3])\n",
    "    writer.writerow([2, 'Mary', 76.4])\n",
    "    writer.writerow([3, 'Mark', 65.5])"
   ]
  },
  {
   "cell_type": "markdown",
   "id": "9bc69eb1",
   "metadata": {},
   "source": [
    "# JSON\n",
    "\n",
    "JavaScript Object Notation(JSON)資料格式，常在Web開發中使用。\n",
    "\n",
    "## 讀取 json 檔案的方法\n",
    "\n",
    "- import json 模組\n",
    "- 從檔案讀取解析成 JSON\n",
    "- 從字串讀取解析成 JSON\n",
    "- 從檔案讀取解析 JSON array\n",
    "- 從檔案讀取解析成 JSON\n",
    "\n",
    "假設 json 檔案內容如下\n",
    "\n",
    "{ \n",
    "\n",
    "    \"name\":\"Amy\",  \n",
    "    \"age\":20,  \n",
    "    \"married\":false,  \n",
    "    \"city\":\"New York\",  \n",
    "    \"languages\": [\"English\", \"French\"]  \n",
    "}"
   ]
  },
  {
   "cell_type": "code",
   "execution_count": 30,
   "id": "4b29cac0",
   "metadata": {},
   "outputs": [
    {
     "name": "stdout",
     "output_type": "stream",
     "text": [
      "<class 'dict'>\n",
      "{'name': 'Amy', 'age': 20, 'married': False, 'city': 'New York', 'languages': ['English', 'French']}\n",
      "Amy\n",
      "20\n"
     ]
    }
   ],
   "source": [
    "#import json 模組\n",
    "#將開檔完的物件傳給 json.load()，json.load() 解析成 JSON 後回傳的變數會是 dict 類型\n",
    "\n",
    "import json \n",
    "\n",
    "with open('./files/data.json') as f:\n",
    "    data = json.load(f)\n",
    "\n",
    "print(type(data))\n",
    "print(data)\n",
    "print(data['name'])\n",
    "print(data['age'])"
   ]
  },
  {
   "cell_type": "markdown",
   "id": "21d96b31",
   "metadata": {},
   "source": [
    "### 從字串讀取解析成 JSON\n",
    "\n",
    "如果要從 json 形式的字串讀入的話要用 json.loads()，把字串 s 帶入 json.loads() 解析成 JSON"
   ]
  },
  {
   "cell_type": "code",
   "execution_count": 31,
   "id": "acfbee23",
   "metadata": {},
   "outputs": [
    {
     "name": "stdout",
     "output_type": "stream",
     "text": [
      "<class 'dict'>\n",
      "{'name': 'Amy', 'age': 20, 'married': False, 'city': 'New York', 'languages': ['English', 'French']}\n",
      "Amy\n",
      "20\n"
     ]
    }
   ],
   "source": [
    "import json \n",
    "\n",
    "s = '{\"name\":\"Amy\", \"age\":20, \"married\":false, \"city\":\"New York\", \"languages\": [\"English\", \"French\"]}'\n",
    "data = json.loads(s)\n",
    "\n",
    "print(type(data))\n",
    "print(data)\n",
    "print(data['name'])\n",
    "print(data['age'])"
   ]
  },
  {
   "cell_type": "markdown",
   "id": "0bf89e46",
   "metadata": {},
   "source": [
    "### 從檔案讀取解析 JSON array\n",
    "\n",
    "假設 json 檔案裡的 JSON array 內容長這樣\n",
    "\n",
    "[\n",
    "    {\n",
    "    \n",
    "        \"name\":\"Amy\",\n",
    "        \"age\":20,\n",
    "        \"married\":false,\n",
    "        \"city\":\"New York\",\n",
    "        \"languages\": [\"English\", \"French\"]\n",
    "    },\n",
    "    {\n",
    "        \"name\": \"Sam\",\n",
    "        \"age\": 26,\n",
    "        \"married\": true,\n",
    "        \"city\":\"Berlin\",\n",
    "        \"languages\": [\"English\", \"Dutch\"]\n",
    "    }\n",
    "]\n",
    "\n",
    "那麼讀取進來是會由一個 list 容器來儲存 JSON 陣列的內容，再用 list 的索引去取得元素就可以了，list 裡的每個 JSON 都是 dict，"
   ]
  },
  {
   "cell_type": "code",
   "execution_count": 32,
   "id": "9ef1ebe1",
   "metadata": {},
   "outputs": [
    {
     "name": "stdout",
     "output_type": "stream",
     "text": [
      "<class 'list'>\n",
      "<class 'dict'>\n",
      "Amy\n",
      "name:Amy\n",
      "age:20\n",
      "name:Sam\n",
      "age:26\n"
     ]
    }
   ],
   "source": [
    "import json \n",
    "\n",
    "with open('./files/data2.json') as f:\n",
    "    data = json.load(f)\n",
    "\n",
    "print(type(data))\n",
    "print(type(data[0]))\n",
    "print(data[0]['name'])\n",
    "\n",
    "for i in data:\n",
    "    #print(i)\n",
    "    print(\"name:\" + i['name'])\n",
    "    print(\"age:\" + str(i['age']))\n"
   ]
  },
  {
   "cell_type": "markdown",
   "id": "75facee3",
   "metadata": {},
   "source": [
    "## 把 JSON 寫入到檔案\n",
    "\n",
    "要import json模組，接著將開檔完的物件傳給 `json.dump()`"
   ]
  },
  {
   "cell_type": "code",
   "execution_count": 33,
   "id": "1f853283",
   "metadata": {},
   "outputs": [],
   "source": [
    "import json \n",
    "\n",
    "d = {\n",
    "        \"name\": \"Sam\",\n",
    "        \"age\": 26,\n",
    "        \"married\": True,\n",
    "        \"city\":\"Berlin\",\n",
    "        \"languages\": [\"English\", \"Dutch\"]\n",
    "}\n",
    "\n",
    "with open('./files/output.json', 'w') as f:\n",
    "    json.dump(d, f)\n"
   ]
  },
  {
   "cell_type": "markdown",
   "id": "de1bcbc6",
   "metadata": {},
   "source": [
    "# 檢查檔案、資料夾、路徑是否存在\n",
    "\n",
    "## 檢查路徑是否為檔案:  os.path.isfile\n",
    "\n",
    "- 在檔案處理中要建立檔案前，通常都會判斷檢查檔案是否存在。\n",
    "\n",
    "  要判斷是否為檔案，可用`os.path.isfile()`\n",
    "\n",
    "  isfile 會判斷傳入的路徑是否為一個存在的正規檔案，是的話回傳 True，反之回傳 False，\n",
    "\n",
    "\n",
    "- 引入 `import os` \n"
   ]
  },
  {
   "cell_type": "code",
   "execution_count": 34,
   "id": "bbbdd06d",
   "metadata": {},
   "outputs": [
    {
     "name": "stdout",
     "output_type": "stream",
     "text": [
      "False\n",
      "False\n"
     ]
    }
   ],
   "source": [
    "import os\n",
    "\n",
    "print(os.path.isfile('aaa.txt'))\n",
    "\n",
    "\n",
    "#或用os.path.exists\n",
    "print(os.path.exists('aaa.txt'))\n",
    "\n",
    "#os.path.exists 適合用來判斷是不是檔案或目錄"
   ]
  },
  {
   "cell_type": "markdown",
   "id": "d6fc6256",
   "metadata": {},
   "source": [
    "## 檢查資料夾是否存在 os.path.isdir \n",
    "\n",
    "- 在檔案處理中要建立資料夾時，會先判斷檢查資料夾是否存在\n",
    "\n",
    "  要判斷路徑是否為資料夾可用 `os.path.isdir()`\n",
    "\n",
    "  isdir 會判斷傳入的路徑是否為一個存在的資料夾，是的話回傳 True，反之回傳 False\n",
    "\n",
    "\n",
    "- 如果要判斷是否為資料夾且不是檔案的話，請用 isdir，不使用 exists。\n"
   ]
  },
  {
   "cell_type": "code",
   "execution_count": 35,
   "id": "a8d0f358",
   "metadata": {},
   "outputs": [
    {
     "name": "stdout",
     "output_type": "stream",
     "text": [
      "False\n"
     ]
    }
   ],
   "source": [
    "import os\n",
    "\n",
    "print(os.path.isdir('dir1'))\n"
   ]
  },
  {
   "cell_type": "markdown",
   "id": "0e6ed213",
   "metadata": {},
   "source": [
    "## 檢查路徑是否存在 os.path.exists \n",
    "\n",
    "- 在檔案處理中要建立檔案前通常都會判斷檢查路徑是否存在，或者建立資料夾時也是一樣會先判斷檢查路徑是否存在，\n",
    "  判斷檔案是否或資料夾是否存在可用 `os.path.exists()`  \n",
    "  exists 如果路徑 path 存在會回傳 True；如果路徑 path 不存在會回傳 False。\n",
    "\n",
    "\n",
    "- 會用到 exists 大概是要建立新檔案前去檢查判斷有沒有該檔案存在，或者建立新資料夾前去檢查判斷有沒有該資料夾存在。\n",
    "\n",
    "\n",
    "- exists 回傳 True 時代表該路徑存在。如果要判斷檢查該路徑是否為一個檔案應該用os.path.isfile，判斷檢查該路徑是否為一個資料夾應該用 os.path.isdir\n",
    "\n"
   ]
  },
  {
   "cell_type": "code",
   "execution_count": 36,
   "id": "40c82eac",
   "metadata": {},
   "outputs": [
    {
     "name": "stdout",
     "output_type": "stream",
     "text": [
      "True\n"
     ]
    }
   ],
   "source": [
    "import os\n",
    "\n",
    "path = 'pictures'\n",
    "print(os.path.exists(path))\n",
    "\n",
    "if not os.path.exists(path):\n",
    "    print('mkdir ' + path)\n",
    "    os.mkdir(path)\n",
    "\n",
    "    \n",
    "#如果目錄下有個 pictures 的檔案，則 os.path.exists 會回傳 True，\n",
    "#如果目錄下有個 pictures 的資料夾，則 os.path.exists 也會回傳 True。\n",
    "#如果目錄下沒有 pictures 名稱的路徑，則 os.path.exists 也會回傳 False。"
   ]
  },
  {
   "cell_type": "markdown",
   "id": "e7002a4f",
   "metadata": {},
   "source": [
    "# 取得檔案大小 os.path.getsize()\n",
    "\n",
    "getsize 會返回檔案大小，單位為bytes，如果檔案不存在就返回錯誤，\n"
   ]
  },
  {
   "cell_type": "code",
   "execution_count": 37,
   "id": "00667fad",
   "metadata": {},
   "outputs": [
    {
     "name": "stdout",
     "output_type": "stream",
     "text": [
      "./files/text.txt = 37 bytes\n"
     ]
    }
   ],
   "source": [
    "import os\n",
    "\n",
    "path = './files/text.txt'\n",
    "size = os.path.getsize(path)\n",
    "print('%s = %d bytes' % (path, size))\n"
   ]
  },
  {
   "cell_type": "markdown",
   "id": "4d41f981",
   "metadata": {},
   "source": [
    "# 取出路徑中的檔案名稱 os.path.basename() \n",
    "\n",
    "- `os.path.basename()` 為去除目錄的路徑，回傳檔案名稱(包含副檔名)\n",
    "\n",
    "- 由於 linux 與 windows 目錄字元不同，linux 與 macOS 一樣是使用 \\ 斜線，windows 是使用 / 反斜線\n"
   ]
  },
  {
   "cell_type": "code",
   "execution_count": 38,
   "id": "e40cbb74",
   "metadata": {},
   "outputs": [
    {
     "name": "stdout",
     "output_type": "stream",
     "text": [
      "basename: aaa.txt\n",
      "basename: C:\\User\\Desktop\\aaa.txt\n"
     ]
    }
   ],
   "source": [
    "import os\n",
    "\n",
    "print('basename: ' + os.path.basename('/home/user/aaa.txt'))\n",
    "print('basename: ' + os.path.basename('C:\\\\User\\\\Desktop\\\\aaa.txt'))\n"
   ]
  },
  {
   "cell_type": "code",
   "execution_count": 39,
   "id": "f22ce801",
   "metadata": {},
   "outputs": [
    {
     "name": "stdout",
     "output_type": "stream",
     "text": [
      "basename: aaa\n"
     ]
    }
   ],
   "source": [
    "#不包含附檔名的檔案名稱\n",
    "#如果取出的檔案名稱不想要包含附檔名，可用split切割字串來去除副檔名\n",
    "\n",
    "import os\n",
    "\n",
    "unix_path = '/home/user/aaa.txt'\n",
    "basename = os.path.basename(unix_path).split('.')[0]\n",
    "print('basename: ' + basename)"
   ]
  },
  {
   "cell_type": "code",
   "execution_count": 40,
   "id": "65a6500f",
   "metadata": {},
   "outputs": [
    {
     "name": "stdout",
     "output_type": "stream",
     "text": [
      "basename: aaa\n"
     ]
    }
   ],
   "source": [
    "#也可以用 os.path.splitext() 來達成同樣的效果\n",
    "\n",
    "import os\n",
    "\n",
    "unix_path = '/home/user/aaa.txt'\n",
    "basename = os.path.splitext(os.path.basename(unix_path))[0]\n",
    "print('basename: ' + basename)"
   ]
  },
  {
   "cell_type": "markdown",
   "id": "1b9d4469",
   "metadata": {},
   "source": [
    "## 取出目錄的路徑\n",
    "\n",
    "- `os.path.dirname()` 為去除檔案名稱，回傳目錄的路徑，\n"
   ]
  },
  {
   "cell_type": "code",
   "execution_count": 41,
   "id": "c0c6200d",
   "metadata": {},
   "outputs": [
    {
     "name": "stdout",
     "output_type": "stream",
     "text": [
      "dirname: /home/user\n",
      "dirname: \n"
     ]
    }
   ],
   "source": [
    "import os\n",
    "\n",
    "print('dirname: ' + os.path.dirname('/home/user/aaa.txt'))\n",
    "print('dirname: ' + os.path.dirname('C:\\\\User\\\\Desktop\\\\aaa.txt'))\n"
   ]
  }
 ],
 "metadata": {
  "kernelspec": {
   "display_name": "Python 3",
   "language": "python",
   "name": "python3"
  },
  "language_info": {
   "codemirror_mode": {
    "name": "ipython",
    "version": 3
   },
   "file_extension": ".py",
   "mimetype": "text/x-python",
   "name": "python",
   "nbconvert_exporter": "python",
   "pygments_lexer": "ipython3",
   "version": "3.8.10"
  }
 },
 "nbformat": 4,
 "nbformat_minor": 5
}
