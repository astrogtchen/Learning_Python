{
 "cells": [
  {
   "cell_type": "markdown",
   "metadata": {
    "slideshow": {
     "slide_type": "slide"
    }
   },
   "source": [
    "# Introduction to Python\n",
    "\n",
    "### part 2 \n",
    "- 串列 list\n",
    "- 元組 tuple\n",
    "- 流程控制 (if...elif..else，while，for)\n",
    "- 自定函式 def\n",
    "- 匿名函式：lambda函數\n",
    "- 字典dict、集合set\n",
    "\n",
    "#### 2021/5/26\n"
   ]
  },
  {
   "cell_type": "markdown",
   "metadata": {
    "slideshow": {
     "slide_type": "subslide"
    }
   },
   "source": [
    "#### 參考資料\n",
    "\n",
    "- 精通Python 運用簡單的套件進行現代運算，B.Lubanovic，賴屹民，基峯資訊\n",
    "- [炎龍老師的教學研究網](http://yenlung.km.nccu.edu.tw/home/index.php?f=contentShow&id=424)\n",
    "- [手把手打開 Python 資料分析大門](http://foundation.datasci.tw/py3-data-analysis-171217/)\n",
    "- [The Python Tutorial](https://docs.python.org/3.6/tutorial/index.html)\n",
    "- [一小時Python入門-part 1](https://kopu.chat/2017/01/18/%E4%B8%80%E5%B0%8F%E6%99%82python%E5%85%A5%E9%96%80-part-1/)\n",
    "- [Python學習筆記](https://ithelp.ithome.com.tw/users/20107290/ironman/1275)\n",
    "- google大神"
   ]
  },
  {
   "cell_type": "markdown",
   "metadata": {
    "slideshow": {
     "slide_type": "slide"
    }
   },
   "source": [
    "# 資料型態 list (串列)\n",
    "\n",
    "- list 資料型態可以用來表示或處理排列在一起的資料，使用中括號  [ 及 ] 包起來表示\n",
    "- list 裡的資料可以是任何資料型態，且可變動，可以刪除、新增、插入\n",
    "- 有順序性\n",
    "- 利用此種結構建立的資料，可簡單取用、改值、計算相關統計值等\n",
    "- 其他有類似的結構的型態為tuple、dict、set\n",
    "\n",
    "- https://docs.python.org.tw/3/tutorial/datastructures.html"
   ]
  },
  {
   "cell_type": "markdown",
   "metadata": {},
   "source": [
    "## list(串列)、tuple(元組)、dict(字典)與set(集合)\n",
    "\n",
    "- list\n",
    "  - 用 [] 或list()轉換為串列來建立list。[a, b] \n",
    "  \n",
    "- tuple\n",
    "  - 用 () 來創立 tuple。(a, b)\n",
    "\n",
    "- dict\n",
    "  - 用 {} 來建立字典。 {'key' : 'value'}\n",
    "\n",
    "- set\n",
    "  - 用 set()建立，或是以逗號分隔的值包在大括號內。 set('v1','v2') 、{'v1','v2'}"
   ]
  },
  {
   "cell_type": "code",
   "execution_count": 1,
   "metadata": {
    "slideshow": {
     "slide_type": "slide"
    }
   },
   "outputs": [
    {
     "name": "stdout",
     "output_type": "stream",
     "text": [
      "a= [1, 3, 'abc', 7, 'xyz']\n",
      "b= ['x', 'y', 'z']\n",
      "c= ['ready', 'go', 'boom']\n",
      "7\n"
     ]
    }
   ],
   "source": [
    "#用中括號建立list 或用 list()轉成串列\n",
    "\n",
    "a = [1, 3, 'abc', 7, \"xyz\"]   \n",
    "b = list('xyz')              #將字串'xyz'轉為list\n",
    "c = ('ready', 'go', 'boom')  #將tuple轉為list\n",
    "list_c = list(c)\n",
    "\n",
    "print('a=', a)\n",
    "print('b=', b)\n",
    "print('c=', list_c)\n",
    "print(a[3])  #取出a串列中index=3的值\n",
    "\n",
    "#索引值index由左至右為 0,1,2,3,4,.....或是....,-3,-2,-1\n"
   ]
  },
  {
   "cell_type": "code",
   "execution_count": 2,
   "metadata": {},
   "outputs": [
    {
     "name": "stdout",
     "output_type": "stream",
     "text": [
      "[9, 3, 'abc', 7, 'xyz']\n",
      "['ready', 'gogogo', 'boom']\n",
      "[[9, 3, 'abc', 7, 'xyz'], ['ready', 'gogogo', 'boom']]\n",
      "['ready', 'gogogo', 'boom']\n",
      "7\n"
     ]
    }
   ],
   "source": [
    "#指定index，更改值\n",
    "a = [1, 3, 'abc', 7, 'xyz']\n",
    "b = ['ready', 'go', 'boom']\n",
    "\n",
    "a[0] = 9      #指定9為 a中index=0(第1)項\n",
    "b[1]='gogogo' #指定'gogogo'為 b中index=1(第2)項\n",
    "\n",
    "print(a)        \n",
    "print(b) \n",
    "\n",
    "#串列的串列\n",
    "comb = [a,b]\n",
    "\n",
    "print(comb)  \n",
    "\n",
    "print(comb[1])    #取出comb中第2項=b\n",
    "print(comb[0][3]) #取出comb中第1項內的第4項\n"
   ]
  },
  {
   "cell_type": "markdown",
   "metadata": {
    "slideshow": {
     "slide_type": "fragment"
    }
   },
   "source": [
    "# list 的切割(slicing)取值、插入(insert)\n",
    "\n",
    "Index（索引值）的圖例\n",
    "<img src=\"./images/list.jpg\" width=400, height=300>\n"
   ]
  },
  {
   "cell_type": "code",
   "execution_count": 3,
   "metadata": {
    "slideshow": {
     "slide_type": "slide"
    }
   },
   "outputs": [
    {
     "name": "stdout",
     "output_type": "stream",
     "text": [
      "[3, 7, -5, 9, 0, 8, -1]\n",
      "[-5, 9, 0, 8, -1]\n",
      "[7, -5]\n",
      "[3, 7, -5]\n",
      "[9, 0, 8]\n",
      "[9, 8]\n",
      "[3, 9, -1]\n",
      "[7, 0]\n",
      "[3, -5, 0, -1]\n"
     ]
    }
   ],
   "source": [
    "# 切割取值\n",
    "C = [3, 7, -5, 9, 0, 8, -1] \n",
    "\n",
    "#索引值index由左至右為 0,1,2,3,4 或 -5,-4,-3,-2,-1\n",
    "\n",
    "\n",
    "print(C[:])      #[:] 取出所有值\n",
    "print(C[2:])     #[start:]取出從index=start後所有值，取出索引值2~最後\n",
    "print(C[1:3])    #[:end]取出index=(end-1)前所有值，索引值1~3但是不含index=3的值\n",
    "print(C[:3])     #取出索引值0開始 ~ (3-1)之前\n",
    "print(C[3:6])   #[start:end] 取出index=start到index=(end-1)的值\n",
    "print(C[3:6:2]) #[start:end:step] 取出index=start到index=(end-1)中，每次跳step數的值（如無輸入，預設step=1）\n",
    "print(C[::3])   #[::step] 從開始到結束，取出每次跳step數的值\n",
    "print(C[1::3])   #[start::step] 從index=start到結束，取出每次跳step數的值\n",
    "print(C[:8:2])   #[:end:step] 取出index=(end-1)前，每次跳step數的值"
   ]
  },
  {
   "cell_type": "code",
   "execution_count": 4,
   "metadata": {},
   "outputs": [
    {
     "name": "stdout",
     "output_type": "stream",
     "text": [
      "0\n",
      "[0, 8, -1]\n",
      "[3, 7, -5, 9, 0, 8]\n",
      "[7, -5, 9, 0]\n",
      "[-1, 8, 0, 9, -5, 7, 3]\n",
      "[-1, 8, 0, 9, -5, 7, 3]\n",
      "[3, 7, -5, 9, 0, 8]\n"
     ]
    }
   ],
   "source": [
    "C = [3, 7, -5, 9, 0, 8, -1] \n",
    "\n",
    "#索引值index由左至右為 0,1,2,3,4 或 -5,-4,-3,-2,-1\n",
    "# index為負號，表示從右邊算起，-1為右邊第一個\n",
    "\n",
    "print(C[-3])    #[-number]，取出-number的值\n",
    "print(C[-3:])   #[-number:]，取出最後number個的值\n",
    "print(C[:-1])   #取出倒數第1個前，不含index=-1\n",
    "\n",
    "print(C[-6:-2]) #[-number1:-number2]，取出後面算來第number1個到後面算來第number2間的值\n",
    "print(C[-1::-1])#[-number::-1] 取出後面算來第number個，每次間隔-1（由右向左跳）\n",
    "print(C[::-1])  #[::-1] 取出全部值，每次間隔-1（由右向左跳）\n",
    "print(C[:-1])  #取出倒數第1個前，不含index=-1\n"
   ]
  },
  {
   "cell_type": "code",
   "execution_count": 5,
   "metadata": {
    "slideshow": {
     "slide_type": "fragment"
    }
   },
   "outputs": [
    {
     "name": "stdout",
     "output_type": "stream",
     "text": [
      "Total elements = 7\n",
      "max value= 9\n",
      "min value= -5\n"
     ]
    }
   ],
   "source": [
    "C = [3, 7, -5, 9, 0, 8, -1] \n",
    "\n",
    "print('Total elements =', len(C)) # 算 list內的個數  \n",
    "print('max value=', max(C)) # 算 list內的最大值 \n",
    "print('min value=',min(C)) # 算 list內的最小值 "
   ]
  },
  {
   "cell_type": "code",
   "execution_count": 6,
   "metadata": {
    "slideshow": {
     "slide_type": "slide"
    }
   },
   "outputs": [
    {
     "name": "stdout",
     "output_type": "stream",
     "text": [
      "W\n",
      "Hello,\n"
     ]
    }
   ],
   "source": [
    "# 字串的切法跟list一樣 \n",
    "\n",
    "x = 'Hello, World.'\n",
    "\n",
    "print(x[7])\n",
    "print(x[0:6])"
   ]
  },
  {
   "cell_type": "markdown",
   "metadata": {
    "slideshow": {
     "slide_type": "slide"
    }
   },
   "source": [
    "## 用append 附加到結尾、extend或用+ 結合、insert 插入\n",
    "\n",
    "- `list.append(x)` 將一個新的**項目**加到 list 的尾端。等同於 `a[len(a):] = [x]` \n",
    "- `list.extend(L)` 將**list**接上一個給定的 **list**。等同於 `a[len(a):] = L` \n",
    "- `list.insert(i, x)`將一個項目插入至 list 中給定的位置。第一個引數為插入處前元素的索引值，所以 `a.insert(0, x)` 會插入為 list 首位，而 `a.insert(len(a), x)` 則相當於 `a.append(x)`。"
   ]
  },
  {
   "cell_type": "code",
   "execution_count": 7,
   "metadata": {},
   "outputs": [
    {
     "name": "stdout",
     "output_type": "stream",
     "text": [
      "[1, 3, 'abc', 7, 'xyz', 'YAYAYA', ['YAYAYA2', 125]]\n",
      "[1, 3, 'abc', 7, 'xyz', 'YAYAYA', ['YAYAYA2', 125], ['ready', 'go', 'boom']]\n"
     ]
    }
   ],
   "source": [
    "# 附加append到結尾，會直接改變list值，附加為\"一個\"項目\n",
    "a = [1, 3, 'abc', 7, 'xyz']\n",
    "b = ['ready', 'go', 'boom']\n",
    "\n",
    "\n",
    "a.append('YAYAYA')  #'YAYAYA'附加到a結尾\n",
    "a.append(['YAYAYA2', 5**3])  #list ['YAYAYA2', 125]附加到a結尾\n",
    "print(a)\n",
    "\n",
    "\n",
    "a.append(b)  #b附加到a結尾\n",
    "print(a)\n"
   ]
  },
  {
   "cell_type": "code",
   "execution_count": 8,
   "metadata": {},
   "outputs": [
    {
     "name": "stdout",
     "output_type": "stream",
     "text": [
      "[1, 3, 'abc', 7, 'xyz', 'ready', 'go', 'boom']\n",
      "[1, 3, 'abc', 7, 'xyz', 'ready', 'go', 'boom', 'ready', 'go', 'boom', 1, 3, 'abc', 7, 'xyz', 'ready', 'go', 'boom']\n"
     ]
    }
   ],
   "source": [
    "# 結合list\n",
    "a = [1, 3, 'abc', 7, 'xyz']\n",
    "b = ['ready', 'go', 'boom']\n",
    "\n",
    "a.extend(b) #list b串接到list a之後\n",
    "print(a)    #list b串接到list a之後\n",
    "\n",
    "print(a+b+a)  #串接成 list aba  "
   ]
  },
  {
   "cell_type": "code",
   "execution_count": 9,
   "metadata": {},
   "outputs": [
    {
     "name": "stdout",
     "output_type": "stream",
     "text": [
      "[1, 100, 3, 'abc', 7, 'xyz']\n"
     ]
    }
   ],
   "source": [
    "#插入\n",
    "a = [1, 3, 'abc', 7, 'xyz']\n",
    "\n",
    "a.insert(1, 100)   # 插入index=1的位置為100\n",
    "print(a)\n"
   ]
  },
  {
   "cell_type": "markdown",
   "metadata": {},
   "source": [
    "# 從 list 中刪除元素\n",
    "\n",
    "- **del與指定index**\n",
    "    - `del listA[0]`     刪除列表中第1個元素\n",
    "\n",
    "    - `del listA[0:2]`   刪除列表中第1和第2個元素\n",
    "\n",
    "\n",
    "- **remove()與指定值**\n",
    "    \n",
    "    - `listA.remove(3)`  移除list中首次出現的3。若list內無指定值會error，可先用`in` 測試\n",
    "    \n",
    "\n",
    "- **pop()與指定index**\n",
    "\n",
    "    - `listA.pop(1)`     刪除index=1的值，然後輸出刪除元素的值\n",
    "    \n",
    "    - `listA.pop()`      沒有引數，則會刪除最後一個值，再輸出所刪除的值\n",
    "    \n",
    "    \n",
    "- **空list與指定index**\n",
    "    - listA[2:4]=[]  將index=2～(4-1)項目指定為空\n",
    "    - listA[:] = []  指定空list來刪除所有項目\n",
    " "
   ]
  },
  {
   "cell_type": "code",
   "execution_count": 10,
   "metadata": {},
   "outputs": [
    {
     "name": "stdout",
     "output_type": "stream",
     "text": [
      "[3, 'abc', 7, 'xyz']\n",
      "['ready', 'go', 1024]\n"
     ]
    }
   ],
   "source": [
    "#用del與指定index刪除\n",
    "a = [1, 3, 'abc', 7, 'xyz']\n",
    "b = ['ready', 'go', 'boom', 'YA', 5**3, 2**10]\n",
    "\n",
    "del a[0]   # 刪除index=0的值\n",
    "print(a)\n",
    "\n",
    "del b[2:5] # 刪除index=2~index=4的值\n",
    "print(b)\n"
   ]
  },
  {
   "cell_type": "code",
   "execution_count": 11,
   "metadata": {},
   "outputs": [
    {
     "name": "stdout",
     "output_type": "stream",
     "text": [
      "[1, 'abc', 7, 'xyz']\n"
     ]
    }
   ],
   "source": [
    "#用 remove()與指定值刪除\n",
    "a = [1, 3, 'abc', 7, 'xyz']\n",
    "\n",
    "a.remove(3)\n",
    "\n",
    "print(a)"
   ]
  },
  {
   "cell_type": "code",
   "execution_count": 12,
   "metadata": {},
   "outputs": [
    {
     "name": "stdout",
     "output_type": "stream",
     "text": [
      "7\n",
      "[1, 3, 'abc', 'xyz']\n"
     ]
    }
   ],
   "source": [
    "#用 pop()與指定index刪除\n",
    "a = [1, 3, 'abc', 7, 'xyz']\n",
    "\n",
    "print(a.pop(3))  #刪除index=3的值，並輸出\n",
    "print(a)"
   ]
  },
  {
   "cell_type": "code",
   "execution_count": 13,
   "metadata": {},
   "outputs": [
    {
     "name": "stdout",
     "output_type": "stream",
     "text": [
      "[1, 3, 'xyz']\n",
      "[]\n"
     ]
    }
   ],
   "source": [
    "# 用 空list與指定index刪除\n",
    "a = [1, 3, 'abc', 7, 'xyz']\n",
    "\n",
    "a[2:4] = []   #index=2～(4-1)項目指定為空\n",
    "print(a)\n",
    "\n",
    "a[:] = []    #指定空list來刪除所有項目\n",
    "print(a)"
   ]
  },
  {
   "cell_type": "markdown",
   "metadata": {
    "slideshow": {
     "slide_type": "slide"
    }
   },
   "source": [
    "# 在 list 中搜索\n",
    "\n",
    "- **index()與值**，回傳index值\n",
    "   - `listA.index(3)` 在list中查找首次出現的3，並傳回索引值。若list內無指定值會error，可先用in 測試\n",
    "   \n",
    "\n",
    "- **in與值**\n",
    "   - `'str' in listA`  在listA內檢查是否有'str'，回傳布林值\n",
    "\n"
   ]
  },
  {
   "cell_type": "code",
   "execution_count": 14,
   "metadata": {},
   "outputs": [
    {
     "name": "stdout",
     "output_type": "stream",
     "text": [
      "3\n",
      "True\n",
      "False\n"
     ]
    }
   ],
   "source": [
    "#用 index()與值搜尋，回傳index值\n",
    "a = [1, 3, 'abc', 7, 'xyz']\n",
    "\n",
    "print(a.index(7))  #搜尋值7，輸出其index值\n",
    "\n",
    "print('xyz' in a)  #搜尋'xyz'是否存在\n",
    "print('ab' in a)"
   ]
  },
  {
   "cell_type": "markdown",
   "metadata": {
    "slideshow": {
     "slide_type": "slide"
    }
   },
   "source": [
    "# 計算次數與排序\n",
    "\n",
    "### 計數\n",
    "- `list.count(x)` 回傳x在 list 中所出現的次數\n",
    "- `len(list)`     list中項目總數量\n",
    "- 使用`collections.Counter`套件計數\n",
    "\n",
    "\n",
    "### 排序\n",
    "\n",
    "- `list.sort(key=None, reverse=False)` 將list中的項目排序。數字以升冪排列、字串以字母順序排列。\n",
    "                                       引數reverse=True則會改為降冪\n",
    "\n",
    "- `list.reverse()`將 list中的項目前後順序反過來"
   ]
  },
  {
   "cell_type": "code",
   "execution_count": 15,
   "metadata": {},
   "outputs": [
    {
     "name": "stdout",
     "output_type": "stream",
     "text": [
      "10\n",
      "4\n",
      "Counter({0: 7, 1: 4, 3: 2, 2: 1, 4: 1})\n"
     ]
    }
   ],
   "source": [
    "#計數\n",
    "a = [1, 3, 'abc', 7, 'xyz', 7, 7, 7, 1, 1]\n",
    "\n",
    "print(len(a))  #list中項目總數量\n",
    "\n",
    "print(a.count(7)) #list中，值7的總數量\n",
    "\n",
    "\n",
    "\n",
    "\n",
    "#使用collections.Counter套件計數\n",
    "import collections, numpy\n",
    "\n",
    "aa= numpy.array([0, 3, 0, 1, 0, 1, 2, 1, 0, 0, 0, 0, 1, 3, 4])\n",
    "\n",
    "print(collections.Counter(aa))"
   ]
  },
  {
   "cell_type": "code",
   "execution_count": 16,
   "metadata": {},
   "outputs": [
    {
     "name": "stdout",
     "output_type": "stream",
     "text": [
      "[1, 1, 3, 5, 7, 7, 7, 8, 9, 10]\n",
      "[10, 9, 8, 7, 7, 7, 5, 3, 1, 1]\n",
      "[1, 1, 3, 5, 7, 7, 7, 8, 9, 10]\n",
      "['ABC', 'BAB', 'CAT', 'DOG']\n"
     ]
    }
   ],
   "source": [
    "#排序\n",
    "a = [1, 3, 5, 7, 9, 7, 8, 7, 10, 1]\n",
    "b = ['CAT', 'BAB', 'ABC', 'DOG']\n",
    "\n",
    "a.sort()  #排序\n",
    "print(a)\n",
    "\n",
    "a.sort(reverse=True)  #以降冪排序\n",
    "print(a)\n",
    "\n",
    "a.reverse()  #將list反向\n",
    "print(a)\n",
    "\n",
    "\n",
    "b.sort()  #排序\n",
    "print(b)"
   ]
  },
  {
   "cell_type": "markdown",
   "metadata": {
    "slideshow": {
     "slide_type": "slide"
    }
   },
   "source": [
    "# 用 zip() 組合多個list\n",
    "\n",
    "- 將兩組數對應的值，包成一組tuple，但是為一個可迭代物件，需要用list()轉換為串列\n",
    "\n",
    "- 可以想成兩串或更多串資料，同index的放⼀起\n"
   ]
  },
  {
   "cell_type": "code",
   "execution_count": 17,
   "metadata": {},
   "outputs": [
    {
     "name": "stdout",
     "output_type": "stream",
     "text": [
      "[(0.8, 2), (1.2, -5), (2.1, 3.2), (2.8, 5)]\n"
     ]
    }
   ],
   "source": [
    "X = [0.8, 1.2, 2.1, 2.8]\n",
    "Y = [2, -5, 3.2, 5]\n",
    "\n",
    "print(list(zip(X, Y)))\n"
   ]
  },
  {
   "cell_type": "code",
   "execution_count": 18,
   "metadata": {},
   "outputs": [],
   "source": [
    "points = [(0.8, 2), (1.2, -5), (2.1, 3.2), (2.8, 5)]\n",
    "\n",
    "X, Y = zip(*points) # 將 points內的點一個個取出"
   ]
  },
  {
   "cell_type": "code",
   "execution_count": 19,
   "metadata": {},
   "outputs": [
    {
     "name": "stdout",
     "output_type": "stream",
     "text": [
      "[('Mon.', 'apple', 'tea', 'pizza'), ('Wed.', 'orange', 'coffee', 'noddle'), ('Fri.', 'cherry', 'coke', 'steak')]\n"
     ]
    }
   ],
   "source": [
    "days = ['Mon.', 'Wed.', 'Fri.']\n",
    "fruits = ['apple', 'orange', 'cherry']\n",
    "drinks = ['tea', 'coffee', 'coke']\n",
    "dishs = ['pizza', 'noddle', 'steak']\n",
    "\n",
    "print(list(zip(days, fruits, drinks, dishs)))\n"
   ]
  },
  {
   "cell_type": "markdown",
   "metadata": {},
   "source": [
    "# 用 range 產生整數序列\n",
    "\n",
    "- `range(start, end, step) `  產生由start開始到(end-1)，每間隔step的所有整數   \n",
    "\n",
    "- start預設為0、step預設為1，故`range(end)`，產生小於end包含零的所有整數，產生了 **end** 個數字\n",
    "\n",
    "- 產生後本身並不是list，只是個可迭代物件，需要用list()轉換。 轉換後即可用list的index取值"
   ]
  },
  {
   "cell_type": "code",
   "execution_count": 20,
   "metadata": {},
   "outputs": [
    {
     "name": "stdout",
     "output_type": "stream",
     "text": [
      "0~9= [0, 1, 2, 3, 4, 5, 6, 7, 8, 9]\n",
      "1~9= [1, 2, 3, 4, 5, 6, 7, 8, 9]\n",
      "1~9_step2 = [1, 3, 5, 7, 9]\n"
     ]
    }
   ],
   "source": [
    "\n",
    "print('0~9=',list(range(10)))   #從0開始的10個數字，range(10)本身並沒有產生list\n",
    "\n",
    "print('1~9=',list(range(1,10))) #從1到9，間隔1的list\n",
    "\n",
    "print('1~9_step2 =', list(range(1,10,2)))  #從1到9，間隔2的list"
   ]
  },
  {
   "cell_type": "code",
   "execution_count": 21,
   "metadata": {},
   "outputs": [
    {
     "name": "stdout",
     "output_type": "stream",
     "text": [
      "[0, 1, 2, 3, 4, 5, 6, 7, 8, 9]\n",
      "[1, 2, 3, 4, 5, 6, 7, 8, 9]\n",
      "[0, 1, 2, 3, 4, 5, 6, 7]\n",
      "[0, 2, 4, 6, 8]\n",
      "[1, 2, 3, 4, 5, 6]\n",
      "[2, 5, 8]\n"
     ]
    }
   ],
   "source": [
    "y = list(range(10))\n",
    "\n",
    "print(y)\n",
    "print(y[1:])\n",
    "print(y[:8])\n",
    "print(y[::2])\n",
    "print(y[1:7])\n",
    "print(y[2:9:3])\n"
   ]
  },
  {
   "cell_type": "markdown",
   "metadata": {
    "slideshow": {
     "slide_type": "slide"
    }
   },
   "source": [
    "## tuple(元組)\n",
    "\n",
    "- 元組可以視為不可改變的串列，不能重新賦值替换\n",
    "- 用小括號（）建立\n",
    "- 沒有append()、insert()等功能\n",
    "- 對於一函式引數與回傳，都是運用tuple，多個數值也只要一個tuple即可\n",
    "\n",
    "### 元組比起串列好處：\n",
    "\n",
    "- 佔用空間較少\n",
    "- 可以當做字典的 key（因不可變）\n",
    "- 具名 tuple 可當做物件替代\n",
    "- 當做函式引數"
   ]
  },
  {
   "cell_type": "code",
   "execution_count": 22,
   "metadata": {
    "slideshow": {
     "slide_type": "slide"
    }
   },
   "outputs": [
    {
     "name": "stdout",
     "output_type": "stream",
     "text": [
      "(3.14, 'China', 'Jason')\n"
     ]
    }
   ],
   "source": [
    "t = (3.14, 'China', 'Jason')\n",
    "\n",
    "print(t)"
   ]
  },
  {
   "cell_type": "code",
   "execution_count": 23,
   "metadata": {
    "slideshow": {
     "slide_type": "fragment"
    }
   },
   "outputs": [
    {
     "name": "stdout",
     "output_type": "stream",
     "text": [
      "(3.14, 'China', 'Jason', ['A', 'B'])\n",
      "(3.14, 'China', 'Jason', [122, 233])\n"
     ]
    }
   ],
   "source": [
    "#若tuple內有list，可以使list值改變\n",
    "\n",
    "t = (3.14, 'China', 'Jason', ['A', 'B'])\n",
    "print (t)\n",
    "\n",
    "L = t[3]\n",
    "L[0] = 122\n",
    "L[1] = 233\n",
    "print (t)\n",
    "\n",
    "#因為tuple是指向位置不可變，但例子中第四個元素是list，而list本身可變\n"
   ]
  },
  {
   "cell_type": "markdown",
   "metadata": {
    "slideshow": {
     "slide_type": "slide"
    }
   },
   "source": [
    "# 流程控制：條件判斷式及迴圈\n",
    "\n",
    "- 依據某些條件(條件判斷式)或多次執行某個程式區塊(迴圈)，來控制程式的執行流程\n",
    "- Python使用 **`冒號`**  及  **`縮排`** 來辨別程式區塊\n",
    "- if...else if...else 條件判斷式\n",
    "- while, for\n",
    "\n",
    "#### **縮排**：使用 `tab` 或 使用 **4** 個空白字元 "
   ]
  },
  {
   "cell_type": "markdown",
   "metadata": {},
   "source": [
    "- 在條件判斷時，需要利用比較運算子與布林運算子，以下列出python中的比較、布林運算符號與作用\n",
    "\n",
    "| 比較運算子  | 作用      | \n",
    "|:--------:|:-------- :| \n",
    "| ==       | 相等       | \n",
    "| !=       | 不相等     | \n",
    "| <        | 小於       | \n",
    "| <=       | 小於等於    |\n",
    "| >        | 大於       | \n",
    "| >=       | 大於等於    |\n",
    "| in       | 在某個條件內 |\n",
    "\n",
    "\n",
    "|布林運算子  |   作用   |\n",
    "|:-------:   |:------:  |\n",
    "| or       | 或，前後兩個條件只要一個成立   |\n",
    "| and      | 前後兩個條件要同時成立 |\n",
    "| not      | 以下條件不成立  |\n"
   ]
  },
  {
   "cell_type": "markdown",
   "metadata": {
    "slideshow": {
     "slide_type": "slide"
    }
   },
   "source": [
    "## 條件判斷\n",
    "\n",
    "`if (條件1):` \n",
    "\n",
    "    (執行1)\n",
    "   \n",
    "`elif (條件2):`\n",
    "\n",
    "    (執行2)\n",
    "    \n",
    "`else:`\n",
    "\n",
    "    (執行3)\n",
    "    \n",
    "    \n",
    "若滿足條件1，執行1；滿足條件2，執行2；其他的情況，執行3    \n",
    "    \n",
    "**縮排**：使用 `tab` 或 使用 **4** 個空白字元 "
   ]
  },
  {
   "cell_type": "code",
   "execution_count": 24,
   "metadata": {
    "slideshow": {
     "slide_type": "subslide"
    }
   },
   "outputs": [
    {
     "name": "stdout",
     "output_type": "stream",
     "text": [
      "Input a integer number:  7\n",
      "<class 'str'>\n",
      "<class 'int'>\n",
      "A positive number\n"
     ]
    }
   ],
   "source": [
    "x0 = input('Input a integer number:  ')  \n",
    "\n",
    "print(type(x0))    # input預設為 str\n",
    "x = int(x0)        # 轉 type 為int\n",
    "\n",
    "print(type(x))\n",
    "\n",
    "if x > 0: # 冒號\n",
    "    print ('A positive number')   # 使用 tab 或 使用 **4** 個空白字元 \n",
    "\n",
    "elif x == 0:\n",
    "    print ('ZERO')\n",
    "    \n",
    "else:\n",
    "    print ('A negative number')"
   ]
  },
  {
   "cell_type": "markdown",
   "metadata": {
    "slideshow": {
     "slide_type": "slide"
    }
   },
   "source": [
    "## While (條件)：\n",
    "只要條件符合，就一直執行\n",
    "\n",
    "- 結合 `if`\n",
    "    - 可用**`break`** 取消\n",
    "    - 用**`continue`** 繼續執行\n",
    "\n",
    "\n",
    "- 用**`else`** 檢查**「條件」**是否中斷\n"
   ]
  },
  {
   "cell_type": "code",
   "execution_count": 25,
   "metadata": {
    "slideshow": {
     "slide_type": "subslide"
    }
   },
   "outputs": [
    {
     "name": "stdout",
     "output_type": "stream",
     "text": [
      "1\n",
      "2\n",
      "3\n",
      "4\n",
      "5\n",
      "6\n",
      "7\n",
      "8\n",
      "9\n",
      "10\n"
     ]
    }
   ],
   "source": [
    "t = 0\n",
    "\n",
    "while t < 10:\n",
    "    \n",
    "    t += 1\n",
    "    # t = t + 1\n",
    "    print(t)\n",
    "    \n",
    "#說明：\n",
    "#將0指為變數t，\n",
    "#當t<=0的條件下，將 t+1 指為 t，並印出\n",
    "# t += 1 的寫法等同於  t = t + 1"
   ]
  },
  {
   "cell_type": "code",
   "execution_count": 26,
   "metadata": {},
   "outputs": [
    {
     "name": "stdout",
     "output_type": "stream",
     "text": [
      "1\n",
      "3\n",
      "5\n"
     ]
    }
   ],
   "source": [
    "i = 0\n",
    "\n",
    "while i < 10:\n",
    "    if (i >= 0):    #i>=0就加1\n",
    "        i = i + 1\n",
    "    if (i % 2 ==0): #i為偶數就跳過，進行下一次迭代\n",
    "        continue\n",
    "    if (i == 7):   #當i為7時結束\n",
    "        break\n",
    "    print(i)"
   ]
  },
  {
   "cell_type": "code",
   "execution_count": 27,
   "metadata": {},
   "outputs": [
    {
     "name": "stdout",
     "output_type": "stream",
     "text": [
      "No even number\n"
     ]
    }
   ],
   "source": [
    "numbers = [1, 3, 5]\n",
    "position = 0\n",
    "\n",
    "while position < len(numbers):\n",
    "    number = numbers[position]\n",
    "    \n",
    "    if number % 2 == 0:  \n",
    "        print('Even number=', number)\n",
    "        break\n",
    "    position += 1\n",
    "\n",
    "else:   #當條件走完後，才進到此處\n",
    "    print('No even number')"
   ]
  },
  {
   "cell_type": "markdown",
   "metadata": {
    "slideshow": {
     "slide_type": "slide"
    }
   },
   "source": [
    "## `for` 迴圈\n",
    "\n",
    "- `for` 迴圈就是把`list` 中所有元素，一個一個拿出處理，遍歷所有元素。\n",
    "- `for var in OBJ:` \n",
    "       OBJ為可迭代物件，可以是 字串、list、tuple、dict、set，能每個迴圈從物件中提取一個元素出來。\n",
    "       如OBJ為字串，則會提取每個字元\n",
    "   \n",
    "-  結合 `if`\n",
    "    - 可用**`break`** 取消\n",
    "    - 用**`continue`** 繼續執行"
   ]
  },
  {
   "cell_type": "code",
   "execution_count": 28,
   "metadata": {
    "slideshow": {
     "slide_type": "slide"
    }
   },
   "outputs": [
    {
     "name": "stdout",
     "output_type": "stream",
     "text": [
      "i\n",
      "p\n",
      "a\n",
      "d\n"
     ]
    }
   ],
   "source": [
    "#提取字串每個字元\n",
    "\n",
    "word = 'ipad'\n",
    "\n",
    "for letter in word:\n",
    "    print(letter)"
   ]
  },
  {
   "cell_type": "code",
   "execution_count": 29,
   "metadata": {},
   "outputs": [
    {
     "name": "stdout",
     "output_type": "stream",
     "text": [
      "January\n",
      "Feburary\n",
      "March\n",
      "April\n",
      "May\n",
      "June\n",
      "July\n",
      "August\n",
      "September\n",
      "October\n",
      "November\n",
      "December\n"
     ]
    }
   ],
   "source": [
    "months = ['January', 'Feburary', 'March', 'April', 'May', 'June', 'July', 'August', \\\n",
    "          'September', 'October', 'November', 'December']\n",
    "\n",
    "for MON in months:\n",
    "    print(MON)"
   ]
  },
  {
   "cell_type": "code",
   "execution_count": 30,
   "metadata": {},
   "outputs": [
    {
     "name": "stdout",
     "output_type": "stream",
     "text": [
      "1\n",
      "2\n",
      "3\n",
      "4\n",
      "5\n",
      "6\n",
      "7\n",
      "8\n",
      "9\n",
      "10\n"
     ]
    }
   ],
   "source": [
    "A = range(1,11)\n",
    "\n",
    "for i in A:\n",
    "    print(i)"
   ]
  },
  {
   "cell_type": "code",
   "execution_count": 31,
   "metadata": {
    "slideshow": {
     "slide_type": "subslide"
    }
   },
   "outputs": [
    {
     "name": "stdout",
     "output_type": "stream",
     "text": [
      "+\n",
      "++\n",
      "+++\n",
      "++++\n",
      "+++++\n",
      "++++++\n",
      "+++++++\n",
      "++++++++\n",
      "+++++++++\n",
      "++++++++++\n"
     ]
    }
   ],
   "source": [
    "# 或直接在for指令中設範圍\n",
    "\n",
    "for i in range(1,11):\n",
    "    print(\"+\"*i)"
   ]
  },
  {
   "cell_type": "code",
   "execution_count": 32,
   "metadata": {},
   "outputs": [
    {
     "name": "stdout",
     "output_type": "stream",
     "text": [
      "[('Mon.', 'apple', 'tea', 'pizza'), ('Wed.', 'orange', 'coffee', 'noddle'), ('Fri.', 'cherry', 'coke', 'steak')]\n",
      "Mon. :eat apple drink tea enjoy pizza\n",
      "Wed. :eat orange drink coffee enjoy noddle\n",
      "Fri. :eat cherry drink coke enjoy steak\n"
     ]
    }
   ],
   "source": [
    "# for 結合 zip() 取值\n",
    "\n",
    "days = ['Mon.', 'Wed.', 'Fri.']\n",
    "fruits = ['apple', 'orange', 'cherry']\n",
    "drinks = ['tea', 'coffee', 'coke']\n",
    "dishs = ['pizza', 'noddle', 'steak']\n",
    "\n",
    "print(list(zip(days, fruits, drinks, dishs)))\n",
    "\n",
    "for day, fruit, drink, dish in zip(days, fruits, drinks, dishs):\n",
    "    print(day, ':eat', fruit,'drink', drink, 'enjoy',dish)"
   ]
  },
  {
   "cell_type": "markdown",
   "metadata": {
    "slideshow": {
     "slide_type": "slide"
    }
   },
   "source": [
    "# 串列生成式\n",
    "\n",
    "- 結合迴圈或條件式，產生某種數學規律的 list\n",
    "- 只能是整數\n",
    "\n",
    "`[運算式 for 項目 in 可迭代項目]`\n",
    "\n",
    "`[運算式 for 項目 in 可迭代項目 if 條件]`"
   ]
  },
  {
   "cell_type": "code",
   "execution_count": 33,
   "metadata": {},
   "outputs": [
    {
     "name": "stdout",
     "output_type": "stream",
     "text": [
      "[1, 2, 3, 4, 5]\n",
      "[0, 1, 2, 3, 4]\n"
     ]
    }
   ],
   "source": [
    "number_list = [number for number in range(1,6)]\n",
    "print(number_list)\n",
    "\n",
    "number_list2 = [number-1 for number in range(1,6)]\n",
    "print(number_list2)"
   ]
  },
  {
   "cell_type": "code",
   "execution_count": 34,
   "metadata": {},
   "outputs": [
    {
     "name": "stdout",
     "output_type": "stream",
     "text": [
      "[1, 3, 5]\n"
     ]
    }
   ],
   "source": [
    "#產生有條件限制的數列\n",
    "\n",
    "a_list = []\n",
    "for number in range(1,6):\n",
    "    if number % 2==1:\n",
    "        a_list.append(number)\n",
    "\n",
    "print(a_list)"
   ]
  },
  {
   "cell_type": "code",
   "execution_count": 35,
   "metadata": {},
   "outputs": [
    {
     "name": "stdout",
     "output_type": "stream",
     "text": [
      "[1, 3, 5]\n"
     ]
    }
   ],
   "source": [
    "## 利用生成式，加入條件式，產生如上的數列\n",
    "\n",
    "odd_list = [number for number in range(1,6) if number % 2 ==1]\n",
    "print(odd_list)"
   ]
  },
  {
   "cell_type": "code",
   "execution_count": 36,
   "metadata": {},
   "outputs": [
    {
     "name": "stdout",
     "output_type": "stream",
     "text": [
      "1 1\n",
      "1 2\n",
      "2 1\n",
      "2 2\n",
      "3 1\n",
      "3 2\n"
     ]
    }
   ],
   "source": [
    "##巢狀迴圈\n",
    "\n",
    "rows = range(1,4)\n",
    "cols = range(1,3)\n",
    "\n",
    "for row in rows:\n",
    "    for col in cols:\n",
    "        print(row,col)\n"
   ]
  },
  {
   "cell_type": "code",
   "execution_count": 37,
   "metadata": {},
   "outputs": [
    {
     "name": "stdout",
     "output_type": "stream",
     "text": [
      "[(1, 1), (1, 2), (2, 1), (2, 2), (3, 1), (3, 2)]\n",
      "(1, 1)\n",
      "(1, 2)\n",
      "(2, 1)\n",
      "(2, 2)\n",
      "(3, 1)\n",
      "(3, 2)\n",
      "1 1\n",
      "1 2\n",
      "2 1\n",
      "2 2\n",
      "3 1\n",
      "3 2\n"
     ]
    }
   ],
   "source": [
    "#用生成式、指派一組tuple (row, col)給cells\n",
    "\n",
    "rows = range(1,4)\n",
    "cols = range(1,3)\n",
    "\n",
    "cells = [(row, col) for row in rows for col in cols]\n",
    "print(cells)\n",
    "\n",
    "for cell in cells:\n",
    "    print(cell)\n",
    "\n",
    "#從cells取出row, col\n",
    "for Row, Col in cells:\n",
    "    print(Row, Col)"
   ]
  },
  {
   "cell_type": "markdown",
   "metadata": {},
   "source": [
    "### tuple 無生成式\n",
    "`(運算式 for 運算式 in 可迭代項目)`\n",
    "\n",
    "會回傳一「產生器物件」，不會被記憶，只有迭代過程取值，可用list包裝成一串列"
   ]
  },
  {
   "cell_type": "code",
   "execution_count": 38,
   "metadata": {},
   "outputs": [
    {
     "name": "stdout",
     "output_type": "stream",
     "text": [
      "<class 'generator'>\n",
      "1\n",
      "2\n",
      "3\n",
      "4\n",
      "5\n",
      "[]\n"
     ]
    }
   ],
   "source": [
    "number_t = (number for number in range(1,6))\n",
    "\n",
    "print(type(number_t))\n",
    "\n",
    "for number in number_t:\n",
    "    print(number)\n",
    "\n",
    "#再次呼叫，無法在取用相同產生器物件\n",
    "number_list = list(number_t)\n",
    "print(number_list)"
   ]
  },
  {
   "cell_type": "code",
   "execution_count": 39,
   "metadata": {},
   "outputs": [
    {
     "name": "stdout",
     "output_type": "stream",
     "text": [
      "<class 'generator'>\n",
      "[1, 2, 3, 4, 5]\n"
     ]
    }
   ],
   "source": [
    "number_t = (number for number in range(1,6))\n",
    "\n",
    "print(type(number_t))\n",
    "\n",
    "\n",
    "number_list = list(number_t)\n",
    "print(number_list)\n",
    "\n",
    "#再次呼叫，無法在取用相同產生器物件\n",
    "for number in number_t:\n",
    "    print(number)"
   ]
  },
  {
   "cell_type": "markdown",
   "metadata": {
    "slideshow": {
     "slide_type": "slide"
    }
   },
   "source": [
    "# 自訂函式\n",
    "\n",
    "`def FUNC(arg):\n",
    "     print(arg)\n",
    "     return something`\n",
    "    \n",
    "說明：\n",
    "定義一函式名為`FUNC`，引數為`arg`。\n",
    "\n",
    "呼叫此函式，執行印出`arg`，回傳`something`\n",
    "\n",
    "傳入的引數，會是函式內的參數，something可為含arg的運算式結果\n",
    "\n",
    "\n",
    "- 縮排一致\n",
    "- 引數arg可為空白，但使用時要有小括號 `FUNC()`\n",
    "- 可回傳list、tuple，如無呼叫return，會傳回`None`\n",
    "\n",
    "ps:\n",
    "\n",
    "None表示遺漏值missing value，與空值empty value不同\n"
   ]
  },
  {
   "cell_type": "code",
   "execution_count": 40,
   "metadata": {
    "slideshow": {
     "slide_type": "subslide"
    }
   },
   "outputs": [
    {
     "name": "stdout",
     "output_type": "stream",
     "text": [
      "showtime\n",
      "None\n",
      "9 9 27 \n",
      "\n",
      "(25, 125)\n"
     ]
    }
   ],
   "source": [
    "def justshow():\n",
    "    #pass\n",
    "    print('showtime')\n",
    "\n",
    "def f(x):\n",
    "    return x**2\n",
    "\n",
    "def 平方立方(x):\n",
    "    return x**2, x**3   #回傳為tuple\n",
    "\n",
    "a = f(3)\n",
    "b2, b3 = 平方立方(3)\n",
    "\n",
    "print(justshow())\n",
    "print(a, b2, b3,'\\n')\n",
    "print(平方立方(5))"
   ]
  },
  {
   "cell_type": "code",
   "execution_count": 41,
   "metadata": {
    "slideshow": {
     "slide_type": "fragment"
    }
   },
   "outputs": [
    {
     "name": "stdout",
     "output_type": "stream",
     "text": [
      "It is red.\n",
      "It is blue.\n",
      "This color is yellow\n"
     ]
    }
   ],
   "source": [
    "def check(color):\n",
    "    if color == 'red':\n",
    "        return 'It is red.'\n",
    "    elif color == 'blue':\n",
    "        return 'It is blue.'\n",
    "    else:\n",
    "        return 'This color is %s' %color\n",
    "    \n",
    "print(check('red'))\n",
    "print(check('blue'))\n",
    "print(check('yellow'))\n",
    "    "
   ]
  },
  {
   "cell_type": "markdown",
   "metadata": {},
   "source": [
    "### 引數的運用\n",
    "\n",
    "- 位置引數\n",
    "- 關鍵字引數\n",
    "- 引數指定預設參數值\n",
    "\n",
    "- 用`*args`表示數個位置引數，arg為tuple\n",
    "- 用`\\**kwargs `表示數個關鍵字引數，kwargs為dict\n"
   ]
  },
  {
   "cell_type": "code",
   "execution_count": 42,
   "metadata": {},
   "outputs": [
    {
     "name": "stdout",
     "output_type": "stream",
     "text": [
      "{'CAKE': 'CCake', 'NOODLE': 'Nnoodle', 'RICE': 'Rrice'}\n",
      "{'CAKE': 'CCake', 'NOODLE': 'Nnoodle', 'RICE': 'Rrice'}\n"
     ]
    }
   ],
   "source": [
    "\n",
    "def menu(cake, noodle, rice):\n",
    "    return {'CAKE': cake, 'NOODLE':noodle, 'RICE':rice}\n",
    "\n",
    "#位置引數，使用時，代入引數必須搭配定義順序\n",
    "print(menu('CCake', 'Nnoodle', 'Rrice'))\n",
    "\n",
    "#關鍵字引數，用引數對應的名稱來指定\n",
    "print(menu(rice='Rrice',cake='CCake', noodle='Nnoodle'))\n"
   ]
  },
  {
   "cell_type": "code",
   "execution_count": 43,
   "metadata": {},
   "outputs": [
    {
     "name": "stdout",
     "output_type": "stream",
     "text": [
      "{'CAKE': 'CCAKE', 'NOODLE': 'NOODLE', 'RICE': 'default'}\n",
      "{'CAKE': 'CCAKE', 'NOODLE': 'NOODLE', 'RICE': 'RICE'}\n"
     ]
    }
   ],
   "source": [
    "#引數指定預設餐數：呼叫時沒輸入引數，使用預設值；有輸入時，使用輸入值\n",
    "#預設的引數值，在定義函式時，就被指定。不可使用可變的資料類型（list、dict）當作預設值\n",
    "\n",
    "def menu(cake, noodle, rice='default'):\n",
    "    return {'CAKE': cake, 'NOODLE':noodle, 'RICE':rice}\n",
    "\n",
    "print(menu('CCAKE', 'NOODLE'))     #最後一個引數未輸入\n",
    "print(menu('CCAKE', 'NOODLE', 'RICE'))\n"
   ]
  },
  {
   "cell_type": "code",
   "execution_count": 44,
   "metadata": {},
   "outputs": [
    {
     "name": "stdout",
     "output_type": "stream",
     "text": [
      "Positional argument tuple: ()\n",
      "\n",
      "\n",
      "Positional argument tuple: (3, 2, 1)\n",
      "\n",
      "\n"
     ]
    }
   ],
   "source": [
    "# 用*args表示數個位置引數，arg為tuple\n",
    "\n",
    "def print_args(*args):\n",
    "    print('Positional argument tuple:' , args)\n",
    "    return '\\n'\n",
    "    \n",
    "print(print_args())      #無輸入引數，為空的值\n",
    "\n",
    "print(print_args(3,2,1)) #輸入任意引數，則在函式內為所有輸入結果的一個tuple"
   ]
  },
  {
   "cell_type": "code",
   "execution_count": 45,
   "metadata": {},
   "outputs": [
    {
     "name": "stdout",
     "output_type": "stream",
     "text": [
      "First one: alpha\n",
      "Second one: beta\n",
      "All the rest: ('gamma', 'delta', 'sigma', 'nu')\n",
      "\n",
      "\n"
     ]
    }
   ],
   "source": [
    "#函式用的位置引數，可以把*args放最後，抓取最後的所有引數\n",
    "\n",
    "def print_more(r1, r2, *args):\n",
    "        print('First one:', r1)\n",
    "        print('Second one:', r2)\n",
    "        print('All the rest:', args)\n",
    "    \n",
    "        return '\\n'\n",
    "        \n",
    "print(print_more('alpha', 'beta', 'gamma', 'delta', 'sigma', 'nu'))"
   ]
  },
  {
   "cell_type": "code",
   "execution_count": 46,
   "metadata": {},
   "outputs": [
    {
     "name": "stdout",
     "output_type": "stream",
     "text": [
      "keyword argument: {}\n",
      "\n",
      "\n",
      "keyword argument: {'title': 'kwargs_test', 'color': 'blue', 'size': 10, 'width': 20}\n",
      "\n",
      "\n"
     ]
    }
   ],
   "source": [
    "# 用 **kwargs 表示數個關鍵字引數，kwargs為dict\n",
    "\n",
    "def print_kwargs(**kwargs):\n",
    "    print('keyword argument:', kwargs)\n",
    "    return '\\n'\n",
    "\n",
    "\n",
    "print(print_kwargs()) #無輸入引數，為空的值\n",
    "\n",
    "\n",
    "#輸入任意鍵-值引數對，則在函式內為所有輸入結果的一個dict\n",
    "print(print_kwargs(title = 'kwargs_test', color = 'blue', size = 10, width = 20)) \n"
   ]
  },
  {
   "cell_type": "code",
   "execution_count": 47,
   "metadata": {},
   "outputs": [
    {
     "name": "stdout",
     "output_type": "stream",
     "text": [
      "ans\n",
      "<class 'function'>\n",
      "<class 'str'>\n"
     ]
    }
   ],
   "source": [
    "# 函式可為其他函式的引數1\n",
    "\n",
    "def answer():\n",
    "    return 'ans' \n",
    "       \n",
    "\n",
    "def run(func):       \n",
    "    return func()    #引數func為待執行函式\n",
    "    \n",
    "\n",
    "print(run(answer))   #將answer傳入run()。表示將函式當成資料使用。\n",
    "                     #傳入為answer不是answer()，因為小括號表示呼叫函式，型態是回傳值；不使用括號是函式物件\n",
    "    \n",
    "print(type(answer))\n",
    "print(type(answer()))\n"
   ]
  },
  {
   "cell_type": "code",
   "execution_count": 48,
   "metadata": {},
   "outputs": [
    {
     "name": "stdout",
     "output_type": "stream",
     "text": [
      "17\n"
     ]
    }
   ],
   "source": [
    "# 函式可為其他函式的引數2\n",
    "\n",
    "def add_fn(arg1, arg2):\n",
    "    return arg1 + arg2\n",
    "\n",
    "def run(func, arg1, arg2):    #引數func為待執行函式，arg1、arg2為一般引數\n",
    "    return func(arg1, arg2)  \n",
    "\n",
    "print(run(add_fn, 8, 9))   #把add_fn函式指派給func引數，而8、9指給arg1、arg2，進行add_fn(8,9)的運算\n",
    "    "
   ]
  },
  {
   "cell_type": "code",
   "execution_count": 49,
   "metadata": {},
   "outputs": [
    {
     "name": "stdout",
     "output_type": "stream",
     "text": [
      "10\n"
     ]
    }
   ],
   "source": [
    "#結合*args\n",
    "\n",
    "def sum_args(*args):\n",
    "    return sum(args)\n",
    "\n",
    "def run(func, *args):   #引數func為待執行函式，*args為任意數量引數\n",
    "    return func(*args)\n",
    "\n",
    "print(run(sum_args, 1,2,3,4))\n"
   ]
  },
  {
   "cell_type": "code",
   "execution_count": 50,
   "metadata": {},
   "outputs": [
    {
     "name": "stdout",
     "output_type": "stream",
     "text": [
      "11\n"
     ]
    }
   ],
   "source": [
    "# 內部函式，函式內可定義其他函式\n",
    "\n",
    "def outer(a,b):\n",
    "    def inner(c,d):\n",
    "        return c + d\n",
    "    return inner(a , b)\n",
    "\n",
    "print(outer(4,7))\n"
   ]
  },
  {
   "cell_type": "markdown",
   "metadata": {},
   "source": [
    "# 匿名函式：lambda() 函式\n",
    "\n",
    "- 用一行陳述式表示，簡易的function define：lambda，用完即丟。可作出很簡單的function(只處理一個運算式)\n",
    "- 用來取代小函式\n",
    "\n",
    "`lambda paramter1, parameter2, ... : expression`\n",
    "\n",
    "    等於\n",
    "\n",
    "`def func( paramter1, paramter2, ... ) :\n",
    "    return expression`\n",
    "    \n",
    "    paras為引數，冒號後為運算式"
   ]
  },
  {
   "cell_type": "code",
   "execution_count": 51,
   "metadata": {},
   "outputs": [
    {
     "name": "stdout",
     "output_type": "stream",
     "text": [
      "Mon!\n",
      "Tue!\n",
      "Wed!\n",
      "Thr!\n",
      "Fri!\n",
      "Sat!\n",
      "Sun!\n",
      "None\n"
     ]
    }
   ],
   "source": [
    "def edit(words, func):  #words為一串列，把每個串列值用待指定函式func運算一次\n",
    "    for word in words:\n",
    "        print (func(word))\n",
    "    \n",
    "def cap(word):    #把引數word第一個字改為大寫，再加上驚嘆號\n",
    "    return word.capitalize() + '!'\n",
    "    \n",
    "days = ['mon', 'tue', 'wed', 'thr', 'fri', 'sat', 'sun']\n",
    "\n",
    "print(edit(days, cap))"
   ]
  },
  {
   "cell_type": "code",
   "execution_count": 52,
   "metadata": {},
   "outputs": [
    {
     "name": "stdout",
     "output_type": "stream",
     "text": [
      "Mon!\n",
      "Tue!\n",
      "Wed!\n",
      "Thr!\n",
      "Fri!\n",
      "Sat!\n",
      "Sun!\n",
      "None\n"
     ]
    }
   ],
   "source": [
    "#上例中，cap()很短，可用lambda()函式改寫\n",
    "\n",
    "def edit(words, func):  #words為一串列，把每個串列值用待指定函式func運算一次\n",
    "    for word in words:\n",
    "        print (func(word))\n",
    "    \n",
    "days = ['mon', 'tue', 'wed', 'thr', 'fri', 'sat', 'sun']\n",
    "\n",
    "print(edit(days, lambda word: word.capitalize()+ '!'))"
   ]
  },
  {
   "cell_type": "code",
   "execution_count": 53,
   "metadata": {},
   "outputs": [
    {
     "name": "stdout",
     "output_type": "stream",
     "text": [
      "6\n",
      "6\n"
     ]
    }
   ],
   "source": [
    "# 用函式   \n",
    "def func(x, y, z):\n",
    "    return x + y + z\n",
    "\n",
    "print(func(1, 2, 3))\n",
    "\n",
    "#利用lambda\n",
    "func2 = lambda x,y,z : x+y+z\n",
    "\n",
    "print(func2(1, 2, 3))"
   ]
  },
  {
   "cell_type": "markdown",
   "metadata": {
    "slideshow": {
     "slide_type": "slide"
    }
   },
   "source": [
    "## list(串列)、tuple(元組)、dict(字典)與set(集合)\n",
    "\n",
    "- list\n",
    "  - 用 [] 或list()轉換為串列來建立list。[a, b] \n",
    "  \n",
    "- tuple\n",
    "  - 用 () 來創立 tuple。(a, b)\n",
    "\n",
    "- dict\n",
    "  - 用 {} 來建立字典。 {'key' : 'value'}\n",
    "\n",
    "- set\n",
    "  - 用 set()建立，或是以逗號分隔的值包在大括號內。 set('v1','v2') 、{'v1','v2'}\n"
   ]
  },
  {
   "cell_type": "markdown",
   "metadata": {
    "slideshow": {
     "slide_type": "slide"
    }
   },
   "source": [
    "## Dict(字典)\n",
    "\n",
    "- Key(鍵)-Value(值)對，用大括號{  } 建立 \n",
    "- 每個value有獨一無二的key，如有重複的key，則最後一個key的值才會被使用\n",
    "- 無順序性\n",
    "- 可新增、刪除、改變value\n",
    "- 類似C語言的struct定義\n",
    "\n",
    "`dict = { 'key1' : 'value1',\n",
    "          'key2' : 'value2' }`\n",
    "\n",
    "Dict具有特點：\n",
    "\n",
    "- 查找速度快，無論10個還是10萬個，速度都是一樣，但是代價是使用的内存大。\n",
    "  list則相反，占用内存小，但是查找速度慢。\n",
    "- dict是無順序的，而list是有序的集合，所以不能用Dict來儲存有序集合\n",
    "\n",
    "- Key不可變，Value可變。一旦一個鍵值對加入dict後，它對應的key就不能再變了，但是Value是可以變的。\n",
    "  所以list不可以當做dict的Key，但是可以做Value"
   ]
  },
  {
   "cell_type": "code",
   "execution_count": 54,
   "metadata": {
    "slideshow": {
     "slide_type": "slide"
    }
   },
   "outputs": [
    {
     "name": "stdout",
     "output_type": "stream",
     "text": [
      "{'Adam': 95, 'Lisa': 85, 'Bart': 59, 'Paul': 75}\n"
     ]
    }
   ],
   "source": [
    "d = {\n",
    "    'Adam': 95,\n",
    "    'Lisa': 85,\n",
    "    'Bart': 59,\n",
    "    'Paul': 75\n",
    "}\n",
    "\n",
    "print(d)"
   ]
  },
  {
   "cell_type": "code",
   "execution_count": 55,
   "metadata": {
    "slideshow": {
     "slide_type": "subslide"
    }
   },
   "outputs": [
    {
     "name": "stdout",
     "output_type": "stream",
     "text": [
      "4\n",
      "95\n",
      "85\n",
      "None\n",
      "NoNoNo\n",
      "True\n",
      "False\n"
     ]
    }
   ],
   "source": [
    "# Dict用['Key']存取來取得對應的value： (字串、整數、浮點和tuple都可以是dict的key)\n",
    "d = {\n",
    "    'Adam': 95,\n",
    "    'Lisa': 85,\n",
    "    'Bart': 59,\n",
    "    'Paul': 75\n",
    "}\n",
    "\n",
    "print (len(d))    #dict有幾個元素 \n",
    "print (d['Adam'])\n",
    "\n",
    "#若是dict內沒有相對應的key，則會出現keyerror錯誤\n",
    "#改採用get()函式，若無，則回傳None或是指定值\n",
    "print (d.get('Lisa'))\n",
    "print (d.get('Jason'))  #回傳None\n",
    "print (d.get('Jason', 'NoNoNo'))  #回傳指定值\n",
    "\n",
    "\n",
    "#用 in 測試'key'是否存在，回傳布林值\n",
    "print('Paul' in d)\n",
    "print('Jason' in d)"
   ]
  },
  {
   "cell_type": "code",
   "execution_count": 56,
   "metadata": {},
   "outputs": [
    {
     "name": "stdout",
     "output_type": "stream",
     "text": [
      "dict_keys(['green', 'yellow', 'red'])\n",
      "dict_values(['go', 'go faster', 'smile for camera'])\n",
      "dict_items([('green', 'go'), ('yellow', 'go faster'), ('red', 'smile for camera')])\n"
     ]
    }
   ],
   "source": [
    "signals = {\n",
    "            'green' : 'go',\n",
    "            'yellow' : 'go faster',\n",
    "             'red' : 'smile for camera'   \n",
    "}\n",
    "\n",
    "\n",
    "#用keys()取得所有key\n",
    "print(signals.keys())\n",
    "\n",
    "#用values()取得所有值\n",
    "print(signals.values())\n",
    "\n",
    "#用items()取得所有鍵值對\n",
    "print(signals.items())\n"
   ]
  },
  {
   "cell_type": "code",
   "execution_count": 57,
   "metadata": {
    "slideshow": {
     "slide_type": "slide"
    }
   },
   "outputs": [
    {
     "name": "stdout",
     "output_type": "stream",
     "text": [
      "{'green': 'go', 'yellow': 'go faster', 'red': 'smile for camera', 'white': 'YA'}\n",
      "{'green': 'gogogo', 'yellow': 'go faster', 'red': 'smile for camera', 'white': 'YA'}\n",
      "{'green': 'gogogo', 'yellow': 'go faster', 'red': 'smile for camera', 'white': 'YA'}\n"
     ]
    }
   ],
   "source": [
    "signals = {\n",
    "            'green' : 'go',\n",
    "            'yellow' : 'go faster',\n",
    "             'red' : 'smile for camera'   \n",
    "}\n",
    "\n",
    "#新增：直接用取值方式，給定key及對應的value\n",
    "signals['white'] = 'YA'\n",
    "print(signals) \n",
    "\n",
    "#修改值：直接用取值方式，指定key及對應的新value\n",
    "signals['green'] = 'gogogo'\n",
    "print(signals) \n",
    "\n",
    "#複製dict:用copy()\n",
    "cp_signals = signals.copy()\n",
    "print(cp_signals)\n",
    "\n",
    "\n",
    "#key必須要唯一，否則只會用到dict內最後的鍵值對"
   ]
  },
  {
   "cell_type": "code",
   "execution_count": 58,
   "metadata": {},
   "outputs": [
    {
     "name": "stdout",
     "output_type": "stream",
     "text": [
      "{'green': 'go', 'yellow': 'go faster', 'red': 'smile for camera'}\n",
      "{'yellow': 'go faster', 'red': 'smile for camera'}\n",
      "{'yellow': 'go faster'}\n",
      "None\n"
     ]
    }
   ],
   "source": [
    "signals = {\n",
    "            'green' : 'go',\n",
    "            'yellow' : 'go faster',\n",
    "             'red' : 'smile for camera'   \n",
    "}\n",
    "\n",
    "print(signals)\n",
    "\n",
    "#刪除：用del，指定key刪除之\n",
    "del signals['green']\n",
    "print(signals)\n",
    "\n",
    "#刪除：用pop()，指定key刪除之\n",
    "signals.pop('red')\n",
    "print(signals)\n",
    "\n",
    "#刪除所有內容：用clear()\n",
    "print(signals.clear())\n"
   ]
  },
  {
   "cell_type": "code",
   "execution_count": 59,
   "metadata": {},
   "outputs": [
    {
     "name": "stdout",
     "output_type": "stream",
     "text": [
      "{'green': 'go', 'yellow': 'go faster', 'red': 'smile for camera', 'white': 'YA', 'blue': 'NoNoNo'}\n"
     ]
    }
   ],
   "source": [
    "#合併:用update()\n",
    "\n",
    "signals_a = {\n",
    "            'green' : 'go',\n",
    "            'yellow' : 'go faster',\n",
    "             'red' : 'smile for camera'   \n",
    "}\n",
    "\n",
    "signals_b = {\n",
    "            'white' : 'YA',\n",
    "            'blue' : 'NoNoNo',\n",
    "}\n",
    "\n",
    "signals_a.update(signals_b)  #將signals_b併入signals_a\n",
    "print(signals_a)"
   ]
  },
  {
   "cell_type": "code",
   "execution_count": 60,
   "metadata": {},
   "outputs": [
    {
     "name": "stdout",
     "output_type": "stream",
     "text": [
      "False\n",
      "True\n",
      "False\n",
      "False\n"
     ]
    }
   ],
   "source": [
    "#比較兩個dict\n",
    "\n",
    "signals_a = {\n",
    "            'green' : 'go',\n",
    "            'yellow' : 'go faster',\n",
    "             'red' : 'smile for camera'   \n",
    "}\n",
    "\n",
    "signals_b = {\n",
    "            'green' : 'go',\n",
    "            'white' : 'YA',\n",
    "            'blue' : 'NoNoNo'\n",
    "}\n",
    "\n",
    "signals_c = {\n",
    "            'white' : 'YA',\n",
    "            'blue' : 'NoNoNo',\n",
    "            'green' : 'go'\n",
    "} #與signals_b相同鍵值，但順序不同\n",
    "\n",
    "\n",
    "print(signals_a==signals_b)\n",
    "print(signals_c==signals_b) #b==c有相同鍵值，順序不影響結果\n",
    "\n",
    "#用 is 判斷是否是同一物件\n",
    "print(signals_a is signals_b)\n",
    "print(signals_c is signals_b) "
   ]
  },
  {
   "cell_type": "code",
   "execution_count": 61,
   "metadata": {},
   "outputs": [
    {
     "name": "stdout",
     "output_type": "stream",
     "text": [
      "green\n",
      "yellow\n",
      "red\n",
      "-------------\n",
      "go\n",
      "go faster\n",
      "smile for camera\n",
      "-------------\n",
      "('green', 'go')\n",
      "('yellow', 'go faster')\n",
      "('red', 'smile for camera')\n",
      "-------------\n",
      "green go\n",
      "yellow go faster\n",
      "red smile for camera\n"
     ]
    }
   ],
   "source": [
    "#用迴圈取出鍵值對\n",
    "\n",
    "signals = {\n",
    "            'green' : 'go',\n",
    "            'yellow' : 'go faster',\n",
    "             'red' : 'smile for camera'   \n",
    "}\n",
    "\n",
    "#取出鍵\n",
    "for key in signals:\n",
    "    print(key)\n",
    "print('-------------')\n",
    "\n",
    "#取出值\n",
    "for value in signals.values():\n",
    "    print(value)\n",
    "    \n",
    "print('-------------')\n",
    "\n",
    "#用tuple抓取字典的鍵值對\n",
    "for item in signals.items():\n",
    "    print(item)\n",
    "\n",
    "print('-------------')\n",
    "\n",
    "#用tuple抓取的鍵值對給予數值\n",
    "for key, value in signals.items():\n",
    "    print(key, value)"
   ]
  },
  {
   "cell_type": "markdown",
   "metadata": {},
   "source": [
    "# 字典生成式\n",
    "\n",
    "`{key運算式 : 值運算式 for 運算式 in 可迭代項目 if 條件}`"
   ]
  },
  {
   "cell_type": "code",
   "execution_count": 62,
   "metadata": {},
   "outputs": [
    {
     "name": "stdout",
     "output_type": "stream",
     "text": [
      "{'l': 1, 'e': 2, 't': 2, 'r': 1, 's': 1}\n"
     ]
    }
   ],
   "source": [
    "word = 'letters'\n",
    "letters_counts = {letter:word.count(letter) for letter in word}\n",
    "print(letters_counts)"
   ]
  },
  {
   "cell_type": "code",
   "execution_count": 63,
   "metadata": {},
   "outputs": [
    {
     "name": "stdout",
     "output_type": "stream",
     "text": [
      "{'l': 1, 's': 1, 'r': 1, 't': 2, 'e': 2}\n"
     ]
    }
   ],
   "source": [
    "word = 'letters'\n",
    "letters_counts = {letter:word.count(letter) for letter in set(word)}\n",
    "print(letters_counts)"
   ]
  },
  {
   "cell_type": "markdown",
   "metadata": {
    "slideshow": {
     "slide_type": "slide"
    }
   },
   "source": [
    "## Set(集合)\n",
    "\n",
    "- 可以想成是留下鍵的dict，用set()建立，或是以逗號分隔的值包在大括號內\n",
    "- 值必須要唯一，重複值會丟棄\n",
    "- 無順序性\n",
    "- 可將list、tuple、dict轉換成set，唯dict中只有key才會轉過去\n",
    "- 類似數學集合，由於 set 存不重複值。當想知道值是否存在就是使用 set 的時機，例如使用 in 來判斷值是否存在。\n"
   ]
  },
  {
   "cell_type": "code",
   "execution_count": 64,
   "metadata": {
    "slideshow": {
     "slide_type": "slide"
    }
   },
   "outputs": [
    {
     "name": "stdout",
     "output_type": "stream",
     "text": [
      "set()\n",
      "{'l', 's', 'r', 't', 'e'}\n",
      "{'js', 'go', 'python'}\n"
     ]
    }
   ],
   "source": [
    "#用set()建立，或是以逗號分隔的值包在大括號內\n",
    "empty_lang = set()\n",
    "lang_a = set('letters') #重複值在集合內只會出現一次，且無序\n",
    "lang_b = {'python', 'js', 'python', 'go'} \n",
    "\n",
    "print(empty_lang)\n",
    "print(lang_a)\n",
    "print(lang_b)"
   ]
  },
  {
   "cell_type": "code",
   "execution_count": 65,
   "metadata": {},
   "outputs": [
    {
     "name": "stdout",
     "output_type": "stream",
     "text": [
      "{'list', 'js', 'html', 'python'}\n",
      "{'js', 'tuple', 'python'}\n",
      "-------------\n",
      "{'red', 'yellow', 'green'}\n"
     ]
    }
   ],
   "source": [
    "#將list、tuple轉成set\n",
    "la = ['list','python', 'js', 'html'] #list []\n",
    "ta = ('tuple', 'python', 'js')       #tuple ()\n",
    "  \n",
    "print(set(la))   \n",
    "print(set(ta))     \n",
    "\n",
    "print('-------------')\n",
    "\n",
    "#將dict轉成set，但只用到key\n",
    "da = { 'green' : 'go',\n",
    "       'yellow' : 'go faster',\n",
    "       'red' : 'smile for camera'   \n",
    "}\n",
    "\n",
    "print(set(da)) "
   ]
  },
  {
   "cell_type": "code",
   "execution_count": 66,
   "metadata": {},
   "outputs": [
    {
     "name": "stdout",
     "output_type": "stream",
     "text": [
      "True\n",
      "False\n",
      "-------------\n",
      "{'python'}\n",
      "{'python'}\n",
      "-------------\n",
      "{'java', 'js', 'swift', 'go', 'python'}\n",
      "{'java', 'js', 'swift', 'go', 'python'}\n",
      "-------------\n",
      "{'js', 'swift'}\n",
      "{'js', 'swift'}\n"
     ]
    }
   ],
   "source": [
    "#用 in 確認是否有對應值\n",
    "lang_1 = {'js', 'python', 'swift'}\n",
    "lang_2 = {'python', 'go', 'java'}\n",
    "\n",
    "print('js' in lang_1)\n",
    "print('c' in lang_2)\n",
    "\n",
    "print('-------------')\n",
    "\n",
    "#用 intersection()或 & 取交集\n",
    "lang_1 = {'js', 'python', 'swift'}\n",
    "lang_2 = {'python', 'go', 'java'}\n",
    "\n",
    "\n",
    "print(lang_1.intersection(lang_2)) \n",
    "print(lang_1 & lang_2) \n",
    "\n",
    "print('-------------')\n",
    "\n",
    "\n",
    "#用 union 或 | 取聯集\n",
    "print(lang_1.union(lang_2)) \n",
    "print(lang_1 | lang_2) \n",
    "\n",
    "print('-------------')\n",
    "\n",
    "\n",
    "#用difference 或 - 取差集\n",
    "print(lang_1.difference(lang_2)) \n",
    "print(lang_1 - lang_2)  "
   ]
  },
  {
   "cell_type": "markdown",
   "metadata": {},
   "source": [
    "# 集合生成式\n",
    "\n",
    "`{ 運算式 : for 運算式 in 可迭代項目 if 條件}`"
   ]
  },
  {
   "cell_type": "code",
   "execution_count": 67,
   "metadata": {},
   "outputs": [
    {
     "name": "stdout",
     "output_type": "stream",
     "text": [
      "{1, 4}\n"
     ]
    }
   ],
   "source": [
    "a_set = {number for number in range(1,6) if number % 3 ==1}\n",
    "print(a_set)"
   ]
  },
  {
   "cell_type": "markdown",
   "metadata": {
    "slideshow": {
     "slide_type": "slide"
    }
   },
   "source": [
    "### list、tuple、dict、set 組成的資料結構\n",
    "\n",
    "- 雖然建立方式不盡相同，但是都可以透過中括號來存取內容值，list、tuple用index；dict用key名稱\n",
    "- list可為tuple的元素\n",
    "- list可為list的元素\n",
    "- list、tuple、set都可為dict的value"
   ]
  },
  {
   "cell_type": "code",
   "execution_count": 68,
   "metadata": {
    "slideshow": {
     "slide_type": "fragment"
    }
   },
   "outputs": [
    {
     "name": "stdout",
     "output_type": "stream",
     "text": [
      "k_list[1]= b\n",
      "k_tuple[1]= b\n",
      "k_dict[1]= {60, 'phy'}\n"
     ]
    }
   ],
   "source": [
    "\n",
    "k_list = ['a', 'b', 'c']\n",
    "k_tuple = ('a', 'b', 'c')\n",
    "k_dict = {\n",
    "           'a' : {'math', 40},\n",
    "           'b' : {'phy', 60},\n",
    "           'c' : {'Eng', 20} \n",
    "}\n",
    "\n",
    "\n",
    "\n",
    "print('k_list[1]=' , k_list[1])\n",
    "print('k_tuple[1]=' , k_tuple[1])\n",
    "print('k_dict[1]=' , k_dict['b'])"
   ]
  },
  {
   "cell_type": "code",
   "execution_count": 69,
   "metadata": {},
   "outputs": [
    {
     "name": "stdout",
     "output_type": "stream",
     "text": [
      "tuple=  (['a', 'b', 'c', 'd', 'e'], ['x', 'y', 'z'], ['good', 'bad', 'excellent', 'worest'])\n",
      "list= [['a', 'b', 'c', 'd', 'e'], ['x', 'y', 'z'], ['good', 'bad', 'excellent', 'worest']]\n",
      "dict= {'AA': ['a', 'b', 'c', 'd', 'e'], 'BB': ['x', 'y', 'z'], 'CC': ['good', 'bad', 'excellent', 'worest']}\n",
      "{'DA': {'js', 'swift', 'python'}, 'DB': {'java', 'go', 'python'}}\n"
     ]
    }
   ],
   "source": [
    "#list可為tuple的元素\n",
    "A = ['a','b','c','d','e']\n",
    "B = ['x','y','z']\n",
    "C = ['good','bad','excellent', 'worest']\n",
    "\n",
    "Tuples_of_lists = (A,B,C)\n",
    "print('tuple= ',Tuples_of_lists)\n",
    "\n",
    "\n",
    "#list可為list的元素\n",
    "Lists_of_lists = [A,B,C]\n",
    "print('list=', Lists_of_lists)\n",
    "\n",
    "#list、tuple、set都可為dict的value\n",
    "Dict_of_lists = {\n",
    "    'AA' : A,\n",
    "    'BB' : B,\n",
    "    'CC' : C   \n",
    "}\n",
    "\n",
    "print('dict=', Dict_of_lists)\n",
    "\n",
    "\n",
    "#set的值為dict的value\n",
    "lang_1 = {'js', 'python', 'swift'}\n",
    "lang_2 = {'python', 'go', 'java'}\n",
    "\n",
    "Dict_of_sets = {\n",
    "            'DA' : lang_1,\n",
    "            'DB' : lang_2\n",
    "}\n",
    "\n",
    "print(Dict_of_sets)\n",
    "    \n"
   ]
  },
  {
   "cell_type": "code",
   "execution_count": 70,
   "metadata": {},
   "outputs": [
    {
     "name": "stdout",
     "output_type": "stream",
     "text": [
      "English\n",
      "Math\n",
      "Science\n",
      "------------\n",
      "60\n",
      "50\n",
      "35\n",
      "------------\n",
      "('English', 60)\n",
      "('Math', 50)\n",
      "('Science', 35)\n",
      "------------\n",
      "subject: English \tgrade: 60\n",
      "subject: Math \tgrade: 50\n",
      "subject: Science \tgrade: 35\n"
     ]
    }
   ],
   "source": [
    "# 用迴圈對Dict與Set取值\n",
    "\n",
    "# 用for迭代dict會取出key\n",
    "grades = { 'English': 60,\n",
    "           'Math': 50,\n",
    "           'Science': 35,\n",
    "}\n",
    "\n",
    "for key in grades: #或 for key in grades.keys():\n",
    "    print (key)\n",
    "\n",
    "print('------------')    \n",
    "\n",
    "# 取出value\n",
    "for value in grades.values():\n",
    "    print (value)\n",
    "    \n",
    "print('------------')\n",
    "\n",
    "# 用tuple回傳取出的鍵值對1\n",
    "for item in grades.items():\n",
    "    print (item)\n",
    "    \n",
    "print('------------')\n",
    "\n",
    "# 用tuple回傳取出的鍵值對2\n",
    "for sub, grade in grades.items():\n",
    "    print ('subject:', sub ,'\\t' 'grade:', grade)"
   ]
  },
  {
   "cell_type": "code",
   "execution_count": 71,
   "metadata": {},
   "outputs": [
    {
     "name": "stdout",
     "output_type": "stream",
     "text": [
      "js\n",
      "go\n",
      "python\n"
     ]
    }
   ],
   "source": [
    "#用for取出set的值\n",
    "Lang = {'python', 'js', 'python', 'go'}\n",
    "\n",
    "for lang in Lang:\n",
    "    print (lang)"
   ]
  }
 ],
 "metadata": {
  "celltoolbar": "Slideshow",
  "kernel_info": {
   "name": "python3"
  },
  "kernelspec": {
   "display_name": "Python 3",
   "language": "python",
   "name": "python3"
  },
  "language_info": {
   "codemirror_mode": {
    "name": "ipython",
    "version": 3
   },
   "file_extension": ".py",
   "mimetype": "text/x-python",
   "name": "python",
   "nbconvert_exporter": "python",
   "pygments_lexer": "ipython3",
   "version": "3.8.10"
  },
  "livereveal": {
   "scroll": true,
   "start_slideshow_at": "selected",
   "theme": "sky",
   "transition": "zoom"
  },
  "nteract": {
   "version": "0.15.0"
  }
 },
 "nbformat": 4,
 "nbformat_minor": 2
}
